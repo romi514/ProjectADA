{
 "cells": [
  {
   "cell_type": "code",
   "execution_count": 1,
   "metadata": {},
   "outputs": [],
   "source": [
    "%matplotlib inline\n",
    "import pandas as pd\n",
    "import numpy as np\n",
    "import re\n",
    "import os\n",
    "import seaborn as sns; sns.set()\n",
    "from matplotlib.ticker import MaxNLocator\n",
    "import matplotlib.pyplot as plt\n",
    "from requests import get\n",
    "from bs4 import BeautifulSoup\n",
    "from pandas.util import hash_pandas_object\n",
    "\n",
    "import nltk\n",
    "from nltk.tokenize import RegexpTokenizer\n",
    "from nltk.corpus import stopwords\n",
    "from nltk import pos_tag\n",
    "from nltk.stem import SnowballStemmer\n",
    "from nltk.stem import WordNetLemmatizer\n",
    "#Uncomment next line when u first use nltk and press download when all in selected on the windows of nltk downloads\n",
    "#nltk.download()\n",
    "\n",
    "from sklearn.model_selection import train_test_split\n",
    "from sklearn.ensemble import RandomForestClassifier\n",
    "from sklearn.metrics import confusion_matrix\n",
    "from sklearn.metrics import accuracy_score\n",
    "\n",
    "from collections import Counter\n",
    "\n",
    "import string\n",
    "from ast import literal_eval\n",
    "#progress bar\n",
    "from tqdm import tqdm, trange\n",
    "from time import sleep\n",
    "\n",
    "#To detect language for stemming\n",
    "# https://en.wikipedia.org/wiki/List_of_ISO_639-1_codes\n",
    "#from langdetect import detect"
   ]
  },
  {
   "cell_type": "markdown",
   "metadata": {},
   "source": [
    "## Import data"
   ]
  },
  {
   "cell_type": "code",
   "execution_count": 2,
   "metadata": {},
   "outputs": [
    {
     "name": "stderr",
     "output_type": "stream",
     "text": [
      "C:\\Users\\Yann Schilling\\Anaconda3\\envs\\ada\\lib\\site-packages\\IPython\\core\\interactiveshell.py:3058: DtypeWarning: Columns (0,24,25,26,28,44,49) have mixed types. Specify dtype option on import or set low_memory=False.\n",
      "  interactivity=interactivity, compiler=compiler, result=result)\n"
     ]
    }
   ],
   "source": [
    "raw_data = pd.read_csv('data/en.openfoodfacts.org.products.csv', sep = '\\t')"
   ]
  },
  {
   "cell_type": "markdown",
   "metadata": {},
   "source": [
    "#### Drop columns not needed, explore missing values, and delete rows with zero or one value present"
   ]
  },
  {
   "cell_type": "code",
   "execution_count": 3,
   "metadata": {},
   "outputs": [],
   "source": [
    "columns2keep = ['energy_100g','sugars_100g','saturated-fat_100g','fat_100g','sodium_100g',\n",
    "    'fruits-vegetables-nuts_100g','fiber_100g','proteins_100g','nutrition-score-uk_100g',\n",
    "    'nutrition_grade_fr','main_category_en','packaging','categories','labels_en',\n",
    "    'pnns_groups_1','pnns_groups_2','product_name','ingredients_text']"
   ]
  },
  {
   "cell_type": "code",
   "execution_count": 4,
   "metadata": {},
   "outputs": [],
   "source": [
    "data = raw_data[columns2keep]"
   ]
  },
  {
   "cell_type": "code",
   "execution_count": 5,
   "metadata": {},
   "outputs": [],
   "source": [
    "data = data.replace(\"unknown\",np.nan)"
   ]
  },
  {
   "cell_type": "code",
   "execution_count": 6,
   "metadata": {},
   "outputs": [],
   "source": [
    "data = data.loc[(~data.isnull()).sum(axis=1)>1]"
   ]
  },
  {
   "cell_type": "markdown",
   "metadata": {},
   "source": [
    "# FOOD CATEGORIES"
   ]
  },
  {
   "cell_type": "markdown",
   "metadata": {},
   "source": [
    "In our first step, we aim to categorize products according to their Food Category. The PNNS (\"Programme national nutrition santé\" in French) aims at categorizing food in several major classes: Dairies, Composite, Fish Meat Eggs, Beverages, Fat Sauces, Fruits Vegetables, Starchy, and Snacks.\n",
    "\n",
    "The PNNS categories were established by a variety of health professionals as part of the French National Nutrition and Health Program. In part, it aimed at dividing food products in well designed categories to have a frame of reference for the analysis of a population's nutrition and the advertisement of health plans. "
   ]
  },
  {
   "cell_type": "markdown",
   "metadata": {},
   "source": [
    "### From pnns_groups_1 column\n",
    "\n",
    "We map the given pnns categories to our 8 major ones"
   ]
  },
  {
   "cell_type": "code",
   "execution_count": 10,
   "metadata": {},
   "outputs": [
    {
     "data": {
      "text/plain": [
       "Sugary snacks              60406\n",
       "Milk and dairy products    45218\n",
       "Fish Meat Eggs             44342\n",
       "Cereals and potatoes       35620\n",
       "Beverages                  29740\n",
       "Fat and sauces             28933\n",
       "Composite foods            26598\n",
       "Fruits and vegetables      25538\n",
       "Salty snacks               20460\n",
       "sugary-snacks               3600\n",
       "fruits-and-vegetables       2995\n",
       "cereals-and-potatoes          46\n",
       "salty-snacks                   5\n",
       "Name: pnns_groups_1, dtype: int64"
      ]
     },
     "execution_count": 10,
     "metadata": {},
     "output_type": "execute_result"
    }
   ],
   "source": [
    "data[\"pnns_groups_1\"].value_counts()"
   ]
  },
  {
   "cell_type": "code",
   "execution_count": 11,
   "metadata": {},
   "outputs": [],
   "source": [
    "# dictionnary to normalize category names into PNNS category\n",
    "pnns1_category = {\n",
    " 'Sugary snacks' : 'Snacks', \n",
    " 'Milk and dairy products' : 'Dairies',\n",
    " 'Cereals and potatoes' : 'Starchy', \n",
    " 'Fish Meat Eggs' : 'Fish Meat Eggs',\n",
    " 'Beverages' : 'Beverages',\n",
    " 'Fat and sauces' : 'Fat Sauces',\n",
    " 'Fruits and vegetables' : 'Fruits Vegetables',\n",
    " 'Salty snacks' : 'Snacks',\n",
    " 'fruits-and-vegetables' : 'Fruits Vegetables',\n",
    " 'sugary-snacks' : 'Snacks',\n",
    " 'cereals-and-potatoes' : 'Starchy',\n",
    " 'salty-snacks' : 'Snacks'\n",
    "}\n",
    "data.loc[:,'food_category'] = data['pnns_groups_1'].map(pnns1_category)"
   ]
  },
  {
   "cell_type": "code",
   "execution_count": 12,
   "metadata": {},
   "outputs": [
    {
     "data": {
      "text/plain": [
       "Snacks               84471\n",
       "Dairies              45218\n",
       "Fish Meat Eggs       44342\n",
       "Starchy              35666\n",
       "Beverages            29740\n",
       "Fat Sauces           28933\n",
       "Fruits Vegetables    28533\n",
       "Name: food_category, dtype: int64"
      ]
     },
     "execution_count": 12,
     "metadata": {},
     "output_type": "execute_result"
    }
   ],
   "source": [
    "# New pnns categories\n",
    "data[\"food_category\"].value_counts()"
   ]
  },
  {
   "cell_type": "markdown",
   "metadata": {},
   "source": [
    "### From pnns_groups_2 column\n",
    "\n",
    "We notice that several products haven't been categorized but have a non missing value in pnns_groups_2"
   ]
  },
  {
   "cell_type": "code",
   "execution_count": 13,
   "metadata": {},
   "outputs": [
    {
     "data": {
      "text/plain": [
       "One-dish meals            21513\n",
       "Alcoholic beverages       10622\n",
       "Pizza pies and quiche      3004\n",
       "Sandwiches                 2081\n",
       "Pizza pies and quiches      406\n",
       "Name: pnns_groups_2, dtype: int64"
      ]
     },
     "execution_count": 13,
     "metadata": {},
     "output_type": "execute_result"
    }
   ],
   "source": [
    "# Values of pnns_groups_2 which haven't been classified in food_category\n",
    "data.loc[data.food_category.isnull()][\"pnns_groups_2\"].value_counts()"
   ]
  },
  {
   "cell_type": "markdown",
   "metadata": {},
   "source": [
    "Here, we make the decision to not classify Composite food as it doesn't pertain to a particular category. Also, creating a Composite category doesn't make sense for our final analysis."
   ]
  },
  {
   "cell_type": "code",
   "execution_count": 14,
   "metadata": {},
   "outputs": [],
   "source": [
    "data.loc[(data.food_category.isnull())&(data.pnns_groups_2 == \"Alcoholic beverages\"),\"food_category\"] = \"Beverages\""
   ]
  },
  {
   "cell_type": "code",
   "execution_count": 15,
   "metadata": {},
   "outputs": [
    {
     "data": {
      "text/plain": [
       "Snacks               84471\n",
       "Dairies              45218\n",
       "Fish Meat Eggs       44342\n",
       "Beverages            40362\n",
       "Starchy              35666\n",
       "Fat Sauces           28933\n",
       "Fruits Vegetables    28533\n",
       "Name: food_category, dtype: int64"
      ]
     },
     "execution_count": 15,
     "metadata": {},
     "output_type": "execute_result"
    }
   ],
   "source": [
    "data[\"food_category\"].value_counts()"
   ]
  },
  {
   "cell_type": "markdown",
   "metadata": {},
   "source": [
    "### From main_category_en column\n",
    "\n",
    "We complete our categorization with the help of the 'main_category_en' column"
   ]
  },
  {
   "cell_type": "code",
   "execution_count": 16,
   "metadata": {},
   "outputs": [
    {
     "data": {
      "text/plain": [
       "Meals                              17536\n",
       "Beverages                           9798\n",
       "Plant-based foods and beverages     7147\n",
       "Groceries                           6416\n",
       "Snacks                              3897\n",
       "Frozen foods                        3130\n",
       "Dietary supplements                 2393\n",
       "Sandwiches                          1843\n",
       "Dairies                             1606\n",
       "Canned foods                        1598\n",
       "Desserts                            1359\n",
       "Baby foods                          1279\n",
       "Sweeteners                          1277\n",
       "Meats                               1232\n",
       "Cooking helpers                      749\n",
       "Crêpes and galettes                  698\n",
       "Food additives                       619\n",
       "Non food products                    569\n",
       "Spreads                              417\n",
       "Cocoa and chocolate powders          350\n",
       "Licensed products                    306\n",
       "Syrups                               287\n",
       "Chips and fries                      271\n",
       "Dried products                       249\n",
       "es:bolleria-industrial               244\n",
       "Pies                                 224\n",
       "Fresh foods                          221\n",
       "fr:bloc-de-foie-gras-de-canard       217\n",
       "Pizza dough                          207\n",
       "Breakfasts                           203\n",
       "Name: main_category_en, dtype: int64"
      ]
     },
     "execution_count": 16,
     "metadata": {},
     "output_type": "execute_result"
    }
   ],
   "source": [
    "data.loc[data.food_category.isnull()][\"main_category_en\"].value_counts().head(30)"
   ]
  },
  {
   "cell_type": "code",
   "execution_count": 17,
   "metadata": {},
   "outputs": [],
   "source": [
    "# After inspecting the food type for the 30 most frequent values in main_category_en, we create the following dictionary\n",
    "maincategoryen_category = {\n",
    "'Beverages' : 'Beverages',\n",
    "'Snacks' : 'Snacks',\n",
    "'Dairies' : 'Dairies',\n",
    "'Desserts' : 'Dairies',\n",
    "'Crêpes and galettes' : 'Snacks',\n",
    "'Cocoa and chocolate powders': 'Snacks',\n",
    "'Syrups':'Fat Sauces',\n",
    "'Chips and fries': 'Snacks',\n",
    "'es:bolleria-industrial': 'Snacks',\n",
    "'fr:bloc-de-foie-gras-de-canard': 'Fish Meat Eggs' ,\n",
    "'Pizza dough' : 'Starchy',\n",
    "'Breakfast' : 'Starchy',\n",
    "'Banana-crisps' : \"Snacks\",\n",
    "'Fish eggs' : 'Fish Meat Eggs',\n",
    "'Terrines' : 'Fish Meat Eggs',\n",
    "'fr:escalopes' : 'Fish Meat Eggs',\n",
    "'Salads' : 'Fruits Vegetables',\n",
    "'fr:pilons-de-poulet' : 'Fish Meat Eggs'\n",
    "}\n",
    "\n",
    "data.loc[data.food_category.isnull(),'food_category'] =  data.loc[data.food_category.isnull(),'main_category_en'].map(maincategoryen_category)"
   ]
  },
  {
   "cell_type": "code",
   "execution_count": 18,
   "metadata": {},
   "outputs": [
    {
     "data": {
      "text/plain": [
       "0.3485795853717731"
      ]
     },
     "execution_count": 18,
     "metadata": {},
     "output_type": "execute_result"
    }
   ],
   "source": [
    "sum(data[\"food_category\"].value_counts())/len(data)"
   ]
  },
  {
   "cell_type": "markdown",
   "metadata": {},
   "source": [
    "**After these steps, we managed to categorize 34% of our date among PNNS groups.**\n",
    "\n",
    "For the unclassified data, the other columns don't bring any strong evidence for the categorization of the product. For instance, a lot of Dietary Supplements or Non Food Products stay unclassified. Also, the table beneath shows that no column with above 10% completeness for uncategorized data gives us direct information on food categories."
   ]
  },
  {
   "cell_type": "code",
   "execution_count": 19,
   "metadata": {},
   "outputs": [
    {
     "data": {
      "text/plain": [
       "code                                       1.000000\n",
       "states_en                                  1.000000\n",
       "url                                        1.000000\n",
       "creator                                    1.000000\n",
       "created_t                                  1.000000\n",
       "created_datetime                           1.000000\n",
       "last_modified_t                            1.000000\n",
       "last_modified_datetime                     1.000000\n",
       "pnns_groups_2                              1.000000\n",
       "states                                     1.000000\n",
       "states_tags                                1.000000\n",
       "pnns_groups_1                              0.999355\n",
       "countries_en                               0.998841\n",
       "countries_tags                             0.998841\n",
       "countries                                  0.998841\n",
       "product_name                               0.994181\n",
       "energy_100g                                0.939164\n",
       "proteins_100g                              0.936268\n",
       "carbohydrates_100g                         0.934108\n",
       "fat_100g                                   0.933811\n",
       "sugars_100g                                0.918658\n",
       "salt_100g                                  0.915158\n",
       "sodium_100g                                0.915106\n",
       "energy-kcal_100g                           0.900177\n",
       "saturated-fat_100g                         0.896317\n",
       "image_url                                  0.676585\n",
       "image_small_url                            0.676585\n",
       "brands                                     0.529188\n",
       "brands_tags                                0.529151\n",
       "image_ingredients_small_url                0.493458\n",
       "image_ingredients_url                      0.493458\n",
       "ingredients_text                           0.411932\n",
       "additives_n                                0.411755\n",
       "ingredients_that_may_be_from_palm_oil_n    0.411755\n",
       "ingredients_from_palm_oil_n                0.411755\n",
       "image_nutrition_small_url                  0.319066\n",
       "image_nutrition_url                        0.319066\n",
       "fiber_100g                                 0.310824\n",
       "serving_quantity                           0.300391\n",
       "serving_size                               0.300350\n",
       "nova_group                                 0.250823\n",
       "additives_tags                             0.234308\n",
       "additives_en                               0.234308\n",
       "cholesterol_100g                           0.199943\n",
       "trans-fat_100g                             0.199004\n",
       "iron_100g                                  0.196411\n",
       "vitamin-c_100g                             0.195912\n",
       "calcium_100g                               0.195241\n",
       "vitamin-a_100g                             0.192185\n",
       "quantity                                   0.188866\n",
       "labels                                     0.151072\n",
       "labels_tags                                0.151065\n",
       "labels_en                                  0.151065\n",
       "categories                                 0.114574\n",
       "categories_en                              0.114567\n",
       "categories_tags                            0.114567\n",
       "main_category_en                           0.114477\n",
       "main_category                              0.114477\n",
       "stores                                     0.102176\n",
       "dtype: float64"
      ]
     },
     "execution_count": 19,
     "metadata": {},
     "output_type": "execute_result"
    }
   ],
   "source": [
    "completeness = raw_data.iloc[data[data.food_category.isnull()].index].count().sort_values(ascending=False)/len(data.loc[data.food_category.isnull()])\n",
    "completeness.loc[completeness>0.1]"
   ]
  },
  {
   "cell_type": "code",
   "execution_count": 20,
   "metadata": {},
   "outputs": [],
   "source": [
    "classified_data = data.loc[~data.food_category.isnull()]\n",
    "unclassified_data = data.loc[data.food_category.isnull()]"
   ]
  },
  {
   "cell_type": "code",
   "execution_count": 21,
   "metadata": {},
   "outputs": [
    {
     "data": {
      "text/plain": [
       "0.6170500593945724"
      ]
     },
     "execution_count": 21,
     "metadata": {},
     "output_type": "execute_result"
    }
   ],
   "source": [
    "classified_data.loc[~classified_data.ingredients_text.isnull(),\"ingredients_text\"].count()/len(classified_data)"
   ]
  },
  {
   "cell_type": "markdown",
   "metadata": {},
   "source": [
    "42% of the remaining data has a list of ingredients, and 62% of our classified data also has a list of ingredients. We first use word similarities on the words in ingredient_text to associate unclassified products to categories if the similarity is big enough."
   ]
  },
  {
   "cell_type": "markdown",
   "metadata": {},
   "source": [
    "### Using Ingredients_text column "
   ]
  },
  {
   "cell_type": "code",
   "execution_count": 22,
   "metadata": {},
   "outputs": [
    {
     "name": "stderr",
     "output_type": "stream",
     "text": [
      "C:\\Users\\Yann Schilling\\Anaconda3\\envs\\ada\\lib\\site-packages\\pandas\\core\\indexing.py:494: SettingWithCopyWarning: \n",
      "A value is trying to be set on a copy of a slice from a DataFrame.\n",
      "Try using .loc[row_indexer,col_indexer] = value instead\n",
      "\n",
      "See the caveats in the documentation: http://pandas.pydata.org/pandas-docs/stable/user_guide/indexing.html#returning-a-view-versus-a-copy\n",
      "  self.obj[item] = s\n"
     ]
    }
   ],
   "source": [
    "# We clean the list of ingredients by removing punctuation and numbers\n",
    "def clean_text(df,col):\n",
    "    caracters2delete = ['%','-',':',',',\"  \",'(',')',';','/','_','*','\\d+','.','\\'','[',']','•','+']\n",
    "    df.loc[:,col] = df.loc[:,col].str.lower()\n",
    "    for c in caracters2delete:\n",
    "        df.loc[:,col] = df.loc[:,col].str.replace(c,' ')\n",
    "\n",
    "clean_text(classified_data,\"ingredients_text\")\n",
    "clean_text(unclassified_data,\"ingredients_text\")\n",
    "\n",
    "# We then transform the text to a list of nonStop words\n",
    "# The dominant language in the ingredients in french\n",
    "stopWords = stopwords.words('french') + [\"kg\",\"g\",\"v\",\"a\",\"b\",\"k\",\"e\",\"mg\",\"and\",\"of\",\"ml\",\"cl\"]\n",
    "\n",
    "classified_data.loc[~classified_data.ingredients_text.isnull(),'ingredients_text'] = \\\n",
    "    classified_data.loc[~classified_data.ingredients_text.isnull(),'ingredients_text'] \\\n",
    "    .apply(lambda x: [word for word in x.split() if word not in stopWords])\n",
    "    \n",
    "unclassified_data.loc[~unclassified_data.ingredients_text.isnull(),'ingredients_text'] = \\\n",
    "    unclassified_data.loc[~unclassified_data.ingredients_text.isnull(),'ingredients_text'] \\\n",
    "    .apply(lambda x: [word for word in x.split() if word not in stopWords])"
   ]
  },
  {
   "cell_type": "code",
   "execution_count": 23,
   "metadata": {},
   "outputs": [],
   "source": [
    "# We compute the set of words for each category by keeping the nFrequent most frequent words that aren't stopWords\n",
    "nFrequent = 200\n",
    "maxWords = 10\n",
    "\n",
    "def createWordSet(df):   \n",
    "    count = Counter([ word for sentence in df.loc[~df[\"ingredients_text\"].isnull(),\"ingredients_text\"].tolist() for word in sentence[:maxWords]])\n",
    "    count[\"\"] = 0\n",
    "    n = sum(count.values())\n",
    "    return dict([(word[0],word[1]/n) for word in count.most_common(nFrequent)])\n",
    "\n",
    "category_words = classified_data.groupby(\"food_category\").apply(createWordSet)\n",
    "\n",
    "ingredientDict = dict();\n",
    "for col in category_words.index.values:\n",
    "    for word in set(category_words[col]):\n",
    "        ingredientDict[word] = ingredientDict.get(word,0)+1\n",
    "\n",
    "ingredientDictList = list(ingredientDict)"
   ]
  },
  {
   "cell_type": "code",
   "execution_count": 24,
   "metadata": {},
   "outputs": [
    {
     "data": {
      "image/png": "[encoded data removed]",
      "text/plain": [
       "<Figure size 720x576 with 2 Axes>"
      ]
     },
     "metadata": {
      "needs_background": "light"
     },
     "output_type": "display_data"
    }
   ],
   "source": [
    "columns = category_words.index.values\n",
    "n = len(columns)\n",
    "similarity_matrix = np.zeros((n,n))\n",
    "\n",
    "def jaccard_similarity(list1, list2):\n",
    "    s1 = set(list1) # gives the keys\n",
    "    s2 = set(list2)\n",
    "    return len(s1.intersection(s2)) / len(s1.union(s2))\n",
    "\n",
    "for idx1,name1 in enumerate(columns):\n",
    "    for idx2,name2 in enumerate(columns):\n",
    "        similarity_matrix[idx1,idx2] = jaccard_similarity(category_words[name1],category_words[name2])\n",
    "\n",
    "plt.figure(figsize=(10,8))\n",
    "sns.heatmap(similarity_matrix, annot=True, cbar_kws={'label': 'jaccard similarity score'})\n",
    "plt.title(\"Jaccard similarity scores among categories\", fontsize=15, fontweight=\"bold\")\n",
    "plt.xticks(np.arange(n)+0.5,columns,rotation='vertical')\n",
    "plt.yticks(np.arange(n)+0.5,np.flip(columns,axis=0),rotation='horizontal')\n",
    "plt.show()"
   ]
  },
  {
   "cell_type": "markdown",
   "metadata": {},
   "source": [
    "We see that the dictionaries are rather distinct. The apparent similarities such as (Snacks/Starchy) and (Beverages/Fruits Vegetables) are senseful. Snacks and Starchy both have ingredients made with flour and Beverages such as juices can have fruit or vegetables."
   ]
  },
  {
   "cell_type": "markdown",
   "metadata": {},
   "source": [
    "To compute the similarity between a list of ingredients and a category, we compute a score. Each word in the ingredient list adds to the product's overall score its importance in the category dictionary (normalized count in the dictionary) which is also weighted by its position in the ingredients list. The idea is that the ingredients of a product are listed in order of importance, this is confirmed by the Open Food Facts website. We only consider the 10 first words in the ingredient list. We also divide the word score by the number of dictionaries in which it occurs. The ingredient is less representative of a food category if it also represents other categories.\n",
    "\n",
    "We then categorize a product if its maximum similarity is above a certain threshold."
   ]
  },
  {
   "cell_type": "code",
   "execution_count": 25,
   "metadata": {},
   "outputs": [],
   "source": [
    "# Using similarities to category dictionaries\n",
    "\n",
    "def similarity_dic(ingredients):\n",
    "    dic = {}\n",
    "    n = 10        \n",
    "    for cat in category_words.index.values:\n",
    "        score = 0\n",
    "        for idx,word in enumerate(ingredients[:n]):\n",
    "            score += category_words[cat].get(word,0)*(n-idx)/ingredientDict.get(word,1)\n",
    "        dic[cat] = score\n",
    "    total = sum(dic.values())\n",
    "    if (total != 0) :\n",
    "        dic = {k: v / total for k, v in dic.items()}\n",
    "    return dic"
   ]
  },
  {
   "cell_type": "code",
   "execution_count": 26,
   "metadata": {},
   "outputs": [
    {
     "data": {
      "image/png": "[encoded data removed]",
      "text/plain": [
       "<Figure size 432x288 with 1 Axes>"
      ]
     },
     "metadata": {
      "needs_background": "light"
     },
     "output_type": "display_data"
    }
   ],
   "source": [
    "# We test different decision thresholds\n",
    "thresholds = np.arange(0,1,0.01)\n",
    "accuracies = []\n",
    "percKept = []\n",
    "\n",
    "test_similarities = classified_data.loc[~classified_data.ingredients_text.isnull(),\"ingredients_text\"] \\\n",
    "            .apply(similarity_dic).apply(pd.Series)\n",
    "\n",
    "test_similarities = test_similarities[(test_similarities.T != 0).any()]\n",
    "\n",
    "for t in thresholds:\n",
    "    results = test_similarities.loc[test_similarities.max(axis=1)>t].idxmax(axis=1)\n",
    "    accuracies.append(sum(classified_data.loc[results.index,\"food_category\"] == results)/len(results))\n",
    "    percKept.append(len(results)/len(test_similarities))\n",
    "\n",
    "plt.plot(percKept,accuracies)\n",
    "\n",
    "plt.title(\"Category Prediction Accuracy vs Percentage of Data with Prediction\")\n",
    "plt.xlabel(\"Percentage of data categorized\")\n",
    "plt.ylabel(\"Prediction accuracy\")\n",
    "plt.show() \n"
   ]
  },
  {
   "cell_type": "markdown",
   "metadata": {},
   "source": [
    "Here, the prediction accuracy is plotted for different decision thresholds and underlines the percentage of the data categorized with regards to the accuracy. We see that even for a high decision threshold, the accuracy rises only to 87% with only about 30% of the data classified. We decide to not use this classification method and study the optimality of a Random Forest classifier."
   ]
  },
  {
   "cell_type": "markdown",
   "metadata": {},
   "source": [
    "## Random Forest approach"
   ]
  },
  {
   "cell_type": "markdown",
   "metadata": {},
   "source": [
    "We decide to do vector embeddings with the dictionary obtaining in the last section. The random forest approach is a natural choice for our classification task as the classification can be intuitively done with binary decisions on product ingredients."
   ]
  },
  {
   "cell_type": "code",
   "execution_count": 27,
   "metadata": {},
   "outputs": [],
   "source": [
    "def embedding_vector(l,dic_list):\n",
    "    \n",
    "    vec = np.zeros(len(dic_list))\n",
    "    counter = 1\n",
    "    for elem in l[::-1]:\n",
    "        if elem in dic_list:\n",
    "            vec[dic_list.index(elem)]+=counter\n",
    "            counter+= 1\n",
    "\n",
    "    if counter != 1:\n",
    "        vec = vec/np.linalg.norm(vec)\n",
    "        \n",
    "    return vec\n",
    "\n",
    "# Creation of inputs and outputs\n",
    "training_X = classified_data.loc[~classified_data.ingredients_text.isnull(),'ingredients_text'].apply(lambda x : embedding_vector(x,ingredientDictList))\n",
    "training_Y = classified_data.loc[~classified_data.ingredients_text.isnull(),\"food_category\"]\n"
   ]
  },
  {
   "cell_type": "code",
   "execution_count": 28,
   "metadata": {},
   "outputs": [],
   "source": [
    "# We replace the categories by numerical values\n",
    "cat_conv = {\"Fruits Vegetables\":0,\"Starchy\":1,\"Fat Sauces\":2,\"Snacks\":3,\"Dairies\":4,\"Beverages\":5,\"Fish Meat Eggs\":6}\n",
    "training_Y = training_Y.replace(cat_conv)\n",
    "\n",
    "# We create numpy arrays for the training\n",
    "training_X = np.stack(training_X.values)\n",
    "training_Y = np.array(training_Y.values)"
   ]
  },
  {
   "cell_type": "markdown",
   "metadata": {},
   "source": [
    "Some products have no ingredients in the ingredient dictionary and have to be removed from the training set"
   ]
  },
  {
   "cell_type": "code",
   "execution_count": 29,
   "metadata": {},
   "outputs": [
    {
     "name": "stdout",
     "output_type": "stream",
     "text": [
      "Number of kept rows : 193636, 95.83% of training data\n"
     ]
    }
   ],
   "source": [
    "nonZeroRowsIndexes = np.where(training_X.any(axis=1))[0]\n",
    "print(\"Number of kept rows : {}, {:.2f}% of training data\".format(len(nonZeroRowsIndexes),100*len(nonZeroRowsIndexes)/training_X.shape[0]))\n",
    "training_X = np.take(training_X,nonZeroRowsIndexes,axis=0)\n",
    "training_Y = np.take(training_Y,nonZeroRowsIndexes,axis=0)"
   ]
  },
  {
   "cell_type": "markdown",
   "metadata": {},
   "source": [
    "For a first evaluation of Random Forest classifiers, we now split our data into a training set and a test set"
   ]
  },
  {
   "cell_type": "code",
   "execution_count": 30,
   "metadata": {},
   "outputs": [
    {
     "name": "stdout",
     "output_type": "stream",
     "text": [
      "Number of training samples : 129736\n",
      "Number of testing samples : 63900\n"
     ]
    }
   ],
   "source": [
    "X_train, X_test, y_train, y_test = train_test_split(training_X, training_Y, test_size=0.33, random_state=2)\n",
    "print(\"Number of training samples : {}\".format(X_train.shape[0]))\n",
    "print(\"Number of testing samples : {}\".format(X_test.shape[0]))"
   ]
  },
  {
   "cell_type": "code",
   "execution_count": 31,
   "metadata": {},
   "outputs": [
    {
     "name": "stdout",
     "output_type": "stream",
     "text": [
      "Accuracy score for test set : 0.87\n"
     ]
    }
   ],
   "source": [
    "clf = RandomForestClassifier(random_state=0,n_estimators=10,criterion=\"entropy\")\n",
    "clf.fit(X_train,y_train);\n",
    "print(\"Accuracy score for test set : {:.2f}\".format(accuracy_score(y_test,clf.predict(X_test))))"
   ]
  },
  {
   "cell_type": "markdown",
   "metadata": {},
   "source": [
    "Random Forest gives good results compared to our similarity method. We can always decide to not classify products whose classifier output probabilities are too low. The certainty threshold is set in a few blocks. We check the confusion matrix to see if misclassification is typical of certain categories."
   ]
  },
  {
   "cell_type": "code",
   "execution_count": 32,
   "metadata": {},
   "outputs": [
    {
     "data": {
      "image/png": "[encoded data removed]",
      "text/plain": [
       "<Figure size 576x432 with 2 Axes>"
      ]
     },
     "metadata": {
      "needs_background": "light"
     },
     "output_type": "display_data"
    }
   ],
   "source": [
    "cm = confusion_matrix(y_test,clf.predict(X_test))\n",
    "n = len(cat_conv)\n",
    "columns = list(cat_conv)\n",
    "\n",
    "plt.figure(figsize=(8,6))\n",
    "sns.heatmap(cm, annot=True, cbar_kws={'label': 'accuracy score'})\n",
    "plt.title(\"Normalized Confusion Matrix\", fontsize=15, fontweight=\"bold\")\n",
    "plt.xticks(np.arange(n)+0.5,columns,rotation='vertical')\n",
    "plt.yticks(np.arange(n)+0.5,np.flip(columns,axis=0),rotation='horizontal')\n",
    "plt.ylabel(\"Target\")\n",
    "plt.xlabel(\"Prediction\")\n",
    "plt.show()"
   ]
  },
  {
   "cell_type": "markdown",
   "metadata": {},
   "source": [
    "We notice that misclassification is rather spread out around the target/prediction possibilities and thus a simple probability threshold common to every class is sufficient to estimate certainty. We now estimate the threshold as a function of the accuracy we want, while trying to classify the most amount of products."
   ]
  },
  {
   "cell_type": "markdown",
   "metadata": {},
   "source": [
    "For validation purposes, we split out data 5 times into a training and testing set."
   ]
  },
  {
   "cell_type": "code",
   "execution_count": 33,
   "metadata": {},
   "outputs": [
    {
     "data": {
      "image/png": "[encoded data removed]",
      "text/plain": [
       "<Figure size 432x288 with 1 Axes>"
      ]
     },
     "metadata": {
      "needs_background": "light"
     },
     "output_type": "display_data"
    }
   ],
   "source": [
    "thresholds = np.arange(0,1.01,0.01)\n",
    "\n",
    "for i in range(5):\n",
    "    X_train, X_test, y_train, y_test = train_test_split(training_X, training_Y, test_size=0.33, random_state=i)\n",
    "\n",
    "    clf = RandomForestClassifier(random_state=0,n_estimators=10,criterion=\"entropy\")\n",
    "    clf.fit(X_train,y_train)\n",
    "\n",
    "    y_preds = clf.predict(X_test)\n",
    "    y_probs = clf.predict_proba(X_test)\n",
    "    y_probs_max = np.max(y_probs,axis=1)\n",
    "\n",
    "    n = len(y_test)\n",
    "\n",
    "    accuracies = []\n",
    "    percKept = []\n",
    "\n",
    "    for t in thresholds:\n",
    "        y_test_kept = np.take(y_test,np.where(y_probs_max>=t)[0])\n",
    "        y_preds_kept = np.take(y_preds,np.where(y_probs_max>=t)[0])\n",
    "    \n",
    "        percKept.append(len(y_test_kept)/n)\n",
    "        accuracies.append(accuracy_score(y_test_kept,y_preds_kept))\n",
    "\n",
    "    plt.plot(percKept,accuracies)\n",
    "\n",
    "plt.title(\"Category Prediction Accuracy vs Percentage of Data with Prediction for Different Train/Test Splits\")\n",
    "plt.xlabel(\"Percentage of data categorized\")\n",
    "plt.ylabel(\"Prediction accuracy\")\n",
    "plt.show() "
   ]
  },
  {
   "cell_type": "markdown",
   "metadata": {},
   "source": [
    "We see as expected that there is a tradeoff between the classification accuracy and the percentage of the data that is classified. With high accuracy we can still classify a significant amount of our data which is great news."
   ]
  },
  {
   "cell_type": "code",
   "execution_count": 34,
   "metadata": {},
   "outputs": [
    {
     "name": "stdout",
     "output_type": "stream",
     "text": [
      "By choosing a certainty threshold of 0.86 we categorized 58.9% of the testing set with 98.0% accuracy.\n"
     ]
    }
   ],
   "source": [
    "wantedAccuracy = 0.98\n",
    "bestThreshold = thresholds[np.where(np.asarray(accuracies)>wantedAccuracy)[0][0]]\n",
    "expectedCatPercentage = percKept[np.where(np.asarray(accuracies)>wantedAccuracy)[0][0]]\n",
    "\n",
    "print(\"By choosing a certainty threshold of {0:.2f} we categorized {1:.1f}% of the testing set with {2:}% accuracy.\" \\\n",
    "      .format(bestThreshold,expectedCatPercentage*100,wantedAccuracy*100))\n",
    "\n",
    "clf = RandomForestClassifier(random_state=0,n_estimators=10,criterion=\"entropy\")\n",
    "clf.fit(training_X,training_Y);"
   ]
  },
  {
   "cell_type": "markdown",
   "metadata": {},
   "source": [
    "We now classify the unclassified data with the model trained on out whole training set."
   ]
  },
  {
   "cell_type": "code",
   "execution_count": 35,
   "metadata": {},
   "outputs": [
    {
     "name": "stdout",
     "output_type": "stream",
     "text": [
      "Number of kept rows : 243559, 96.62% of unclassified data with ingredients_text\n"
     ]
    }
   ],
   "source": [
    "unclassifiedWithIngred = unclassified_data.loc[~unclassified_data.ingredients_text.isnull(),'ingredients_text'].apply(lambda x : embedding_vector(x,ingredientDictList))\n",
    "indexes = unclassifiedWithIngred.index\n",
    "unclassifiedWithIngred = np.stack(unclassifiedWithIngred.values)\n",
    "\n",
    "nonZeroRowsIndexes = np.where(unclassifiedWithIngred.any(axis=1))[0]\n",
    "print(\"Number of kept rows : {}, {:.2f}% of unclassified data with ingredients_text\".format(len(nonZeroRowsIndexes),100*len(nonZeroRowsIndexes)/unclassifiedWithIngred.shape[0]))"
   ]
  },
  {
   "cell_type": "code",
   "execution_count": 36,
   "metadata": {},
   "outputs": [
    {
     "name": "stdout",
     "output_type": "stream",
     "text": [
      "We classifed 31.54% of the unclassified data with ingredients_text\n"
     ]
    }
   ],
   "source": [
    "# We makes the predictions and only keep those with max probability above the certainty threshold found earlier\n",
    "dataToPredict = np.take(unclassifiedWithIngred,nonZeroRowsIndexes,axis=0)\n",
    "indexes = np.take(indexes,nonZeroRowsIndexes,axis=0)\n",
    "preds = clf.predict(dataToPredict)\n",
    "probs = clf.predict_proba(dataToPredict)\n",
    "probs_max = np.max(probs,axis=1)\n",
    "\n",
    "y_preds_kept = np.take(preds,np.where(probs_max>=bestThreshold)[0])\n",
    "indexes_kept = np.take(indexes,np.where(probs_max>=bestThreshold)[0])\n",
    "    \n",
    "print(\"We classifed {:.2f}% of the unclassified data with ingredients_text\".format(100*len(y_preds_kept)/unclassifiedWithIngred.shape[0]))"
   ]
  },
  {
   "cell_type": "code",
   "execution_count": 37,
   "metadata": {},
   "outputs": [],
   "source": [
    "# We translate our numerical categories back to strings\n",
    "cat_conv_inv = {0:\"Fruits Vegetables\",1:\"Starchy\",2:\"Fat Sauces\",3:\"Snacks\",4:\"Dairies\",5:\"Beverages\",6:\"Fish Meat Eggs\"}\n",
    "y_preds_kept = np.vectorize(cat_conv_inv.get)(y_preds_kept)"
   ]
  },
  {
   "cell_type": "code",
   "execution_count": 38,
   "metadata": {},
   "outputs": [
    {
     "name": "stdout",
     "output_type": "stream",
     "text": [
      "We managed to classify 43.32% of the whole data\n"
     ]
    }
   ],
   "source": [
    "# We update our dataset\n",
    "data.loc[indexes_kept,\"food_category\"] = y_preds_kept\n",
    "\n",
    "classificationRatio = sum(data[\"food_category\"].value_counts())/len(data)\n",
    "print(\"We managed to classify {:.2f}% of the whole data\".format(classificationRatio*100))"
   ]
  },
  {
   "cell_type": "code",
   "execution_count": 39,
   "metadata": {},
   "outputs": [
    {
     "data": {
      "text/html": [
       "<div>\n",
       "<style scoped>\n",
       "    .dataframe tbody tr th:only-of-type {\n",
       "        vertical-align: middle;\n",
       "    }\n",
       "\n",
       "    .dataframe tbody tr th {\n",
       "        vertical-align: top;\n",
       "    }\n",
       "\n",
       "    .dataframe thead th {\n",
       "        text-align: right;\n",
       "    }\n",
       "</style>\n",
       "<table border=\"1\" class=\"dataframe\">\n",
       "  <thead>\n",
       "    <tr style=\"text-align: right;\">\n",
       "      <th></th>\n",
       "      <th>food_category</th>\n",
       "      <th>product_name</th>\n",
       "    </tr>\n",
       "  </thead>\n",
       "  <tbody>\n",
       "    <tr>\n",
       "      <td>905195</td>\n",
       "      <td>Starchy</td>\n",
       "      <td>Couscous Complet</td>\n",
       "    </tr>\n",
       "    <tr>\n",
       "      <td>770547</td>\n",
       "      <td>Snacks</td>\n",
       "      <td>Cookies Super Fruit</td>\n",
       "    </tr>\n",
       "    <tr>\n",
       "      <td>379660</td>\n",
       "      <td>Snacks</td>\n",
       "      <td>Le mini muffin pépites de choco</td>\n",
       "    </tr>\n",
       "    <tr>\n",
       "      <td>21726</td>\n",
       "      <td>Fish Meat Eggs</td>\n",
       "      <td>Ham Off The Bone</td>\n",
       "    </tr>\n",
       "    <tr>\n",
       "      <td>847243</td>\n",
       "      <td>Beverages</td>\n",
       "      <td>Klostergarten Beruhigungstee</td>\n",
       "    </tr>\n",
       "    <tr>\n",
       "      <td>852110</td>\n",
       "      <td>Snacks</td>\n",
       "      <td>Amour de biber(naturaplan)</td>\n",
       "    </tr>\n",
       "    <tr>\n",
       "      <td>855234</td>\n",
       "      <td>Beverages</td>\n",
       "      <td>Cave du Clos de Céligny, Sauvignon Blanc, AOC ...</td>\n",
       "    </tr>\n",
       "    <tr>\n",
       "      <td>851150</td>\n",
       "      <td>Dairies</td>\n",
       "      <td>Qualité &amp; Prix Jogurt Nature partiellement écrémé</td>\n",
       "    </tr>\n",
       "    <tr>\n",
       "      <td>108586</td>\n",
       "      <td>Snacks</td>\n",
       "      <td>Old Fashioned Ket-L Potato Chips, Bar-B-Q</td>\n",
       "    </tr>\n",
       "    <tr>\n",
       "      <td>46215</td>\n",
       "      <td>Beverages</td>\n",
       "      <td>Chamomile Mint Green Tea With Other Natural Fl...</td>\n",
       "    </tr>\n",
       "  </tbody>\n",
       "</table>\n",
       "</div>"
      ],
      "text/plain": [
       "         food_category                                       product_name\n",
       "905195         Starchy                                   Couscous Complet\n",
       "770547          Snacks                                Cookies Super Fruit\n",
       "379660          Snacks                    Le mini muffin pépites de choco\n",
       "21726   Fish Meat Eggs                                   Ham Off The Bone\n",
       "847243       Beverages                       Klostergarten Beruhigungstee\n",
       "852110          Snacks                         Amour de biber(naturaplan)\n",
       "855234       Beverages  Cave du Clos de Céligny, Sauvignon Blanc, AOC ...\n",
       "851150         Dairies  Qualité & Prix Jogurt Nature partiellement écrémé\n",
       "108586          Snacks          Old Fashioned Ket-L Potato Chips, Bar-B-Q\n",
       "46215        Beverages  Chamomile Mint Green Tea With Other Natural Fl..."
      ]
     },
     "execution_count": 39,
     "metadata": {},
     "output_type": "execute_result"
    }
   ],
   "source": [
    "data.loc[np.random.choice(indexes_kept,10,replace=False),[\"food_category\",\"product_name\"]]"
   ]
  },
  {
   "cell_type": "markdown",
   "metadata": {},
   "source": [
    "# PACKAGING"
   ]
  },
  {
   "cell_type": "markdown",
   "metadata": {},
   "source": [
    "While this field remains incomplete, it is still useful for us to analyze the packaging methods of different food categories. The processing pipeline for this field was performed as follows :\n",
    "- clean 'Packaging' column of the dataframe by removing stop words and unecessary entries\n",
    "- retain only certain material types of packaging (plastic, glass, cardboard, metal ...)\n",
    "- plot the proportion of each material within a certain category of food"
   ]
  },
  {
   "cell_type": "code",
   "execution_count": 40,
   "metadata": {},
   "outputs": [],
   "source": [
    "# We build our list of stopwords to remove when tockenizing the packaging column\n",
    "stop_words_c = set(stopwords.words(\"french\")).union(set(stopwords.words(\"english\")))\n",
    "\n",
    "# 'can' was removed since it was in the stop words list but still useful for Beverages containers\n",
    "stop_words_c.remove('can')"
   ]
  },
  {
   "cell_type": "code",
   "execution_count": 41,
   "metadata": {},
   "outputs": [
    {
     "name": "stdout",
     "output_type": "stream",
     "text": [
      "Packaging field is full at 0.20111789526571036 %\n"
     ]
    },
    {
     "data": {
      "text/plain": [
       "17     [barquette, plastique]\n",
       "142        [bocal, plastique]\n",
       "146               [plastique]\n",
       "300       [carton, plastique]\n",
       "301       [plastique, carton]\n",
       "Name: packaging, dtype: object"
      ]
     },
     "execution_count": 41,
     "metadata": {},
     "output_type": "execute_result"
    }
   ],
   "source": [
    "# We clean the packaging column\n",
    "def clean_data_packaging(data_column):\n",
    "    \"\"\"Clean data packaging, i.e. \n",
    "        - lower each words in the cells of data_column\n",
    "        - tokenize cells of data_column, i.e. from float type create list of string (token)\n",
    "        - remove stopwords for the list of tokens for each cells of data_column\n",
    "    \"\"\"  \n",
    "    \n",
    "    tokenizer = RegexpTokenizer(r'\\w+')\n",
    "    data_column = data_column[data_column.notnull()].str.lower() \\\n",
    "    .apply(str) \\\n",
    "    .apply(tokenizer.tokenize) \\\n",
    "    .apply(lambda cell : [item for item in cell if item not in stop_words_c]) \\\n",
    "    .apply(str)\n",
    "    \n",
    "    return data_column\n",
    "\n",
    "\n",
    "packaging = clean_data_packaging(data.packaging)\n",
    "packaging = packaging.apply(literal_eval)\n",
    "filled_pck = data.packaging.count()/len(data.packaging)\n",
    "\n",
    "# We visualize some results\n",
    "print(f'Packaging field is full at {filled_pck} %')\n",
    "packaging.head()"
   ]
  },
  {
   "cell_type": "markdown",
   "metadata": {},
   "source": [
    "**20% of the data has packaging information**\n",
    "We now categorize the packaging information to defined packaging classes."
   ]
  },
  {
   "cell_type": "code",
   "execution_count": 42,
   "metadata": {},
   "outputs": [],
   "source": [
    "# Vaccum items were added since it surely contains plastic\n",
    "plastique_words = ['plastic', 'plastique', 'plastik', 'plastico', 'plastica', 'sachets', \n",
    "                   'plàstic', 'plástico', 'plastisco' ,'bucket', 'barquette', 'sachet', 'tube', 'film', 'vacio', 'vide', 'vacío']\n",
    "\n",
    "verre_words = ['verre', 'glass', 'glas', 'vidrio', 'pot']\n",
    "carton_words = ['paper', 'karton', 'carton', 'papier', 'boite', 'cartón', 'papel', 'cardboard', \n",
    "                'card', 'eggbox', 'box']\n",
    "\n",
    "metal_words = ['metal', 'métal', 'fer', 'acier', 'aluminium', 'can', 'canette', 'conserve','tin']\n",
    "\n",
    "# Fresh products needs an adapted container which is useful for further exploration\n",
    "prod_frais_words = ['frais', 'fresh', 'frai']\n",
    "\n",
    "# The recycable materials depend on the country and regulations. However, these materials are commonly recycable.\n",
    "# (soiled papers, soiled metalic containers and soiled plastic containers tend to be avoided for medical reasons)\n",
    "recyclable_words = ['bouteille', 'flacon', 'brique', 'brick', 'bottle', 'bte', 'verre', \n",
    "                    'glass', 'glas', 'vidrio', 'metal', 'métal', 'fer', 'acier', 'aluminium', 'flasche', 'canned', \n",
    "                    'can', 'canette', 'conserve', 'tin', 'pet', 'pot', 'botella']\n",
    "\n",
    "def count_entries(self, word_list):\n",
    "    \"\"\" Return true if word_list and self have a word in common,\n",
    "        else o/w.\n",
    "    \"\"\"\n",
    "    if len(set(self).intersection(set(word_list))) > 0:\n",
    "        return True\n",
    "    else :\n",
    "        return False\n",
    "\n",
    "def to_materials(elem):\n",
    "    \"\"\" Return a list of bool that informs about the materials used \n",
    "        for the packaging.\n",
    "    \"\"\"\n",
    "    return [count_entries(elem, plastique_words), \n",
    "               count_entries(elem, verre_words), \n",
    "               count_entries(elem, carton_words),\n",
    "               count_entries(elem, metal_words),\n",
    "               count_entries(elem, prod_frais_words),\n",
    "               count_entries(elem, recyclable_words)]\n",
    "    "
   ]
  },
  {
   "cell_type": "code",
   "execution_count": 43,
   "metadata": {},
   "outputs": [],
   "source": [
    "# We a create a boolean list for each value representing the membership to packaging methods and fresh/recycable attribute\n",
    "materials_df = pd.DataFrame({'Packaging': packaging, 'materials':pd.Series(np.zeros(len(packaging)), packaging.index)})\n",
    "materials_df['materials'] = packaging.apply(to_materials)"
   ]
  },
  {
   "cell_type": "code",
   "execution_count": 44,
   "metadata": {},
   "outputs": [],
   "source": [
    "# We create a dataframe with the information\n",
    "names_list = ['Plastic', 'Glass', 'Carton', 'Metal', 'Fresh', 'Recyclable']\n",
    "materials_df = materials_df.materials.apply(pd.Series)\n",
    "materials_df = materials_df.rename(columns = lambda x : names_list[x])"
   ]
  },
  {
   "cell_type": "code",
   "execution_count": 45,
   "metadata": {},
   "outputs": [],
   "source": [
    "# We merge with the food categories\n",
    "eco_impact_plot_df = materials_df.merge(data.loc[materials_df.index.tolist(), [\"food_category\"]], left_index = True, right_index = True)"
   ]
  },
  {
   "cell_type": "code",
   "execution_count": 46,
   "metadata": {},
   "outputs": [
    {
     "data": {
      "image/png": "[encoded data removed]",
      "text/plain": [
       "<Figure size 720x720 with 1 Axes>"
      ]
     },
     "metadata": {
      "needs_background": "light"
     },
     "output_type": "display_data"
    }
   ],
   "source": [
    "# We remove Fresh and Recycable categories and plot normalized bar plots for the packaging for each food category\n",
    "packaging_plot_df = eco_impact_plot_df.drop('Fresh', axis =1)\n",
    "packaging_plot_df = packaging_plot_df.drop('Recyclable', axis =1)\n",
    "counts_pack = packaging_plot_df.groupby('food_category').sum()\n",
    "\n",
    "plt.figure(figsize =(10,10))\n",
    "ax=plt.gca()\n",
    "counts_pack.div(counts_pack.sum(axis=1)/100, axis = 0).plot.bar(ax=ax, stacked=True)\n",
    "plt.title('Material Use Percentage within each Category',fontsize=20);\n",
    "plt.xlabel(\"Food Category\");\n",
    "plt.ylabel(\"Packaging Type Percentages\");"
   ]
  },
  {
   "cell_type": "markdown",
   "metadata": {},
   "source": [
    "While the sample size is limited, a few useful informations are depicted on the above plot. First we can see that a lot of plastic is used among every category. Moreover, glass is mainly used as a liquid container which is consistent with what we could expect. The packaging information along with the use of cooling containers and recyclability of products will be used in the analysis of different diets."
   ]
  },
  {
   "cell_type": "markdown",
   "metadata": {},
   "source": [
    "# NUTRISCORE\n"
   ]
  },
  {
   "cell_type": "markdown",
   "metadata": {},
   "source": [
    "A simple, readable, understandable graphic system\n",
    "\n",
    "A triple objective\n",
    "- Inform the consumer at the time of purchase to include the nutrition\n",
    "dimension in the selection criteria (in addition to price, practicality,\n",
    "taste, notoriety, label ...)\n",
    "- Encourage producers to improve the nutritional quality of products\n",
    "- Facilitate Health Professional advice on Nutrition\n",
    "\n",
    "For the consumer a triple purpose:\n",
    "- Compare the nutritional quality of foods from different categories\n",
    "(ex : biscuits/dairy products/beverages....)\n",
    "- Compare the nutritional quality of foods belonging to the same\n",
    "category (ex : breakfast cereals)\n",
    "- Compare the nutritional quality of the same food offered by\n",
    "different brands ( ex : filled cereals)\n"
   ]
  },
  {
   "cell_type": "markdown",
   "metadata": {},
   "source": [
    "The score comprises two dimensions: negative points (corresponding to the 'unfavourable' components, an\n",
    "excess of which is considered unhealthy: calories, sugars, sodium and saturated fatty acids) and positive\n",
    "points (corresponding to 'favourable' components: fruits, vegetables, pulses, nuts, and rapeseed, walnut\n",
    "and olive oils, protein and fibre, an adequate amount of which is considered healthy).\n",
    "- Between 0 and 10 points are awarded for each of these 4 'unfavourable' components, based on the\n",
    "amount in 100 g of the food. Points are assigned based on the reference intake for the nutrient in\n",
    "question. First, the 'unfavourable' components are totalled, resulting in a number of positive points\n",
    "(maximum of +40).\n",
    "- Between 0 and 5 points are awarded for the 3 'favourable' components (0 to 10 points for\n",
    "beverages), based on the amount in 100 g of the food (maximum of -15).\n",
    "\n",
    "Depending on the number of positive points, either all of the 'favourable' components are subtracted, or\n",
    "only the fibre and, the “fruits, vegetables, pulses, nuts, and rapeseed, walnut and olive oils” components,\n",
    "according to the following rules.\n",
    "- If the total for the N component is less than 11 points, then the nutritional score is equal to the\n",
    "total N component points minus the total for the P component.\n",
    "- If the total for the N component is greater than or equal to 11 points and\n",
    "    - If the total for “Fruits, vegetables, pulses, nuts, and rapeseed, walnut and olive oils” is equal to 5 (10 for beverages), then the nutritional score is equal to the total N component points minus the total for the P component.\n",
    "    - If the total for “Fruits, vegetables, pulses, nuts, and rapeseed, walnut and olive oils” is less than 5 (10 for beverages), then the nutritional score is equal to the total N component points minus the sum of the points for “fibres” and “Fruits, vegetables, pulses, nuts, and rapeseed, walnut and olive oils”. In this case, the protein content is therefore not taken into account in the calculation of the nutritional score."
   ]
  },
  {
   "cell_type": "markdown",
   "metadata": {},
   "source": [
    "The point table generally used to calculate the nutritional score is as follows:\n",
    "- Points assigned for nutrients that have a negative impact on the nutritional score (N)\n",
    "\n",
    "\n",
    "| Points N | Energy density (kJ/100g) | Sugars (g/100g) | Saturated fatty acids (g/100g) | Sodium (mg/100g) |\n",
    "|:--------:|:------------------------:|:---------------:|:------------------------------:|:----------------:|\n",
    "|     0    |           < 335          |      < 4.5      |               < 1              |       < 90       |\n",
    "|     1    |           > 335          |      > 4.5      |               > 1              |       > 90       |\n",
    "|     2    |           > 670          |       > 9       |               > 2              |       > 180      |\n",
    "|     3    |          > 1005          |      > 13.5     |               > 3              |       > 270      |\n",
    "|     4    |          > 1340          |       > 18      |               > 4              |       > 360      |\n",
    "|     5    |          > 1675          |      > 22.5     |               > 5              |       > 450      |\n",
    "|     6    |          > 2010          |       > 27      |               > 6              |       > 540      |\n",
    "|     7    |          > 2345          |       > 31      |               > 7              |       > 630      |\n",
    "|     8    |          > 2680          |       > 36      |               > 8              |       > 720      |\n",
    "|     9    |          > 3015          |       > 40      |               > 9              |       > 810      |\n",
    "|    10    |          > 3350          |       > 45      |              > 10              |       > 900      |\n",
    "\n",
    "\n",
    "\n",
    "\n",
    "\n",
    "- Points attributed for nutrients that have a positive impact on the nutritional score (P) \n",
    "\n",
    "| Points P | Fruits, vegetables, pulses, nuts (%) | Fibre (g/100g) | Protein (g/100g) |\n",
    "|:--------:|:------------------------------------:|:--------------:|:----------------:|\n",
    "|     0    |                 < 40                 |      < 0.9     |       < 1.6      |\n",
    "|     1    |                 > 40                 |      > 0.9     |       > 1.6      |\n",
    "|     2    |                 > 60                 |      > 1.9     |       > 3.2      |\n",
    "|     3    |                   -                  |      > 2.8     |       > 4.8      |\n",
    "|     4    |                   -                  |      > 3.7     |       > 6.4      |\n",
    "|     5    |                 > 80                 |      > 4.7     |        > 8       |"
   ]
  },
  {
   "cell_type": "markdown",
   "metadata": {},
   "source": [
    "Methods for calculating the score: adaptations\n",
    "\n",
    "- Fat and Sauces\n",
    "    - The total saturated fatty acids/lipids calculation replaces the saturated fatty acids column, but the other columns must be used.\n",
    "    \n",
    "| Points N | Ratio (%) total saturated fatty acids/lipids  |\n",
    "|:--------:|:---------------------------------------------:|\n",
    "|     0    |                      < 10                     |\n",
    "|     1    |                      < 16                     |\n",
    "|     2    |                      < 22                     |\n",
    "|     3    |                      < 28                     |\n",
    "|     4    |                      < 34                     |\n",
    "|     5    |                      < 40                     |\n",
    "|     6    |                      < 46                     |\n",
    "|     7    |                      < 52                     |\n",
    "|     8    |                      < 58                     |\n",
    "|     9    |                      < 64                     |\n",
    "|    10    |                      > 64                     |\n",
    "\n",
    "- Beverages\n",
    "    - The calculation of the energy, total sugars and fruit and vegetables columns replaces the previous columns, but the other columns must be used. \n",
    "    \n",
    "| Points | Energy density (kJ/100g or 100mL) | Sugars (g/100g or 100mL) | Fruits, vegetables, pulses, nuts (%) |\n",
    "|:------:|:---------------------------------:|:------------------------:|:------------------------------------:|\n",
    "|    0   |                < 0                |            < 0           |                 < 40                 |\n",
    "|    1   |                < 30               |           < 1.5          |                   -                  |\n",
    "|    2   |                < 60               |            < 3           |                 > 40                 |\n",
    "|    3   |                < 90               |           < 4.5          |                   -                  |\n",
    "|    4   |               < 120               |            < 6           |                 > 60                 |\n",
    "|    5   |               < 150               |           < 7.5          |                   -                  |\n",
    "|    6   |               < 180               |            < 9           |                   -                  |\n",
    "|    7   |               < 210               |          < 10.5          |                   -                  |\n",
    "|    8   |               < 240               |           < 12           |                   -                  |\n",
    "|    9   |               < 270               |          < 13.5          |                   -                  |\n",
    "|   10   |               > 270               |          > 13.5          |                 > 80                 |\n",
    "\n",
    "\n",
    "- Cheeses\n",
    "    - Cheese nutritional score = Total N points – Total P points"
   ]
  },
  {
   "cell_type": "markdown",
   "metadata": {},
   "source": [
    "Assigning Colours\n",
    "\n",
    "\n",
    "The Nutri-Score logo is attributed based on the score obtained (see table below).\n",
    "\n",
    "| Solid foods points | Beverages points | Logo |\n",
    "|:------------------:|:----------------:|:----:|\n",
    "|      Min to -1     |      Waters      |   A  |\n",
    "|        0 - 2       |      Min - 1     |   B  |\n",
    "|       3 - 10       |       2 - 5      |   C  |\n",
    "|       11 - 18      |       6 - 9      |   D  |\n",
    "|      19 - Max      |     10 - Max     |   E  |"
   ]
  },
  {
   "cell_type": "markdown",
   "metadata": {},
   "source": [
    "## Data SetUp"
   ]
  },
  {
   "cell_type": "markdown",
   "metadata": {},
   "source": [
    "### Water Tag\n",
    "In order to compute the NutriScore (NS) of products, we need to seperate water from other beverages."
   ]
  },
  {
   "cell_type": "code",
   "execution_count": 47,
   "metadata": {},
   "outputs": [],
   "source": [
    "# Words which reference water\n",
    "water_list = [\"water\",\"waters\",\"eau\",\"agua\"]\n",
    "\n",
    "# Some 'categories' values contain words refering to water but are liquors\n",
    "# We thus create a list to discard such products\n",
    "nonwater_list = [\"alkoholische\",\"alcoholic\",\"spirits\",\"liquors\",\"tonic\",'coconut','sodas','soda']\n",
    "\n",
    "# We clean the 'categories' column and split into words\n",
    "data[\"split_categories\"] = data[\"categories\"]\n",
    "clean_text(data,\"split_categories\")\n",
    "data.loc[:,\"split_categories\"] = data.loc[:,\"split_categories\"].str.split()\n",
    "\n",
    "data[\"iswater\"] = data.loc[~data[\"split_categories\"].isnull(),\"split_categories\"] \\\n",
    ".apply(lambda l : bool(~any([cat_word in nonwater_list for cat_word in l]) &  \\\n",
    "                       any([cat_word in water_list for cat_word in l])))\n",
    "\n",
    "\n"
   ]
  },
  {
   "cell_type": "code",
   "execution_count": 48,
   "metadata": {},
   "outputs": [
    {
     "data": {
      "text/html": [
       "<div>\n",
       "<style scoped>\n",
       "    .dataframe tbody tr th:only-of-type {\n",
       "        vertical-align: middle;\n",
       "    }\n",
       "\n",
       "    .dataframe tbody tr th {\n",
       "        vertical-align: top;\n",
       "    }\n",
       "\n",
       "    .dataframe thead th {\n",
       "        text-align: right;\n",
       "    }\n",
       "</style>\n",
       "<table border=\"1\" class=\"dataframe\">\n",
       "  <thead>\n",
       "    <tr style=\"text-align: right;\">\n",
       "      <th></th>\n",
       "      <th>product_name</th>\n",
       "      <th>categories</th>\n",
       "    </tr>\n",
       "  </thead>\n",
       "  <tbody>\n",
       "    <tr>\n",
       "      <td>12177</td>\n",
       "      <td>Bottled Drinking Water</td>\n",
       "      <td>en:waters</td>\n",
       "    </tr>\n",
       "    <tr>\n",
       "      <td>14418</td>\n",
       "      <td>Pure Water</td>\n",
       "      <td>Beverages, Waters, Unsweetened beverages</td>\n",
       "    </tr>\n",
       "    <tr>\n",
       "      <td>16869</td>\n",
       "      <td>Black raspberry naturally flavoured sparkling ...</td>\n",
       "      <td>Beverages,Carbonated drinks,Waters,Carbonated ...</td>\n",
       "    </tr>\n",
       "    <tr>\n",
       "      <td>21347</td>\n",
       "      <td>Drinking Water</td>\n",
       "      <td>Beverages, Waters</td>\n",
       "    </tr>\n",
       "  </tbody>\n",
       "</table>\n",
       "</div>"
      ],
      "text/plain": [
       "                                            product_name  \\\n",
       "12177                             Bottled Drinking Water   \n",
       "14418                                         Pure Water   \n",
       "16869  Black raspberry naturally flavoured sparkling ...   \n",
       "21347                                     Drinking Water   \n",
       "\n",
       "                                              categories  \n",
       "12177                                          en:waters  \n",
       "14418           Beverages, Waters, Unsweetened beverages  \n",
       "16869  Beverages,Carbonated drinks,Waters,Carbonated ...  \n",
       "21347                                  Beverages, Waters  "
      ]
     },
     "execution_count": 48,
     "metadata": {},
     "output_type": "execute_result"
    }
   ],
   "source": [
    "data[data[\"iswater\"]==True][['product_name','categories']].head(4)"
   ]
  },
  {
   "cell_type": "code",
   "execution_count": 49,
   "metadata": {},
   "outputs": [],
   "source": [
    "# replace NaN of 'fruits-vegetables-nuts_100g' by 100 if it is 'Fruit juices'\n",
    "#data[(data['main_category_en'] == 'Fruit juices')]['fruits-vegetables-nuts_100g'].fillna(0, inplace=True)"
   ]
  },
  {
   "cell_type": "code",
   "execution_count": 50,
   "metadata": {},
   "outputs": [],
   "source": [
    "selected_fields =[\n",
    "    'product_name','food_category',\n",
    "    'energy_100g','sugars_100g','saturated-fat_100g','fat_100g','sodium_100g',\n",
    "    'fruits-vegetables-nuts_100g',\n",
    "    'fiber_100g','proteins_100g',\n",
    "    'nutrition-score-uk_100g',\n",
    "    'nutrition_grade_fr',\n",
    "    'iswater']"
   ]
  },
  {
   "cell_type": "code",
   "execution_count": 51,
   "metadata": {},
   "outputs": [],
   "source": [
    "# divide dataframe into 3 groups to simplify the calculation of nutriscrore\n",
    "data_beverages = data[data['food_category']=='Beverages'][selected_fields]\n",
    "data_beverages['fatsaturated/lipids'] = data_beverages['saturated-fat_100g']/data_beverages['fat_100g']*100\n",
    "\n",
    "data_fatsauces = data[data['food_category']=='Fat Sauces'][selected_fields]\n",
    "data_fatsauces['fatsaturated/lipids'] = data_fatsauces['saturated-fat_100g']/data_fatsauces['fat_100g']*100\n",
    "\n",
    "categories_without_beveragesfatsauce =['Snacks','Dairies','Fish Meat Eggs','Starchy','Fruits Vegetables']\n",
    "data_without_beverage_fat = data[data['food_category'].isin(categories_without_beveragesfatsauce)][selected_fields]\n",
    "data_without_beverage_fat['fatsaturated/lipids'] = data_without_beverage_fat['saturated-fat_100g']/data_without_beverage_fat['fat_100g']*100\n"
   ]
  },
  {
   "cell_type": "markdown",
   "metadata": {},
   "source": [
    "We keep the index of the products that present all the non Nan features to be able to know if the NS calculation process is accurate whit the Nutri-grade already given"
   ]
  },
  {
   "cell_type": "code",
   "execution_count": 52,
   "metadata": {},
   "outputs": [
    {
     "ename": "NameError",
     "evalue": "name 'nutridattta' is not defined",
     "output_type": "error",
     "traceback": [
      "\u001b[1;31m---------------------------------------------------------------------------\u001b[0m",
      "\u001b[1;31mNameError\u001b[0m                                 Traceback (most recent call last)",
      "\u001b[1;32m<ipython-input-52-d8943229a73c>\u001b[0m in \u001b[0;36m<module>\u001b[1;34m\u001b[0m\n\u001b[0;32m      1\u001b[0m \u001b[0mverification_index\u001b[0m \u001b[1;33m=\u001b[0m \u001b[0mdata\u001b[0m\u001b[1;33m[\u001b[0m\u001b[0mselected_fields\u001b[0m\u001b[1;33m]\u001b[0m\u001b[1;33m\u001b[0m\u001b[1;33m\u001b[0m\u001b[0m\n\u001b[1;32m----> 2\u001b[1;33m \u001b[0mverification_index\u001b[0m \u001b[1;33m=\u001b[0m \u001b[0mnutridattta\u001b[0m\u001b[1;33m.\u001b[0m\u001b[0mloc\u001b[0m\u001b[1;33m[\u001b[0m\u001b[1;33m(\u001b[0m\u001b[0mnutridattta\u001b[0m\u001b[1;33m.\u001b[0m\u001b[0misnull\u001b[0m\u001b[1;33m(\u001b[0m\u001b[1;33m)\u001b[0m\u001b[1;33m)\u001b[0m\u001b[1;33m.\u001b[0m\u001b[0msum\u001b[0m\u001b[1;33m(\u001b[0m\u001b[0maxis\u001b[0m\u001b[1;33m=\u001b[0m\u001b[1;36m1\u001b[0m\u001b[1;33m)\u001b[0m\u001b[1;33m==\u001b[0m\u001b[1;36m0\u001b[0m\u001b[1;33m]\u001b[0m\u001b[1;33m\u001b[0m\u001b[1;33m\u001b[0m\u001b[0m\n\u001b[0m",
      "\u001b[1;31mNameError\u001b[0m: name 'nutridattta' is not defined"
     ]
    }
   ],
   "source": [
    "verification_index = data[selected_fields]\n",
    "verification_index = nutridattta.loc[(nutridattta.isnull()).sum(axis=1)==0]\n"
   ]
  },
  {
   "cell_type": "markdown",
   "metadata": {},
   "source": [
    "### Calculation of negative points\n",
    "\n",
    "We attribute Negative points (N) to different nutritional factors that have to be limited: energy, sugar, saturated fat and sodium"
   ]
  },
  {
   "cell_type": "code",
   "execution_count": 53,
   "metadata": {},
   "outputs": [],
   "source": [
    "## ENERGY\n",
    "# energy bins\n",
    "energy_bins_without_beverage_fat = [data_without_beverage_fat['energy_100g'].min() - 1, 335, 670, 1005, 1340, 1675, 2010, 2345, 2680, 3015, 3350, data_without_beverage_fat['energy_100g'].max()]\n",
    "energy_bins_fatsauces = [data_fatsauces['energy_100g'].min() - 1, 335, 670, 1005, 1340, 1675, 2010, 2345, 2680, 3015, 3350, data_fatsauces['energy_100g'].max()]\n",
    "energy_bins_beverages = [data_beverages['energy_100g'].min() - 1, 0, 30, 60, 90, 120, 150, 180, 210, 240, 270, data_beverages['energy_100g'].max()]\n",
    "# energy point\n",
    "data_without_beverage_fat['energy_points'] = pd.cut(data_without_beverage_fat['energy_100g'], energy_bins_without_beverage_fat, labels=range(11)).astype(float)\n",
    "data_fatsauces['energy_points'] = pd.cut(data_fatsauces['energy_100g'], energy_bins_fatsauces, labels=range(11)).astype(float)\n",
    "data_beverages['energy_points'] = pd.cut(data_beverages['energy_100g'], energy_bins_beverages, labels=range(11)).astype(float)\n",
    "\n",
    "\n",
    "## SUGAR  \n",
    "# sugar bins\n",
    "sugar_bins_without_beverage_fat = [data_without_beverage_fat['sugars_100g'].min() - 1, 4.5, 9, 13.5, 18, 22.5, 27, 31, 36, 40, 45,  data_without_beverage_fat['sugars_100g'].max()]\n",
    "sugar_bins_fatsauces = [data_fatsauces['sugars_100g'].min() - 1,4.5, 9, 13.5, 18, 22.5, 27, 31, 36, 40, 45, data_fatsauces['sugars_100g'].max()+46]\n",
    "sugar_bins_beverages = [data_beverages['sugars_100g'].min() - 1, 0, 1.5, 3, 4.5, 6, 7.5, 9, 10.5, 12, 13.5, data_beverages['sugars_100g'].max()]\n",
    "# sugar point (CHANGE SUGAR_BINS)\n",
    "data_without_beverage_fat['sugar_points'] = pd.cut(data_without_beverage_fat['sugars_100g'], sugar_bins_without_beverage_fat, labels=range(11)).astype(float)\n",
    "data_fatsauces['sugar_points'] = pd.cut(data_fatsauces['sugars_100g'], sugar_bins_fatsauces, labels=range(11)).astype(float)\n",
    "data_beverages['sugar_points'] = pd.cut(data_beverages['sugars_100g'], sugar_bins_beverages, labels=range(11)).astype(float)\n",
    "\n",
    "\n",
    "## SATURATED FAT\n",
    "# s-fat bins\n",
    "fat_bins_without_beverage_fat = [data_without_beverage_fat['saturated-fat_100g'].min() - 1, 1, 2, 3, 4, 5, 6, 7, 8, 9, 10, data_without_beverage_fat['saturated-fat_100g'].max()]\n",
    "fat_bins_beverages = [data_beverages['saturated-fat_100g'].min() - 1, 1, 2, 3, 4, 5, 6, 7, 8, 9, 10, data_beverages['saturated-fat_100g'].max()]\n",
    "fat_bins_fatsauces = [data_fatsauces['saturated-fat_100g'].min() - 1, 10, 16, 22, 28, 34, 40, 46, 52, 58, 64, data_fatsauces['saturated-fat_100g'].max()]\n",
    "# s-FAT point (CHANGE FAT_BINS)\n",
    "data_without_beverage_fat['saturated-fat_points'] = pd.cut(data_without_beverage_fat['saturated-fat_100g'], fat_bins_without_beverage_fat, labels=range(11)).astype(float)\n",
    "data_beverages['saturated-fat_points'] = pd.cut(data_beverages['saturated-fat_100g'], fat_bins_beverages, labels=range(11)).astype(float)\n",
    "data_fatsauces['saturated-fat_points'] = pd.cut(data_fatsauces['fatsaturated/lipids'], fat_bins_fatsauces, labels=range(11)).astype(float)\n",
    "\n",
    "\n",
    "## SODIUM\n",
    "# sodium bins\n",
    "sodium_bins = [data['sodium_100g'].min() - 1, 0.090, 0.180, 0.270, 0.360, 0.450, 0.540, 0.630, 0.720, 0.810, 0.900, data['sodium_100g'].max()]\n",
    "# sodium points\n",
    "data_without_beverage_fat['sodium_points'] = pd.cut(data_without_beverage_fat['sodium_100g'], sodium_bins, labels=range(11)).astype(float)\n",
    "data_beverages['sodium_points'] = pd.cut(data_beverages['sodium_100g'], sodium_bins, labels=range(11)).astype(float)\n",
    "data_fatsauces['sodium_points'] = pd.cut(data_fatsauces['sodium_100g'], sodium_bins, labels=range(11)).astype(float)\n",
    "\n"
   ]
  },
  {
   "cell_type": "markdown",
   "metadata": {},
   "source": [
    "### Calculation positive points\n",
    "\n",
    "We attribute Positive points (P) to different nutritional factors that have to be promoted: fruit vegetable nuts pourcentage, fibers and proteins."
   ]
  },
  {
   "cell_type": "code",
   "execution_count": 54,
   "metadata": {},
   "outputs": [],
   "source": [
    "# FRUITS\n",
    "# fruits bins\n",
    "fruits_bins_without_beverage_fat = [data_without_beverage_fat['fruits-vegetables-nuts_100g'].min() - 1, 40, 60, 80, data_without_beverage_fat['fruits-vegetables-nuts_100g'].max()]\n",
    "fruits_bins_fatsauces = [data_fatsauces['fruits-vegetables-nuts_100g'].min() - 1, 40, 60, 80, data_fatsauces['fruits-vegetables-nuts_100g'].max()]\n",
    "fruits_bins_beverages = [data_beverages['fruits-vegetables-nuts_100g'].min() - 1, 40, 60, 80, data_beverages['fruits-vegetables-nuts_100g'].max()]\n",
    "# fruits points\n",
    "data_without_beverage_fat['fruits_points'] = pd.cut(data_without_beverage_fat['fruits-vegetables-nuts_100g'], fruits_bins_without_beverage_fat, labels=[0,1,2,5]).astype(float)\n",
    "data_beverages['fruits_points'] = pd.cut(data_beverages['fruits-vegetables-nuts_100g'], fruits_bins_beverages, labels=[0,2,4,10]).astype(float)\n",
    "data_fatsauces['fruits_points'] = pd.cut(data_fatsauces['fruits-vegetables-nuts_100g'], fruits_bins_fatsauces, labels=[0,1,2,5]).astype(float)\n",
    "\n",
    "\n",
    "# FIBRES\n",
    "# fibers bins\n",
    "#fibers_bins = [data['fiber_100g'].min() - 1, 0.7, 1.4, 2.1, 2.8, 3.5, data['fiber_100g'].max()]\n",
    "fibers_bins = [data['fiber_100g'].min() - 1, 0.9, 1.9, 2.8, 3.7, 4.7, data['fiber_100g'].max()]\n",
    "\n",
    "# fibers points\n",
    "data_without_beverage_fat['fiber_points'] = pd.cut(data_without_beverage_fat['fiber_100g'], fibers_bins, labels=range(6)).astype(float)\n",
    "data_beverages['fiber_points'] = pd.cut(data_beverages['fiber_100g'], fibers_bins, labels=range(6)).astype(float)\n",
    "data_fatsauces['fiber_points'] = pd.cut(data_fatsauces['fiber_100g'], fibers_bins, labels=range(6)).astype(float)\n",
    "\n",
    "# PROTEINS\n",
    "# proteins bins\n",
    "proteins_bins = [data['proteins_100g'].min() - 1, 1.6, 3.2, 4.8, 6.4, 8.0, data['proteins_100g'].max()]\n",
    "# proteins points\n",
    "data_without_beverage_fat['proteins_points'] = pd.cut(data_without_beverage_fat['proteins_100g'], proteins_bins, labels=range(6)).astype(float)\n",
    "data_beverages['proteins_points'] = pd.cut(data_beverages['proteins_100g'], proteins_bins, labels=range(6)).astype(float)\n",
    "data_fatsauces['proteins_points'] = pd.cut(data_fatsauces['proteins_100g'], proteins_bins, labels=range(6)).astype(float)\n"
   ]
  },
  {
   "cell_type": "code",
   "execution_count": 55,
   "metadata": {},
   "outputs": [],
   "source": [
    "# rejoin last separated dataframe\n",
    "frames = [data_without_beverage_fat, data_beverages, data_fatsauces]\n",
    "nutridata = pd.concat(frames)"
   ]
  },
  {
   "cell_type": "markdown",
   "metadata": {},
   "source": [
    "### Nutriscore calculation"
   ]
  },
  {
   "cell_type": "markdown",
   "metadata": {},
   "source": [
    "We made the concession to put 0 inplace of Nan of 'fruits_points','fiber_points','proteins_points' if there were missing data in the original database, this will not be a problem we do not substract Positive point.\n",
    "We made this concession to be able to calculate the NS of product, with the missing positive points fill to zero we have a more badly estimation on the NS but still accurate"
   ]
  },
  {
   "cell_type": "code",
   "execution_count": 56,
   "metadata": {},
   "outputs": [],
   "source": [
    "nutridata['fruits_points'] = nutridata['fruits_points'].fillna(0)\n",
    "nutridata['fiber_points'] = nutridata['fiber_points'].fillna(0)\n",
    "nutridata['proteins_points'] = nutridata['proteins_points'].fillna(0)"
   ]
  },
  {
   "cell_type": "code",
   "execution_count": 57,
   "metadata": {},
   "outputs": [],
   "source": [
    "# calculation of P x N\n",
    "nutridata['points_N']= nutridata['energy_points'] + nutridata['saturated-fat_points'] + nutridata['sugar_points'] + nutridata['sodium_points']\n",
    "nutridata['points_P'] = nutridata['fruits_points'] + nutridata['fiber_points'] + nutridata['proteins_points']"
   ]
  },
  {
   "cell_type": "code",
   "execution_count": 58,
   "metadata": {},
   "outputs": [],
   "source": [
    "def compute_score(row):\n",
    "    N = row['points_N']\n",
    "    P = row['points_P']\n",
    "    fruit = row['fruits_points']\n",
    "    fiber = row['fiber_points']\n",
    "    cat = row['food_category']\n",
    "        \n",
    "    if N < 11 or cat == 'Dairies':\n",
    "        return N - P\n",
    "    else:\n",
    "        if  fruit == 5:\n",
    "            return N - P\n",
    "        else:\n",
    "            return N - (fiber + fruit)\n",
    "    \n",
    "nutridata['nutri-score_calculated'] = nutridata.apply(compute_score, axis=1)"
   ]
  },
  {
   "cell_type": "markdown",
   "metadata": {},
   "source": [
    "### Convertion of NutriScore into NutriLetter\n"
   ]
  },
  {
   "cell_type": "code",
   "execution_count": 59,
   "metadata": {},
   "outputs": [],
   "source": [
    "# re divided dataframe to allow a simpler transformation of score into letter\n",
    "nutridata_beverages = nutridata[ (nutridata['food_category']=='Beverages') & (nutridata['iswater']!=True)]\n",
    "nutridata_not_beverages = nutridata[ nutridata['food_category']!='Beverages']\n",
    "nutridata_beverages_water = nutridata[ (nutridata['food_category']=='Beverages') & (nutridata['iswater']==True)]"
   ]
  },
  {
   "cell_type": "code",
   "execution_count": 60,
   "metadata": {},
   "outputs": [
    {
     "name": "stderr",
     "output_type": "stream",
     "text": [
      "C:\\Users\\Yann Schilling\\Anaconda3\\envs\\ada\\lib\\site-packages\\ipykernel_launcher.py:9: SettingWithCopyWarning: \n",
      "A value is trying to be set on a copy of a slice from a DataFrame.\n",
      "Try using .loc[row_indexer,col_indexer] = value instead\n",
      "\n",
      "See the caveats in the documentation: http://pandas.pydata.org/pandas-docs/stable/user_guide/indexing.html#returning-a-view-versus-a-copy\n",
      "  if __name__ == '__main__':\n",
      "C:\\Users\\Yann Schilling\\Anaconda3\\envs\\ada\\lib\\site-packages\\ipykernel_launcher.py:10: SettingWithCopyWarning: \n",
      "A value is trying to be set on a copy of a slice from a DataFrame.\n",
      "Try using .loc[row_indexer,col_indexer] = value instead\n",
      "\n",
      "See the caveats in the documentation: http://pandas.pydata.org/pandas-docs/stable/user_guide/indexing.html#returning-a-view-versus-a-copy\n",
      "  # Remove the CWD from sys.path while we load stuff.\n",
      "C:\\Users\\Yann Schilling\\Anaconda3\\envs\\ada\\lib\\site-packages\\ipykernel_launcher.py:11: SettingWithCopyWarning: \n",
      "A value is trying to be set on a copy of a slice from a DataFrame.\n",
      "Try using .loc[row_indexer,col_indexer] = value instead\n",
      "\n",
      "See the caveats in the documentation: http://pandas.pydata.org/pandas-docs/stable/user_guide/indexing.html#returning-a-view-versus-a-copy\n",
      "  # This is added back by InteractiveShellApp.init_path()\n"
     ]
    }
   ],
   "source": [
    "# NUTRILETTER\n",
    "\n",
    "#letter bins\n",
    "letter_bins_aliments = [nutridata['nutri-score_calculated'].min() - 1, -1, 2, 10, 18, nutridata['nutri-score_calculated'].max()]\n",
    "letter_bins_beverages = [nutridata['nutri-score_calculated'].min() - 1, 2, 5, 9, nutridata['nutri-score_calculated'].max()]\n",
    "letter_bins_beverages_water = [nutridata['nutri-score_calculated'].min() - 1, nutridata['nutri-score_calculated'].max()]\n",
    "\n",
    "#letter\n",
    "nutridata_not_beverages['nutri-score_letter_CALCULATED'] = pd.cut(nutridata_not_beverages['nutri-score_calculated'], letter_bins_aliments, labels=['a','b','c','d','e'])\n",
    "nutridata_beverages['nutri-score_letter_CALCULATED'] = pd.cut(nutridata_beverages['nutri-score_calculated'], letter_bins_beverages, labels=['b','c','d','e'])\n",
    "nutridata_beverages_water['nutri-score_letter_CALCULATED'] = pd.cut(nutridata_beverages_water['nutri-score_calculated'], letter_bins_beverages_water, labels=['a'])\n"
   ]
  },
  {
   "cell_type": "code",
   "execution_count": 61,
   "metadata": {},
   "outputs": [
    {
     "data": {
      "text/plain": [
       "324045"
      ]
     },
     "execution_count": 61,
     "metadata": {},
     "output_type": "execute_result"
    }
   ],
   "source": [
    "nutriframes = [nutridata_not_beverages, nutridata_beverages, nutridata_beverages_water]\n",
    "nutridata = pd.concat(nutriframes)\n",
    "\n",
    "nutridata['nutri-score_letter_CALCULATED'].value_counts().sum()"
   ]
  },
  {
   "cell_type": "markdown",
   "metadata": {},
   "source": [
    "At the end of this process of NS calculation we obtain a NS for 315k product"
   ]
  },
  {
   "cell_type": "markdown",
   "metadata": {},
   "source": [
    "### Visualisation of proportion of NutriLetter label for each Food Category"
   ]
  },
  {
   "cell_type": "code",
   "execution_count": 62,
   "metadata": {},
   "outputs": [
    {
     "data": {
      "image/png": "[encoded data removed]",
      "text/plain": [
       "<Figure size 576x576 with 1 Axes>"
      ]
     },
     "metadata": {
      "needs_background": "light"
     },
     "output_type": "display_data"
    }
   ],
   "source": [
    "lettercounts =nutridata.groupby(['food_category','nutri-score_letter_CALCULATED']).count()['nutri-score_calculated']\n",
    "\n",
    "plt.figure(figsize=(8,8))\n",
    "ax=plt.gca()\n",
    "\n",
    "lettercounts.unstack().div(lettercounts.unstack().sum(axis=1)/100,axis=0).plot.bar(ax=ax,stacked=True)\n",
    "plt.legend(loc='center left')\n",
    "plt.title(\"Normalized Bar Plot of Nutrition Grade for each Category\",fontsize=20);\n",
    "plt.xlabel(\"Food Category\");\n",
    "plt.ylabel(\"Nutrition Grade Percentage\");"
   ]
  },
  {
   "cell_type": "markdown",
   "metadata": {},
   "source": [
    "## Comparation nutriletter rawdata vs calculated"
   ]
  },
  {
   "cell_type": "markdown",
   "metadata": {},
   "source": [
    "Firstly we compare the calculated NS of the products with zero missing nutritional values"
   ]
  },
  {
   "cell_type": "code",
   "execution_count": 63,
   "metadata": {},
   "outputs": [
    {
     "name": "stderr",
     "output_type": "stream",
     "text": [
      "C:\\Users\\Yann Schilling\\Anaconda3\\envs\\ada\\lib\\site-packages\\pandas\\core\\indexing.py:1418: FutureWarning: \n",
      "Passing list-likes to .loc or [] with any missing label will raise\n",
      "KeyError in the future, you can use .reindex() as an alternative.\n",
      "\n",
      "See the documentation here:\n",
      "https://pandas.pydata.org/pandas-docs/stable/user_guide/indexing.html#deprecate-loc-reindex-listlike\n",
      "  return self._getitem_tuple(key)\n"
     ]
    },
    {
     "name": "stdout",
     "output_type": "stream",
     "text": [
      "939444 products have all the features non Nan and 222196 have the same letter calculated compare to the Nutrigrade already given that represent 23.65% of accuraty with the calculation methods\n"
     ]
    }
   ],
   "source": [
    "verification = nutridata.loc[verification_index.index,:]\n",
    "size_with_all_features = len (verification)\n",
    "size_same_letter = len(verification[verification['nutri-score_letter_CALCULATED']==verification['nutrition_grade_fr']])\n",
    "print(\"{} products have all the features non Nan and {} have the same letter calculated compare to the Nutrigrade already given \\\n",
    "that represent {:.2f}% of accuraty with the calculation methods\".format(size_with_all_features,size_same_letter,size_same_letter/size_with_all_features*100))"
   ]
  },
  {
   "cell_type": "markdown",
   "metadata": {},
   "source": [
    "We saw that this this calculation process 95% of NS are identical meanning that we can apply on all the products"
   ]
  },
  {
   "cell_type": "markdown",
   "metadata": {},
   "source": [
    "Secondly we compare the calculated NS of the products with missing nutritional values"
   ]
  },
  {
   "cell_type": "code",
   "execution_count": 64,
   "metadata": {},
   "outputs": [
    {
     "name": "stdout",
     "output_type": "stream",
     "text": [
      "For products with missing values we obtain 86.81% accuracy between the calculated NS and the one given\n"
     ]
    }
   ],
   "source": [
    "product_2nutriletter =len(nutridata[(nutridata['nutri-score_letter_CALCULATED'].notnull()) & (nutridata['nutrition_grade_fr'].notnull())])\n",
    "product_samenutriletter =len(nutridata[(nutridata['nutri-score_letter_CALCULATED'].notnull()) & (nutridata['nutrition_grade_fr'].notnull()) & (nutridata['nutri-score_letter_CALCULATED']==nutridata['nutrition_grade_fr'])])\n",
    "print(\"For products with missing values we obtain {:.2f}% accuracy between the calculated NS and the one given\".format(product_samenutriletter/product_2nutriletter*100))"
   ]
  },
  {
   "cell_type": "markdown",
   "metadata": {},
   "source": [
    "We now check why some product have different Nutri-score "
   ]
  },
  {
   "cell_type": "code",
   "execution_count": 65,
   "metadata": {},
   "outputs": [
    {
     "data": {
      "text/html": [
       "<div>\n",
       "<style scoped>\n",
       "    .dataframe tbody tr th:only-of-type {\n",
       "        vertical-align: middle;\n",
       "    }\n",
       "\n",
       "    .dataframe tbody tr th {\n",
       "        vertical-align: top;\n",
       "    }\n",
       "\n",
       "    .dataframe thead th {\n",
       "        text-align: right;\n",
       "    }\n",
       "</style>\n",
       "<table border=\"1\" class=\"dataframe\">\n",
       "  <thead>\n",
       "    <tr style=\"text-align: right;\">\n",
       "      <th></th>\n",
       "      <th>product_name</th>\n",
       "      <th>food_category</th>\n",
       "      <th>nutrition_grade_fr</th>\n",
       "      <th>nutri-score_letter_CALCULATED</th>\n",
       "    </tr>\n",
       "  </thead>\n",
       "  <tbody>\n",
       "    <tr>\n",
       "      <td>17</td>\n",
       "      <td>Tarte noix de coco</td>\n",
       "      <td>Snacks</td>\n",
       "      <td>d</td>\n",
       "      <td>d</td>\n",
       "    </tr>\n",
       "    <tr>\n",
       "      <td>25</td>\n",
       "      <td>Compote de poire</td>\n",
       "      <td>Fruits Vegetables</td>\n",
       "      <td>a</td>\n",
       "      <td>c</td>\n",
       "    </tr>\n",
       "    <tr>\n",
       "      <td>51</td>\n",
       "      <td>Abondance</td>\n",
       "      <td>Dairies</td>\n",
       "      <td>d</td>\n",
       "      <td>d</td>\n",
       "    </tr>\n",
       "    <tr>\n",
       "      <td>53</td>\n",
       "      <td>cuisse de poulet direct au four curry</td>\n",
       "      <td>Fish Meat Eggs</td>\n",
       "      <td>c</td>\n",
       "      <td>c</td>\n",
       "    </tr>\n",
       "    <tr>\n",
       "      <td>54</td>\n",
       "      <td>Bagel</td>\n",
       "      <td>Starchy</td>\n",
       "      <td>b</td>\n",
       "      <td>b</td>\n",
       "    </tr>\n",
       "  </tbody>\n",
       "</table>\n",
       "</div>"
      ],
      "text/plain": [
       "                             product_name      food_category  \\\n",
       "17                     Tarte noix de coco             Snacks   \n",
       "25                       Compote de poire  Fruits Vegetables   \n",
       "51                              Abondance            Dairies   \n",
       "53  cuisse de poulet direct au four curry     Fish Meat Eggs   \n",
       "54                                  Bagel            Starchy   \n",
       "\n",
       "   nutrition_grade_fr nutri-score_letter_CALCULATED  \n",
       "17                  d                             d  \n",
       "25                  a                             c  \n",
       "51                  d                             d  \n",
       "53                  c                             c  \n",
       "54                  b                             b  "
      ]
     },
     "execution_count": 65,
     "metadata": {},
     "output_type": "execute_result"
    }
   ],
   "source": [
    "#nutri_df = nutridata[(nutridata['nutri-score_letter_CALCULATED'].notnull()) & (nutridata['nutrition_grade_fr'].notnull()) & (nutridata['nutri-score_letter_CALCULATED']!=nutridata['nutrition_grade_fr'])][['product_name','food_category','nutrition_grade_fr','nutri-score_letter_CALCULATED']]\n",
    "nutri_df = nutridata[(nutridata['nutri-score_letter_CALCULATED'].notnull()) & (nutridata['nutrition_grade_fr'].notnull()) ][['product_name','food_category','nutrition_grade_fr','nutri-score_letter_CALCULATED']]\n",
    "nutri_df.head()"
   ]
  },
  {
   "cell_type": "code",
   "execution_count": 69,
   "metadata": {},
   "outputs": [
    {
     "data": {
      "text/plain": [
       "product_name                     Organic Mung Beans\n",
       "food_category                               Starchy\n",
       "energy_100g                                    1477\n",
       "sugars_100g                                     NaN\n",
       "saturated-fat_100g                              NaN\n",
       "fat_100g                                       0.98\n",
       "sodium_100g                                 0.02032\n",
       "fruits-vegetables-nuts_100g                     NaN\n",
       "fiber_100g                                     15.7\n",
       "proteins_100g                                 23.53\n",
       "nutrition-score-uk_100g                         NaN\n",
       "nutrition_grade_fr                              NaN\n",
       "iswater                                         NaN\n",
       "fatsaturated/lipids                             NaN\n",
       "energy_points                                     4\n",
       "sugar_points                                    NaN\n",
       "saturated-fat_points                            NaN\n",
       "sodium_points                                     0\n",
       "fruits_points                                     0\n",
       "fiber_points                                      5\n",
       "proteins_points                                   5\n",
       "points_N                                        NaN\n",
       "points_P                                         10\n",
       "nutri-score_calculated                          NaN\n",
       "nutri-score_letter_CALCULATED                   NaN\n",
       "Name: 157, dtype: object"
      ]
     },
     "execution_count": 69,
     "metadata": {},
     "output_type": "execute_result"
    }
   ],
   "source": [
    "nutridata.iloc[24,:]"
   ]
  },
  {
   "cell_type": "markdown",
   "metadata": {},
   "source": [
    "For the product n°24 a 'Compote de poire' we saw that the missing value in 'fruits-vegetables-nuts_100g' features is the problem with no positive point substract."
   ]
  },
  {
   "cell_type": "markdown",
   "metadata": {},
   "source": [
    "We can know quantify for how many products we have calculated the nutriscore without the NS in their original features"
   ]
  },
  {
   "cell_type": "code",
   "execution_count": 70,
   "metadata": {},
   "outputs": [
    {
     "name": "stdout",
     "output_type": "stream",
     "text": [
      "We have added 68082 Nutri-score in the dataset, representing an increase of 26.25%\n"
     ]
    }
   ],
   "source": [
    "NS_given = len(nutridata[ (nutridata['nutrition_grade_fr'].notnull())])\n",
    "NS_calculated =len(nutridata[(nutridata['nutri-score_letter_CALCULATED'].notnull()) & (nutridata['nutrition_grade_fr'].isnull())])\n",
    "print(\"We have added {} Nutri-score in the dataset, representing an increase of {:.2f}%\".format(NS_calculated,NS_calculated/NS_given*100))\n",
    "      \n",
    "      "
   ]
  },
  {
   "cell_type": "code",
   "execution_count": 71,
   "metadata": {},
   "outputs": [],
   "source": [
    "nutri_df['NG_fr'] = pd.factorize(nutri_df['nutrition_grade_fr'], sort=True)[0] + 1\n",
    "nutri_df['NG_calc'] = pd.factorize(nutri_df['nutri-score_letter_CALCULATED'], sort=True)[0] + 1"
   ]
  },
  {
   "cell_type": "code",
   "execution_count": 72,
   "metadata": {},
   "outputs": [],
   "source": [
    "nutri_df['Diff'] = (nutri_df['NG_fr'] - nutri_df['NG_calc'])"
   ]
  },
  {
   "cell_type": "code",
   "execution_count": 73,
   "metadata": {},
   "outputs": [
    {
     "data": {
      "text/plain": [
       "<matplotlib.axes._subplots.AxesSubplot at 0x261916ac048>"
      ]
     },
     "execution_count": 73,
     "metadata": {},
     "output_type": "execute_result"
    },
    {
     "data": {
      "image/png": "[encoded data removed]",
      "text/plain": [
       "<Figure size 432x288 with 1 Axes>"
      ]
     },
     "metadata": {
      "needs_background": "light"
     },
     "output_type": "display_data"
    }
   ],
   "source": [
    "nutri_df.drop(['product_name', 'nutrition_grade_fr', 'nutri-score_letter_CALCULATED'], axis = 1).groupby('food_category').mean().plot(kind='bar')"
   ]
  },
  {
   "cell_type": "markdown",
   "metadata": {},
   "source": [
    "-------------------------------------------\n",
    "# Diet Study \n",
    "\n",
    "In this part, we are interested in diet classifications according to information we took from some useful columns of the datasetsuch as _categories_, _labels_en_, _ingredients_text_ and _product_name_.\n",
    "5 diets will be found using our classification strategy, among them we have: \n",
    "* Vegetarian diet\n",
    "* Vegetalian diet\n",
    "* Gluten-free diet\n",
    "* Lactose-free diet\n",
    "* Ketogenic diet\n",
    "\n",
    "Our classification strategy rely on the following principle: \n",
    ">Since diets are mostly defined by forbidden food depending on the diets, we manage to find forbidden words presents in those columns in order to be able to state that the corresponding product doesn't belong to the specific diet in question. To do so, we managed to create some lists of forbidden words for each diet, and for each concerned columns, we will call them ___notRegimes_lists___. An exception occurs when dealing with the _labels_en_ column, since the informations found in this column directly correspond to the specific diet in which belong the product, such as __gluten-free__, __lactose-free__ or __vegetarian__ or __vegan__ (which stand for vegetalian diet). Therefore, list of accepted words are created to treat this column. Those accepted words will directly state if the product belong to the diet or not. We will call those lists ___isRegimes_lists___"
   ]
  },
  {
   "cell_type": "markdown",
   "metadata": {},
   "source": [
    "## Data cleaning preprocess\n",
    "\n",
    "The first step of our diet study is indeed to preprocess the column of interest in order to reduce the vocabulary of this column. Indeed, since we want to create the lists manually, we want to minimize the number of words we want to look at by stemming or lemmentize them for example. "
   ]
  },
  {
   "cell_type": "markdown",
   "metadata": {},
   "source": [
    "### Helper functions for data cleaning preprocess"
   ]
  },
  {
   "cell_type": "code",
   "execution_count": 74,
   "metadata": {},
   "outputs": [],
   "source": [
    "def clean_data(data, column_to_clean, stop_words, tokenizer, wordnet_lemmatizer, saving=False, langdetec=False, tokenize=False, stemming=False, \\\n",
    "               lemmatizing=False, onlyEngStemmer=False, onlyFrStemmer=False, applyNounFilter=False):\n",
    "    \"\"\"function that appeals all cleaning methods depending of the booleans stated above. The parameters of this function are the following one\n",
    "        - data = pandas dataframe containing the column of interest in particular\n",
    "        - column_to_clean = string corresponding to the name of the column to clean\n",
    "        - stop_words = stop words to remove during the tokenization process\n",
    "        - tokenizer = tokenizer used to tokenize the column of interest\n",
    "        - wordnet_lemmatizer = lemmatizer used to lemmatize the tokens\n",
    "        - saving = boolean to set to True in order to save the preprocess outputs in pickle format\n",
    "        - langdetec = boolean to set to True in order to detect the language used in each cell of the corresponding column\n",
    "        - tokenize = boolean to set to True in order to tokenize the column\n",
    "        - stemming = boolean to set to True in order to stem the column\n",
    "        - lemmatizing = boolean to set to True in order to lemmatize the column\n",
    "        - onlyEngStemmer = boolean to set to True in order to stem the column only with an english stemmer \n",
    "                           (used in cases we didn't detect the language)\n",
    "        - onlyEngStemmer = boolean to set to True in order to stem the column only with an french stemmer \n",
    "                           (used in cases we didn't detect the language)\n",
    "        - applyNounFilter = boolean to set to True in order to keep only tokens corresponding to noun.\n",
    "    \"\"\"\n",
    "    cleaned_data = pd.DataFrame()    \n",
    "    cleaned_data[column_to_clean] = data[column_to_clean].copy()\n",
    "    \n",
    "    if langdetec:\n",
    "        cleaned_data[\"languages\"] = data[data[column_to_clean].notnull()][column_to_clean].apply(language_detection)\n",
    "        #We found all the languages disponibles for stemming, and mapped the corresponding name to the ISO_code found by langdetect.detect\n",
    "        cleaned_data[\"languages\"] = cleaned_data[\"languages\"].map({\"ar\": \"arabic\", \"da\": \"danish\", \"nl\" : \"dutch\", \"en\": \"english\", \"fi\": \"finnish\", \"fr\": \"french\", \"de\": \"german\", \\\n",
    "                                  \"hu\": \"hungarian\", \"it\": \"italian\", \"no\": \"norwegian\", \"ro\": \"romanian\", \"ru\" : \"russian\", \"es\": \"spanish\", \\\n",
    "                                  \"sv\" :\"swedish\"})\n",
    "        if saving:\n",
    "            cleaned_data.to_pickle(\"saved_process/processed_pickles/\"+str(column_to_clean)+\"/out_langdetect.pkl\")\n",
    "       \n",
    "    if tokenize:\n",
    "        #tokenize column_to_clean : --> stemming + lemmatization need list of tokens\n",
    "        cleaned_data[column_to_clean] = tokenize_data(cleaned_data[column_to_clean], stop_words, tokenizer, applyNounFilter)\n",
    "        if saving:\n",
    "            cleaned_data.to_pickle(\"saved_process/processed_pickles/\"+str(column_to_clean)+\"/out_token.pkl\")\n",
    "    else: \n",
    "        cleaned_data = pd.read_pickle(\"saved_process/processed_pickles/\"+str(column_to_clean)+\"/out_token.pkl\") \n",
    "    \n",
    "    if stemming:\n",
    "        #For stemming, langdetection as to be made previously preferentially, except in cases in which the majority of the column is\n",
    "        #written in english (onlyEngStemmer=True), or in french (onlyFrStemmer=True)\n",
    "        if (not(langdetec or onlyEngStemmer or onlyFrStemmer)):\n",
    "            lang_data = pd.read_pickle(\"saved_process/processed_pickle/\"+str(column_to_clean)+\"/out_langdetect.pkl\")\n",
    "            cleaned_data[\"languages\"] = lang_data[\"languages\"].copy()\n",
    "        \n",
    "        cleaned_data = stemming_data(cleaned_data, column_to_clean, onlyEngStemmer, onlyFrStemmer)\n",
    "        if saving:\n",
    "            cleaned_data.to_pickle(\"saved_process/processed_pickles/\"+str(column_to_clean)+\"/out_stem.pkl\")  \n",
    "            \n",
    "    elif lemmatizing: \n",
    "        #lemmatizing only works well for english words\n",
    "        cleaned_data = lemmatizing_data(cleaned_data, column_to_clean, wordnet_lemmatizer)\n",
    "        if saving: \n",
    "            cleaned_data.to_pickle(\"saved_process/processed_pickles/\"+str(column_to_clean)+\"/out_lem\")    \n",
    "\n",
    "    return cleaned_data\n",
    "\n",
    "def filter_nountag(tokenlist_cell):\n",
    "    \"\"\"Function used to only wanted tag from the list of tokens passed in parameters.\n",
    "        we choose to keep: \n",
    "        - NN : nouns, singular or mass \n",
    "        - NNS : noun,plural \n",
    "        - NNP : proper noun\"\"\"\n",
    "    \n",
    "    postag_cell = pos_tag(tokenlist_cell)\n",
    "    postag_cell_filtered = [tag for tag in postag_cell if ((tag[1]=='NNS') or (tag[1] == 'NN') or (tag[1] == \"NNP\"))]\n",
    "    tokenlist_cell = [tag[0] for tag in postag_cell_filtered]\n",
    "    \n",
    "    return tokenlist_cell\n",
    "\n",
    "def tokenize_data(data_column, stop_words, tokenizer, applyNounFilter = False):\n",
    "    \"\"\"Clean data, i.e. \n",
    "        - lower each words in the cells of data_column\n",
    "        - tokenize cells of data_column, i.e. from float type create list of string (token)\n",
    "        - remove stopwords for the list of tokens for each cells of data_column\n",
    "        - keep only tokens with tag = NN (noun), or NNS (noun, plural)\n",
    "    \"\"\"  \n",
    "    data_column = data_column[data_column.notnull()].str.lower() \\\n",
    "            .apply(str) \\\n",
    "            .apply(tokenizer.tokenize) \\\n",
    "            .apply(lambda cell : [item for item in cell if item not in stop_words]) \n",
    "    if applyNounFilter:\n",
    "        data_column = data_column[data_column.notnull()].apply(filter_nountag)\n",
    "    \n",
    "    return data_column\n",
    "\n",
    "def language_detection(category_cell): \n",
    "    \"\"\"take a cell containing a string from the unprocessed dataframe and detect the language used in it\"\"\"\n",
    "    tmp_cell = str()\n",
    "    tmp_cell = category_cell\n",
    "    \n",
    "    #supress numbers in string\n",
    "    tmp_cell = tmp_cell.replace('\\d+', '')\n",
    "    #supress punctuations\n",
    "    tmp_cell = re.sub(r'[^\\w\\s]','', tmp_cell)\n",
    "    #remove spaces in string\n",
    "    tmp_cell = ''.join(tmp_cell.split())\n",
    "    \n",
    "    #check if the string contain only letters (we got an error cause a cell contained : 🍩) \n",
    "    if tmp_cell.isalpha():\n",
    "        language = detect(category_cell)\n",
    "        return detect(category_cell)\n",
    "    else: \n",
    "        return None\n",
    "\n",
    "def stemming_data(df, serie_tokenlist, onlyEngStemmer = False, onlyFrStemmer=False):\n",
    "    \"\"\"Function used to stem the tokens of the column of interest,\n",
    "       Take as argument in particular : \n",
    "        - df = pandas dataframe containing a serie of tokenlist\n",
    "        - serie_tokenlist = string name of the serie of tokenlist to stem\n",
    "        If the onlyEngStemmer & OnlyFrStemmer are set to false, the dataframe must contain a column \"language\" containing the corresponding\n",
    "        language name used in each cell of the serie containing lists of tokens. \n",
    "    \"\"\"\n",
    "    \n",
    "    if onlyEngStemmer: \n",
    "        stemmer = SnowballStemmer(\"english\")\n",
    "    elif onlyFrStemmer:\n",
    "        stemmer = SnowballStemmer(\"french\")\n",
    "    \n",
    "    #In order to recurrently stem 2 times\n",
    "    for i in [1, 1]:  \n",
    "        for index, row in tqdm(df.loc[df[serie_tokenlist].notnull()].iterrows(), total=df.loc[df[serie_tokenlist].notnull()].shape[0]):\n",
    "            if (onlyEngStemmer==False and onlyFrStemmer==False): \n",
    "                stemmer = SnowballStemmer(row[\"languages\"])\n",
    "            \n",
    "            df.loc[index,serie_tokenlist] = [stemmer.stem(token) for token in row[serie_tokenlist]]\n",
    "     \n",
    "    return df\n",
    "\n",
    "def lemmatizing_data(df, serie_tokenlist, wordnet_lemmatizer):\n",
    "    \"\"\"Function used to lemmatize a pandas serie containing lists of tokens\n",
    "        - serie_tokenlist = string name of the serie of tokenlist to lemmatize\n",
    "        - df = dataframe containing \"serie_tokenlist\" column\n",
    "        \"\"\"\n",
    "    for index, row in tqdm(df.loc[df[serie_tokenlist].notnull()].iterrows(), total=df.loc[df[serie_tokenlist].notnull()].shape[0]):\n",
    "        df.loc[index,serie_tokenlist] =  [wordnet_lemmatizer.lemmatize(token, pos=\"n\") for token in row[serie_tokenlist]]\n",
    "        #if u lemmatize verbs --> pos = \"-v\"\n",
    "    return df\n"
   ]
  },
  {
   "cell_type": "markdown",
   "metadata": {},
   "source": [
    "## Data cleaning initialization\n"
   ]
  },
  {
   "cell_type": "code",
   "execution_count": 75,
   "metadata": {},
   "outputs": [],
   "source": [
    "#StopWords and Tokenizer Object initialization\n",
    "stop_words = set(stopwords.words(\"french\")).union(set(stopwords.words(\"english\"))) #will remove only english and french stopwords\n",
    "tokenizer = RegexpTokenizer(r'\\w+')\n",
    "wordnet_lemmatizer = WordNetLemmatizer()"
   ]
  },
  {
   "cell_type": "markdown",
   "metadata": {},
   "source": [
    "## Cleaning _categories_, _labels_en_, _product_name_, _ingredients_text_  columns\n",
    "\n",
    "We first clean the above mentionned columns and save the result in pickle format. We would use those pickle format in order to create dictionnaries specific for each columns"
   ]
  },
  {
   "cell_type": "markdown",
   "metadata": {},
   "source": [
    "### If columns have to be cleaned\n",
    "\n",
    "The cell below aims to clean columns and save outputs of each steps of the cleaning in pickle format. \n",
    ">create a folder in __processed_pickle/__ for each column to clean which has the corresponding name, e.g. __processed_pickle/categories/__ for the categories preprocessing output. Basically those folders will contain pickles to be save. "
   ]
  },
  {
   "cell_type": "code",
   "execution_count": 9,
   "metadata": {},
   "outputs": [
    {
     "name": "stderr",
     "output_type": "stream",
     "text": [
      "100%|████████████████████████████████████████████████████████████████████████| 931987/931987 [6:52:35<00:00, 37.65it/s]\n",
      "100%|████████████████████████████████████████████████████████████████████████| 931987/931987 [7:58:48<00:00, 32.44it/s]\n"
     ]
    }
   ],
   "source": [
    "#columns = [\"categories\", \"labels_en\", \"product_name\", \"ingredients_text\"]\n",
    "save = True\n",
    "columns = [\"product_name\"]\n",
    "\n",
    "for column in columns: \n",
    "    \n",
    "    if column==\"categories\":\n",
    "        #we tried language detection on categories column since the language used on this column in order to applied corresponding stemmer\n",
    "        langdetect_data = clean_data(data, column, stop_words, tokenizer, wordnet_lemmatizer, saving=save, langdetec=True)\n",
    "        #lemmatize --> not very good since it does not consider language (only good for english) so we didn't used it for the updated version of the dataset\n",
    "        lem_data = clean_data(data, column, stop_words, tokenizer, wordnet_lemmatizer, saving=save, lemmatizing=True)\n",
    "    \n",
    "    #tokenization\n",
    "    tok_data = clean_data(data, column, stop_words, tokenizer, wordnet_lemmatizer, saving=save, tokenize=True, applyNounFilter=True)\n",
    "    \n",
    "    #stemming --> good since it consider language\n",
    "    if column==\"product_name\" or column==\"ingredients_text\":\n",
    "        #product_name contains mostly french words, \n",
    "        #ingredients_text contains english and french words but since the dataset is mostly written in french we chose to use only french stemmer\n",
    "        stem_data = clean_data(data, column, stop_words, tokenizer, wordnet_lemmatizer, saving=save, stemming=True, onlyFrStemmer=True)\n",
    "    elif column==\"labels_en\":\n",
    "        #labels_en contains mostly english words\n",
    "        stem_data = clean_data(data, column, stop_words, tokenizer, wordnet_lemmatizer, saving=save, stemming=True, onlyEngStemmer=True)\n",
    "    else:\n",
    "        stem_data = clean_data(data, column, stop_words, tokenizer, wordnet_lemmatizer, saving=save, stemming=True)"
   ]
  },
  {
   "cell_type": "markdown",
   "metadata": {},
   "source": [
    ">Language detection has only be made for the stemming of column _categories_ since it his computationnally expensive and most of the data is written in english or french."
   ]
  },
  {
   "cell_type": "markdown",
   "metadata": {},
   "source": [
    "### If columns already cleaned and saved in pkl\n",
    "\n",
    "Loading of the preprocessing outputs"
   ]
  },
  {
   "cell_type": "code",
   "execution_count": 78,
   "metadata": {},
   "outputs": [],
   "source": [
    "column = \"categories\"\n",
    "langdetect_data = pd.read_pickle(\"saved_process/processed_pickles/\"+column+\"/out_langdetect.pkl\")\n",
    "categories_tok = pd.read_pickle(\"saved_process/processed_pickles/\"+column+\"/out_token.pkl\") \n",
    "categories_stem = pd.read_pickle(\"saved_process/processed_pickles/\"+column+\"/out_stem.pkl\") \n",
    "\n",
    "column = \"labels_en\"\n",
    "labels_tok = pd.read_pickle(\"saved_process/processed_pickles/\"+column+\"/out_token.pkl\")\n",
    "labels_stem = pd.read_pickle(\"saved_process/processed_pickles/\"+column+\"/out_stem.pkl\")\n",
    "\n",
    "column = \"ingredients_text\"\n",
    "ingredients_tok = pd.read_pickle(\"saved_process/processed_pickles/\"+column+\"/out_token.pkl\")\n",
    "ingredients_stem = pd.read_pickle(\"saved_process/processed_pickles/\"+column+\"/out_stem.pkl\")\n",
    "\n",
    "column = \"product_name\"\n",
    "product_tok = pd.read_pickle(\"saved_process/processed_pickles/\"+column+\"/out_token.pkl\")\n"
   ]
  },
  {
   "cell_type": "markdown",
   "metadata": {},
   "source": [
    "### CSV file creation \n",
    "The cell below aims to create the .csv files containing each dictionnary containing the word occuring at least __occ_nb__ times"
   ]
  },
  {
   "cell_type": "code",
   "execution_count": 15,
   "metadata": {},
   "outputs": [],
   "source": [
    "# csv file creation in order to create lists of forbidden or approved word depending on the column\n",
    "save = False\n",
    "#categories\n",
    "occ_nb=500\n",
    "categories_dict = categories_stem[categories_stem[\"categories\"].notnull()][\"categories\"].explode().value_counts()\n",
    "categories_stem500 = pd.Series(data=categories_dict[categories_dict>occ_nb].index)\n",
    "#labels_en\n",
    "occ_nb=1000\n",
    "labelsen_dict = labels_stem[labels_stem[\"labels_en\"].notnull()][\"labels_en\"].explode().value_counts()\n",
    "labelsen_stem1000 = pd.Series(data=labelsen_dict[labelsen_dict>occ_nb].index)\n",
    "#ingredients_text\n",
    "occ_nb=100\n",
    "ingredientstext_dict = ingredients_stem[ingredients_stem[\"ingredients_text\"].notnull()][\"ingredients_text\"].explode().value_counts()\n",
    "ingredientstext_stem100 = pd.Series(data=ingredientstext_dict[ingredientstext_dict>occ_nb].index)\n",
    "#product_name\n",
    "occ_nb=100\n",
    "product_tok_dict = product_tok[product_tok[column].notnull()][column].explode().value_counts()\n",
    "product_name_tokens100 = pd.Series(data=product_tok_dict[product_tok_dict > occ_nb].index)\n",
    "\n",
    "if save:\n",
    "    categories_stem500.to_csv(path_or_buf=\"saved_process/dictionnaries_csv/categories_stem500.csv\", index=False, header=False)\n",
    "    labelsen_stem1000.to_csv(path_or_buf=\"saved_process/dictionnaries_csv/labelsen_stem1000.csv\", index=False, header=False)\n",
    "    ingredientstext_stem100.to_csv(path_or_buf=\"saved_process/dictionnaries_csv/ingredientstext_stem100.csv\", index=False, header=False)\n",
    "    product_name_tokens100.to_csv(path_or_buf=\"saved_process/dictionnaries_csv/product_name_tokens100.csv\", index=False, header=False)\n"
   ]
  },
  {
   "cell_type": "markdown",
   "metadata": {},
   "source": [
    "## Diet isRegime or notRegime list creation\n",
    "From the tokens present in each of the previous dictionnaries, we created the __isRegimes_lists__ and __notRegimes_lists__ for each of the studies columns.\n",
    "\n",
    ">Regarding _ingredients_text_ and _product_name_ columns, we were facing the issue that we couldn't understand the meaning of the several stemmed words. Thus we also included tokenned words to the lists. "
   ]
  },
  {
   "cell_type": "code",
   "execution_count": 80,
   "metadata": {},
   "outputs": [],
   "source": [
    "# CATEGORIES ----------------------------> LISTS OF STEMMED WORDS\n",
    "\n",
    "# general lists \n",
    "viand_list =  ['foi', 'foie', 'steak', 'viand', 'sausag', 'viandes', 'meat', 'beef', 'poisson', 'charcut', 'charcuteries', 'charcuteri', 'poulet', 'poul', 'volaill', 'jambons', 'jambon', 'jam', 'rillet', 'sardin', 'thon', 'steak', 'saumon', 'salmon', 'escalop', 'dind', 'jam', \\\n",
    "               'terrin', 'boudin', 'animal', 'cannard', 'porc', 'lasagn', 'cuiss', 'fish', 'crevet', 'fleisch', 'vach', 'chipolat', 'fisch', 'lardon', 'bacon', 'hareng', 'seafood', 'chicken', 'breb', 'bovin']\n",
    "lactose_list = ['fromag', 'lait', 'yaourt', 'bi', 'écrem', 'cream', 'crem', 'glac', 'milk', 'milks', 'dairi', 'dair', 'dairies', 'beurr', 'milch', 'milchprodukt', 'chee', \\\n",
    "                                'cake', 'crêp', 'bread', 'gâteau' , 'lait', 'butter', 'butt', 'cooki', 'emmental', 'comt', 'camembert', 'margarin', 'kas', 'cheddar', 'yogurt', 'yogur', 'yogurts']\n",
    "gluten_list = ['pât', 'pasta', 'pâtiss', 'past', 'nouill', 'viennois', 'biscuit', 'biscuits', 'sauc', 'sauces', 'charcut', 'charcuteri', 'charcuteries', 'bread', 'crêp', 'gâteau', 'farin', 'farines', 'pizz', 'pizzas', 'cake', 'madelein', \\\n",
    "               'brotaufstrich', 'brot', 'beignet', 'lasagn', 'raviol', 'blé', 'wheat', 'bi', 'pies', 'kuch', 'muffin', 'gaufr', 'gaufret', 'biscott', 'cooki', 'cook', 'brot']\n",
    "fruit_list =  ['fruits','fruit', 'multifruit', 'pomm', 'confitur','nectar', 'nect', 'jus', 'juic','frut', 'sorbet', 'tomat', 'tomato', 'orang', 'compotes', 'marmelad'] \n",
    "legum_list = ['legum', 'légum',  'plant', 'végétal', 'vegetal', 'pflanzlich', 'salad',  'verdur', 'haricot',  'amand', 'veget',  'carott', 'oignon']\n",
    "fat_list = ['huil', 'oil', 'oils', 'fat', 'gras', 'grass'] \n",
    "egg_list = ['mayon', 'mayonnaises', 'mayonnaises', 'moutardes', 'mustard', 'egg', 'œuf']\n",
    "\n",
    "# Vegetarian_NOlist = regimes(0)\n",
    "notVegetarian_categories = viand_list\n",
    "# Lactosefree = regime(3)\n",
    "notLactosefree_categories = lactose_list\n",
    "#Vegan_NOlist = regimes(1)\n",
    "notVegetalian_categories = lactose_list + viand_list + egg_list\n",
    "#Glutenfree = regime(2)\n",
    "notGlutenfree_categories = gluten_list\n",
    "#Ketogenic = regimes(4)\n",
    "notKetogenic_categories = fruit_list + \\\n",
    "                              ['sucr', 'confiseries', 'confiseri', 'confis' , 'nouill', 'semoul', 'legumin', 'légumin', 'potato', 'bean', 'haricot', 'lentill', 'lentill', 'riz', 'pasta', \\\n",
    "                               'pasta', 'milk', 'milks', 'sirop', 'candi', 'jus', 'juic', 'tart', 'marmelad', 'snack', 'snacks', 'biscuit', 'pât', 'confitur', 'chocolat', 'chocolats', 'chocol', \\\n",
    "                               'nectar', 'nect', 'bread', 'chip', 'chips', 'pain', 'miel', 'bonbon', 'compot', 'pâtiss']\n",
    "notRegimes_categories = [notVegetarian_categories, notVegetalian_categories, notGlutenfree_categories, notLactosefree_categories, \\\n",
    "                         notKetogenic_categories]\n",
    "\n",
    "\n",
    "# LABELS_EN ----------------------------> LISTS OF STEMMED WORDS\n",
    "\n",
    "#Ketogenic = regimes(4)\n",
    "isKetogenic_labels_en = []\n",
    "#Lactosefree = regime(3) #since lactose only appears as NO lactose\n",
    "isLactosefree_labels_en = ['lacto']\n",
    "#Glutenfree = regime(2)\n",
    "isGlutenfree_labels_en  = ['gluten'] #since gluten only appear for gluten-free but tokenization reduce it to gluten & free\n",
    "#Vegan_NOlist = regimes(1)\n",
    "isVegetalian_labels_en = ['vegan']\n",
    "#Vegetarian_NOlist = regimes(0)\n",
    "isVegetarian_labels_en = ['vegetarian']\n",
    "\n",
    "isRegimes_labels_en = [isVegetarian_labels_en, isVegetalian_labels_en, isGlutenfree_labels_en, \\\n",
    "                    isLactosefree_labels_en, isKetogenic_labels_en]\n",
    "\n",
    "# INGREDIENTS_TEXT ----------------------------> LISTS OF STEMMED + TOKENIZED WORDS\n",
    "\n",
    "#Ketogenic = regimes(4)\n",
    "notKetogenic_ingredients_text = ['sucr','sucres','sucre','sugar','pât','ric', 'potato', 'barley', 'malted', 'orge', 'ble', 'cornstarch', 'avoin',\\\n",
    "                                 'froment', 'seigl',  'cereal', 'pâtiss', 'patat', 'houblon', 'sarrasin',\\\n",
    "                                 'épeautr', 'bread', 'sucros', 'seigle', 'wheat', 'basmat', 'corn', 'blé', 'pâte', 'riz', 'rice', 'zucker',\\\n",
    "                                 'céréales', 'potatoes', 'pasta', 'pain', 'biscuit', 'basmati', 'macaroni', 'patata', 'patate', 'riso',\\\n",
    "                                 'cereals', 'bière', 'cereales', 'noodles', 'nouilles', 'reis', 'orzo', 'weizenstärke', 'penne', 'ravioli',\\\n",
    "                                 'beer', 'weizen', 'frites', 'gâteau', 'pinda', 'patatas', 'potatis', 'lacto', 'pains',\\\n",
    "                                 'blé', 'avoine', 'orge','riz', 'quinoa', 'soya', 'chiches', 'lentille', 'gâteaux','haricots','miel','soda', ]\n",
    "\n",
    "#Lactosefree = regime(3) \n",
    "notLactosefree_ingredients_text = ['lait', 'milk', 'whey', 'pasteurized', 'lactos', 'lactiqu', 'fromag', 'cheddar', 'lactat', 'lactose',\\\n",
    "                                   'mozzarel', 'mozzarella', 'yogurt', 'emmental', 'lactylat', 'lactosérum', 'yaourt', 'milch', 'fromage',\\\n",
    "                                   'dairy', 'leit', 'cheese', 'pasteurisé', 'leche', 'lactic', 'latte', 'melk', 'leite', 'pasteurizada',\\\n",
    "                                   'pasteurisés', 'lactoserum', 'laitière', 'lactis', 'lactosa', 'laitiers', 'yogourt', 'pasteurised',\\\n",
    "                                   'pasteurisierte', 'feta', 'lactase', 'joghurt', 'gouda', 'laitier', 'mleko', 'cheeses', 'yoghurt',\\\n",
    "                                   'fromages', 'láctico', 'laitières', 'milcheiweiß', 'lalt', 'lattici', 'milchzucker', 'raclette',\\\n",
    "                                   'pasteurisiert', 'laktose', 'milchschokolade', 'pastorizzato', 'lacticos', 'pasteurizat', 'brie',\\\n",
    "                                   'roquefort', 'lactilato', 'cream']\n",
    "#Glutenfree = regime(2)\n",
    "notGlutenfree_ingredients_text = ['wheat', 'blé', 'ble', 'soj', 'soy', 'soybean', 'soja', 'soję', 'soya', 'soybeans', 'soia', 'sojalecithine',\\\n",
    "                                  'sojalecithin', 'lecithin', 'pât', 'orge', 'froment', 'seigl', 'épeautr', 'seigle', 'épeautre', 'epeautre',\\\n",
    "                                 'kamut','seigle','pates','pâtes','pate','pâte','raviolis','ravioli','gnocchi','boulghour','chapelure','pain',\\\n",
    "                                 'biscottes','viennoiseries','beignets','crepes','crêpes', 'gaufres','pâtisseries','biscuits','pané','quiches',\\\n",
    "                                 'cannelloni','hosties','biere','bière','panache','panaché']\n",
    "#Vegetarian = regimes(0)\n",
    "notVegetarian_ingredients_text = ['porc', 'pork', 'por', 'viand', 'viande', 'meat', 'poulet', 'chicken', 'poisson',  'bœuf', 'boeuf', 'beef',\\\n",
    "                                  'jambon', 'vache', 'vach', 'canard', 'foi', 'foie', 'dind', 'dinde', 'cow', 'mollusqu', 'mollusque',\\\n",
    "                                  'mollusques', 'saumon', 'boyau', 'turkey', 'poul', 'bovin', 'volaill', 'volaille', 'poitrin', 'animal',\\\n",
    "                                  'crevet', 'couen', 'couenne', 'bacon', 'poissons', 'thon', 'shrimp', 'chipotl', 'vac', 'veau', 'salmo',\\\n",
    "                                  'fish', 'thicken', 'carn', 'crustacés', 'chèvre', 'bovine', 'os', 'brebis', 'vaca', 'crevettes', 'carne',\\\n",
    "                                  'lard', 'viandes', 'fleisch', 'boeufs', 'steak', 'charcut', 'charcuteries', 'charcuterie', 'poulets', \\\n",
    "                                  'poule', 'poules', 'volailles', 'jambons',  'cerdo', 'lardon', 'lardons', 'schweinefleisch', 'cannard',\\\n",
    "                                  'ancho', 'cabillaud', 'nuggets', 'homard', 'magret', 'harengus', 'porcini', 'colin', 'dindes', 'speck',\\\n",
    "                                  'escargots', 'boudin', 'rillette', 'rillettes', 'saucisse', 'épaule', 'serrano', 'truite', 'salami',\\\n",
    "                                  'poitrine', 'cuisse', 'cuisses', 'agneau', 'merguez', 'crevette', 'merlu', 'hareng', 'chipolata',\\\n",
    "                                  'chipolatas', 'mouton', 'halal', 'kidney', 'chorizo', 'crabe', 'lapin', 'sardines', 'porcine', 'anchois',\\\n",
    "                                  'taurine', 'ham', 'sheep', 'saucisses', 'fillets', 'crab', 'goat', 'crustacé', 'anchovies', 'pollo',\\\n",
    "                                  'couennes', 'morue', 'moules', 'saucisson', 'fisch', 'sardine', 'sardina', 'thuna', 'tuna', 'salmon',\\\n",
    "                                  'seafood', 'maquereaux', 'albacore', 'rib', 'shea', 'crumbs', 'gelatine']\n",
    "#Vegan = regimes(1)\n",
    "notVegetalian_ingredients_text = notVegetarian_ingredients_text + notLactosefree_ingredients_text + \\\n",
    "                                 ['egg', 'eggs', 'œuf', 'œufs', 'oeuf', 'oeufs', 'ceufs', 'honey', 'abeille', 'miel', 'gélatin', 'chevr',\\\n",
    "                                  'chèvre', 'mayon', 'yolks', 'yolk', 'milkfat', 'torula', 'animale', 'animal', 'ceuf', 'beeswax', 'animaux',\\\n",
    "                                  'eufs', 'euf', 'auf', 'miels', 'miele']\n",
    "\n",
    "notRegimes_ingredients_text = [notVegetarian_ingredients_text, notVegetalian_ingredients_text, notGlutenfree_ingredients_text, \\\n",
    "                                notLactosefree_ingredients_text, notKetogenic_ingredients_text]\n",
    "\n",
    "# PRODUCT_NAME ----------------------------> LISTS OF STEMMED + TOKENIZED WORDS\n",
    "\n",
    "#For the column product_name, we used the same list as those obtain for ingredients_text since the vocabulary is very similar. \n",
    "notRegimes_product_name = [notVegetarian_ingredients_text, notVegetalian_ingredients_text, notGlutenfree_ingredients_text, \\\n",
    "                            notLactosefree_ingredients_text, notKetogenic_ingredients_text]"
   ]
  },
  {
   "cell_type": "markdown",
   "metadata": {},
   "source": [
    "## Diet series creation\n",
    "\n",
    "After the creation of our __notRegimes_lists__ (and __isRegimes_lists__ for the column _labels_en_), the next step of our analysis is to create new columns in the dataframes containing informations about the types of diet attributed to each product"
   ]
  },
  {
   "cell_type": "code",
   "execution_count": 81,
   "metadata": {},
   "outputs": [],
   "source": [
    "def isDiet(input_df, split_col, regimes, isRegimes_lists = None, notRegimes_lists = None): \n",
    "    \"\"\"Create isDiet columns (isVegetarian, isVegetalian,...) containing bool cell for each product, True or False. It takes into account either notRegime_lists or isRegime_lists\n",
    "       Takes in particular the following arguments: \n",
    "       - input_df = input dataframe containing in particular the preprocess column split col, ex : labels_en_stem column which contains in each row a list of stemmed words. \n",
    "       - split_col = preprocessed column of interest in which we will analyse the presence of forbidden/wanted word \n",
    "                     in order to set the boolean value telling whether the product belongs to a regime or not. \n",
    "       - regimes = list of the regimes to analyze\n",
    "       - isRegimes_lists = isRegimes_lists of the column of interest\n",
    "       - notRegimes_lists = notRegimes_lists of the column of interest\n",
    "    \"\"\"\n",
    "    data = input_df.copy()\n",
    "    for index, isRegime in enumerate(regimes): \n",
    "        \n",
    "        if ((isRegimes_lists!=None) & (notRegimes_lists==None)):\n",
    "            tmp_data = data.loc[data[split_col].notnull(), split_col].copy()\n",
    "            tmp_diet = tmp_data.apply(lambda token_list : bool(any([token in isRegimes_lists[index] for token in token_list])))\n",
    "            \n",
    "            #If isRegime already exist, just complete the lines still NaN, or Bool that are False --> Only isRegimesList are used here\n",
    "            if isRegime in data.columns:\n",
    "                index1 = data[(data[isRegime]==False) | (data[isRegime].isnull())].index\n",
    "                index2 = tmp_diet.index\n",
    "                data.loc[index1.intersection(index2), isRegime] = tmp_diet.loc[index1.intersection(index2)]\n",
    "            else: \n",
    "                data[isRegime] = tmp_diet\n",
    "            \n",
    "        elif ((isRegimes_lists==None) & (notRegimes_lists!=None)):\n",
    "            tmp_data = data.loc[data[split_col].notnull(), split_col]\n",
    "            tmp_diet = tmp_data.apply(lambda token_list : bool ((any([token in notRegimes_lists[index] for token in token_list])))).apply(lambda boolean: not(boolean))\n",
    "            \n",
    "            #If isRegime already exist, just complete the lines still NaN, or Bool that are True --> Only isRegimesList are used here\n",
    "            if isRegime in data.columns:\n",
    "                index1 = data[(data[isRegime]==True) | (data[isRegime].isnull())].index\n",
    "                index2 = tmp_diet.index\n",
    "                data.loc[index1.intersection(index2), isRegime] = tmp_diet.loc[index1.intersection(index2)]\n",
    "            else: \n",
    "                data[isRegime] = tmp_diet\n",
    "                \n",
    "    return data"
   ]
  },
  {
   "cell_type": "markdown",
   "metadata": {},
   "source": [
    "Let's creates _isVegetarian_, _isVegetalian_, _isGlutenfree_, _isLactosefree_ and _isKetogenic_ column, output of our diets classification. "
   ]
  },
  {
   "cell_type": "code",
   "execution_count": 84,
   "metadata": {},
   "outputs": [
    {
     "name": "stdout",
     "output_type": "stream",
     "text": [
      "\n",
      "\n",
      "By integrating labels_en to the regimes classification, we classified:\n",
      "\n",
      "isVegetarian : 18798 True and 187850 False --> 2 %  product of total data set isVegetarian\n",
      "isVegetalian : 16135 True and 190513 False --> 1 %  product of total data set isVegetalian\n",
      "isGlutenfree : 30364 True and 176284 False --> 3 %  product of total data set isGlutenfree\n",
      "isLactosefree : 6680 True and 199968 False --> 0 %  product of total data set isLactosefree\n",
      "isKetogenic : 0 True and 206648 False --> 0 %  product of total data set isKetogenic\n",
      "\n",
      "\n",
      "By integrating categories to the regimes classification, we classified:\n",
      "\n",
      "isVegetarian : 248276 True and 217536 False --> 26 %  product of total data set isVegetarian\n",
      "isVegetalian : 207468 True and 258344 False --> 22 %  product of total data set isVegetalian\n",
      "isGlutenfree : 240925 True and 224887 False --> 25 %  product of total data set isGlutenfree\n",
      "isLactosefree : 228041 True and 237771 False --> 24 %  product of total data set isLactosefree\n",
      "isKetogenic : 176406 True and 289406 False --> 18 %  product of total data set isKetogenic\n",
      "\n",
      "\n",
      "By integrating ingredients_text to the regimes classification, we classified:\n",
      "\n",
      "isVegetarian : 400114 True and 259453 False --> 42 %  product of total data set isVegetarian\n",
      "isVegetalian : 276352 True and 383215 False --> 29 %  product of total data set isVegetalian\n",
      "isGlutenfree : 337759 True and 321808 False --> 35 %  product of total data set isGlutenfree\n",
      "isLactosefree : 332243 True and 327324 False --> 35 %  product of total data set isLactosefree\n",
      "isKetogenic : 211512 True and 448055 False --> 22 %  product of total data set isKetogenic\n",
      "\n",
      "\n",
      "By integrating product_name to the regimes classification, we classified:\n",
      "\n",
      "isVegetarian : 639024 True and 299610 False --> 68 %  product of total data set isVegetarian\n",
      "isVegetalian : 494451 True and 444183 False --> 52 %  product of total data set isVegetalian\n",
      "isGlutenfree : 604033 True and 334601 False --> 64 %  product of total data set isGlutenfree\n",
      "isLactosefree : 591176 True and 347458 False --> 62 %  product of total data set isLactosefree\n",
      "isKetogenic : 466698 True and 471936 False --> 49 %  product of total data set isKetogenic\n"
     ]
    }
   ],
   "source": [
    "save = False\n",
    "data_diets = data.copy()\n",
    "regimes = ['isVegetarian', 'isVegetalian', 'isGlutenfree', 'isLactosefree', 'isKetogenic']\n",
    "columns_tupples = [(\"labels_en\", \"labels_en_stem\", labels_stem[\"labels_en\"], isRegimes_labels_en), \n",
    "                   (\"categories\", \"categories_stem\", categories_stem[\"categories\"], notRegimes_categories),\n",
    "                   (\"ingredients_text\", \"ingredients_text_stem\", ingredients_stem[\"ingredients_text\"], notRegimes_ingredients_text),\n",
    "                   (\"product_name\", \"product_name_tok\", product_tok[\"product_name\"], notRegimes_product_name)]\n",
    "\n",
    "for col_tup in columns_tupples:\n",
    "    data_diets[col_tup[1]] = col_tup[2]\n",
    "    \n",
    "    #Creation of our diets columns\n",
    "    if col_tup[0]==\"labels_en\":\n",
    "        data_diets = isDiet(data_diets, col_tup[1], regimes, isRegimes_lists=col_tup[3])\n",
    "    else:\n",
    "        data_diets = isDiet(data_diets, col_tup[1], regimes, notRegimes_lists=col_tup[3])\n",
    "    \n",
    "    #Printing the output of our classification\n",
    "    print(\"\\n\\nBy integrating \"+col_tup[0]+\" to the regimes classification, we classified:\\n\")\n",
    "    for isRegime in regimes: \n",
    "        if len(data_diets[data_diets[isRegime].notnull()][isRegime].value_counts()) == 2:\n",
    "            percentage = data_diets[data_diets[isRegime].notnull()][isRegime].value_counts()[1]/len(data_diets)*100\n",
    "            nb_true = data_diets[data_diets[isRegime].notnull()][isRegime].value_counts()[1]\n",
    "            nb_false = data_diets[data_diets[isRegime].notnull()][isRegime].value_counts()[0]\n",
    "        \n",
    "        elif len(data_diets[data_diets[isRegime].notnull()][isRegime].value_counts()) == 1:\n",
    "            if (data_diets[data_diets[col_tup[1]].notnull()][isRegime].value_counts().index[0] == False): \n",
    "                percentage = 0; \n",
    "                nb_true = 0; \n",
    "                nb_false = data_diets[data_diets[col_tup[1]].notnull()][isRegime].value_counts().loc[False]\n",
    "            elif (data_diets[data_diets[col_tup[1]].notnull()][isRegime].value_counts().index[0] == True): \n",
    "                percentage = 0; \n",
    "                nb_true = data_diets[data_diets[col_tup[1]].notnull()][isRegime].value_counts().loc[True]; \n",
    "                nb_false = 0\n",
    "                \n",
    "        print(\"%s : %d True and %d False --> %d %%  product of total data set %s\" % (isRegime, nb_true, nb_false, percentage, isRegime)) \n",
    "\n",
    "if save:\n",
    "    #saving dataframe with new isRegimes columns (isVegetarian, isVegetalian, isGlutenfree, isLactosefree, isKetogenic): \n",
    "    data_diets.to_pickle(\"saved_process/processed_pickles/_diet/data_with_diets.pkl\")"
   ]
  },
  {
   "cell_type": "markdown",
   "metadata": {},
   "source": [
    "If dataframe with isRegimes columns have already been created and save into pickle format, run the next cell to load it. "
   ]
  },
  {
   "cell_type": "code",
   "execution_count": 85,
   "metadata": {},
   "outputs": [],
   "source": [
    "#loading data_diets\n",
    "data_diets = pd.read_pickle(\"saved_process/processed_pickles/_diet/data_with_diets.pkl\")"
   ]
  },
  {
   "cell_type": "markdown",
   "metadata": {},
   "source": [
    "Lets look at some products we have classified"
   ]
  },
  {
   "cell_type": "code",
   "execution_count": 86,
   "metadata": {
    "scrolled": true
   },
   "outputs": [
    {
     "name": "stdout",
     "output_type": "stream",
     "text": [
      "\n",
      "\n",
      "================isVegetarian================\n",
      "\n",
      "------ 3 True samples found by categories: ------\n",
      "405314    Beverages, Alcoholic beverages, Wines, Sparkli...\n",
      "508949                                Crèmes glacées en pot\n",
      "932870    Snacks, Snacks sucrés, Confiseries, Aliments e...\n",
      "Name: categories, dtype: object\n",
      "\n",
      "------ 3 True samples found by labels_en ------\n",
      "683429     Organic,Vegetarian,Vegan,Biodynamic agricultur...\n",
      "1037709    Organic,Vegetarian,EU Organic,Vegan,BE-BIO-02,...\n",
      "672366     Organic,Vegetarian,EU Organic,Vegan,DE-ÖKO-006...\n",
      "Name: labels_en, dtype: object\n",
      "\n",
      "------ 3 True samples found by ingredients_text ------\n",
      "1058011    curcuma,fenugrec,graines de moutarde, coriandr...\n",
      "249059     pommes (purée et purée concentrée) 99,9%, jus ...\n",
      "1066761    Farine d blé (86%), fromage en poudre (lait), ...\n",
      "Name: ingredients_text, dtype: object\n",
      "\n",
      "------ 3 True samples found by product_name ------\n",
      "280208                 Chocolatine\n",
      "725165     Dimbula Pure Ceylon Tea\n",
      "488875    Pate ardennais superieur\n",
      "Name: product_name, dtype: object\n",
      "\n",
      "------ 3 False samples ------\n",
      "                                               categories  \\\n",
      "407252     Viandes, Charcuteries, Jambons, Jambons blancs   \n",
      "397904  Plats préparés, Produits à la viande, Frais, P...   \n",
      "568954  Aliments et boissons à base de végétaux, Alime...   \n",
      "\n",
      "                                                labels_en  \\\n",
      "407252  Gluten-free,fr:viande-francaise,fr:viande-porc...   \n",
      "397904                        Green Dot,fr:eco-emballages   \n",
      "568954                                          Green Dot   \n",
      "\n",
      "                                         ingredients_text  \\\n",
      "407252  Jambon de porc, sel, dextrose, bouillon (arôme...   \n",
      "397904  Pâtes fraîches farcies cuites 60 % : (Pâtes fa...   \n",
      "568954  Farine de BLÉ, eau, huile de colza, levure, se...   \n",
      "\n",
      "                                             product_name  \n",
      "407252  Jambon cuit avec un bouillon de legumes Mon Tr...  \n",
      "397904                     Tortellini Carbonara, LunchBox  \n",
      "568954                                      10 Moricettes  \n",
      "\n",
      "\n",
      "================isVegetalian================\n",
      "\n",
      "------ 3 True samples found by categories: ------\n",
      "252168         Süßstoffe, Zucker\n",
      "1022591    fr:Barres chocolatées\n",
      "1013610                   Mieles\n",
      "Name: categories, dtype: object\n",
      "\n",
      "------ 3 True samples found by labels_en ------\n",
      "683956     Organic,Vegetarian,EU Organic,Gluten-free,Vega...\n",
      "1031656        Organic,Vegetarian,EU Organic,Vegan,NL-BIO-01\n",
      "679751     Organic,Vegetarian,EU Organic,Vegan,de:eg-oko-...\n",
      "Name: labels_en, dtype: object\n",
      "\n",
      "------ 3 True samples found by ingredients_text ------\n",
      "887828    Aceto Balsamico di Modena IGP 52% (vinaigre de...\n",
      "937158                                                  Eau\n",
      "837901    Ingredienser: Kolsyrat filtrerat vatten, Guard...\n",
      "Name: ingredients_text, dtype: object\n",
      "\n",
      "------ 3 True samples found by product_name ------\n",
      "330492    Pain spécial maïs graines tournesol\n",
      "866050         Marrons dans une sauce caramel\n",
      "114664                  House Wasabi (1.5 Oz)\n",
      "Name: product_name, dtype: object\n",
      "\n",
      "------ 3 False samples ------\n",
      "                                               categories  \\\n",
      "677312  Snacks, Desserts, Süßwaren, Kekse und Kuchen, ...   \n",
      "400695  Aliments et boissons à base de végétaux,Alimen...   \n",
      "522707                          Produits laitiers, Crèmes   \n",
      "\n",
      "                                           labels_en  \\\n",
      "677312                     Green Dot,Made in Germany   \n",
      "400695  Low or no salt,Made in Belgium,No added salt   \n",
      "522707                 Products for professional use   \n",
      "\n",
      "                                         ingredients_text  \\\n",
      "677312  Rührteigbienenstickboden (54%): _Vollei_, Zuck...   \n",
      "400695       Noix de cajou 95,5%, huile de tournesol 4,5%   \n",
      "522707  Crème 70 % (crème de _lait_, stabilisant : car...   \n",
      "\n",
      "                             product_name  \n",
      "677312  Mandel Bienenstich - tiefgefroren  \n",
      "400695             Noix de cajou grillées  \n",
      "522707        Sublime Crème Au Mascarpone  \n",
      "\n",
      "\n",
      "================isGlutenfree================\n",
      "\n",
      "------ 3 True samples found by categories: ------\n",
      "992550                                        Quesos De Vaca\n",
      "357606     Snacks, Snacks sucrés, Chocolats, Chocolats noirs\n",
      "1015022                                      Postres lácteos\n",
      "Name: categories, dtype: object\n",
      "\n",
      "------ 3 True samples found by labels_en ------\n",
      "195855     Vegetarian,Gluten-free,Vegan,Australian made\n",
      "1041457                                     Gluten-free\n",
      "889168                                      Gluten-free\n",
      "Name: labels_en, dtype: object\n",
      "\n",
      "------ 3 True samples found by ingredients_text ------\n",
      "65812      INGREDIENTS: WATER, CORN SYRUP&quot;, HYDROGEN...\n",
      "169457          Jafaden, n rayon de soleil dans votre verre!\n",
      "1051527                                           Sugar 100%\n",
      "Name: ingredients_text, dtype: object\n",
      "\n",
      "------ 3 True samples found by product_name ------\n",
      "735754             Apple & blackcurrant\n",
      "998123                      Colaid plus\n",
      "478883    Brioche a la crème pâtissière\n",
      "Name: product_name, dtype: object\n",
      "\n",
      "------ 3 False samples ------\n",
      "                                               categories  \\\n",
      "446470  Desserts, Surgelés, Desserts glacés, Glaces et...   \n",
      "357107                                 Desserts, Liégeois   \n",
      "441117  Aliments et boissons à base de végétaux, Alime...   \n",
      "\n",
      "                                                labels_en  \\\n",
      "446470                                    Made in Belgium   \n",
      "357107  No artificial flavors,No colorings,No preserva...   \n",
      "441117  Low or no sugar,Organic,EU Organic,FR-BIO-01,N...   \n",
      "\n",
      "                                         ingredients_text  \\\n",
      "446470  Chocolat noir 31 % [sucre, pâte de cacao, beur...   \n",
      "357107  Fruits 70,4% (pommes 43,5%, abricots 20,9%, fr...   \n",
      "441117  Farine intégrale de _blé_ 65,6%, farine de _bl...   \n",
      "\n",
      "                                             product_name  \n",
      "446470                            4 Best Vanille-Chocolat  \n",
      "357107  Liégeois de fruits Pomme-Abricot sur coulis de...  \n",
      "441117  Biscottes à la Farine Intégrale et aux Graines...  \n",
      "\n",
      "\n",
      "================isLactosefree================\n",
      "\n",
      "------ 3 True samples found by categories: ------\n",
      "841970                                             refresco\n",
      "289477    Viandes, Charcuteries, Poissons et viandes et ...\n",
      "815795    Italok, Alkoholos italok, Borok, Magyar borok,...\n",
      "Name: categories, dtype: object\n",
      "\n",
      "------ 3 True samples found by labels_en ------\n",
      "893792                     Gluten-free,No lactose\n",
      "657790    Vegetarian,Gluten-free,Vegan,No lactose\n",
      "315472                             No lactose,PDO\n",
      "Name: labels_en, dtype: object\n",
      "\n",
      "------ 3 True samples found by ingredients_text ------\n",
      "85052     INGREDIENTS: WHOLE GRAIN ROLLED OATS SUGAR AND...\n",
      "169457         Jafaden, n rayon de soleil dans votre verre!\n",
      "822910    Eau traitée, sucre, arôme fraise. Additifs à d...\n",
      "Name: ingredients_text, dtype: object\n",
      "\n",
      "------ 3 True samples found by product_name ------\n",
      "911334    Huile olive truffe blanche\n",
      "170592               Wild Strawberry\n",
      "610075       Crème glacée artisanale\n",
      "Name: product_name, dtype: object\n",
      "\n",
      "------ 3 False samples ------\n",
      "                                               categories  \\\n",
      "624532  Aliments et boissons à base de végétaux, Epice...   \n",
      "560387                                      en:green-teas   \n",
      "250581                      Boissons,Boissons sans alcool   \n",
      "\n",
      "                        labels_en  \\\n",
      "624532  Class I,fr:Origine France   \n",
      "560387                  Green Dot   \n",
      "250581              Made in Spain   \n",
      "\n",
      "                                         ingredients_text  \\\n",
      "624532                                             Oignon   \n",
      "560387  Thé vert 97,5 %, arôme naturel de citron avec ...   \n",
      "250581  Purée de fraise (30 %), jus de pomme (24 %), p...   \n",
      "\n",
      "                    product_name  \n",
      "624532         Oignon Tube jaune  \n",
      "560387       Thé vert 25 sachets  \n",
      "250581  Smoothie Äpple & Jorgubb  \n",
      "\n",
      "\n",
      "================isKetogenic================\n",
      "\n",
      "------ 3 True samples found by categories: ------\n",
      "800971                                        Cafés solubles\n",
      "702889     Natürliches Mineralwasser mit wenig Kohlensäur...\n",
      "1029299                                  Cafés descafeinados\n",
      "Name: categories, dtype: object\n",
      "\n",
      "------ 3 True samples found by labels_en ------\n",
      "Series([], Name: labels_en, dtype: object)\n",
      "\n",
      "------ 3 True samples found by ingredients_text ------\n",
      "710052    Naturliches Mineralwasser, Gurkensaft aus Gurk...\n",
      "851187    olives 47% (olives, sel de cuisine, acidifiant...\n",
      "847158    Viande de porc, viande de bœuf, couennes, eau,...\n",
      "Name: ingredients_text, dtype: object\n",
      "\n",
      "------ 3 True samples found by product_name ------\n",
      "488419          Le Pavé du moment\n",
      "644058     Protéine de citrouille\n",
      "1068123                   Nut bat\n",
      "Name: product_name, dtype: object\n",
      "\n",
      "------ 3 False samples ------\n",
      "                                                categories  \\\n",
      "1036301  Desserts,Frozen foods,Frozen desserts,Ice crea...   \n",
      "560280   Aliments et boissons à base de végétaux, Alime...   \n",
      "658335   Aliments et boissons à base de végétaux, Alime...   \n",
      "\n",
      "                                                 labels_en  \\\n",
      "1036301                         fr:Entrepreneurs + Engagés   \n",
      "560280                                             Omega-3   \n",
      "658335   Organic,Certified by Ecocert,EU Organic,Gluten...   \n",
      "\n",
      "                                          ingredients_text  \\\n",
      "1036301  _tej_ (40%), visszaállított sovány _tej_ (33%)...   \n",
      "560280   Eau ; huiles végétales 38% (colza ; palmiste ;...   \n",
      "658335   Dattes* (Tunisie), amandes (Espagne)*, beurre ...   \n",
      "\n",
      "                                          product_name  \n",
      "1036301                        Algida Big Milk Vanilla  \n",
      "560280   Matière grasse 59 % Mat. Gr. Riche en oméga 3  \n",
      "658335                  Barre energetique choco-crunch  \n"
     ]
    }
   ],
   "source": [
    "index_nanlab = data_diets.loc[data_diets[\"labels_en\"].isnull()].index\n",
    "index_notnanlab = data_diets.loc[data_diets[\"labels_en\"].notnull()].index\n",
    "index_nancat = data_diets.loc[data_diets[\"categories\"].isnull()].index\n",
    "index_notnancat = data_diets.loc[data_diets[\"categories\"].notnull()].index\n",
    "index_naning = data_diets.loc[data_diets[\"ingredients_text\"].isnull()].index\n",
    "index_notnaning = data_diets.loc[data_diets[\"ingredients_text\"].notnull()].index\n",
    "index_nanprod = data_diets.loc[data_diets[\"product_name\"].isnull()].index\n",
    "index_notnanprod= data_diets.loc[data_diets[\"product_name\"].notnull()].index\n",
    "\n",
    "seed = 3\n",
    "for index, isRegime in enumerate(regimes):\n",
    "    index_true =  data_diets.loc[data_diets[isRegime]==True].index\n",
    "    index_false =  data_diets.loc[data_diets[isRegime]==False].index\n",
    "    \n",
    "    print(\"\\n\\n================\"+isRegime+\"================\")\n",
    "    print(\"\\n------ 3 True samples found by categories: ------\")\n",
    "    len_true_cat = len(data_diets.loc[index_true.intersection(index_nanlab).intersection(index_naning).intersection(index_nanprod).intersection(index_notnancat),\"categories\"])\n",
    "    samples_true_cat = data_diets.loc[index_true.intersection(index_nanlab).intersection(index_naning).intersection(index_nanprod).intersection(index_notnancat),\"categories\"].sample(n=min(3, len_true_cat), random_state=seed)\n",
    "    print(samples_true_cat)\n",
    "    \n",
    "    print(\"\\n------ 3 True samples found by labels_en ------\")\n",
    "    len_true_lab = len(data_diets.loc[index_true.intersection(index_nancat).intersection(index_naning).intersection(index_nanprod).intersection(index_notnanlab),\"labels_en\"])\n",
    "    samples_true_lab = data_diets.loc[index_true.intersection(index_nancat).intersection(index_naning).intersection(index_nanprod).intersection(index_notnanlab),\"labels_en\"].sample(n=min(3,len_true_lab), random_state=seed)\n",
    "    print(samples_true_lab)\n",
    "    \n",
    "    print(\"\\n------ 3 True samples found by ingredients_text ------\")\n",
    "    len_true_ing = len(data_diets.loc[index_true.intersection(index_nancat).intersection(index_nanlab).intersection(index_nanprod).intersection(index_notnaning),\"ingredients_text\"])\n",
    "    samples_true_ing = data_diets.loc[index_true.intersection(index_nancat).intersection(index_nanlab).intersection(index_nanprod).intersection(index_notnaning),\"ingredients_text\"].sample(n=min(3,len_true_ing), random_state=seed)\n",
    "    print(samples_true_ing)\n",
    "    \n",
    "    print(\"\\n------ 3 True samples found by product_name ------\")\n",
    "    len_true_prod = len(data_diets.loc[index_true.intersection(index_nancat).intersection(index_nanlab).intersection(index_naning).intersection(index_notnanprod),\"product_name\"])\n",
    "    samples_true_prod = data_diets.loc[index_true.intersection(index_nancat).intersection(index_nanlab).intersection(index_naning).intersection(index_notnanprod),\"product_name\"].sample(n=min(3,len_true_prod), random_state=seed)\n",
    "    print(samples_true_prod)\n",
    "    \n",
    "    print(\"\\n------ 3 False samples ------\")\n",
    "    len_false = len(data_diets.loc[index_false.intersection(index_notnancat).intersection(index_notnanlab).intersection(index_notnaning).intersection(index_notnanprod),[\"categories\", 'labels_en', 'ingredients_text', 'product_name']])\n",
    "    samples_false = data_diets.loc[index_false.intersection(index_notnancat).intersection(index_notnanlab).intersection(index_notnaning).intersection(index_notnanprod),[\"categories\", 'labels_en', 'ingredients_text', 'product_name']].sample(n=min(3,len_false), random_state=seed)\n",
    "    print(samples_false)"
   ]
  },
  {
   "cell_type": "markdown",
   "metadata": {},
   "source": [
    "> To obtain a better classification of the result, we should have only classifiy english or french written samples. To do so, we should have detect language for each of the studied column and only keep those ones for the comparison with isRegimes lists and notRegimes lists. Indeed, only french and english stem have been retain in those lists, this is why samples written in other languages will by default be classified in True in each diets since we out classification algorithme can not find forbidden/wanted words in thoses samples. \n",
    "\n",
    "> An other issu we were facing was to find a reliable accuracy estimation of our diets classification. Indeed such accuracy prediction would need test sample in which the diets classification has already been made and is fully correct. \n",
    "* First, we though that the _labels_en_ column could be considered as test data, since it contains accurate informations about some types of diet (vegan, vegetarian, lactose-free, gluten-free), but the samples in which those informations are present only represent a very small proportion of the total dataset and the resulting accuracy estimation wouldn't be representative to the true accuracy on the whole data we have classified. \n",
    "* Secondly, we also consider the option to use the _food_categories_ to do such estimation, since we know that 'Diaries' should not be 'isLactosefree', or 'Fish Meat Eggs' should not be 'isVegetarian', but this methods is also biased since those _food_categories_ are also estimated by Random Forest algorithm which doesn't doesn't have 100% accuracy. "
   ]
  }
 ],
 "metadata": {
  "kernelspec": {
   "display_name": "Python 3",
   "language": "python",
   "name": "python3"
  },
  "language_info": {
   "codemirror_mode": {
    "name": "ipython",
    "version": 3
   },
   "file_extension": ".py",
   "mimetype": "text/x-python",
   "name": "python",
   "nbconvert_exporter": "python",
   "pygments_lexer": "ipython3",
   "version": "3.7.4"
  }
 },
 "nbformat": 4,
 "nbformat_minor": 4
}
