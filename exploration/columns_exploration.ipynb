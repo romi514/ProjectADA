{
 "cells": [
  {
   "cell_type": "code",
   "execution_count": 144,
   "metadata": {},
   "outputs": [],
   "source": [
    "%matplotlib inline\n",
    "import pandas as pd\n",
    "import numpy as np\n",
    "import re\n",
    "import os\n",
    "import seaborn as sns; sns.set()\n",
    "from matplotlib.ticker import MaxNLocator\n",
    "import matplotlib.pyplot as plt\n",
    "from requests import get\n",
    "from bs4 import BeautifulSoup\n",
    "from pandas.util import hash_pandas_object"
   ]
  },
  {
   "cell_type": "code",
   "execution_count": 2,
   "metadata": {},
   "outputs": [
    {
     "name": "stderr",
     "output_type": "stream",
     "text": [
      "/Users/Matt/anaconda3/envs/ada/lib/python3.7/site-packages/IPython/core/interactiveshell.py:3058: DtypeWarning: Columns (0,24,25,26,28,44,49) have mixed types. Specify dtype option on import or set low_memory=False.\n",
      "  interactivity=interactivity, compiler=compiler, result=result)\n"
     ]
    }
   ],
   "source": [
    "data = pd.read_csv('../data/en.openfoodfacts.org.products.csv', sep = '\\t')"
   ]
  },
  {
   "cell_type": "code",
   "execution_count": 3,
   "metadata": {},
   "outputs": [],
   "source": [
    "header = data.columns\n",
    "odf = pd.DataFrame()\n",
    "for index in header:\n",
    "    odf[index] =( [index , sum(data[index].notnull())/1023451*100  , data[index].value_counts().head(4).index.tolist() ])\n",
    "odf=odf.T\n",
    "odf =odf.drop(columns=0)\n",
    "odf=odf.rename(columns={1: \"%\", 2: \"exemple top-4\"})"
   ]
  },
  {
   "cell_type": "code",
   "execution_count": 4,
   "metadata": {},
   "outputs": [],
   "source": [
    "odfcut=odf[odf[\"%\"]>=3]"
   ]
  },
  {
   "cell_type": "code",
   "execution_count": 5,
   "metadata": {},
   "outputs": [],
   "source": [
    "odfcut.to_csv('odfcut.csv')\n"
   ]
  },
  {
   "cell_type": "markdown",
   "metadata": {},
   "source": [
    "Categories each product according to the PNNS"
   ]
  },
  {
   "cell_type": "code",
   "execution_count": 6,
   "metadata": {},
   "outputs": [],
   "source": [
    "pnns_category = {'Dairies','Composite','Fish Meat Eggs','Beverages','Fat Sauces','Fruits Vegetables','Starchy','Snacks'}"
   ]
  },
  {
   "cell_type": "code",
   "execution_count": 7,
   "metadata": {},
   "outputs": [
    {
     "data": {
      "text/plain": [
       "unknown                    716232\n",
       "Sugary snacks               57997\n",
       "Milk and dairy products     43467\n",
       "Fish Meat Eggs              42475\n",
       "Cereals and potatoes        34187\n",
       "Beverages                   29118\n",
       "Fat and sauces              28114\n",
       "Composite foods             25430\n",
       "Fruits and vegetables       24419\n",
       "Salty snacks                19825\n",
       "sugary-snacks                3469\n",
       "fruits-and-vegetables        2898\n",
       "cereals-and-potatoes           43\n",
       "salty-snacks                    5\n",
       "Name: pnns_groups_1, dtype: int64"
      ]
     },
     "execution_count": 7,
     "metadata": {},
     "output_type": "execute_result"
    }
   ],
   "source": [
    "data.pnns_groups_1.value_counts()"
   ]
  },
  {
   "cell_type": "code",
   "execution_count": 8,
   "metadata": {},
   "outputs": [],
   "source": [
    "pnns1_category = {'unknown' : 'Unknown',\n",
    " 'Sugary snacks' : 'Snacks', \n",
    " 'Milk and dairy products' : 'Dairies',\n",
    " 'Composite foods' : 'Composite', \n",
    " 'Cereals and potatoes' : 'Starchy', \n",
    " 'Fish Meat Eggs' : 'Fish Meat Eggs',\n",
    " 'Beverages' : 'Beverages',\n",
    " 'Fat and sauces' : 'Fat Sauces',\n",
    " 'Fruits and vegetables' : 'Fruits Vegetables',\n",
    " 'Salty snacks' : 'Snacks',\n",
    " 'fruits-and-vegetables' : 'Fruits Vegetables',\n",
    " 'sugary-snacks' : 'Snacks',\n",
    " 'cereals-and-potatoes' : 'Starchy',\n",
    " 'salty-snacks' : 'Snacks'\n",
    "}\n",
    "data['Category_Food'] = data['pnns_groups_1'].replace(pnns1_category)"
   ]
  },
  {
   "cell_type": "code",
   "execution_count": 9,
   "metadata": {},
   "outputs": [
    {
     "data": {
      "text/plain": [
       "Unknown              716232\n",
       "Snacks                81296\n",
       "Dairies               43467\n",
       "Fish Meat Eggs        42475\n",
       "Starchy               34230\n",
       "Beverages             29118\n",
       "Fat Sauces            28114\n",
       "Fruits Vegetables     27317\n",
       "Composite             25430\n",
       "Name: Category_Food, dtype: int64"
      ]
     },
     "execution_count": 9,
     "metadata": {},
     "output_type": "execute_result"
    }
   ],
   "source": [
    "data.Category_Food.value_counts()"
   ]
  },
  {
   "cell_type": "markdown",
   "metadata": {},
   "source": [
    "More category from 'main_category_en' source"
   ]
  },
  {
   "cell_type": "code",
   "execution_count": 10,
   "metadata": {},
   "outputs": [
    {
     "data": {
      "text/plain": [
       "Plant-based foods and beverages    86518\n",
       "Snacks                             51656\n",
       "Beverages                          43688\n",
       "Dairies                            38129\n",
       "Meats                              31497\n",
       "Groceries                          23517\n",
       "Meals                              17557\n",
       "Desserts                            7435\n",
       "Spreads                             7272\n",
       "Seafood                             7198\n",
       "Fruit juices                        6415\n",
       "Canned foods                        4731\n",
       "Frozen foods                        4138\n",
       "Biscuits and cakes                  3412\n",
       "Sweeteners                          2488\n",
       "Dietary supplements                 1995\n",
       "Breakfasts                          1861\n",
       "Vinegars                            1764\n",
       "Sandwiches                          1760\n",
       "Fats                                1674\n",
       "Farming products                    1631\n",
       "Fish and meat and eggs              1604\n",
       "Fruit-juices-and-nectars            1241\n",
       "Baby foods                          1231\n",
       "Pies                                 976\n",
       "Pickles                              948\n",
       "Olives                               831\n",
       "Green olives                         813\n",
       "Crêpes and galettes                  797\n",
       "Cooking helpers                      740\n",
       "Name: main_category_en, dtype: int64"
      ]
     },
     "execution_count": 10,
     "metadata": {},
     "output_type": "execute_result"
    }
   ],
   "source": [
    "data['main_category_en'].value_counts().head(30)"
   ]
  },
  {
   "cell_type": "code",
   "execution_count": 11,
   "metadata": {},
   "outputs": [],
   "source": [
    "maincategoryen_category = {'unknown' : 'Unknown',\n",
    "'Plant-based foods and beverages' : 'Berevages',\n",
    "'Snacks' : 'Snacks',\n",
    "'Beverages' : 'Beverages',\n",
    "'Dairies' : 'Dairies' ,\n",
    "'Meats' : 'Fish Meat Eggs',\n",
    "'Meals' : 'Composite',\n",
    "'Desserts' : 'Snacks',\n",
    "'Seafood' : 'Fish Meat Eggs',\n",
    "'Fruit juices' : 'Berevages',\n",
    "'Biscuits and cakes' : 'Snacks',\n",
    "'Fats' : 'Fat Sauces', \n",
    "'Fish and meat and eggs' : 'Fish Meat Eggs',\n",
    "'Fruit-juices-and-nectars' : 'Berevages'\n",
    "                          }\n",
    "\n",
    "data['Category_Food_frommaincategoryen'] = data['main_category_en'].replace(maincategoryen_category)"
   ]
  },
  {
   "cell_type": "code",
   "execution_count": 12,
   "metadata": {},
   "outputs": [],
   "source": [
    "data['Category_Food_frommaincategoryen'] = np.where(data['Category_Food_frommaincategoryen'].isin(pnns_category)==False,'Unknown',data['Category_Food_frommaincategoryen'])"
   ]
  },
  {
   "cell_type": "code",
   "execution_count": 13,
   "metadata": {},
   "outputs": [],
   "source": [
    "data['Category_Food']= np.where(data['Category_Food']=='Unknown', data['Category_Food_frommaincategoryen'], data['Category_Food'])\n",
    "                                                   "
   ]
  },
  {
   "cell_type": "code",
   "execution_count": 14,
   "metadata": {},
   "outputs": [
    {
     "data": {
      "text/plain": [
       "unknown                    716232\n",
       "Sugary snacks               57997\n",
       "Milk and dairy products     43467\n",
       "Fish Meat Eggs              42475\n",
       "Cereals and potatoes        34187\n",
       "Beverages                   29118\n",
       "Fat and sauces              28114\n",
       "Composite foods             25430\n",
       "Fruits and vegetables       24419\n",
       "Salty snacks                19825\n",
       "sugary-snacks                3469\n",
       "fruits-and-vegetables        2898\n",
       "cereals-and-potatoes           43\n",
       "salty-snacks                    5\n",
       "Name: pnns_groups_1, dtype: int64"
      ]
     },
     "execution_count": 14,
     "metadata": {},
     "output_type": "execute_result"
    }
   ],
   "source": [
    "data.pnns_groups_1.value_counts()"
   ]
  },
  {
   "cell_type": "code",
   "execution_count": 15,
   "metadata": {},
   "outputs": [
    {
     "data": {
      "text/plain": [
       "Unknown              700489\n",
       "Snacks                86055\n",
       "Dairies               45034\n",
       "Fish Meat Eggs        42484\n",
       "Beverages             38526\n",
       "Starchy               34230\n",
       "Fat Sauces            28114\n",
       "Fruits Vegetables     27317\n",
       "Composite             25430\n",
       "Name: Category_Food, dtype: int64"
      ]
     },
     "execution_count": 15,
     "metadata": {},
     "output_type": "execute_result"
    }
   ],
   "source": [
    "data.Category_Food.value_counts()"
   ]
  },
  {
   "cell_type": "code",
   "execution_count": 16,
   "metadata": {},
   "outputs": [
    {
     "data": {
      "text/plain": [
       "Compléments alimentaires                                                                                                                      350\n",
       "Protein bars                                                                                                                                  328\n",
       "Pancake mixes                                                                                                                                 260\n",
       "Licensed products                                                                                                                             258\n",
       "Maple syrups                                                                                                                                  235\n",
       "                                                                                                                                             ... \n",
       "Yaghourt                                                                                                                                        1\n",
       "Mermelada de pimiento rojo asado                                                                                                                1\n",
       "Queso semicurado en lonchas                                                                                                                     1\n",
       "Plantaardige levensmiddelen en dranken,Plantaardige levensmiddelen,Kruidenierswaren,Smaakmakers,Specerijen,Saffraan                             1\n",
       "Aliments et boissons à base de végétaux, Aliments d'origine végétale, Substituts de viande, Steaks végétaux, Steaks de soja, Steak végétal      1\n",
       "Name: categories, Length: 16699, dtype: int64"
      ]
     },
     "execution_count": 16,
     "metadata": {},
     "output_type": "execute_result"
    }
   ],
   "source": [
    "data[data['Category_Food']=='Unknown']['categories'].value_counts()"
   ]
  },
  {
   "cell_type": "code",
   "execution_count": 17,
   "metadata": {},
   "outputs": [
    {
     "data": {
      "text/plain": [
       "barquette                      1141\n",
       "Sachet,plastique               1050\n",
       "carton,plastique                998\n",
       "Sachet plastique                975\n",
       "conserve                        957\n",
       "pot                             944\n",
       "Karton                          904\n",
       "Bocal,Verre,Couvercle,Métal     874\n",
       "Carton,Plastique                847\n",
       "Sachet                          809\n",
       "boîte                           739\n",
       "carton,boîte,plastique          718\n",
       "bouteille,plastique             716\n",
       "Plastik                         703\n",
       "Plástico                        687\n",
       "sachet plastique                681\n",
       "plastic                         660\n",
       "Dose                            653\n",
       "Stück                           641\n",
       "Barquette,Plastique,Frais       581\n",
       "bouteille,verre                 578\n",
       "Name: packaging, dtype: int64"
      ]
     },
     "execution_count": 17,
     "metadata": {},
     "output_type": "execute_result"
    }
   ],
   "source": [
    "data.packaging.value_counts()[19:40]"
   ]
  },
  {
   "cell_type": "code",
   "execution_count": 18,
   "metadata": {},
   "outputs": [],
   "source": [
    "pack_mapping = dict.fromkeys(['plastic', 'plastique,frais','plastique', 'barquette,plastique', 'sachet,plastique',\n",
    "                              'frais,plastique','carton,plastique','carton,plastique,surgele','flacon,plastique'\n",
    "                 'sachet-plastique','carton,boite,plastique', 'boite,plastique', 'plastique,carton','sachet-plastique',\n",
    "                'sachet,plastique,surgele','barquette,plastique,frais','pot,plastique','plastique,sachet',\n",
    "                             'plastico','boite,carton,plastique','frais,plastique,carton','frais,carton,plastique',\n",
    "                              'carton,sachet,plastique','kunststoff','barquette,film,plastique,sous-atmosphere-protectrice',\n",
    "                             'carton,surgele,plastique','plastique,barquette','sachet,plastique,frais',\n",
    "                             'barquette,plastique,sous-atmosphere-protectrice','frais,barquette,plastique,opercule,film-plastique,sous-atmosphere-protectrice',\n",
    "                             'sachet,plastique,carton','film,plastique','sachet,plastique,sous-atmosphere-protectrice',\n",
    "                             'bolsa-de-plastico,ultracongelado','barquette-plastique','plastique,sous-vide','plastic,bag',\n",
    "                             'barquette,film,plastique','plastik','plastica','pot-plastique','plastic-bag','boite-plastique',\n",
    "                             'frais,barquette,plastique','05-pp','pp','sachet,plastique,etui,carton','bolsa-de-plastico',\n",
    "                             'boite,carton,sachet,plastique','pot,plastique,frais','botella,plastico','sachet,plastique,doypack',\n",
    "                             'sachet,plastique,sachet','plastique,boite','plastique,surgele','sac-plastique'],'Plastic')\n",
    "\n",
    "pack_mapping.update(dict.fromkeys(['bouteille,verre','carton','boite,carton','carton,surgele','karton','carton,boite','karton,kunststoff',\n",
    "                                  'sachet,papier','papier','bouteille,plastique','conserve','bocal,verre','glas',\n",
    "                                  'bouteille','conserve,metal','bocal,verre,couvercle,metal','bocal,verre,metal',\n",
    "                                  'verre','verre,bouteille','pot,verre','bocal','verre,bocal',\n",
    "                                  'flacon,plastique','bouteille-plastique','bottle','canned','pot-en-verre','bolsa,plastico',\n",
    "                                   'bouteille-verre','bocal-en-verre','verre,bocal,metal','plastique,bouteille','bouteille-en-verre','canette','pot,verre,couvercle,metal',\n",
    "                                  'glas,mehrwegpfand','carton,aluminium','boite,metal','botella-de-plastico','boite-carton',\n",
    "                                  'plastic-bottle','sous-vide','plastic,bottle','can','pot-en-plastique','glass','caja,carton','bote-de-vidrio',\n",
    "                                  'boite,conserve,metal','pet','becher','lata','bocal-verre','aluminium','caja-de-carton','bouteille,verre,capsule,metal',\n",
    "                                  'bokaal,glas','konserve','paper','glass-bottle','bocal,verre,couvercle,metal,conserve','glass-jar',\n",
    "                                  'glasflasche','flacon-verre','glas,flasche','kunststoff,karton','papier,aluminium','boite-de-conserve',\n",
    "                                  'pot-verre','canette,metal','carton,brique','flacon,verre','caja,carton,lata,en-conserva','bocal-verre,couvercle-metal','glass,bottle',\n",
    "                                  'conserve,boite,metal','carton,sachet','canette,aluminium','boite-en-carton','conserve,conserve'],'Recyclable'))\n",
    "\n",
    "pack_mapping.update(dict.fromkeys(['frais','surgele','surgele,carton,plastique','brique,carton','tetra-pak','tetra-brik','tetrapak',\n",
    "                                  'brique','tetrapack','surgele,carton','barquette,film,plastique,frais,sous-atmosphere-protectrice','sous-atmosphere-protectrice',\n",
    "                                  'carton,plastique,frais','frais,pot,plastique'],'Non-Recyclable'))\n",
    "\n",
    "\n",
    "data['emballage'] = data['packaging_tags'].replace(pack_mapping)"
   ]
  },
  {
   "cell_type": "code",
   "execution_count": 19,
   "metadata": {},
   "outputs": [
    {
     "data": {
      "text/plain": [
       "Recyclable                                     46498\n",
       "Plastic                                        45494\n",
       "Non-Recyclable                                  6570\n",
       "sachet                                          3352\n",
       "barquette                                       1511\n",
       "                                               ...  \n",
       "brique,carton,plastique,paille                     1\n",
       "surgeles,surgele,plastique,sachet                  1\n",
       "frais,film,plastique,atmosphere-protectrice        1\n",
       "caserola                                           1\n",
       "marineira                                          1\n",
       "Name: emballage, Length: 26508, dtype: int64"
      ]
     },
     "execution_count": 19,
     "metadata": {},
     "output_type": "execute_result"
    }
   ],
   "source": [
    "data['emballage'].value_counts()"
   ]
  },
  {
   "cell_type": "markdown",
   "metadata": {},
   "source": [
    "# NUTRISCORE\n",
    "https://quoidansmonassiette.fr/comment-est-calcule-le-nutri-score-logo-nutritionnel/\n",
    "\n"
   ]
  },
  {
   "cell_type": "markdown",
   "metadata": {},
   "source": [
    "### Import just enough field"
   ]
  },
  {
   "cell_type": "code",
   "execution_count": 222,
   "metadata": {},
   "outputs": [],
   "source": [
    "data[(data['main_category_en'] == 'Fruit juices')]['fruits-vegetables-nuts_100g'].fillna(100, inplace=True)"
   ]
  },
  {
   "cell_type": "code",
   "execution_count": 223,
   "metadata": {},
   "outputs": [],
   "source": [
    "selected_enough_field =[\n",
    "    'Category_Food',\n",
    "    'energy_100g','sugars_100g','saturated-fat_100g','sodium_100g',\n",
    "    'fruits-vegetables-nuts_100g','fiber_100g','proteins_100g',\n",
    "    'nutrition-score-uk_100g'\n",
    "]"
   ]
  },
  {
   "cell_type": "code",
   "execution_count": 224,
   "metadata": {},
   "outputs": [],
   "source": [
    "data_beverages = data[data['Category_Food']=='Beverages'][selected_enough_field]\n",
    "data_fatsauces = data[data['Category_Food']=='Fat Sauces'][selected_enough_field]\n",
    "data_without_beverage_fat = data[(data['Category_Food']!='Fat Sauces') & (data['Category_Food']!='Beverages') ][selected_enough_field]\n",
    "                                    \n",
    "                                    "
   ]
  },
  {
   "cell_type": "markdown",
   "metadata": {},
   "source": [
    "### Calculation of negative points"
   ]
  },
  {
   "cell_type": "code",
   "execution_count": 225,
   "metadata": {},
   "outputs": [],
   "source": [
    "## ENERGY\n",
    "# energy bins\n",
    "energy_bins_without_beverage_fat = [data_without_beverage_fat['energy_100g'].min() - 1, 335, 670, 1005, 1340, 1675, 2010, 2345, 2680, 3015, 3350, data_without_beverage_fat['energy_100g'].max()]\n",
    "energy_bins_fatsauces = [data_fatsauces['energy_100g'].min() - 1, 335, 670, 1005, 1340, 1675, 2010, 2345, 2680, 3015, 3350, data_fatsauces['energy_100g'].max()]\n",
    "energy_bins_beverages = [data_beverages['energy_100g'].min() - 1, 0, 30, 60, 90, 120, 150, 180, 210, 240, 270, data_beverages['energy_100g'].max()]\n",
    "# energy point\n",
    "data_without_beverage_fat['energy_points'] = pd.cut(data_without_beverage_fat['energy_100g'], energy_bins_without_beverage_fat, labels=range(11)).astype(float)\n",
    "data_fatsauces['energy_points'] = pd.cut(data_fatsauces['energy_100g'], energy_bins_fatsauces, labels=range(11)).astype(float)\n",
    "data_beverages['energy_points'] = pd.cut(data_beverages['energy_100g'], energy_bins_beverages, labels=range(11)).astype(float)\n",
    "\n",
    "\n",
    "## SUGAR\n",
    "# sugar bins\n",
    "sugar_bins_without_beverage_fat = [data_without_beverage_fat['sugars_100g'].min() - 1, 0, 1.5, 3, 4.5, 6, 7.5, 9, 10.5, 12, 13.5, data_without_beverage_fat['sugars_100g'].max()]\n",
    "sugar_bins_fatsauces = [data_fatsauces['sugars_100g'].min() - 1, 0, 1.5, 3, 4.5, 6, 7.5, 9, 10.5, 12, 13.5, data_fatsauces['sugars_100g'].max()]\n",
    "sugar_bins_beverages = [data_beverages['sugars_100g'].min() - 1, 4.5, 9, 13.5, 18, 22.5, 27, 31, 36, 40, 45, data_beverages['sugars_100g'].max()]\n",
    "# sugar point (CHANGE SUGAR_BINS)\n",
    "data_without_beverage_fat['sugar_points'] = pd.cut(data_without_beverage_fat['sugars_100g'], sugar_bins_without_beverage_fat, labels=range(11)).astype(float)\n",
    "data_fatsauces['sugar_points'] = pd.cut(data_fatsauces['sugars_100g'], sugar_bins_fatsauces, labels=range(11)).astype(float)\n",
    "data_beverages['sugar_points'] = pd.cut(data_beverages['sugars_100g'], sugar_bins_beverages, labels=range(11)).astype(float)\n",
    "\n",
    "\n",
    "## SATURATED FAT\n",
    "# s-fat bins\n",
    "fat_bins_without_beverage_fat = [data_without_beverage_fat['saturated-fat_100g'].min() - 1, 1, 2, 3, 4, 5, 6, 7, 8, 9, 10, data_without_beverage_fat['saturated-fat_100g'].max()]\n",
    "fat_bins_beverages = [data_beverages['saturated-fat_100g'].min() - 1, 1, 2, 3, 4, 5, 6, 7, 8, 9, 10, data_beverages['saturated-fat_100g'].max()]\n",
    "fat_bins_fatsauces = [data_fatsauces['saturated-fat_100g'].min() - 1, 10, 16, 22, 28, 34, 40, 46, 52, 58, 64, data_fatsauces['saturated-fat_100g'].max()]\n",
    "# s-FAT point (CHANGE FAT_BINS)\n",
    "data_without_beverage_fat['saturated-fat_points'] = pd.cut(data_without_beverage_fat['saturated-fat_100g'], fat_bins_without_beverage_fat, labels=range(11)).astype(float)\n",
    "data_beverages['saturated-fat_points'] = pd.cut(data_beverages['saturated-fat_100g'], fat_bins_beverages, labels=range(11)).astype(float)\n",
    "data_fatsauces['saturated-fat_points'] = pd.cut(data_fatsauces['saturated-fat_100g'], fat_bins_fatsauces, labels=range(11)).astype(float)\n",
    "\n",
    "\n",
    "## SODIUM\n",
    "# sodium bins\n",
    "sodium_bins = [data['sodium_100g'].min() - 1, 90, 180, 270, 360, 450, 540, 630, 720, 810, 900, data['sodium_100g'].max()]\n",
    "# sodium points\n",
    "data_without_beverage_fat['sodium_points'] = pd.cut(data_without_beverage_fat['sodium_100g'], sodium_bins, labels=range(11)).astype(float)\n",
    "data_beverages['sodium_points'] = pd.cut(data_beverages['sodium_100g'], sodium_bins, labels=range(11)).astype(float)\n",
    "data_fatsauces['sodium_points'] = pd.cut(data_fatsauces['sodium_100g'], sodium_bins, labels=range(11)).astype(float)\n",
    "\n"
   ]
  },
  {
   "cell_type": "markdown",
   "metadata": {},
   "source": [
    "### Calculation positive points"
   ]
  },
  {
   "cell_type": "code",
   "execution_count": 226,
   "metadata": {},
   "outputs": [],
   "source": [
    "# FRUITS\n",
    "# fruits bins\n",
    "fruits_bins_without_beverage_fat = [data_without_beverage_fat['fruits-vegetables-nuts_100g'].min() - 1, 40, 60, 80, data_without_beverage_fat['fruits-vegetables-nuts_100g'].max()]\n",
    "fruits_bins_fatsauces = [data_fatsauces['fruits-vegetables-nuts_100g'].min() - 1, 40, 60, 80, data_fatsauces['fruits-vegetables-nuts_100g'].max()]\n",
    "fruits_bins_beverages = [data_beverages['fruits-vegetables-nuts_100g'].min() - 1, 40, 60, 80, data_beverages['fruits-vegetables-nuts_100g'].max()]\n",
    "# fruits points\n",
    "data_without_beverage_fat['fruits_points'] = pd.cut(data_without_beverage_fat['fruits-vegetables-nuts_100g'], fruits_bins_without_beverage_fat, labels=[0,1,2,5]).astype(float)\n",
    "data_beverages['fruits_points'] = pd.cut(data_beverages['fruits-vegetables-nuts_100g'], fruits_bins_beverages, labels=[0,2,4,10]).astype(float)\n",
    "data_fatsauces['fruits_points'] = pd.cut(data_fatsauces['fruits-vegetables-nuts_100g'], fruits_bins_fatsauces, labels=[0,1,2,5]).astype(float)\n",
    "\n",
    "\n",
    "# FIBRES\n",
    "# fibers bins\n",
    "fibers_bins = [data['fiber_100g'].min() - 1, 0.7, 1.4, 2.1, 2.8, 3.5, data['fiber_100g'].max()]\n",
    "# fibers points\n",
    "data_without_beverage_fat['fiber_points'] = pd.cut(data_without_beverage_fat['fiber_100g'], fibers_bins, labels=range(6)).astype(float)\n",
    "data_beverages['fiber_points'] = pd.cut(data_beverages['fiber_100g'], fibers_bins, labels=range(6)).astype(float)\n",
    "data_fatsauces['fiber_points'] = pd.cut(data_fatsauces['fiber_100g'], fibers_bins, labels=range(6)).astype(float)\n",
    "\n",
    "# PROTEINS\n",
    "# proteins bins\n",
    "proteins_bins = [data['proteins_100g'].min() - 1, 1.6, 3.2, 4.8, 6.4, 8.0, data['proteins_100g'].max()]\n",
    "# proteins points\n",
    "data_without_beverage_fat['proteins_points'] = pd.cut(data_without_beverage_fat['proteins_100g'], proteins_bins, labels=range(6)).astype(float)\n",
    "data_beverages['proteins_points'] = pd.cut(data_beverages['proteins_100g'], proteins_bins, labels=range(6)).astype(float)\n",
    "data_fatsauces['proteins_points'] = pd.cut(data_fatsauces['proteins_100g'], proteins_bins, labels=range(6)).astype(float)\n"
   ]
  },
  {
   "cell_type": "code",
   "execution_count": 227,
   "metadata": {},
   "outputs": [],
   "source": [
    "frames = [data_without_beverage_fat, data_beverages, data_fatsauces]"
   ]
  },
  {
   "cell_type": "code",
   "execution_count": 228,
   "metadata": {},
   "outputs": [],
   "source": [
    "nutridata = pd.concat(frames)"
   ]
  },
  {
   "cell_type": "code",
   "execution_count": 229,
   "metadata": {},
   "outputs": [],
   "source": [
    "nutridata['fruits_points'].fillna(0, inplace=True)\n",
    "nutridata['fiber_points'].fillna(0, inplace=True)\n",
    "nutridata['proteins_points'].fillna(0, inplace=True)"
   ]
  },
  {
   "cell_type": "code",
   "execution_count": 230,
   "metadata": {},
   "outputs": [],
   "source": [
    "nutridata['points_N']= nutridata['energy_points'] + nutridata['saturated-fat_points'] + nutridata['sugar_points'] + nutridata['sodium_points']\n",
    "nutridata['points_P'] = nutridata['fruits_points'] + nutridata['fiber_points'] + nutridata['proteins_points']"
   ]
  },
  {
   "cell_type": "code",
   "execution_count": 231,
   "metadata": {},
   "outputs": [],
   "source": [
    "def compute_score(row):\n",
    "    N = row['points_N']\n",
    "    P = row['points_P']\n",
    "    fruit = row['fruits_points']\n",
    "    fiber = row['fiber_points']\n",
    "    if N < 11 or fruit == 5:\n",
    "        return N - P\n",
    "    else:\n",
    "        return N - (fiber + fruit)"
   ]
  },
  {
   "cell_type": "code",
   "execution_count": 232,
   "metadata": {},
   "outputs": [],
   "source": [
    "nutridata['nutri-score_calculated'] = nutridata.apply(compute_score, axis=1)"
   ]
  },
  {
   "cell_type": "code",
   "execution_count": 233,
   "metadata": {},
   "outputs": [
    {
     "data": {
      "image/png": "[encoded data removed]",
      "text/plain": [
       "<Figure size 432x288 with 1 Axes>"
      ]
     },
     "metadata": {},
     "output_type": "display_data"
    }
   ],
   "source": [
    "nutridata['nutri-score_calculated'].hist(bins=int(nutridata['nutri-score_calculated'].max() - nutridata['nutri-score_calculated'].min() + 1));"
   ]
  },
  {
   "cell_type": "code",
   "execution_count": 234,
   "metadata": {},
   "outputs": [
    {
     "data": {
      "text/plain": [
       "770332"
      ]
     },
     "execution_count": 234,
     "metadata": {},
     "output_type": "execute_result"
    }
   ],
   "source": [
    "sum(nutridata['nutri-score_calculated'].notnull())"
   ]
  },
  {
   "cell_type": "code",
   "execution_count": 235,
   "metadata": {},
   "outputs": [
    {
     "data": {
      "text/plain": [
       "294476"
      ]
     },
     "execution_count": 235,
     "metadata": {},
     "output_type": "execute_result"
    }
   ],
   "source": [
    "sum(nutridata['nutrition-score-uk_100g'].notnull())"
   ]
  },
  {
   "cell_type": "code",
   "execution_count": 236,
   "metadata": {},
   "outputs": [],
   "source": [
    "nutridata_beverages = nutridata[nutridata['Category_Food']=='Beverages']\n",
    "nutridata_not_beverages = nutridata[nutridata['Category_Food']!='Beverages']"
   ]
  },
  {
   "cell_type": "code",
   "execution_count": 237,
   "metadata": {},
   "outputs": [
    {
     "name": "stderr",
     "output_type": "stream",
     "text": [
      "/Users/Matt/anaconda3/envs/ada/lib/python3.7/site-packages/ipykernel_launcher.py:8: SettingWithCopyWarning: \n",
      "A value is trying to be set on a copy of a slice from a DataFrame.\n",
      "Try using .loc[row_indexer,col_indexer] = value instead\n",
      "\n",
      "See the caveats in the documentation: http://pandas.pydata.org/pandas-docs/stable/user_guide/indexing.html#returning-a-view-versus-a-copy\n",
      "  \n",
      "/Users/Matt/anaconda3/envs/ada/lib/python3.7/site-packages/ipykernel_launcher.py:9: SettingWithCopyWarning: \n",
      "A value is trying to be set on a copy of a slice from a DataFrame.\n",
      "Try using .loc[row_indexer,col_indexer] = value instead\n",
      "\n",
      "See the caveats in the documentation: http://pandas.pydata.org/pandas-docs/stable/user_guide/indexing.html#returning-a-view-versus-a-copy\n",
      "  if __name__ == '__main__':\n"
     ]
    }
   ],
   "source": [
    "# NUTRILETTER\n",
    "\n",
    "#letter bins\n",
    "letter_bins_aliments = [nutridata['nutri-score_calculated'].min() - 1, 0, 2.9, 10.9, 18.9, nutridata['nutri-score_calculated'].max()]\n",
    "letter_bins_beverages = [nutridata['nutri-score_calculated'].min() - 1, 2.5, 5.5, 9.5, nutridata['nutri-score_calculated'].max()]\n",
    "\n",
    "#letter\n",
    "nutridata_not_beverages['nutri-score_letter_CALCULATED'] = pd.cut(nutridata_not_beverages['nutri-score_calculated'], letter_bins_aliments, labels=['a','b','c','d','e'])\n",
    "nutridata_beverages['nutri-score_letter_CALCULATED'] = pd.cut(nutridata_beverages['nutri-score_calculated'], letter_bins_beverages, labels=['b','c','d','e'])\n"
   ]
  },
  {
   "cell_type": "code",
   "execution_count": 238,
   "metadata": {},
   "outputs": [],
   "source": [
    "nutriframes = [nutridata_not_beverages, nutridata_beverages]\n",
    "nutridata = pd.concat(nutriframes)"
   ]
  },
  {
   "cell_type": "code",
   "execution_count": 239,
   "metadata": {},
   "outputs": [],
   "source": [
    "def nutri_score_letter(row):\n",
    "    nutri_score = row['nutri-score_calculated']\n",
    "    \n",
    "    # check if nutri_score is nan\n",
    "    if nutri_score != nutri_score:\n",
    "        return np.nan\n",
    "    \n",
    "    if row['Category_Food'] == 'Beverages':\n",
    "        if nutri_score <= 2:\n",
    "            return 'B'\n",
    "        elif nutri_score <= 5:\n",
    "            return 'C'\n",
    "        elif nutri_score <= 9:\n",
    "            return 'D'\n",
    "        else:\n",
    "            return 'E'\n",
    "    else:\n",
    "        if nutri_score <= 0:\n",
    "            return 'A'\n",
    "        elif nutri_score <= 2:\n",
    "            return 'B'\n",
    "        elif nutri_score <= 10:\n",
    "            return 'C'\n",
    "        elif nutri_score <= 18:\n",
    "            return 'D'\n",
    "        else:\n",
    "            return 'E'"
   ]
  },
  {
   "cell_type": "code",
   "execution_count": 240,
   "metadata": {},
   "outputs": [],
   "source": [
    "nutridata['nutri-score_letter'] = nutridata.apply(nutri_score_letter, axis=1)"
   ]
  },
  {
   "cell_type": "code",
   "execution_count": 241,
   "metadata": {},
   "outputs": [
    {
     "data": {
      "text/plain": [
       "D    247553\n",
       "A    160302\n",
       "C    156528\n",
       "E    118148\n",
       "B     87801\n",
       "Name: nutri-score_letter, dtype: int64"
      ]
     },
     "execution_count": 241,
     "metadata": {},
     "output_type": "execute_result"
    }
   ],
   "source": [
    "nutridata['nutri-score_letter'].value_counts()"
   ]
  },
  {
   "cell_type": "code",
   "execution_count": 242,
   "metadata": {},
   "outputs": [
    {
     "data": {
      "text/plain": [
       "d    247553\n",
       "a    160302\n",
       "c    156528\n",
       "e    118148\n",
       "b     87801\n",
       "Name: nutri-score_letter_CALCULATED, dtype: int64"
      ]
     },
     "execution_count": 242,
     "metadata": {},
     "output_type": "execute_result"
    }
   ],
   "source": [
    "nutridata['nutri-score_letter_CALCULATED'].value_counts()"
   ]
  },
  {
   "cell_type": "code",
   "execution_count": null,
   "metadata": {},
   "outputs": [],
   "source": []
  },
  {
   "cell_type": "code",
   "execution_count": null,
   "metadata": {},
   "outputs": [],
   "source": []
  }
 ],
 "metadata": {
  "kernelspec": {
   "display_name": "Python 3",
   "language": "python",
   "name": "python3"
  },
  "language_info": {
   "codemirror_mode": {
    "name": "ipython",
    "version": 3
   },
   "file_extension": ".py",
   "mimetype": "text/x-python",
   "name": "python",
   "nbconvert_exporter": "python",
   "pygments_lexer": "ipython3",
   "version": "3.7.4"
  }
 },
 "nbformat": 4,
 "nbformat_minor": 4
}
