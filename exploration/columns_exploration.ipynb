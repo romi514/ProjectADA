{
 "cells": [
  {
   "cell_type": "code",
   "execution_count": 1,
   "metadata": {},
   "outputs": [],
   "source": [
    "%matplotlib inline\n",
    "import pandas as pd\n",
    "import numpy as np\n",
    "import re\n",
    "import os\n",
    "from matplotlib.ticker import MaxNLocator\n",
    "import matplotlib.pyplot as plt\n",
    "from requests import get\n",
    "from bs4 import BeautifulSoup\n",
    "from pandas.util import hash_pandas_object"
   ]
  },
  {
   "cell_type": "code",
   "execution_count": 2,
   "metadata": {},
   "outputs": [
    {
     "name": "stderr",
     "output_type": "stream",
     "text": [
      "/Users/Matt/anaconda3/envs/ada/lib/python3.7/site-packages/IPython/core/interactiveshell.py:3058: DtypeWarning: Columns (0,24,25,26,28,44,49) have mixed types. Specify dtype option on import or set low_memory=False.\n",
      "  interactivity=interactivity, compiler=compiler, result=result)\n"
     ]
    }
   ],
   "source": [
    "data = pd.read_csv('../data/en.openfoodfacts.org.products.csv', sep = '\\t')"
   ]
  },
  {
   "cell_type": "code",
   "execution_count": 3,
   "metadata": {},
   "outputs": [],
   "source": [
    "header = data.columns\n",
    "odf = pd.DataFrame()\n",
    "for index in header:\n",
    "    odf[index] =( [index , sum(data[index].notnull())/1023451*100  , data[index].value_counts().head(4).index.tolist() ])\n",
    "odf=odf.T\n",
    "odf =odf.drop(columns=0)\n",
    "odf=odf.rename(columns={1: \"%\", 2: \"exemple top-4\"})"
   ]
  },
  {
   "cell_type": "code",
   "execution_count": 4,
   "metadata": {},
   "outputs": [],
   "source": [
    "odfcut=odf[odf[\"%\"]>=3]"
   ]
  },
  {
   "cell_type": "code",
   "execution_count": 5,
   "metadata": {},
   "outputs": [],
   "source": [
    "odfcut.to_csv('odfcut.csv')\n"
   ]
  },
  {
   "cell_type": "markdown",
   "metadata": {},
   "source": [
    "Categories each product according to the PNNS"
   ]
  },
  {
   "cell_type": "code",
   "execution_count": 6,
   "metadata": {},
   "outputs": [],
   "source": [
    "pnns_category = {'Dairies','Composite','Fish Meat Eggs','Beverages','Fat Sauces','Fruits Vegetables','Starchy','Snacks'}"
   ]
  },
  {
   "cell_type": "code",
   "execution_count": 7,
   "metadata": {},
   "outputs": [
    {
     "data": {
      "text/plain": [
       "unknown                    716232\n",
       "Sugary snacks               57997\n",
       "Milk and dairy products     43467\n",
       "Fish Meat Eggs              42475\n",
       "Cereals and potatoes        34187\n",
       "Beverages                   29118\n",
       "Fat and sauces              28114\n",
       "Composite foods             25430\n",
       "Fruits and vegetables       24419\n",
       "Salty snacks                19825\n",
       "sugary-snacks                3469\n",
       "fruits-and-vegetables        2898\n",
       "cereals-and-potatoes           43\n",
       "salty-snacks                    5\n",
       "Name: pnns_groups_1, dtype: int64"
      ]
     },
     "execution_count": 7,
     "metadata": {},
     "output_type": "execute_result"
    }
   ],
   "source": [
    "data.pnns_groups_1.value_counts()"
   ]
  },
  {
   "cell_type": "code",
   "execution_count": 8,
   "metadata": {},
   "outputs": [],
   "source": [
    "pnns1_category = {'unknown' : 'Unknown',\n",
    " 'Sugary snacks' : 'Snacks', \n",
    " 'Milk and dairy products' : 'Dairies',\n",
    " 'Composite foods' : 'Composite', \n",
    " 'Cereals and potatoes' : 'Starchy', \n",
    " 'Fish Meat Eggs' : 'Fish Meat Eggs',\n",
    " 'Beverages' : 'Beverages',\n",
    " 'Fat and sauces' : 'Fat Sauces',\n",
    " 'Fruits and vegetables' : 'Fruits Vegetables',\n",
    " 'Salty snacks' : 'Snacks',\n",
    " 'fruits-and-vegetables' : 'Fruits Vegetables',\n",
    " 'sugary-snacks' : 'Snacks',\n",
    " 'cereals-and-potatoes' : 'Starchy',\n",
    " 'salty-snacks' : 'Snacks'\n",
    "}\n",
    "data['Category_Food'] = data['pnns_groups_1'].replace(pnns1_category)"
   ]
  },
  {
   "cell_type": "code",
   "execution_count": 9,
   "metadata": {},
   "outputs": [
    {
     "data": {
      "text/plain": [
       "Unknown              716232\n",
       "Snacks                81296\n",
       "Dairies               43467\n",
       "Fish Meat Eggs        42475\n",
       "Starchy               34230\n",
       "Beverages             29118\n",
       "Fat Sauces            28114\n",
       "Fruits Vegetables     27317\n",
       "Composite             25430\n",
       "Name: Category_Food, dtype: int64"
      ]
     },
     "execution_count": 9,
     "metadata": {},
     "output_type": "execute_result"
    }
   ],
   "source": [
    "data.Category_Food.value_counts()"
   ]
  },
  {
   "cell_type": "markdown",
   "metadata": {},
   "source": [
    "More category from 'main_category_en' source"
   ]
  },
  {
   "cell_type": "code",
   "execution_count": 10,
   "metadata": {},
   "outputs": [
    {
     "data": {
      "text/plain": [
       "Plant-based foods and beverages    86518\n",
       "Snacks                             51656\n",
       "Beverages                          43688\n",
       "Dairies                            38129\n",
       "Meats                              31497\n",
       "Groceries                          23517\n",
       "Meals                              17557\n",
       "Desserts                            7435\n",
       "Spreads                             7272\n",
       "Seafood                             7198\n",
       "Fruit juices                        6415\n",
       "Canned foods                        4731\n",
       "Frozen foods                        4138\n",
       "Biscuits and cakes                  3412\n",
       "Sweeteners                          2488\n",
       "Dietary supplements                 1995\n",
       "Breakfasts                          1861\n",
       "Vinegars                            1764\n",
       "Sandwiches                          1760\n",
       "Fats                                1674\n",
       "Farming products                    1631\n",
       "Fish and meat and eggs              1604\n",
       "Fruit-juices-and-nectars            1241\n",
       "Baby foods                          1231\n",
       "Pies                                 976\n",
       "Pickles                              948\n",
       "Olives                               831\n",
       "Green olives                         813\n",
       "Crêpes and galettes                  797\n",
       "Cooking helpers                      740\n",
       "Name: main_category_en, dtype: int64"
      ]
     },
     "execution_count": 10,
     "metadata": {},
     "output_type": "execute_result"
    }
   ],
   "source": [
    "data['main_category_en'].value_counts().head(30)"
   ]
  },
  {
   "cell_type": "code",
   "execution_count": 11,
   "metadata": {},
   "outputs": [],
   "source": [
    "maincategoryen_category = {'unknown' : 'Unknown',\n",
    "'Plant-based foods and beverages' : 'Brevages',\n",
    "'Snacks' : 'Snacks',\n",
    "'Beverages' : 'Beverages',\n",
    "'Dairies' : 'Dairies' ,\n",
    "'Meats' : 'Fish Meat Eggs',\n",
    "'Meals' : 'Composite',\n",
    "'Desserts' : 'Snacks',\n",
    "'Seafood' : 'Fish Meat Eggs',\n",
    "'Fruit juices' : 'Brevages',\n",
    "'Biscuits and cakes' : 'Snacks',\n",
    "'Fats' : 'Fat Sauces', \n",
    "'Fish and meat and eggs' : 'Fish Meat Eggs',\n",
    "'Fruit-juices-and-nectars' : 'Brevages'\n",
    "                          }\n",
    "\n",
    "data['Category_Food_frommaincategoryen'] = data['main_category_en'].replace(maincategoryen_category)"
   ]
  },
  {
   "cell_type": "code",
   "execution_count": 12,
   "metadata": {},
   "outputs": [],
   "source": [
    "data['Category_Food_frommaincategoryen'] = np.where(data['Category_Food_frommaincategoryen'].isin(pnns_category)==False,'Unknown',data['Category_Food_frommaincategoryen'])"
   ]
  },
  {
   "cell_type": "code",
   "execution_count": 13,
   "metadata": {},
   "outputs": [],
   "source": [
    "data['Category_Food']= np.where(data['Category_Food']=='Unknown', data['Category_Food_frommaincategoryen'], data['Category_Food'])\n",
    "                                                   "
   ]
  },
  {
   "cell_type": "code",
   "execution_count": 14,
   "metadata": {},
   "outputs": [
    {
     "data": {
      "text/plain": [
       "unknown                    716232\n",
       "Sugary snacks               57997\n",
       "Milk and dairy products     43467\n",
       "Fish Meat Eggs              42475\n",
       "Cereals and potatoes        34187\n",
       "Beverages                   29118\n",
       "Fat and sauces              28114\n",
       "Composite foods             25430\n",
       "Fruits and vegetables       24419\n",
       "Salty snacks                19825\n",
       "sugary-snacks                3469\n",
       "fruits-and-vegetables        2898\n",
       "cereals-and-potatoes           43\n",
       "salty-snacks                    5\n",
       "Name: pnns_groups_1, dtype: int64"
      ]
     },
     "execution_count": 14,
     "metadata": {},
     "output_type": "execute_result"
    }
   ],
   "source": [
    "data.pnns_groups_1.value_counts()"
   ]
  },
  {
   "cell_type": "code",
   "execution_count": 15,
   "metadata": {},
   "outputs": [
    {
     "data": {
      "text/plain": [
       "Unknown              700489\n",
       "Snacks                86055\n",
       "Dairies               45034\n",
       "Fish Meat Eggs        42484\n",
       "Beverages             38526\n",
       "Starchy               34230\n",
       "Fat Sauces            28114\n",
       "Fruits Vegetables     27317\n",
       "Composite             25430\n",
       "Name: Category_Food, dtype: int64"
      ]
     },
     "execution_count": 15,
     "metadata": {},
     "output_type": "execute_result"
    }
   ],
   "source": [
    "data.Category_Food.value_counts()"
   ]
  },
  {
   "cell_type": "code",
   "execution_count": 16,
   "metadata": {},
   "outputs": [
    {
     "data": {
      "text/plain": [
       "Compléments alimentaires                                                                                                             350\n",
       "Protein bars                                                                                                                         328\n",
       "Pancake mixes                                                                                                                        260\n",
       "Licensed products                                                                                                                    258\n",
       "Maple syrups                                                                                                                         235\n",
       "                                                                                                                                    ... \n",
       "Non pasteurisé                                                                                                                         1\n",
       "Iogurte de Beber                                                                                                                       1\n",
       "Groceries, Dried products, Broths, Dried products to be rehydrated, Dehydrated broths, Bouillon cubes, Bouillon de poule en cubes      1\n",
       "Tartinables                                                                                                                            1\n",
       "en:instant sweet                                                                                                                       1\n",
       "Name: categories, Length: 16699, dtype: int64"
      ]
     },
     "execution_count": 16,
     "metadata": {},
     "output_type": "execute_result"
    }
   ],
   "source": [
    "data[data['Category_Food']=='Unknown']['categories'].value_counts()"
   ]
  },
  {
   "cell_type": "code",
   "execution_count": 17,
   "metadata": {},
   "outputs": [
    {
     "data": {
      "text/plain": [
       "barquette                      1141\n",
       "Sachet,plastique               1050\n",
       "carton,plastique                998\n",
       "Sachet plastique                975\n",
       "conserve                        957\n",
       "pot                             944\n",
       "Karton                          904\n",
       "Bocal,Verre,Couvercle,Métal     874\n",
       "Carton,Plastique                847\n",
       "Sachet                          809\n",
       "boîte                           739\n",
       "carton,boîte,plastique          718\n",
       "bouteille,plastique             716\n",
       "Plastik                         703\n",
       "Plástico                        687\n",
       "sachet plastique                681\n",
       "plastic                         660\n",
       "Dose                            653\n",
       "Stück                           641\n",
       "Barquette,Plastique,Frais       581\n",
       "bouteille,verre                 578\n",
       "Name: packaging, dtype: int64"
      ]
     },
     "execution_count": 17,
     "metadata": {},
     "output_type": "execute_result"
    }
   ],
   "source": [
    "data.packaging.value_counts()[19:40]"
   ]
  },
  {
   "cell_type": "code",
   "execution_count": 20,
   "metadata": {},
   "outputs": [],
   "source": [
    "pack_mapping = dict.fromkeys(['plastic', 'plastique,frais','plastique', 'barquette,plastique', 'sachet,plastique',\n",
    "                              'frais,plastique','carton,plastique','carton,plastique,surgele','flacon,plastique'\n",
    "                 'sachet-plastique','carton,boite,plastique', 'boite,plastique', 'plastique,carton','sachet-plastique',\n",
    "                'sachet,plastique,surgele','barquette,plastique,frais','pot,plastique','plastique,sachet',\n",
    "                             'plastico','boite,carton,plastique','frais,plastique,carton','frais,carton,plastique',\n",
    "                              'carton,sachet,plastique','kunststoff','barquette,film,plastique,sous-atmosphere-protectrice',\n",
    "                             'carton,surgele,plastique','plastique,barquette','sachet,plastique,frais',\n",
    "                             'barquette,plastique,sous-atmosphere-protectrice','frais,barquette,plastique,opercule,film-plastique,sous-atmosphere-protectrice',\n",
    "                             'sachet,plastique,carton','film,plastique','sachet,plastique,sous-atmosphere-protectrice',\n",
    "                             'bolsa-de-plastico,ultracongelado','barquette-plastique','plastique,sous-vide','plastic,bag',\n",
    "                             'barquette,film,plastique','plastik','plastica','pot-plastique','plastic-bag','boite-plastique',\n",
    "                             'frais,barquette,plastique','05-pp','pp','sachet,plastique,etui,carton','bolsa-de-plastico',\n",
    "                             'boite,carton,sachet,plastique','pot,plastique,frais','botella,plastico','sachet,plastique,doypack',\n",
    "                             'sachet,plastique,sachet','plastique,boite','plastique,surgele','sac-plastique'],'Plastic')\n",
    "\n",
    "pack_mapping.update(dict.fromkeys(['bouteille,verre','carton','boite,carton','carton,surgele','karton','carton,boite','karton,kunststoff',\n",
    "                                  'sachet,papier','papier','bouteille,plastique','conserve','bocal,verre','glas',\n",
    "                                  'bouteille','conserve,metal','bocal,verre,couvercle,metal','bocal,verre,metal',\n",
    "                                  'verre','verre,bouteille','pot,verre','bocal','verre,bocal',\n",
    "                                  'flacon,plastique','bouteille-plastique','bottle','canned','pot-en-verre','bolsa,plastico',\n",
    "                                   'bouteille-verre','bocal-en-verre','verre,bocal,metal','plastique,bouteille','bouteille-en-verre','canette','pot,verre,couvercle,metal',\n",
    "                                  'glas,mehrwegpfand','carton,aluminium','boite,metal','botella-de-plastico','boite-carton',\n",
    "                                  'plastic-bottle','sous-vide','plastic,bottle','can','pot-en-plastique','glass','caja,carton','bote-de-vidrio',\n",
    "                                  'boite,conserve,metal','pet','becher','lata','bocal-verre','aluminium','caja-de-carton','bouteille,verre,capsule,metal',\n",
    "                                  'bokaal,glas','konserve','paper','glass-bottle','bocal,verre,couvercle,metal,conserve','glass-jar',\n",
    "                                  'glasflasche','flacon-verre','glas,flasche','kunststoff,karton','papier,aluminium','boite-de-conserve',\n",
    "                                  'pot-verre','canette,metal','carton,brique','flacon,verre','caja,carton,lata,en-conserva','bocal-verre,couvercle-metal','glass,bottle',\n",
    "                                  'conserve,boite,metal','carton,sachet','canette,aluminium','boite-en-carton','conserve,conserve'],'Recyclable'))\n",
    "\n",
    "pack_mapping.update(dict.fromkeys(['frais','surgele','surgele,carton,plastique','brique,carton','tetra-pak','tetra-brik','tetrapak',\n",
    "                                  'brique','tetrapack','surgele,carton','barquette,film,plastique,frais,sous-atmosphere-protectrice','sous-atmosphere-protectrice',\n",
    "                                  'carton,plastique,frais','frais,pot,plastique'],'Non-Recyclable'))\n",
    "\n",
    "\n",
    "data['emballage'] = data['packaging_tags'].replace(pack_mapping)"
   ]
  },
  {
   "cell_type": "code",
   "execution_count": 21,
   "metadata": {},
   "outputs": [
    {
     "data": {
      "text/plain": [
       "Recyclable                                           46498\n",
       "Plastic                                              45494\n",
       "Non-Recyclable                                        6570\n",
       "sachet                                                3352\n",
       "barquette                                             1511\n",
       "                                                     ...  \n",
       "putignano-ba                                             1\n",
       "plastic-film,glass-jar,metal-lid,carton-board,pot        1\n",
       "frais,pot-et-opercule-a-jeter                            1\n",
       "pot,verre,couvercle,capsule                              1\n",
       "carton,sachet-protecteur                                 1\n",
       "Name: emballage, Length: 26508, dtype: int64"
      ]
     },
     "execution_count": 21,
     "metadata": {},
     "output_type": "execute_result"
    }
   ],
   "source": [
    "data['emballage'].value_counts()"
   ]
  },
  {
   "cell_type": "markdown",
   "metadata": {},
   "source": [
    "# NUTRISCORE\n",
    "https://quoidansmonassiette.fr/comment-est-calcule-le-nutri-score-logo-nutritionnel/\n",
    "\n"
   ]
  },
  {
   "cell_type": "code",
   "execution_count": 33,
   "metadata": {},
   "outputs": [],
   "source": [
    "# energy\n",
    "energy_bins = [data['energy_100g'].min() - 1, 335, 670, 1005, 1340, 1675, 2010, 2345, 2680, 3015, 3350, data['energy_100g'].max()]\n",
    "data['energy_points'] = pd.cut(data['energy_100g'], energy_bins, labels=range(11)).astype(float)\n",
    "\n",
    "\n",
    "# sugar aliments\n",
    "sugar_aliments_bins = [data['sugars_100g'].min() - 1, 0, 1.5, 3, 4.5, 6, 7.5, 9, 10.5, 12, 13.5, data['sugars_100g'].max()]\n",
    "data['sugar_points'] = pd.cut(data['sugars_100g'], sugar_bins, labels=range(11)).astype(float)\n",
    "# sugar beverages\n",
    "sugar_beverages_bins = [data['sugars_100g'].min() - 1, 4.5, 9, 13.5, 18, 22.5, 27, 31, 36, 40, 45, data['sugars_100g'].max()]\n",
    "data['sugar_points'] = pd.cut(data['sugars_100g'], sugar_bins, labels=range(11)).astype(float)\n",
    "\n",
    "\n",
    "\n",
    "# fat aliments\n",
    "fat_bins = [data['saturated-fat_100g'].min() - 1, 1, 2, 3, 4, 5, 6, 7, 8, 9, 10, data['saturated-fat_100g'].max()]\n",
    "data['saturated-fat_points'] = pd.cut(data['saturated-fat_100g'], fat_bins, labels=range(11)).astype(float)\n",
    "# fat fat sauces\n",
    "fat_fatsauces_bins = [data['saturated-fat_100g'].min() - 1, 10, 16, 22, 28, 34, 40, 46, 52, 58, 64, data['saturated-fat_100g'].max()]\n",
    "data['saturated-fat_points'] = pd.cut(data['saturated-fat_100g'], fat_bins, labels=range(11)).astype(float)\n",
    "\n",
    "\n",
    "# sodium\n",
    "sodium_bins = [data['sodium_100g'].min() - 1, 90, 180, 270, 360, 450, 540, 630, 720, 810, 900, data['sodium_100g'].max()]\n",
    "data['sodium_points'] = pd.cut(data['sodium_100g'], sodium_bins, labels=range(11)).astype(float)\n",
    "\n"
   ]
  },
  {
   "cell_type": "code",
   "execution_count": null,
   "metadata": {},
   "outputs": [],
   "source": [
    "data['points_N'] = data['energy_points'] + data['fat_points'] + data['sugar_points'] + data['sodium_points']"
   ]
  },
  {
   "cell_type": "code",
   "execution_count": 36,
   "metadata": {},
   "outputs": [
    {
     "data": {
      "text/plain": [
       "0.000     4047\n",
       "0.100     1107\n",
       "14.000     770\n",
       "13.330     706\n",
       "13.000     636\n",
       "          ... \n",
       "0.890        1\n",
       "67.900       1\n",
       "20.200       1\n",
       "85.200       1\n",
       "9.209        1\n",
       "Name: saturated-fat_100g, Length: 904, dtype: int64"
      ]
     },
     "execution_count": 36,
     "metadata": {},
     "output_type": "execute_result"
    }
   ],
   "source": [
    "data[data['Category_Food']=='Fat Sauces']['saturated-fat_100g'].value_counts()"
   ]
  },
  {
   "cell_type": "code",
   "execution_count": 30,
   "metadata": {},
   "outputs": [
    {
     "data": {
      "text/plain": [
       "0          4.0\n",
       "1          NaN\n",
       "2          2.0\n",
       "3          NaN\n",
       "4          0.0\n",
       "          ... \n",
       "1038901    4.0\n",
       "1038902    4.0\n",
       "1038903    1.0\n",
       "1038904    NaN\n",
       "1038905    NaN\n",
       "Name: energy_points, Length: 1038906, dtype: float64"
      ]
     },
     "execution_count": 30,
     "metadata": {},
     "output_type": "execute_result"
    }
   ],
   "source": []
  },
  {
   "cell_type": "code",
   "execution_count": null,
   "metadata": {},
   "outputs": [],
   "source": []
  }
 ],
 "metadata": {
  "kernelspec": {
   "display_name": "Python 3",
   "language": "python",
   "name": "python3"
  },
  "language_info": {
   "codemirror_mode": {
    "name": "ipython",
    "version": 3
   },
   "file_extension": ".py",
   "mimetype": "text/x-python",
   "name": "python",
   "nbconvert_exporter": "python",
   "pygments_lexer": "ipython3",
   "version": "3.7.4"
  }
 },
 "nbformat": 4,
 "nbformat_minor": 4
}
