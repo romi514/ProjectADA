{
 "cells": [
  {
   "cell_type": "code",
   "execution_count": null,
   "metadata": {},
   "outputs": [],
   "source": [
    "%matplotlib inline\n",
    "import pandas as pd\n",
    "import numpy as np\n",
    "import re\n",
    "import os\n",
    "from matplotlib.ticker import MaxNLocator\n",
    "import matplotlib.pyplot as plt\n",
    "from requests import get\n",
    "from bs4 import BeautifulSoup\n",
    "from pandas.util import hash_pandas_object"
   ]
  },
  {
   "cell_type": "code",
   "execution_count": null,
   "metadata": {},
   "outputs": [],
   "source": [
    "data = pd.read_csv('data/en.openfoodfacts.org.products.csv', sep = '\\t')"
   ]
  },
  {
   "cell_type": "code",
   "execution_count": 30,
   "metadata": {},
   "outputs": [],
   "source": [
    "header = data.columns\n",
    "odf = pd.DataFrame()\n",
    "for index in header:\n",
    "    odf[index] =( [index , sum(data[index].notnull())/1023451*100  , data[index].value_counts().head(4).index.tolist() ])\n",
    "odf=odf.T\n",
    "odf =odf.drop(columns=0)\n",
    "odf=odf.rename(columns={1: \"%\", 2: \"exemple top-4\"})"
   ]
  },
  {
   "cell_type": "code",
   "execution_count": null,
   "metadata": {},
   "outputs": [],
   "source": [
    "odfcut=odf[odf[\"%\"]>=3]"
   ]
  },
  {
   "cell_type": "code",
   "execution_count": null,
   "metadata": {},
   "outputs": [],
   "source": [
    "odfcut.to_csv('odfcut.csv')\n"
   ]
  },
  {
   "cell_type": "markdown",
   "metadata": {},
   "source": [
    "Categories each product according to the PNNS"
   ]
  },
  {
   "cell_type": "code",
   "execution_count": 31,
   "metadata": {},
   "outputs": [
    {
     "data": {
      "text/plain": [
       "unknown                    705708\n",
       "Sugary snacks               56989\n",
       "Milk and dairy products     42729\n",
       "Fish Meat Eggs              41703\n",
       "Cereals and potatoes        33594\n",
       "Beverages                   28901\n",
       "Fat and sauces              27723\n",
       "Composite foods             25014\n",
       "Fruits and vegetables       24014\n",
       "Salty snacks                19645\n",
       "sugary-snacks                3450\n",
       "fruits-and-vegetables        2862\n",
       "cereals-and-potatoes           43\n",
       "salty-snacks                    5\n",
       "Name: pnns_groups_1, dtype: int64"
      ]
     },
     "execution_count": 31,
     "metadata": {},
     "output_type": "execute_result"
    }
   ],
   "source": [
    "data.pnns_groups_1.value_counts()"
   ]
  },
  {
   "cell_type": "code",
   "execution_count": 32,
   "metadata": {},
   "outputs": [],
   "source": [
    "pnns1_category = {'unknown' : 'Unknown',\n",
    " 'Sugary snacks' : 'Snacks', \n",
    " 'Milk and dairy products' : 'Dairies',\n",
    " 'Composite foods' : 'Composite', \n",
    " 'Cereals and potatoes' : 'Starchy', \n",
    " 'Fish Meat Eggs' : 'Fish Meat Eggs',\n",
    " 'Beverages' : 'Beverages',\n",
    " 'Fat and sauces' : 'Fat Sauces',\n",
    " 'Fruits and vegetables' : 'Fruits Vegetables',\n",
    " 'Salty snacks' : 'Snacks',\n",
    " 'fruits-and-vegetables' : 'Fruits Vegetables',\n",
    " 'sugary-snacks' : 'Snacks',\n",
    " 'cereals-and-potatoes' : 'Starchy',\n",
    " 'salty-snacks' : 'Snacks'\n",
    "}\n",
    "data['Category_Food'] = data['pnns_groups_1'].replace(pnns1_category)"
   ]
  },
  {
   "cell_type": "code",
   "execution_count": 33,
   "metadata": {},
   "outputs": [
    {
     "data": {
      "text/plain": [
       "Unknown              705708\n",
       "Snacks                80089\n",
       "Dairies               42729\n",
       "Fish Meat Eggs        41703\n",
       "Starchy               33637\n",
       "Beverages             28901\n",
       "Fat Sauces            27723\n",
       "Fruits Vegetables     26876\n",
       "Composite             25014\n",
       "Name: Category_Food, dtype: int64"
      ]
     },
     "execution_count": 33,
     "metadata": {},
     "output_type": "execute_result"
    }
   ],
   "source": [
    "data.Category_Food.value_counts()"
   ]
  },
  {
   "cell_type": "markdown",
   "metadata": {},
   "source": [
    "More category from 'main_category_en' source"
   ]
  },
  {
   "cell_type": "code",
   "execution_count": 34,
   "metadata": {},
   "outputs": [
    {
     "data": {
      "text/plain": [
       "Plant-based foods and beverages    85178\n",
       "Snacks                             50961\n",
       "Beverages                          42838\n",
       "Dairies                            37304\n",
       "Meats                              31040\n",
       "Groceries                          23197\n",
       "Meals                              17231\n",
       "Spreads                             7299\n",
       "Desserts                            7213\n",
       "Seafood                             6947\n",
       "Fruit juices                        6359\n",
       "Canned foods                        4671\n",
       "Frozen foods                        4107\n",
       "Biscuits and cakes                  3283\n",
       "Sweeteners                          2442\n",
       "Dietary supplements                 1937\n",
       "Vinegars                            1739\n",
       "Sandwiches                          1737\n",
       "Breakfasts                          1689\n",
       "Fats                                1675\n",
       "Farming products                    1603\n",
       "Fish and meat and eggs              1602\n",
       "Baby foods                          1390\n",
       "Fruit-juices-and-nectars            1241\n",
       "Pies                                 974\n",
       "Pickles                              923\n",
       "Olives                               813\n",
       "Green olives                         808\n",
       "Crêpes and galettes                  795\n",
       "Cooking helpers                      739\n",
       "Name: main_category_en, dtype: int64"
      ]
     },
     "execution_count": 34,
     "metadata": {},
     "output_type": "execute_result"
    }
   ],
   "source": [
    "data['main_category_en'].value_counts().head(30)"
   ]
  },
  {
   "cell_type": "code",
   "execution_count": 35,
   "metadata": {},
   "outputs": [],
   "source": [
    "maincategoryen_category = {'unknown' : 'Unknown',\n",
    "'Plant-based foods and beverages' : 'Brevages',\n",
    "'Snacks' : 'Snacks',\n",
    "'Beverages' : 'Beverages',\n",
    "'Dairies' : 'Dairies' ,\n",
    "'Meats' : 'Fish Meat Eggs',\n",
    "'Meals' : 'Composite',\n",
    "'Desserts' : 'Snacks',\n",
    "'Seafood' : 'Fish Meat Eggs',\n",
    "'Fruit juices' : 'Brevages',\n",
    "'Biscuits and cakes' : 'Snacks',\n",
    "'Fats' : 'Fat Sauces', \n",
    "'Fish and meat and eggs' : 'Fish Meat Eggs',\n",
    "'Fruit-juices-and-nectars' : 'Brevages'\n",
    "                          }\n",
    "\n",
    "\n",
    "data['Category Food bis'] = data['main_category_en'].replace(maincategoryen_category)"
   ]
  },
  {
   "cell_type": "code",
   "execution_count": 36,
   "metadata": {},
   "outputs": [
    {
     "data": {
      "text/plain": [
       "Brevages               92778\n",
       "Snacks                 61457\n",
       "Beverages              42838\n",
       "Fish Meat Eggs         39589\n",
       "Dairies                37304\n",
       "Groceries              23197\n",
       "Composite              17231\n",
       "Spreads                 7299\n",
       "Canned foods            4671\n",
       "Frozen foods            4107\n",
       "Sweeteners              2442\n",
       "Dietary supplements     1937\n",
       "Vinegars                1739\n",
       "Sandwiches              1737\n",
       "Breakfasts              1689\n",
       "Fat Sauces              1675\n",
       "Farming products        1603\n",
       "Baby foods              1390\n",
       "Pies                     974\n",
       "Pickles                  923\n",
       "Name: Category Food bis, dtype: int64"
      ]
     },
     "execution_count": 36,
     "metadata": {},
     "output_type": "execute_result"
    }
   ],
   "source": [
    "data['Category Food bis'].value_counts().head(20)"
   ]
  },
  {
   "cell_type": "code",
   "execution_count": 37,
   "metadata": {},
   "outputs": [
    {
     "data": {
      "text/html": [
       "<div>\n",
       "<style scoped>\n",
       "    .dataframe tbody tr th:only-of-type {\n",
       "        vertical-align: middle;\n",
       "    }\n",
       "\n",
       "    .dataframe tbody tr th {\n",
       "        vertical-align: top;\n",
       "    }\n",
       "\n",
       "    .dataframe thead th {\n",
       "        text-align: right;\n",
       "    }\n",
       "</style>\n",
       "<table border=\"1\" class=\"dataframe\">\n",
       "  <thead>\n",
       "    <tr style=\"text-align: right;\">\n",
       "      <th></th>\n",
       "      <th>Category Food bis</th>\n",
       "      <th>Category Food</th>\n",
       "    </tr>\n",
       "  </thead>\n",
       "  <tbody>\n",
       "    <tr>\n",
       "      <td>0</td>\n",
       "      <td>NaN</td>\n",
       "      <td>Unknown</td>\n",
       "    </tr>\n",
       "    <tr>\n",
       "      <td>1</td>\n",
       "      <td>NaN</td>\n",
       "      <td>Unknown</td>\n",
       "    </tr>\n",
       "    <tr>\n",
       "      <td>2</td>\n",
       "      <td>fr:xsf</td>\n",
       "      <td>Unknown</td>\n",
       "    </tr>\n",
       "    <tr>\n",
       "      <td>3</td>\n",
       "      <td>NaN</td>\n",
       "      <td>Unknown</td>\n",
       "    </tr>\n",
       "    <tr>\n",
       "      <td>4</td>\n",
       "      <td>NaN</td>\n",
       "      <td>Unknown</td>\n",
       "    </tr>\n",
       "    <tr>\n",
       "      <td>...</td>\n",
       "      <td>...</td>\n",
       "      <td>...</td>\n",
       "    </tr>\n",
       "    <tr>\n",
       "      <td>1023446</td>\n",
       "      <td>fr:tests</td>\n",
       "      <td>Unknown</td>\n",
       "    </tr>\n",
       "    <tr>\n",
       "      <td>1023447</td>\n",
       "      <td>NaN</td>\n",
       "      <td>Unknown</td>\n",
       "    </tr>\n",
       "    <tr>\n",
       "      <td>1023448</td>\n",
       "      <td>Snacks</td>\n",
       "      <td>Unknown</td>\n",
       "    </tr>\n",
       "    <tr>\n",
       "      <td>1023449</td>\n",
       "      <td>Fish Meat Eggs</td>\n",
       "      <td>Fish Meat Eggs</td>\n",
       "    </tr>\n",
       "    <tr>\n",
       "      <td>1023450</td>\n",
       "      <td>NaN</td>\n",
       "      <td>Unknown</td>\n",
       "    </tr>\n",
       "  </tbody>\n",
       "</table>\n",
       "<p>1023451 rows × 2 columns</p>\n",
       "</div>"
      ],
      "text/plain": [
       "        Category Food bis   Category Food\n",
       "0                     NaN         Unknown\n",
       "1                     NaN         Unknown\n",
       "2                  fr:xsf         Unknown\n",
       "3                     NaN         Unknown\n",
       "4                     NaN         Unknown\n",
       "...                   ...             ...\n",
       "1023446          fr:tests         Unknown\n",
       "1023447               NaN         Unknown\n",
       "1023448            Snacks         Unknown\n",
       "1023449    Fish Meat Eggs  Fish Meat Eggs\n",
       "1023450               NaN         Unknown\n",
       "\n",
       "[1023451 rows x 2 columns]"
      ]
     },
     "execution_count": 37,
     "metadata": {},
     "output_type": "execute_result"
    }
   ],
   "source": [
    "data[['Category Food bis','Category Food']]"
   ]
  },
  {
   "cell_type": "code",
   "execution_count": null,
   "metadata": {},
   "outputs": [],
   "source": []
  }
 ],
 "metadata": {
  "kernelspec": {
   "display_name": "Python 3",
   "language": "python",
   "name": "python3"
  },
  "language_info": {
   "codemirror_mode": {
    "name": "ipython",
    "version": 3
   },
   "file_extension": ".py",
   "mimetype": "text/x-python",
   "name": "python",
   "nbconvert_exporter": "python",
   "pygments_lexer": "ipython3",
   "version": "3.7.4"
  }
 },
 "nbformat": 4,
 "nbformat_minor": 4
}
