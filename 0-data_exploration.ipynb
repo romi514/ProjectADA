{
 "cells": [
  {
   "cell_type": "code",
   "execution_count": 2,
   "metadata": {},
   "outputs": [],
   "source": [
    "import pandas as pd\n"
   ]
  },
  {
   "cell_type": "code",
   "execution_count": 3,
   "metadata": {},
   "outputs": [
    {
     "name": "stderr",
     "output_type": "stream",
     "text": [
      "C:\\Users\\Yann Schilling\\Anaconda3\\envs\\ada\\lib\\site-packages\\IPython\\core\\interactiveshell.py:3058: DtypeWarning: Columns (0,24,25,26,28,44,49) have mixed types. Specify dtype option on import or set low_memory=False.\n",
      "  interactivity=interactivity, compiler=compiler, result=result)\n"
     ]
    }
   ],
   "source": [
    "data = pd.read_csv('data/openfoodfacts.csv', sep = '\\t')"
   ]
  },
  {
   "cell_type": "code",
   "execution_count": 22,
   "metadata": {},
   "outputs": [
    {
     "data": {
      "text/plain": [
       "Index(['created_t', 'last_modified_t'], dtype='object')"
      ]
     },
     "execution_count": 22,
     "metadata": {},
     "output_type": "execute_result"
    }
   ],
   "source": [
    "# - fields that end with _t are dates in the UNIX timestamp format (number of seconds since Jan 1st 1970)\n",
    "col_unixdate = data.columns[[x.endswith('_t') for x in data.columns]]\n",
    "col_unixdate"
   ]
  },
  {
   "cell_type": "code",
   "execution_count": 24,
   "metadata": {},
   "outputs": [
    {
     "data": {
      "text/plain": [
       "Index(['created_datetime', 'last_modified_datetime'], dtype='object')"
      ]
     },
     "execution_count": 24,
     "metadata": {},
     "output_type": "execute_result"
    }
   ],
   "source": [
    "# - fields that end with _datetime are dates in the iso8601 format: yyyy-mm-ddThh:mn:ssZ\n",
    "col_dateiso8601 = data.columns[[x.endswith('_datetime') for x in data.columns]]\n",
    "col_dateiso8601"
   ]
  },
  {
   "cell_type": "code",
   "execution_count": 25,
   "metadata": {},
   "outputs": [
    {
     "data": {
      "text/plain": [
       "Index(['packaging_tags', 'brands_tags', 'categories_tags', 'origins_tags',\n",
       "       'manufacturing_places_tags', 'labels_tags', 'emb_codes_tags',\n",
       "       'cities_tags', 'countries_tags', 'traces_tags', 'additives_tags',\n",
       "       'ingredients_from_palm_oil_tags',\n",
       "       'ingredients_that_may_be_from_palm_oil_tags', 'states_tags'],\n",
       "      dtype='object')"
      ]
     },
     "execution_count": 25,
     "metadata": {},
     "output_type": "execute_result"
    }
   ],
   "source": [
    "# - fields that end with _tags are comma separated list of tags (e.g. categories_tags is the set of normalized tags computer from the categories field)\n",
    "col_categorytags= data.columns[[x.endswith('_tags') for x in data.columns]]\n",
    "col_categorytags"
   ]
  },
  {
   "cell_type": "code",
   "execution_count": 119,
   "metadata": {},
   "outputs": [
    {
     "data": {
      "text/plain": [
       "Index(['energy_100g', 'energy-from-fat_100g', 'fat_100g', 'saturated-fat_100g',\n",
       "       '-butyric-acid_100g', '-caproic-acid_100g', '-caprylic-acid_100g',\n",
       "       '-capric-acid_100g', '-lauric-acid_100g', '-myristic-acid_100g',\n",
       "       ...\n",
       "       'carbon-footprint-from-meat-or-fish_100g', 'nutrition-score-fr_100g',\n",
       "       'nutrition-score-uk_100g', 'glycemic-index_100g', 'water-hardness_100g',\n",
       "       'choline_100g', 'phylloquinone_100g', 'beta-glucan_100g',\n",
       "       'inositol_100g', 'carnitine_100g'],\n",
       "      dtype='object', length=107)"
      ]
     },
     "execution_count": 119,
     "metadata": {},
     "output_type": "execute_result"
    }
   ],
   "source": [
    "# - fields that end with _100g correspond to the amount of a nutriment (in g, or kJ for energy) for 100 g or 100 ml of product\n",
    "col_100gnutri= data.columns[[x.endswith('_100g') for x in data.columns]]\n",
    "col_100gnutri"
   ]
  },
  {
   "cell_type": "code",
   "execution_count": 28,
   "metadata": {},
   "outputs": [
    {
     "data": {
      "text/plain": [
       "Index([], dtype='object')"
      ]
     },
     "execution_count": 28,
     "metadata": {},
     "output_type": "execute_result"
    }
   ],
   "source": [
    "#- fields that end with _serving correspond to the amount of a nutriment (in g, or kJ for energy) for 1 serving of the product\n",
    "col_servnutri= data.columns[[x.endswith('_serving') for x in data.columns]]\n",
    "col_servnutri"
   ]
  },
  {
   "cell_type": "code",
   "execution_count": 56,
   "metadata": {},
   "outputs": [
    {
     "data": {
      "text/html": [
       "<div>\n",
       "<style scoped>\n",
       "    .dataframe tbody tr th:only-of-type {\n",
       "        vertical-align: middle;\n",
       "    }\n",
       "\n",
       "    .dataframe tbody tr th {\n",
       "        vertical-align: top;\n",
       "    }\n",
       "\n",
       "    .dataframe thead th {\n",
       "        text-align: right;\n",
       "    }\n",
       "</style>\n",
       "<table border=\"1\" class=\"dataframe\">\n",
       "  <thead>\n",
       "    <tr style=\"text-align: right;\">\n",
       "      <th></th>\n",
       "      <th>code</th>\n",
       "      <th>url</th>\n",
       "      <th>creator</th>\n",
       "      <th>created_t</th>\n",
       "      <th>created_datetime</th>\n",
       "      <th>last_modified_t</th>\n",
       "      <th>last_modified_datetime</th>\n",
       "      <th>product_name</th>\n",
       "      <th>generic_name</th>\n",
       "      <th>quantity</th>\n",
       "      <th>...</th>\n",
       "      <th>carbon-footprint-from-meat-or-fish_100g</th>\n",
       "      <th>nutrition-score-fr_100g</th>\n",
       "      <th>nutrition-score-uk_100g</th>\n",
       "      <th>glycemic-index_100g</th>\n",
       "      <th>water-hardness_100g</th>\n",
       "      <th>choline_100g</th>\n",
       "      <th>phylloquinone_100g</th>\n",
       "      <th>beta-glucan_100g</th>\n",
       "      <th>inositol_100g</th>\n",
       "      <th>carnitine_100g</th>\n",
       "    </tr>\n",
       "    <tr>\n",
       "      <th>stores</th>\n",
       "      <th></th>\n",
       "      <th></th>\n",
       "      <th></th>\n",
       "      <th></th>\n",
       "      <th></th>\n",
       "      <th></th>\n",
       "      <th></th>\n",
       "      <th></th>\n",
       "      <th></th>\n",
       "      <th></th>\n",
       "      <th></th>\n",
       "      <th></th>\n",
       "      <th></th>\n",
       "      <th></th>\n",
       "      <th></th>\n",
       "      <th></th>\n",
       "      <th></th>\n",
       "      <th></th>\n",
       "      <th></th>\n",
       "      <th></th>\n",
       "      <th></th>\n",
       "    </tr>\n",
       "  </thead>\n",
       "  <tbody>\n",
       "    <tr>\n",
       "      <td>#sinob</td>\n",
       "      <td>7</td>\n",
       "      <td>7</td>\n",
       "      <td>7</td>\n",
       "      <td>7</td>\n",
       "      <td>7</td>\n",
       "      <td>7</td>\n",
       "      <td>7</td>\n",
       "      <td>7</td>\n",
       "      <td>1</td>\n",
       "      <td>7</td>\n",
       "      <td>...</td>\n",
       "      <td>0</td>\n",
       "      <td>6</td>\n",
       "      <td>6</td>\n",
       "      <td>0</td>\n",
       "      <td>0</td>\n",
       "      <td>0</td>\n",
       "      <td>0</td>\n",
       "      <td>0</td>\n",
       "      <td>0</td>\n",
       "      <td>0</td>\n",
       "    </tr>\n",
       "    <tr>\n",
       "      <td>&amp;quot;La ferme de viltain&amp;quot;</td>\n",
       "      <td>1</td>\n",
       "      <td>1</td>\n",
       "      <td>1</td>\n",
       "      <td>1</td>\n",
       "      <td>1</td>\n",
       "      <td>1</td>\n",
       "      <td>1</td>\n",
       "      <td>1</td>\n",
       "      <td>0</td>\n",
       "      <td>1</td>\n",
       "      <td>...</td>\n",
       "      <td>0</td>\n",
       "      <td>1</td>\n",
       "      <td>1</td>\n",
       "      <td>0</td>\n",
       "      <td>0</td>\n",
       "      <td>0</td>\n",
       "      <td>0</td>\n",
       "      <td>0</td>\n",
       "      <td>0</td>\n",
       "      <td>0</td>\n",
       "    </tr>\n",
       "    <tr>\n",
       "      <td>''</td>\n",
       "      <td>1</td>\n",
       "      <td>1</td>\n",
       "      <td>1</td>\n",
       "      <td>1</td>\n",
       "      <td>1</td>\n",
       "      <td>1</td>\n",
       "      <td>1</td>\n",
       "      <td>1</td>\n",
       "      <td>0</td>\n",
       "      <td>1</td>\n",
       "      <td>...</td>\n",
       "      <td>0</td>\n",
       "      <td>0</td>\n",
       "      <td>0</td>\n",
       "      <td>0</td>\n",
       "      <td>0</td>\n",
       "      <td>0</td>\n",
       "      <td>0</td>\n",
       "      <td>0</td>\n",
       "      <td>0</td>\n",
       "      <td>0</td>\n",
       "    </tr>\n",
       "    <tr>\n",
       "      <td>(s)Match</td>\n",
       "      <td>1</td>\n",
       "      <td>1</td>\n",
       "      <td>1</td>\n",
       "      <td>1</td>\n",
       "      <td>1</td>\n",
       "      <td>1</td>\n",
       "      <td>1</td>\n",
       "      <td>1</td>\n",
       "      <td>1</td>\n",
       "      <td>1</td>\n",
       "      <td>...</td>\n",
       "      <td>0</td>\n",
       "      <td>0</td>\n",
       "      <td>0</td>\n",
       "      <td>0</td>\n",
       "      <td>0</td>\n",
       "      <td>0</td>\n",
       "      <td>0</td>\n",
       "      <td>0</td>\n",
       "      <td>0</td>\n",
       "      <td>0</td>\n",
       "    </tr>\n",
       "    <tr>\n",
       "      <td>..., REWE</td>\n",
       "      <td>1</td>\n",
       "      <td>1</td>\n",
       "      <td>1</td>\n",
       "      <td>1</td>\n",
       "      <td>1</td>\n",
       "      <td>1</td>\n",
       "      <td>1</td>\n",
       "      <td>1</td>\n",
       "      <td>0</td>\n",
       "      <td>1</td>\n",
       "      <td>...</td>\n",
       "      <td>0</td>\n",
       "      <td>1</td>\n",
       "      <td>1</td>\n",
       "      <td>0</td>\n",
       "      <td>0</td>\n",
       "      <td>0</td>\n",
       "      <td>0</td>\n",
       "      <td>0</td>\n",
       "      <td>0</td>\n",
       "      <td>0</td>\n",
       "    </tr>\n",
       "    <tr>\n",
       "      <td>...</td>\n",
       "      <td>...</td>\n",
       "      <td>...</td>\n",
       "      <td>...</td>\n",
       "      <td>...</td>\n",
       "      <td>...</td>\n",
       "      <td>...</td>\n",
       "      <td>...</td>\n",
       "      <td>...</td>\n",
       "      <td>...</td>\n",
       "      <td>...</td>\n",
       "      <td>...</td>\n",
       "      <td>...</td>\n",
       "      <td>...</td>\n",
       "      <td>...</td>\n",
       "      <td>...</td>\n",
       "      <td>...</td>\n",
       "      <td>...</td>\n",
       "      <td>...</td>\n",
       "      <td>...</td>\n",
       "      <td>...</td>\n",
       "      <td>...</td>\n",
       "    </tr>\n",
       "    <tr>\n",
       "      <td>武商量贩</td>\n",
       "      <td>1</td>\n",
       "      <td>1</td>\n",
       "      <td>1</td>\n",
       "      <td>1</td>\n",
       "      <td>1</td>\n",
       "      <td>1</td>\n",
       "      <td>1</td>\n",
       "      <td>1</td>\n",
       "      <td>1</td>\n",
       "      <td>1</td>\n",
       "      <td>...</td>\n",
       "      <td>0</td>\n",
       "      <td>0</td>\n",
       "      <td>0</td>\n",
       "      <td>0</td>\n",
       "      <td>0</td>\n",
       "      <td>0</td>\n",
       "      <td>0</td>\n",
       "      <td>0</td>\n",
       "      <td>0</td>\n",
       "      <td>0</td>\n",
       "    </tr>\n",
       "    <tr>\n",
       "      <td>衣物</td>\n",
       "      <td>1</td>\n",
       "      <td>1</td>\n",
       "      <td>1</td>\n",
       "      <td>1</td>\n",
       "      <td>1</td>\n",
       "      <td>1</td>\n",
       "      <td>1</td>\n",
       "      <td>1</td>\n",
       "      <td>0</td>\n",
       "      <td>1</td>\n",
       "      <td>...</td>\n",
       "      <td>0</td>\n",
       "      <td>0</td>\n",
       "      <td>0</td>\n",
       "      <td>0</td>\n",
       "      <td>0</td>\n",
       "      <td>0</td>\n",
       "      <td>0</td>\n",
       "      <td>0</td>\n",
       "      <td>0</td>\n",
       "      <td>0</td>\n",
       "    </tr>\n",
       "    <tr>\n",
       "      <td>西友</td>\n",
       "      <td>1</td>\n",
       "      <td>1</td>\n",
       "      <td>1</td>\n",
       "      <td>1</td>\n",
       "      <td>1</td>\n",
       "      <td>1</td>\n",
       "      <td>1</td>\n",
       "      <td>0</td>\n",
       "      <td>0</td>\n",
       "      <td>1</td>\n",
       "      <td>...</td>\n",
       "      <td>0</td>\n",
       "      <td>0</td>\n",
       "      <td>0</td>\n",
       "      <td>0</td>\n",
       "      <td>0</td>\n",
       "      <td>0</td>\n",
       "      <td>0</td>\n",
       "      <td>0</td>\n",
       "      <td>0</td>\n",
       "      <td>0</td>\n",
       "    </tr>\n",
       "    <tr>\n",
       "      <td>赤坂Bizタワー SHOPS &amp; DINING</td>\n",
       "      <td>1</td>\n",
       "      <td>1</td>\n",
       "      <td>1</td>\n",
       "      <td>1</td>\n",
       "      <td>1</td>\n",
       "      <td>1</td>\n",
       "      <td>1</td>\n",
       "      <td>0</td>\n",
       "      <td>0</td>\n",
       "      <td>1</td>\n",
       "      <td>...</td>\n",
       "      <td>0</td>\n",
       "      <td>0</td>\n",
       "      <td>0</td>\n",
       "      <td>0</td>\n",
       "      <td>0</td>\n",
       "      <td>0</td>\n",
       "      <td>0</td>\n",
       "      <td>0</td>\n",
       "      <td>0</td>\n",
       "      <td>0</td>\n",
       "    </tr>\n",
       "    <tr>\n",
       "      <td>생협</td>\n",
       "      <td>1</td>\n",
       "      <td>1</td>\n",
       "      <td>1</td>\n",
       "      <td>1</td>\n",
       "      <td>1</td>\n",
       "      <td>1</td>\n",
       "      <td>1</td>\n",
       "      <td>1</td>\n",
       "      <td>1</td>\n",
       "      <td>1</td>\n",
       "      <td>...</td>\n",
       "      <td>0</td>\n",
       "      <td>0</td>\n",
       "      <td>0</td>\n",
       "      <td>0</td>\n",
       "      <td>0</td>\n",
       "      <td>0</td>\n",
       "      <td>0</td>\n",
       "      <td>0</td>\n",
       "      <td>0</td>\n",
       "      <td>0</td>\n",
       "    </tr>\n",
       "  </tbody>\n",
       "</table>\n",
       "<p>10399 rows × 174 columns</p>\n",
       "</div>"
      ],
      "text/plain": [
       "                                 code  url  creator  created_t  \\\n",
       "stores                                                           \n",
       "#sinob                              7    7        7          7   \n",
       "&quot;La ferme de viltain&quot;     1    1        1          1   \n",
       "''                                  1    1        1          1   \n",
       "(s)Match                            1    1        1          1   \n",
       "..., REWE                           1    1        1          1   \n",
       "...                               ...  ...      ...        ...   \n",
       "武商量贩                                1    1        1          1   \n",
       "衣物                                  1    1        1          1   \n",
       "西友                                  1    1        1          1   \n",
       "赤坂Bizタワー SHOPS & DINING             1    1        1          1   \n",
       "생협                                  1    1        1          1   \n",
       "\n",
       "                                 created_datetime  last_modified_t  \\\n",
       "stores                                                               \n",
       "#sinob                                          7                7   \n",
       "&quot;La ferme de viltain&quot;                 1                1   \n",
       "''                                              1                1   \n",
       "(s)Match                                        1                1   \n",
       "..., REWE                                       1                1   \n",
       "...                                           ...              ...   \n",
       "武商量贩                                            1                1   \n",
       "衣物                                              1                1   \n",
       "西友                                              1                1   \n",
       "赤坂Bizタワー SHOPS & DINING                         1                1   \n",
       "생협                                              1                1   \n",
       "\n",
       "                                 last_modified_datetime  product_name  \\\n",
       "stores                                                                  \n",
       "#sinob                                                7             7   \n",
       "&quot;La ferme de viltain&quot;                       1             1   \n",
       "''                                                    1             1   \n",
       "(s)Match                                              1             1   \n",
       "..., REWE                                             1             1   \n",
       "...                                                 ...           ...   \n",
       "武商量贩                                                  1             1   \n",
       "衣物                                                    1             1   \n",
       "西友                                                    1             0   \n",
       "赤坂Bizタワー SHOPS & DINING                               1             0   \n",
       "생협                                                    1             1   \n",
       "\n",
       "                                 generic_name  quantity  ...  \\\n",
       "stores                                                   ...   \n",
       "#sinob                                      1         7  ...   \n",
       "&quot;La ferme de viltain&quot;             0         1  ...   \n",
       "''                                          0         1  ...   \n",
       "(s)Match                                    1         1  ...   \n",
       "..., REWE                                   0         1  ...   \n",
       "...                                       ...       ...  ...   \n",
       "武商量贩                                        1         1  ...   \n",
       "衣物                                          0         1  ...   \n",
       "西友                                          0         1  ...   \n",
       "赤坂Bizタワー SHOPS & DINING                     0         1  ...   \n",
       "생협                                          1         1  ...   \n",
       "\n",
       "                                 carbon-footprint-from-meat-or-fish_100g  \\\n",
       "stores                                                                     \n",
       "#sinob                                                                 0   \n",
       "&quot;La ferme de viltain&quot;                                        0   \n",
       "''                                                                     0   \n",
       "(s)Match                                                               0   \n",
       "..., REWE                                                              0   \n",
       "...                                                                  ...   \n",
       "武商量贩                                                                   0   \n",
       "衣物                                                                     0   \n",
       "西友                                                                     0   \n",
       "赤坂Bizタワー SHOPS & DINING                                                0   \n",
       "생협                                                                     0   \n",
       "\n",
       "                                 nutrition-score-fr_100g  \\\n",
       "stores                                                     \n",
       "#sinob                                                 6   \n",
       "&quot;La ferme de viltain&quot;                        1   \n",
       "''                                                     0   \n",
       "(s)Match                                               0   \n",
       "..., REWE                                              1   \n",
       "...                                                  ...   \n",
       "武商量贩                                                   0   \n",
       "衣物                                                     0   \n",
       "西友                                                     0   \n",
       "赤坂Bizタワー SHOPS & DINING                                0   \n",
       "생협                                                     0   \n",
       "\n",
       "                                 nutrition-score-uk_100g  glycemic-index_100g  \\\n",
       "stores                                                                          \n",
       "#sinob                                                 6                    0   \n",
       "&quot;La ferme de viltain&quot;                        1                    0   \n",
       "''                                                     0                    0   \n",
       "(s)Match                                               0                    0   \n",
       "..., REWE                                              1                    0   \n",
       "...                                                  ...                  ...   \n",
       "武商量贩                                                   0                    0   \n",
       "衣物                                                     0                    0   \n",
       "西友                                                     0                    0   \n",
       "赤坂Bizタワー SHOPS & DINING                                0                    0   \n",
       "생협                                                     0                    0   \n",
       "\n",
       "                                 water-hardness_100g  choline_100g  \\\n",
       "stores                                                               \n",
       "#sinob                                             0             0   \n",
       "&quot;La ferme de viltain&quot;                    0             0   \n",
       "''                                                 0             0   \n",
       "(s)Match                                           0             0   \n",
       "..., REWE                                          0             0   \n",
       "...                                              ...           ...   \n",
       "武商量贩                                               0             0   \n",
       "衣物                                                 0             0   \n",
       "西友                                                 0             0   \n",
       "赤坂Bizタワー SHOPS & DINING                            0             0   \n",
       "생협                                                 0             0   \n",
       "\n",
       "                                 phylloquinone_100g  beta-glucan_100g  \\\n",
       "stores                                                                  \n",
       "#sinob                                            0                 0   \n",
       "&quot;La ferme de viltain&quot;                   0                 0   \n",
       "''                                                0                 0   \n",
       "(s)Match                                          0                 0   \n",
       "..., REWE                                         0                 0   \n",
       "...                                             ...               ...   \n",
       "武商量贩                                              0                 0   \n",
       "衣物                                                0                 0   \n",
       "西友                                                0                 0   \n",
       "赤坂Bizタワー SHOPS & DINING                           0                 0   \n",
       "생협                                                0                 0   \n",
       "\n",
       "                                 inositol_100g  carnitine_100g  \n",
       "stores                                                          \n",
       "#sinob                                       0               0  \n",
       "&quot;La ferme de viltain&quot;              0               0  \n",
       "''                                           0               0  \n",
       "(s)Match                                     0               0  \n",
       "..., REWE                                    0               0  \n",
       "...                                        ...             ...  \n",
       "武商量贩                                         0               0  \n",
       "衣物                                           0               0  \n",
       "西友                                           0               0  \n",
       "赤坂Bizタワー SHOPS & DINING                      0               0  \n",
       "생협                                           0               0  \n",
       "\n",
       "[10399 rows x 174 columns]"
      ]
     },
     "execution_count": 56,
     "metadata": {},
     "output_type": "execute_result"
    }
   ],
   "source": [
    "data.groupby('stores').count()"
   ]
  },
  {
   "cell_type": "code",
   "execution_count": 92,
   "metadata": {},
   "outputs": [
    {
     "data": {
      "text/plain": [
       "180167"
      ]
     },
     "execution_count": 92,
     "metadata": {},
     "output_type": "execute_result"
    }
   ],
   "source": [
    "sum(data.stores.notnull())"
   ]
  },
  {
   "cell_type": "code",
   "execution_count": 102,
   "metadata": {},
   "outputs": [
    {
     "data": {
      "text/plain": [
       "405"
      ]
     },
     "execution_count": 102,
     "metadata": {},
     "output_type": "execute_result"
    }
   ],
   "source": [
    "sum(data['carbon-footprint_100g'].notnull())"
   ]
  },
  {
   "cell_type": "code",
   "execution_count": 109,
   "metadata": {},
   "outputs": [
    {
     "data": {
      "text/plain": [
       "100740"
      ]
     },
     "execution_count": 109,
     "metadata": {},
     "output_type": "execute_result"
    }
   ],
   "source": [
    "sum(data[data.countries == \"France\"].stores.notnull())"
   ]
  },
  {
   "cell_type": "code",
   "execution_count": 110,
   "metadata": {},
   "outputs": [
    {
     "data": {
      "text/plain": [
       "54857"
      ]
     },
     "execution_count": 110,
     "metadata": {},
     "output_type": "execute_result"
    }
   ],
   "source": [
    "sum(data.origins.notnull())"
   ]
  },
  {
   "cell_type": "code",
   "execution_count": 113,
   "metadata": {},
   "outputs": [
    {
     "data": {
      "text/plain": [
       "54857"
      ]
     },
     "execution_count": 113,
     "metadata": {},
     "output_type": "execute_result"
    }
   ],
   "source": [
    "len(data[data.origins.notnull()].origins)"
   ]
  },
  {
   "cell_type": "code",
   "execution_count": 118,
   "metadata": {},
   "outputs": [
    {
     "data": {
      "text/plain": [
       "0             France\n",
       "1             France\n",
       "2          en:France\n",
       "3             France\n",
       "4             France\n",
       "             ...    \n",
       "1017853        en:FR\n",
       "1017854        en:FR\n",
       "1017855       France\n",
       "1017856       France\n",
       "1017857        en:be\n",
       "Name: countries, Length: 1017858, dtype: object"
      ]
     },
     "execution_count": 118,
     "metadata": {},
     "output_type": "execute_result"
    }
   ],
   "source": [
    "data.countries"
   ]
  }
 ],
 "metadata": {
  "kernelspec": {
   "display_name": "Python 3",
   "language": "python",
   "name": "python3"
  },
  "language_info": {
   "codemirror_mode": {
    "name": "ipython",
    "version": 3
   },
   "file_extension": ".py",
   "mimetype": "text/x-python",
   "name": "python",
   "nbconvert_exporter": "python",
   "pygments_lexer": "ipython3",
   "version": "3.7.1"
  }
 },
 "nbformat": 4,
 "nbformat_minor": 4
}
