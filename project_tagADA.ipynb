{
 "cells": [
  {
   "cell_type": "code",
   "execution_count": 49,
   "metadata": {},
   "outputs": [],
   "source": [
    "%matplotlib inline\n",
    "import pandas as pd\n",
    "import numpy as np\n",
    "import re\n",
    "import os\n",
    "import seaborn as sns; sns.set()\n",
    "from matplotlib.ticker import MaxNLocator\n",
    "import matplotlib.pyplot as plt\n",
    "from requests import get\n",
    "from bs4 import BeautifulSoup\n",
    "from pandas.util import hash_pandas_object\n",
    "\n",
    "import nltk\n",
    "from nltk.tokenize import RegexpTokenizer\n",
    "from nltk.corpus import stopwords\n",
    "from nltk import pos_tag\n",
    "from nltk.stem import SnowballStemmer\n",
    "from nltk.stem import WordNetLemmatizer\n",
    "#Uncomment next line when u first use nltk and press download when all in selected on the windows of nltk downloads\n",
    "#nltk.download()\n",
    "\n",
    "import string\n",
    "from ast import literal_eval\n",
    "from tqdm import tqdm\n",
    "#To detect language for stemming\n",
    "# https://en.wikipedia.org/wiki/List_of_ISO_639-1_codes\n",
    "from langdetect import detect"
   ]
  },
  {
   "cell_type": "markdown",
   "metadata": {},
   "source": [
    "## Import data"
   ]
  },
  {
   "cell_type": "code",
   "execution_count": 50,
   "metadata": {},
   "outputs": [],
   "source": [
    "raw_data = pd.read_csv('data/en.openfoodfacts.org.products.csv', sep = '\\t')"
   ]
  },
  {
   "cell_type": "markdown",
   "metadata": {},
   "source": [
    "#### Drop columns not needed, explore missing values, and delete rows with zero or one value present"
   ]
  },
  {
   "cell_type": "code",
   "execution_count": 51,
   "metadata": {},
   "outputs": [],
   "source": [
    "columns2keep = ['energy_100g','sugars_100g','saturated-fat_100g','sodium_100g',\n",
    "    'fruits-vegetables-nuts_100g','fiber_100g','proteins_100g','nutrition-score-uk_100g',\n",
    "    'nutrition_grade_fr','main_category_en','packaging','categories','labels_en',\n",
    "    'pnns_groups_1','pnns_groups_2','product_name','ingredients_text','nutrition_grade_fr']"
   ]
  },
  {
   "cell_type": "code",
   "execution_count": 52,
   "metadata": {},
   "outputs": [],
   "source": [
    "data = raw_data[columns2keep]"
   ]
  },
  {
   "cell_type": "code",
   "execution_count": 53,
   "metadata": {},
   "outputs": [],
   "source": [
    "data = data.replace(\"unknown\",np.nan)"
   ]
  },
  {
   "cell_type": "code",
   "execution_count": 54,
   "metadata": {},
   "outputs": [],
   "source": [
    "data = data.loc[(~data.isnull()).sum(axis=1)>1]"
   ]
  },
  {
   "cell_type": "markdown",
   "metadata": {},
   "source": [
    "# FOOD CATEGORIES"
   ]
  },
  {
   "cell_type": "markdown",
   "metadata": {},
   "source": [
    "In our first step, we aim to categorize products according to their Food Category. The PNNS (\"Programme national nutrition santé\" in French) aims at categorizing food in several major classes: Dairies, Composite, Fish Meat Eggs, Beverages, Fat Sauces, Fruits Vegetables, Starchy, and Snacks.\n",
    "\n",
    "https://www.cerin.org/rapports/groupes-groupes-daliments/"
   ]
  },
  {
   "cell_type": "markdown",
   "metadata": {},
   "source": [
    "### From pnns_groups_1 column\n",
    "\n",
    "We map the given pnns categories to our 8 major ones"
   ]
  },
  {
   "cell_type": "code",
   "execution_count": 55,
   "metadata": {},
   "outputs": [
    {
     "data": {
      "text/plain": [
       "Sugary snacks              57997\n",
       "Milk and dairy products    43467\n",
       "Fish Meat Eggs             42475\n",
       "Cereals and potatoes       34187\n",
       "Beverages                  29118\n",
       "Fat and sauces             28114\n",
       "Composite foods            25430\n",
       "Fruits and vegetables      24419\n",
       "Salty snacks               19825\n",
       "sugary-snacks               3469\n",
       "fruits-and-vegetables       2898\n",
       "cereals-and-potatoes          43\n",
       "salty-snacks                   5\n",
       "Name: pnns_groups_1, dtype: int64"
      ]
     },
     "execution_count": 55,
     "metadata": {},
     "output_type": "execute_result"
    }
   ],
   "source": [
    "data[\"pnns_groups_1\"].value_counts()"
   ]
  },
  {
   "cell_type": "code",
   "execution_count": 56,
   "metadata": {},
   "outputs": [],
   "source": [
    "# dictionnary to normalize category names into PNNS category\n",
    "pnns1_category = {\n",
    " 'Sugary snacks' : 'Snacks', \n",
    " 'Milk and dairy products' : 'Dairies',\n",
    " 'Composite foods' : 'Composite', \n",
    " 'Cereals and potatoes' : 'Starchy', \n",
    " 'Fish Meat Eggs' : 'Fish Meat Eggs',\n",
    " 'Beverages' : 'Beverages',\n",
    " 'Fat and sauces' : 'Fat Sauces',\n",
    " 'Fruits and vegetables' : 'Fruits Vegetables',\n",
    " 'Salty snacks' : 'Snacks',\n",
    " 'fruits-and-vegetables' : 'Fruits Vegetables',\n",
    " 'sugary-snacks' : 'Snacks',\n",
    " 'cereals-and-potatoes' : 'Starchy',\n",
    " 'salty-snacks' : 'Snacks'\n",
    "}\n",
    "data.loc[:,'food_category'] = data['pnns_groups_1'].map(pnns1_category)"
   ]
  },
  {
   "cell_type": "code",
   "execution_count": 57,
   "metadata": {},
   "outputs": [
    {
     "data": {
      "text/plain": [
       "Snacks               81296\n",
       "Dairies              43467\n",
       "Fish Meat Eggs       42475\n",
       "Starchy              34230\n",
       "Beverages            29118\n",
       "Fat Sauces           28114\n",
       "Fruits Vegetables    27317\n",
       "Composite            25430\n",
       "Name: food_category, dtype: int64"
      ]
     },
     "execution_count": 57,
     "metadata": {},
     "output_type": "execute_result"
    }
   ],
   "source": [
    "# New pnns categories\n",
    "data[\"food_category\"].value_counts()"
   ]
  },
  {
   "cell_type": "markdown",
   "metadata": {},
   "source": [
    "### From pnns_groups_2 column\n",
    "\n",
    "We notice that several products haven't been categorized but have a non missing value in pnns_groups_2"
   ]
  },
  {
   "cell_type": "code",
   "execution_count": 58,
   "metadata": {},
   "outputs": [
    {
     "data": {
      "text/plain": [
       "Alcoholic beverages       10378\n",
       "Pizza pies and quiches      399\n",
       "Name: pnns_groups_2, dtype: int64"
      ]
     },
     "execution_count": 58,
     "metadata": {},
     "output_type": "execute_result"
    }
   ],
   "source": [
    "# Values of pnns_groups_2 which haven't been classified in food_category\n",
    "data.loc[data.food_category.isnull()][\"pnns_groups_2\"].value_counts()"
   ]
  },
  {
   "cell_type": "code",
   "execution_count": 59,
   "metadata": {},
   "outputs": [],
   "source": [
    "# dictionnary to extend food_categories from pnns_groups_2\n",
    "pnns2_category = {\n",
    " 'Pizza pies and quiches' : 'Composite', \n",
    " 'Alcoholic beverages' : 'Beverages',\n",
    "}\n",
    "data.loc[data.food_category.isnull(),'food_category'] = data.loc[data.food_category.isnull()]['pnns_groups_2'].map(pnns2_category)"
   ]
  },
  {
   "cell_type": "code",
   "execution_count": 60,
   "metadata": {},
   "outputs": [
    {
     "data": {
      "text/plain": [
       "Snacks               81296\n",
       "Dairies              43467\n",
       "Fish Meat Eggs       42475\n",
       "Beverages            39496\n",
       "Starchy              34230\n",
       "Fat Sauces           28114\n",
       "Fruits Vegetables    27317\n",
       "Composite            25829\n",
       "Name: food_category, dtype: int64"
      ]
     },
     "execution_count": 60,
     "metadata": {},
     "output_type": "execute_result"
    }
   ],
   "source": [
    "data[\"food_category\"].value_counts()"
   ]
  },
  {
   "cell_type": "markdown",
   "metadata": {},
   "source": [
    "### From main_category_en column\n",
    "\n",
    "We complete our categorization with the help of the 'main_category_en' column"
   ]
  },
  {
   "cell_type": "code",
   "execution_count": 61,
   "metadata": {},
   "outputs": [
    {
     "data": {
      "text/plain": [
       "Beverages                          9408\n",
       "Groceries                          5884\n",
       "Plant-based foods and beverages    5218\n",
       "Snacks                             3482\n",
       "Dietary supplements                1995\n",
       "Dairies                            1567\n",
       "Desserts                           1277\n",
       "Sweeteners                         1237\n",
       "Baby foods                         1231\n",
       "Cooking helpers                     740\n",
       "Crêpes and galettes                 686\n",
       "Food additives                      581\n",
       "Non food products                   518\n",
       "Canned foods                        480\n",
       "Frozen foods                        452\n",
       "Spreads                             395\n",
       "Cocoa and chocolate powders         322\n",
       "Licensed products                   306\n",
       "Syrups                              286\n",
       "Chips and fries                     265\n",
       "es:bolleria-industrial              237\n",
       "fr:bloc-de-foie-gras-de-canard      229\n",
       "Pizza dough                         204\n",
       "Breakfasts                          197\n",
       "Banana-crisps                       197\n",
       "Fish eggs                           171\n",
       "Terrines                            166\n",
       "fr:escalopes                        165\n",
       "Salads                              160\n",
       "fr:pilons-de-poulet                 136\n",
       "Name: main_category_en, dtype: int64"
      ]
     },
     "execution_count": 61,
     "metadata": {},
     "output_type": "execute_result"
    }
   ],
   "source": [
    "data.loc[data.food_category.isnull()][\"main_category_en\"].value_counts().head(30)"
   ]
  },
  {
   "cell_type": "code",
   "execution_count": 62,
   "metadata": {},
   "outputs": [],
   "source": [
    "# After inspecting the food type for the 30 most frequent values in main_category_en, we create the following dictionary\n",
    "maincategoryen_category = {\n",
    "'Beverages' : 'Beverages',\n",
    "'Snacks' : 'Snacks',\n",
    "'Dairies' : 'Dairies',\n",
    "'Desserts' : 'Dairies',\n",
    "'Crêpes and galettes' : 'Snacks',\n",
    "'Cocoa and chocolate powders': 'Snacks',\n",
    "'Syrups':'Fat Sauces',\n",
    "'Chips and fries': 'Snacks',\n",
    "'es:bolleria-industrial': 'Snacks',\n",
    "'fr:bloc-de-foie-gras-de-canard': 'Fish Meat Eggs' ,\n",
    "'Pizza dough' : 'Starchy',\n",
    "'Breakfast' : 'Starchy',\n",
    "'Banana-crisps' : \"Snacks\",\n",
    "'Fish eggs' : 'Fish Meat Eggs',\n",
    "'Terrines' : 'Fish Meat Eggs',\n",
    "'fr:escalopes' : 'Fish Meat Eggs',\n",
    "'Salads' : 'Fruits Vegetables',\n",
    "'fr:pilons-de-poulet' : 'Fish Meat Eggs'\n",
    "}\n",
    "\n",
    "data.loc[data.food_category.isnull(),'food_category'] =  data.loc[data.food_category.isnull(),'main_category_en'].map(maincategoryen_category)"
   ]
  },
  {
   "cell_type": "code",
   "execution_count": 63,
   "metadata": {},
   "outputs": [
    {
     "data": {
      "text/plain": [
       "0.3746498453334856"
      ]
     },
     "execution_count": 63,
     "metadata": {},
     "output_type": "execute_result"
    }
   ],
   "source": [
    "sum(data[\"food_category\"].value_counts())/len(data)"
   ]
  },
  {
   "cell_type": "markdown",
   "metadata": {},
   "source": [
    "**After these steps, we managed to categorize 37% of our date among PNNS groups.**\n",
    "\n",
    "For the unclassified data, the other columns don't bring any strong evidence for the categorization of the product. For instance, a lot of Dietary Supplements or Non Food Products are unclassified. Also, the table beneath shows that no column with above 10% completeness for uncategorized data gives us direct information on food categories."
   ]
  },
  {
   "cell_type": "code",
   "execution_count": 64,
   "metadata": {},
   "outputs": [
    {
     "data": {
      "text/plain": [
       "code                                       1.000000\n",
       "states_en                                  1.000000\n",
       "pnns_groups_1                              1.000000\n",
       "pnns_groups_2                              1.000000\n",
       "states                                     1.000000\n",
       "states_tags                                1.000000\n",
       "last_modified_datetime                     1.000000\n",
       "last_modified_t                            1.000000\n",
       "created_datetime                           1.000000\n",
       "created_t                                  1.000000\n",
       "creator                                    1.000000\n",
       "url                                        1.000000\n",
       "countries                                  0.998816\n",
       "countries_en                               0.998816\n",
       "countries_tags                             0.998816\n",
       "product_name                               0.994096\n",
       "energy_100g                                0.940715\n",
       "proteins_100g                              0.937935\n",
       "carbohydrates_100g                         0.935725\n",
       "fat_100g                                   0.935375\n",
       "sugars_100g                                0.919299\n",
       "salt_100g                                  0.913822\n",
       "sodium_100g                                0.913766\n",
       "saturated-fat_100g                         0.895185\n",
       "image_small_url                            0.655938\n",
       "image_url                                  0.655938\n",
       "brands                                     0.528470\n",
       "brands_tags                                0.528430\n",
       "image_ingredients_url                      0.494578\n",
       "image_ingredients_small_url                0.494578\n",
       "ingredients_text                           0.411080\n",
       "ingredients_that_may_be_from_palm_oil_n    0.410891\n",
       "ingredients_from_palm_oil_n                0.410891\n",
       "additives_n                                0.410891\n",
       "fiber_100g                                 0.313347\n",
       "serving_quantity                           0.305649\n",
       "serving_size                               0.305603\n",
       "image_nutrition_url                        0.283229\n",
       "image_nutrition_small_url                  0.283229\n",
       "nova_group                                 0.238739\n",
       "additives_tags                             0.230018\n",
       "additives_en                               0.230018\n",
       "cholesterol_100g                           0.213545\n",
       "trans-fat_100g                             0.212554\n",
       "iron_100g                                  0.209647\n",
       "vitamin-c_100g                             0.209215\n",
       "calcium_100g                               0.208444\n",
       "vitamin-a_100g                             0.205186\n",
       "quantity                                   0.166608\n",
       "labels                                     0.137194\n",
       "labels_tags                                0.137183\n",
       "labels_en                                  0.137183\n",
       "dtype: float64"
      ]
     },
     "execution_count": 64,
     "metadata": {},
     "output_type": "execute_result"
    }
   ],
   "source": [
    "completeness = raw_data.iloc[data[data.food_category.isnull()].index].count().sort_values(ascending=False)/len(data.loc[data.food_category.isnull()])\n",
    "completeness.loc[completeness>0.1]"
   ]
  },
  {
   "cell_type": "code",
   "execution_count": 65,
   "metadata": {},
   "outputs": [],
   "source": [
    "classified_data = data.loc[~data.food_category.isnull()]\n",
    "unclassified_data = data.loc[data.food_category.isnull()]"
   ]
  },
  {
   "cell_type": "code",
   "execution_count": 66,
   "metadata": {},
   "outputs": [
    {
     "data": {
      "text/plain": [
       "0.630505126296229"
      ]
     },
     "execution_count": 66,
     "metadata": {},
     "output_type": "execute_result"
    }
   ],
   "source": [
    "classified_data.loc[~classified_data.ingredients_text.isnull(),\"ingredients_text\"].count()/len(classified_data)"
   ]
  },
  {
   "cell_type": "markdown",
   "metadata": {},
   "source": [
    "40% of the remaining data has a list of ingredients, and 62% of our classified data also has a list of ingredients. We will use word similarities on the words in ingredient_text to associate unclassified products to categories if the similarity is big enough."
   ]
  },
  {
   "cell_type": "markdown",
   "metadata": {},
   "source": [
    "### Using Ingredients_text column "
   ]
  },
  {
   "cell_type": "code",
   "execution_count": 67,
   "metadata": {},
   "outputs": [
    {
     "name": "stderr",
     "output_type": "stream",
     "text": [
      "/Users/Matt/anaconda3/envs/ada/lib/python3.7/site-packages/pandas/core/indexing.py:494: SettingWithCopyWarning: \n",
      "A value is trying to be set on a copy of a slice from a DataFrame.\n",
      "Try using .loc[row_indexer,col_indexer] = value instead\n",
      "\n",
      "See the caveats in the documentation: http://pandas.pydata.org/pandas-docs/stable/user_guide/indexing.html#returning-a-view-versus-a-copy\n",
      "  self.obj[item] = s\n"
     ]
    }
   ],
   "source": [
    "# We clean the list of ingredients by removing punctuation and numbers\n",
    "\n",
    "def clean_text(df,col):\n",
    "    \n",
    "    caracters2delete = ['%','-',':',',',\"  \",'(',')',';','/','_','*','\\d+','.','\\'','[',']']\n",
    "\n",
    "    df.loc[:,col] = df.loc[:,col].str.lower()\n",
    "    for c in caracters2delete:\n",
    "        df.loc[:,col] = df.loc[:,col].str.replace(c,' ')\n",
    "\n",
    "    \n",
    "\n",
    "clean_text(classified_data,\"ingredients_text\")\n",
    "clean_text(unclassified_data,\"ingredients_text\")"
   ]
  },
  {
   "cell_type": "code",
   "execution_count": 68,
   "metadata": {},
   "outputs": [
    {
     "data": {
      "text/plain": [
       "{'eau': 0.0808946783802888,\n",
       " 'jus': 0.05653842270019186,\n",
       " 'sucre': 0.035140866404119966,\n",
       " 'water': 0.02599212359890942,\n",
       " 'gazéifiée': 0.014924770271634857,\n",
       " 'malt': 0.014046248611531859,\n",
       " 'orange': 0.013995758860951227,\n",
       " 'orge': 0.011945874987377562,\n",
       " 'pomme': 0.01147127133191962,\n",
       " 'thé': 0.01139048773099061,\n",
       " 'contient': 0.010289811168332828,\n",
       " 'agua': 0.010219125517519943,\n",
       " 'base': 0.009885893163687771,\n",
       " 'juice': 0.009057861254165404,\n",
       " 'wasser': 0.008987175603352519,\n",
       " 'sulfites': 0.008431788346965566,\n",
       " 'fruits': 0.007997576491972129,\n",
       " 'source': 0.007876401090578612,\n",
       " 'fructose': 0.007462385135817429,\n",
       " 'sugar': 0.007169544582449763,\n",
       " 'tea': 0.0071190548318691305,\n",
       " 'café': 0.00700797738059174,\n",
       " 'sirop': 0.006614157326062809,\n",
       " 'carbonated': 0.0064525901242047864,\n",
       " 'vert': 0.005836615167121075,\n",
       " 'minérale': 0.0058063213167726955,\n",
       " 'acidifiant': 0.005705341815611431,\n",
       " 'vin': 0.005574068464101787,\n",
       " 'purée': 0.005574068464101787,\n",
       " 'naturelle': 0.005422599212359891,\n",
       " 'arôme': 0.0049883873573664545,\n",
       " 'filtered': 0.004978289407250328,\n",
       " 'noir': 0.004776330404927799,\n",
       " 'acide': 0.004645057053418156,\n",
       " 'glucose': 0.0043421185499343635,\n",
       " 'pur': 0.004291628799353731,\n",
       " 'colorant': 0.004231041098656973,\n",
       " 'zucker': 0.003918004645057053,\n",
       " 'kohlensäure': 0.0038877107947086743,\n",
       " 'mineralwasser': 0.0038473189942441685,\n",
       " 'corn': 0.0037968292436635362,\n",
       " 'canne': 0.0037968292436635362,\n",
       " 'high': 0.0037463394930829044,\n",
       " 'concentrate': 0.003604968191457134,\n",
       " 'citron': 0.0035847722912248814,\n",
       " 'natürliches': 0.0035443804907603757,\n",
       " 'apple': 0.00350398869029587,\n",
       " 'organic': 0.0034232050893668584,\n",
       " 'acid': 0.0034232050893668584,\n",
       " 'extrait': 0.0033727153387862266,\n",
       " 'bio': 0.0033626173886701,\n",
       " 'lait': 0.0033222255882055943,\n",
       " 'moulu': 0.0031404624861153187,\n",
       " 'natural': 0.0031202665858830656,\n",
       " 'citric': 0.00307987478541856,\n",
       " 'caramel': 0.0030697768353024337,\n",
       " 'pommes': 0.00293850348379279,\n",
       " 'aus': 0.0029284055336766634,\n",
       " 'gerstenmalz': 0.0028981116833282842,\n",
       " 'coco': 0.0028072301322831466,\n",
       " 'from': 0.00279713218216702,\n",
       " 'green': 0.0027870342320508936,\n",
       " 'soja': 0.002675956780773503,\n",
       " 'rouge': 0.0026557608805412502,\n",
       " 'ananas': 0.002635564980308997,\n",
       " 'pulpe': 0.002625467030192871,\n",
       " 'raisin': 0.002625467030192871,\n",
       " 'concentré': 0.0025446834292638595,\n",
       " 'boisson': 0.002393214177521963,\n",
       " 'black': 0.00237301827728971,\n",
       " 'infusion': 0.0023326264768252043,\n",
       " 'blanc': 0.002322528526709078,\n",
       " 'poudre': 0.002302332626476825,\n",
       " 'coconut': 0.002272038776128446,\n",
       " 'arabica': 0.0022619408260123194,\n",
       " 'naturel': 0.0021811572250833083,\n",
       " 'apfelsaft': 0.0021710592749671818,\n",
       " 'malts': 0.0021205695243865495,\n",
       " 'aloe': 0.002039785923457538,\n",
       " 'cacao': 0.0020195900232252853,\n",
       " 'alcool': 0.0019791982227607796,\n",
       " 'ingredients': 0.0019590023225285265,\n",
       " 'issu': 0.0019489043724124002,\n",
       " 'barley': 0.001918610522064021,\n",
       " 'zumo': 0.001918610522064021,\n",
       " 'soluble': 0.0018984146218317681,\n",
       " 'hopfen': 0.0018277289710188832,\n",
       " 'vera': 0.0018176310209027568,\n",
       " 'cane': 0.0017368474199737454,\n",
       " 'ingrédients': 0.001706553569625366,\n",
       " 'noix': 0.0016560638190447339,\n",
       " 'citrique': 0.0016560638190447339,\n",
       " 'jugo': 0.001635867918812481,\n",
       " 'bière': 0.001635867918812481,\n",
       " 'fruit': 0.0016257699686963547,\n",
       " 'carbonatada': 0.0016055740684641018,\n",
       " 'instant': 0.0015954761183479753,\n",
       " 'milk': 0.001585378168231849,\n",
       " 'arômes': 0.001585378168231849,\n",
       " 'riz': 0.001565182267999596}"
      ]
     },
     "execution_count": 68,
     "metadata": {},
     "output_type": "execute_result"
    }
   ],
   "source": [
    "# We compute the set of words for each category by keeping the 100 most frequent words that aren't stopWords\n",
    "\n",
    "from collections import Counter\n",
    "import nltk\n",
    "from nltk.corpus import stopwords\n",
    "\n",
    "# The dominant language in the ingredients in french\n",
    "stopWords = stopwords.words('french') + [\"kg\",\"g\",\"v\",\"a\",\"b\",\"k\",\"e\",\"mg\",\"and\",\"of\",\"ml\",\"cl\"]\n",
    "\n",
    "def jaccard_similarity(list1, list2):\n",
    "    s1 = set(list1) # gives the keys\n",
    "    s2 = set(list2)\n",
    "    return len(s1.intersection(s2)) / len(s1.union(s2))\n",
    "\n",
    "def createWordSet(df):   \n",
    "    count = Counter([ word for sentence in df.loc[~df[\"ingredients_text\"].isnull(),\"ingredients_text\"].tolist() for word in sentence.split(\" \")[:5] if word not in stopWords])\n",
    "    count[\"\"] = 0\n",
    "    n = sum(count.values())\n",
    "    return dict([(word[0],word[1]/n) for word in count.most_common(100)])\n",
    "\n",
    "category_words = classified_data.groupby(\"food_category\").apply(createWordSet)\n",
    "category_words[\"Beverages\"]"
   ]
  },
  {
   "cell_type": "code",
   "execution_count": 69,
   "metadata": {},
   "outputs": [
    {
     "data": {
      "text/plain": [
       "{'porc': 0.0869895314712882,\n",
       " 'viande': 0.0667240951365873,\n",
       " 'sel': 0.03347885123592881,\n",
       " 'jambon': 0.028178884816983253,\n",
       " 'poulet': 0.020177833583974538,\n",
       " 'filets': 0.016892730431735555,\n",
       " 'origine': 0.01649851805346688,\n",
       " 'water': 0.015374282752478428,\n",
       " 'saumon': 0.013286417193499876,\n",
       " 'filet': 0.011870172723423516,\n",
       " 'sardines': 0.01182637134806033,\n",
       " 'thon': 0.011665766305061978,\n",
       " 'eau': 0.010702136047071879,\n",
       " 'gras': 0.010585332379436714,\n",
       " 'beef': 0.010103517250441663,\n",
       " 'salt': 0.009256690660086726,\n",
       " 'huile': 0.008190857192915858,\n",
       " 'dextrose': 0.008176256734461462,\n",
       " 'dinde': 0.007869647106919158,\n",
       " 'atlantique': 0.007782044356192785,\n",
       " 'foie': 0.00747543472865048,\n",
       " 'schweinefleisch': 0.007402432436378502,\n",
       " 'pork': 0.007271028310288943,\n",
       " 'frais': 0.0065702063044779605,\n",
       " 'chicken': 0.006482603553751588,\n",
       " 'bovine': 0.006424201719934006,\n",
       " 'sugar': 0.006365799886116424,\n",
       " 'poitrine': 0.006351199427662028,\n",
       " 'speisesalz': 0.005971587507847746,\n",
       " 'salmo': 0.005737980172577419,\n",
       " 'œufs': 0.005694178797214232,\n",
       " 'france': 0.0053583682527631364,\n",
       " 'salar': 0.004613744871588968,\n",
       " 'bœuf': 0.004555343037771386,\n",
       " 'poisson': 0.0045261421208625955,\n",
       " 'maquereaux': 0.004467740287045013,\n",
       " 'bouillon': 0.004117329284139522,\n",
       " 'turkey': 0.004088128367230731,\n",
       " 'breast': 0.0040297265334131496,\n",
       " 'oeufs': 0.0038837219488691943,\n",
       " 'crevettes': 0.00373771736432524,\n",
       " 'carne': 0.0035479114044180988,\n",
       " 'gorge': 0.0034457081952373307,\n",
       " 'boeuf': 0.0033873063614197484,\n",
       " 'chair': 0.0033581054445109577,\n",
       " 'salmon': 0.003212100859967003,\n",
       " 'blanc': 0.0031975004015126077,\n",
       " 'maigre': 0.0031682994846038166,\n",
       " 'with': 0.0030368953585142573,\n",
       " 'canard': 0.0030222949000598617,\n",
       " 'cuisse': 0.0030076944416054666,\n",
       " 'alaska': 0.00296389306624228,\n",
       " 'albacore': 0.002905491232424698,\n",
       " 'sauce': 0.002744886189426348,\n",
       " 'cerdo': 0.0027302857309719525,\n",
       " 'colin': 0.0027302857309719525,\n",
       " 'meat': 0.002701084814063162,\n",
       " 'olive': 0.0025112788541560207,\n",
       " 'jodiertes': 0.002496678395701625,\n",
       " 'truite': 0.002496678395701625,\n",
       " 'brown': 0.0024820779372472295,\n",
       " 'sodium': 0.0024236761034296477,\n",
       " 'poules': 0.0023360733527032747,\n",
       " 'anchois': 0.0021462673927961336,\n",
       " 'agua': 0.0021024660174329473,\n",
       " 'peau': 0.0020878655589785518,\n",
       " 'aceite': 0.00202946372516097,\n",
       " 'ingredients': 0.0020148632667065748,\n",
       " 'shrimp': 0.0020148632667065748,\n",
       " 'hachée': 0.001971061891343388,\n",
       " 'contains': 0.0019418609744345971,\n",
       " 'cabillaud': 0.0019418609744345971,\n",
       " 'couenne': 0.0018834591406170153,\n",
       " 'halal': 0.00186885868216262,\n",
       " 'sal': 0.0017812559314362472,\n",
       " 'bio': 0.0017812559314362472,\n",
       " 'morue': 0.0017666554729818516,\n",
       " 'colza': 0.0017666554729818516,\n",
       " 'moules': 0.0017082536391642698,\n",
       " 'ingrédients': 0.0016790527222554788,\n",
       " 'sardina': 0.0016790527222554788,\n",
       " 'volaille': 0.0016644522638010833,\n",
       " 'lactose': 0.0016644522638010833,\n",
       " 'noix': 0.0016352513468922923,\n",
       " 'élevées': 0.0016060504299835014,\n",
       " 'cured': 0.001591449971529106,\n",
       " 'oil': 0.001591449971529106,\n",
       " 'cuisses': 0.0015768495130747105,\n",
       " 'préparation': 0.0015768495130747105,\n",
       " 'épices': 0.0015476485961659196,\n",
       " 'lapin': 0.0015038472208027333,\n",
       " 'conservateur': 0.0015038472208027333,\n",
       " 'mechanically': 0.0014892467623483377,\n",
       " 'tuna': 0.0014746463038939424,\n",
       " 'conservateurs': 0.0014746463038939424,\n",
       " 'cuit': 0.0014162444700763603,\n",
       " 'sucre': 0.001401644011621965,\n",
       " 'listao': 0.001401644011621965,\n",
       " 'separated': 0.0013870435531675694,\n",
       " 'less': 0.001372443094713174}"
      ]
     },
     "execution_count": 69,
     "metadata": {},
     "output_type": "execute_result"
    }
   ],
   "source": [
    "category_words[\"Fish Meat Eggs\"]"
   ]
  },
  {
   "cell_type": "markdown",
   "metadata": {},
   "source": [
    "The example shown above is the word dictionary for 'Beverages'. For each category we obtain a dictionary of the 100 most frequent words with normalized counts."
   ]
  },
  {
   "cell_type": "code",
   "execution_count": 70,
   "metadata": {},
   "outputs": [
    {
     "data": {
      "image/png": "[encoded data removed]",
      "text/plain": [
       "<Figure size 720x576 with 2 Axes>"
      ]
     },
     "metadata": {},
     "output_type": "display_data"
    }
   ],
   "source": [
    "columns = category_words.index.values\n",
    "n = len(columns)\n",
    "similarity_matrix = np.zeros((n,n))\n",
    "\n",
    "for idx1,name1 in enumerate(columns):\n",
    "    for idx2,name2 in enumerate(columns):\n",
    "        similarity_matrix[idx1,idx2] = jaccard_similarity(category_words[name1],category_words[name2])\n",
    "\n",
    "plt.figure(figsize=(10,8))\n",
    "sns.heatmap(similarity_matrix, annot=True, cbar_kws={'label': 'jaccard similarity score'})\n",
    "plt.title(\"Jaccard similarity scores among categories\", fontsize=15, fontweight=\"bold\")\n",
    "plt.xticks(np.arange(n)+0.5,columns,rotation='vertical')\n",
    "plt.yticks(np.arange(n)+0.5,np.flip(columns,axis=0),rotation='horizontal')\n",
    "plt.show()"
   ]
  },
  {
   "cell_type": "markdown",
   "metadata": {},
   "source": [
    "We see that the dictionaries are rather distinct. The 'Composite' category shares words with other categories since it groups products from different food categories. We decide to drop 'Composite' for further categorization as it is too subjective to associate multiple categories to products with only the list of ingredients. We obtain more accurate results by associating only one category to products if the similarity is above an experimentally-set threshold."
   ]
  },
  {
   "cell_type": "code",
   "execution_count": 71,
   "metadata": {},
   "outputs": [],
   "source": [
    "category_words = category_words.drop(\"Composite\")"
   ]
  },
  {
   "cell_type": "code",
   "execution_count": 72,
   "metadata": {},
   "outputs": [],
   "source": [
    "# We split the unclassified data ingredient list in a list of non-stop words \n",
    "\n",
    "unclassified_data.loc[~unclassified_data.ingredients_text.isnull(),'ingredients_text'] = \\\n",
    "    unclassified_data.loc[~unclassified_data.ingredients_text.isnull(),'ingredients_text'] \\\n",
    "    .apply(lambda x: [word for word in x.split() if word not in stopWords])"
   ]
  },
  {
   "cell_type": "markdown",
   "metadata": {},
   "source": [
    "To compute the similarity between a list of ingredients and a category, we compute a score. Each word in the list adds to the category score its importance in the category dictionary (normalized count in the dictionary) which is also weighted by its position in the ingredients list. The idea the ingredients of a product are listed in order of importance. We only consider the 10 first words in the ingredient list. We also divide the word score by the number of dictionaries it which it occurs. The ingredient is less representative of a food category if it also represents other categories.\n",
    "\n",
    "We then categorize a product if its maximum similarity is above a 0.3 threshold. This threshold was set experimentally by manually looking up a product's information with its computed category."
   ]
  },
  {
   "cell_type": "code",
   "execution_count": 73,
   "metadata": {},
   "outputs": [
    {
     "data": {
      "text/html": [
       "<div>\n",
       "<style scoped>\n",
       "    .dataframe tbody tr th:only-of-type {\n",
       "        vertical-align: middle;\n",
       "    }\n",
       "\n",
       "    .dataframe tbody tr th {\n",
       "        vertical-align: top;\n",
       "    }\n",
       "\n",
       "    .dataframe thead th {\n",
       "        text-align: right;\n",
       "    }\n",
       "</style>\n",
       "<table border=\"1\" class=\"dataframe\">\n",
       "  <thead>\n",
       "    <tr style=\"text-align: right;\">\n",
       "      <th></th>\n",
       "      <th>Beverages</th>\n",
       "      <th>Dairies</th>\n",
       "      <th>Fat Sauces</th>\n",
       "      <th>Fish Meat Eggs</th>\n",
       "      <th>Fruits Vegetables</th>\n",
       "      <th>Snacks</th>\n",
       "      <th>Starchy</th>\n",
       "      <th>category</th>\n",
       "      <th>product_name</th>\n",
       "    </tr>\n",
       "  </thead>\n",
       "  <tbody>\n",
       "    <tr>\n",
       "      <td>15</td>\n",
       "      <td>0.311077</td>\n",
       "      <td>0.080862</td>\n",
       "      <td>0.169057</td>\n",
       "      <td>0.314245</td>\n",
       "      <td>0.106719</td>\n",
       "      <td>0.013350</td>\n",
       "      <td>0.004691</td>\n",
       "      <td>Fish Meat Eggs</td>\n",
       "      <td>Solène céréales poulet</td>\n",
       "    </tr>\n",
       "    <tr>\n",
       "      <td>22</td>\n",
       "      <td>0.061098</td>\n",
       "      <td>0.613735</td>\n",
       "      <td>0.029348</td>\n",
       "      <td>0.001829</td>\n",
       "      <td>0.032595</td>\n",
       "      <td>0.229587</td>\n",
       "      <td>0.031809</td>\n",
       "      <td>Dairies</td>\n",
       "      <td>Crème dessert chocolat</td>\n",
       "    </tr>\n",
       "    <tr>\n",
       "      <td>29</td>\n",
       "      <td>0.083143</td>\n",
       "      <td>0.015102</td>\n",
       "      <td>0.055783</td>\n",
       "      <td>0.022982</td>\n",
       "      <td>0.036839</td>\n",
       "      <td>0.344848</td>\n",
       "      <td>0.441302</td>\n",
       "      <td>Starchy</td>\n",
       "      <td>Baguette Poitevin</td>\n",
       "    </tr>\n",
       "    <tr>\n",
       "      <td>38</td>\n",
       "      <td>0.057633</td>\n",
       "      <td>0.009985</td>\n",
       "      <td>0.045428</td>\n",
       "      <td>0.009515</td>\n",
       "      <td>0.032507</td>\n",
       "      <td>0.389433</td>\n",
       "      <td>0.455500</td>\n",
       "      <td>Starchy</td>\n",
       "      <td>Suedois saumon</td>\n",
       "    </tr>\n",
       "    <tr>\n",
       "      <td>43</td>\n",
       "      <td>0.141121</td>\n",
       "      <td>0.041892</td>\n",
       "      <td>0.290221</td>\n",
       "      <td>0.098395</td>\n",
       "      <td>0.327222</td>\n",
       "      <td>0.080132</td>\n",
       "      <td>0.021017</td>\n",
       "      <td>Fruits Vegetables</td>\n",
       "      <td>Salade shaker taboulé</td>\n",
       "    </tr>\n",
       "    <tr>\n",
       "      <td>44</td>\n",
       "      <td>0.079030</td>\n",
       "      <td>0.005498</td>\n",
       "      <td>0.441663</td>\n",
       "      <td>0.025064</td>\n",
       "      <td>0.054759</td>\n",
       "      <td>0.347106</td>\n",
       "      <td>0.046880</td>\n",
       "      <td>Fat Sauces</td>\n",
       "      <td>Banana Chips Sweetened (Whole)</td>\n",
       "    </tr>\n",
       "    <tr>\n",
       "      <td>45</td>\n",
       "      <td>0.014440</td>\n",
       "      <td>0.018865</td>\n",
       "      <td>0.032242</td>\n",
       "      <td>0.019036</td>\n",
       "      <td>0.022353</td>\n",
       "      <td>0.229933</td>\n",
       "      <td>0.663131</td>\n",
       "      <td>Starchy</td>\n",
       "      <td>Peanuts</td>\n",
       "    </tr>\n",
       "    <tr>\n",
       "      <td>49</td>\n",
       "      <td>0.145655</td>\n",
       "      <td>0.504373</td>\n",
       "      <td>0.089042</td>\n",
       "      <td>0.020238</td>\n",
       "      <td>0.040626</td>\n",
       "      <td>0.180702</td>\n",
       "      <td>0.019364</td>\n",
       "      <td>Dairies</td>\n",
       "      <td>Fromage blanc à la creme de marron</td>\n",
       "    </tr>\n",
       "    <tr>\n",
       "      <td>54</td>\n",
       "      <td>0.000000</td>\n",
       "      <td>0.000000</td>\n",
       "      <td>0.004391</td>\n",
       "      <td>0.000000</td>\n",
       "      <td>0.000000</td>\n",
       "      <td>0.452273</td>\n",
       "      <td>0.543336</td>\n",
       "      <td>Starchy</td>\n",
       "      <td>Sandwich solene céréales sicilien</td>\n",
       "    </tr>\n",
       "    <tr>\n",
       "      <td>96</td>\n",
       "      <td>0.079064</td>\n",
       "      <td>0.113723</td>\n",
       "      <td>0.280924</td>\n",
       "      <td>0.001634</td>\n",
       "      <td>0.165472</td>\n",
       "      <td>0.173231</td>\n",
       "      <td>0.185952</td>\n",
       "      <td>NaN</td>\n",
       "      <td>Organic Salted Nut Mix</td>\n",
       "    </tr>\n",
       "    <tr>\n",
       "      <td>97</td>\n",
       "      <td>0.088937</td>\n",
       "      <td>0.127925</td>\n",
       "      <td>0.285273</td>\n",
       "      <td>0.000000</td>\n",
       "      <td>0.170754</td>\n",
       "      <td>0.120255</td>\n",
       "      <td>0.206855</td>\n",
       "      <td>NaN</td>\n",
       "      <td>Organic Polenta</td>\n",
       "    </tr>\n",
       "    <tr>\n",
       "      <td>98</td>\n",
       "      <td>0.125445</td>\n",
       "      <td>0.000000</td>\n",
       "      <td>0.617427</td>\n",
       "      <td>0.009494</td>\n",
       "      <td>0.035254</td>\n",
       "      <td>0.058699</td>\n",
       "      <td>0.153681</td>\n",
       "      <td>Fat Sauces</td>\n",
       "      <td>Breadshop Honey Gone Nuts Granola</td>\n",
       "    </tr>\n",
       "    <tr>\n",
       "      <td>99</td>\n",
       "      <td>0.021545</td>\n",
       "      <td>0.030989</td>\n",
       "      <td>0.090426</td>\n",
       "      <td>0.000000</td>\n",
       "      <td>0.041364</td>\n",
       "      <td>0.043708</td>\n",
       "      <td>0.771967</td>\n",
       "      <td>Starchy</td>\n",
       "      <td>Organic Long Grain White Rice</td>\n",
       "    </tr>\n",
       "    <tr>\n",
       "      <td>100</td>\n",
       "      <td>0.212303</td>\n",
       "      <td>0.000000</td>\n",
       "      <td>0.000000</td>\n",
       "      <td>0.000000</td>\n",
       "      <td>0.040671</td>\n",
       "      <td>0.049495</td>\n",
       "      <td>0.697531</td>\n",
       "      <td>Starchy</td>\n",
       "      <td>Organic Muesli</td>\n",
       "    </tr>\n",
       "    <tr>\n",
       "      <td>101</td>\n",
       "      <td>0.082403</td>\n",
       "      <td>0.086688</td>\n",
       "      <td>0.175753</td>\n",
       "      <td>0.015101</td>\n",
       "      <td>0.113540</td>\n",
       "      <td>0.397558</td>\n",
       "      <td>0.128958</td>\n",
       "      <td>Snacks</td>\n",
       "      <td>Organic Dark Chocolate Minis</td>\n",
       "    </tr>\n",
       "    <tr>\n",
       "      <td>102</td>\n",
       "      <td>0.107189</td>\n",
       "      <td>0.066650</td>\n",
       "      <td>0.373740</td>\n",
       "      <td>0.007755</td>\n",
       "      <td>0.204542</td>\n",
       "      <td>0.122563</td>\n",
       "      <td>0.117561</td>\n",
       "      <td>Fat Sauces</td>\n",
       "      <td>Organic Sunflower Oil</td>\n",
       "    </tr>\n",
       "    <tr>\n",
       "      <td>103</td>\n",
       "      <td>0.036573</td>\n",
       "      <td>0.052606</td>\n",
       "      <td>0.117312</td>\n",
       "      <td>0.000000</td>\n",
       "      <td>0.070218</td>\n",
       "      <td>0.049452</td>\n",
       "      <td>0.673839</td>\n",
       "      <td>Starchy</td>\n",
       "      <td>Organic Adzuki Beans</td>\n",
       "    </tr>\n",
       "    <tr>\n",
       "      <td>104</td>\n",
       "      <td>0.018262</td>\n",
       "      <td>0.026267</td>\n",
       "      <td>0.067763</td>\n",
       "      <td>0.000000</td>\n",
       "      <td>0.035062</td>\n",
       "      <td>0.155666</td>\n",
       "      <td>0.696979</td>\n",
       "      <td>Starchy</td>\n",
       "      <td>Organic Penne Pasta</td>\n",
       "    </tr>\n",
       "    <tr>\n",
       "      <td>105</td>\n",
       "      <td>0.000000</td>\n",
       "      <td>0.013573</td>\n",
       "      <td>0.221493</td>\n",
       "      <td>0.034545</td>\n",
       "      <td>0.024143</td>\n",
       "      <td>0.135463</td>\n",
       "      <td>0.570783</td>\n",
       "      <td>Starchy</td>\n",
       "      <td>Zen Party Mix</td>\n",
       "    </tr>\n",
       "    <tr>\n",
       "      <td>106</td>\n",
       "      <td>0.088937</td>\n",
       "      <td>0.127925</td>\n",
       "      <td>0.285273</td>\n",
       "      <td>0.000000</td>\n",
       "      <td>0.170754</td>\n",
       "      <td>0.120255</td>\n",
       "      <td>0.206855</td>\n",
       "      <td>NaN</td>\n",
       "      <td>Organic Golden Flax Seeds</td>\n",
       "    </tr>\n",
       "  </tbody>\n",
       "</table>\n",
       "</div>"
      ],
      "text/plain": [
       "     Beverages   Dairies  Fat Sauces  Fish Meat Eggs  Fruits Vegetables  \\\n",
       "15    0.311077  0.080862    0.169057        0.314245           0.106719   \n",
       "22    0.061098  0.613735    0.029348        0.001829           0.032595   \n",
       "29    0.083143  0.015102    0.055783        0.022982           0.036839   \n",
       "38    0.057633  0.009985    0.045428        0.009515           0.032507   \n",
       "43    0.141121  0.041892    0.290221        0.098395           0.327222   \n",
       "44    0.079030  0.005498    0.441663        0.025064           0.054759   \n",
       "45    0.014440  0.018865    0.032242        0.019036           0.022353   \n",
       "49    0.145655  0.504373    0.089042        0.020238           0.040626   \n",
       "54    0.000000  0.000000    0.004391        0.000000           0.000000   \n",
       "96    0.079064  0.113723    0.280924        0.001634           0.165472   \n",
       "97    0.088937  0.127925    0.285273        0.000000           0.170754   \n",
       "98    0.125445  0.000000    0.617427        0.009494           0.035254   \n",
       "99    0.021545  0.030989    0.090426        0.000000           0.041364   \n",
       "100   0.212303  0.000000    0.000000        0.000000           0.040671   \n",
       "101   0.082403  0.086688    0.175753        0.015101           0.113540   \n",
       "102   0.107189  0.066650    0.373740        0.007755           0.204542   \n",
       "103   0.036573  0.052606    0.117312        0.000000           0.070218   \n",
       "104   0.018262  0.026267    0.067763        0.000000           0.035062   \n",
       "105   0.000000  0.013573    0.221493        0.034545           0.024143   \n",
       "106   0.088937  0.127925    0.285273        0.000000           0.170754   \n",
       "\n",
       "       Snacks   Starchy           category                        product_name  \n",
       "15   0.013350  0.004691     Fish Meat Eggs              Solène céréales poulet  \n",
       "22   0.229587  0.031809            Dairies              Crème dessert chocolat  \n",
       "29   0.344848  0.441302            Starchy                   Baguette Poitevin  \n",
       "38   0.389433  0.455500            Starchy                      Suedois saumon  \n",
       "43   0.080132  0.021017  Fruits Vegetables               Salade shaker taboulé  \n",
       "44   0.347106  0.046880         Fat Sauces      Banana Chips Sweetened (Whole)  \n",
       "45   0.229933  0.663131            Starchy                             Peanuts  \n",
       "49   0.180702  0.019364            Dairies  Fromage blanc à la creme de marron  \n",
       "54   0.452273  0.543336            Starchy   Sandwich solene céréales sicilien  \n",
       "96   0.173231  0.185952                NaN              Organic Salted Nut Mix  \n",
       "97   0.120255  0.206855                NaN                     Organic Polenta  \n",
       "98   0.058699  0.153681         Fat Sauces   Breadshop Honey Gone Nuts Granola  \n",
       "99   0.043708  0.771967            Starchy       Organic Long Grain White Rice  \n",
       "100  0.049495  0.697531            Starchy                      Organic Muesli  \n",
       "101  0.397558  0.128958             Snacks        Organic Dark Chocolate Minis  \n",
       "102  0.122563  0.117561         Fat Sauces               Organic Sunflower Oil  \n",
       "103  0.049452  0.673839            Starchy                Organic Adzuki Beans  \n",
       "104  0.155666  0.696979            Starchy                 Organic Penne Pasta  \n",
       "105  0.135463  0.570783            Starchy                       Zen Party Mix  \n",
       "106  0.120255  0.206855                NaN           Organic Golden Flax Seeds  "
      ]
     },
     "execution_count": 73,
     "metadata": {},
     "output_type": "execute_result"
    }
   ],
   "source": [
    "intersections = dict();\n",
    "for col in category_words.index.values:\n",
    "    for word in set(category_words[col]):\n",
    "        intersections[word] = intersections.get(word,0)+1\n",
    "\n",
    "\n",
    "def similarity_dic(ingredients):\n",
    "    dic = {}\n",
    "    n = 10        \n",
    "    for cat in category_words.index.values:\n",
    "        score = 0\n",
    "        for idx,word in enumerate(ingredients[:n]):\n",
    "            score += category_words[cat].get(word,0)*(n-idx)/intersections.get(word,1)\n",
    "        dic[cat] = score\n",
    "    total = sum(dic.values())\n",
    "    if (total != 0) :\n",
    "        dic = {k: v / total for k, v in dic.items()}\n",
    "    return dic\n",
    "\n",
    "similarities = unclassified_data.loc[~unclassified_data.ingredients_text.isnull(),\"ingredients_text\"] \\\n",
    "            .apply(similarity_dic).apply(pd.Series)\n",
    "    \n",
    "# We remove products that have no similarities\n",
    "similarities = similarities[(similarities.T != 0).any()]\n",
    "\n",
    "similarities[\"category\"] = similarities.loc[similarities.max(axis=1)>0.3].idxmax(axis=1)\n",
    "\n",
    "# List some results with product_names\n",
    "pd.concat([similarities,data.loc[similarities.index,\"product_name\"]], axis=1).head(20)"
   ]
  },
  {
   "cell_type": "markdown",
   "metadata": {},
   "source": [
    "We see that the categorization yields good results. Some products stay uncategorized by lack of dominant similarity but those who are appear to be well categorized with small errors (ex: Banana Chips Sweetened in row 44)"
   ]
  },
  {
   "cell_type": "code",
   "execution_count": 74,
   "metadata": {},
   "outputs": [
    {
     "data": {
      "text/plain": [
       "0.5868279254042907"
      ]
     },
     "execution_count": 74,
     "metadata": {},
     "output_type": "execute_result"
    }
   ],
   "source": [
    "# We assign the new categroy values to those with missing categories\n",
    "data.loc[data.food_category.isnull(),\"food_category\"] = similarities[\"category\"]\n",
    "\n",
    "sum(data[\"food_category\"].value_counts())/len(data)"
   ]
  },
  {
   "cell_type": "markdown",
   "metadata": {},
   "source": [
    "The new number of categorized products represents 57% of the data kept."
   ]
  },
  {
   "cell_type": "code",
   "execution_count": 75,
   "metadata": {},
   "outputs": [
    {
     "data": {
      "image/png": "[encoded data removed]",
      "text/plain": [
       "<Figure size 576x576 with 1 Axes>"
      ]
     },
     "metadata": {},
     "output_type": "display_data"
    }
   ],
   "source": [
    "plt.figure(figsize=(8,8))\n",
    "data.groupby(\"food_category\").size().plot.bar()\n",
    "plt.xlabel(\"Food Categories\");\n",
    "plt.ylabel(\"Count\");\n",
    "plt.title(\"Food Categories after Full Categorization\");"
   ]
  },
  {
   "cell_type": "markdown",
   "metadata": {},
   "source": [
    "# PACKAGING"
   ]
  },
  {
   "cell_type": "markdown",
   "metadata": {},
   "source": [
    "While this field remains incomplete, it is still useful for us to analyze the packaging methods of different food categories. The processing pipeline for this field was performed as follows :\n",
    "- clean 'Packaging' column of the dataframe by removing stop words and unecessary entries\n",
    "- retain only certain material types of packaging (plastic, glass, cardboard, metal ...)\n",
    "- plot the proportion of each material within a certain category of food"
   ]
  },
  {
   "cell_type": "code",
   "execution_count": 76,
   "metadata": {},
   "outputs": [],
   "source": [
    "# We build our list of stopwords to remove when tockenizing the packaging column\n",
    "stop_words_c = set(stopwords.words(\"french\")).union(set(stopwords.words(\"english\")))\n",
    "\n",
    "# 'can' was removed since it was in the stop words list but still useful for Beverages containers\n",
    "stop_words_c.remove('can')"
   ]
  },
  {
   "cell_type": "code",
   "execution_count": 77,
   "metadata": {},
   "outputs": [
    {
     "name": "stdout",
     "output_type": "stream",
     "text": [
      "Packaging field is full at 0.20393249358438686 %\n"
     ]
    },
    {
     "data": {
      "text/plain": [
       "16     [barquette, plastique]\n",
       "141        [bocal, plastique]\n",
       "145               [plastique]\n",
       "297       [carton, plastique]\n",
       "298       [plastique, carton]\n",
       "Name: packaging, dtype: object"
      ]
     },
     "execution_count": 77,
     "metadata": {},
     "output_type": "execute_result"
    }
   ],
   "source": [
    "# We clean the packaging column\n",
    "def clean_data_packaging(data_column):\n",
    "    \"\"\"Clean data packaging, i.e. \n",
    "        - lower each words in the cells of data_column\n",
    "        - tokenize cells of data_column, i.e. from float type create list of string (token)\n",
    "        - remove stopwords for the list of tokens for each cells of data_column\n",
    "    \"\"\"  \n",
    "    \n",
    "    tokenizer = RegexpTokenizer(r'\\w+')\n",
    "    data_column = data_column[data_column.notnull()].str.lower() \\\n",
    "    .apply(str) \\\n",
    "    .apply(tokenizer.tokenize) \\\n",
    "    .apply(lambda cell : [item for item in cell if item not in stop_words_c]) \\\n",
    "    .apply(str)\n",
    "    \n",
    "    return data_column\n",
    "\n",
    "\n",
    "packaging = clean_data_packaging(data.packaging)\n",
    "packaging = packaging.apply(literal_eval)\n",
    "filled_pck = data.packaging.count()/len(data.packaging)\n",
    "\n",
    "# We visualize some results\n",
    "print(f'Packaging field is full at {filled_pck} %')\n",
    "packaging.head()"
   ]
  },
  {
   "cell_type": "markdown",
   "metadata": {},
   "source": [
    "**20% of the data has packaging information**\n",
    "We now categorize the packaging information to defined packaging classes."
   ]
  },
  {
   "cell_type": "code",
   "execution_count": 78,
   "metadata": {},
   "outputs": [],
   "source": [
    "# Vaccum items were added since it surely contains plastic\n",
    "plastique_words = ['plastic', 'plastique', 'plastik', 'plastico', 'plastica', 'sachets', \n",
    "                   'plàstic', 'plástico', 'plastisco' ,'bucket', 'barquette', 'sachet', 'tube', 'film', 'vacio', 'vide', 'vacío']\n",
    "\n",
    "verre_words = ['verre', 'glass', 'glas', 'vidrio', 'pot']\n",
    "carton_words = ['paper', 'karton', 'carton', 'papier', 'boite', 'cartón', 'papel', 'cardboard', \n",
    "                'card', 'eggbox', 'box']\n",
    "\n",
    "metal_words = ['metal', 'métal', 'fer', 'acier', 'aluminium', 'can', 'canette', 'conserve','tin']\n",
    "\n",
    "# Fresh products needs an adapted container which is useful for further exploration\n",
    "prod_frais_words = ['frais', 'fresh', 'frai']\n",
    "\n",
    "# The recycable materials depend on the country and regulations. However, these materials are commonly recycable.\n",
    "# (soiled papers, soiled metalic containers and soiled plastic containers tend to be avoided for medical reasons)\n",
    "recyclable_words = ['bouteille', 'flacon', 'brique', 'brick', 'bottle', 'bte', 'verre', \n",
    "                    'glass', 'glas', 'vidrio', 'metal', 'métal', 'fer', 'acier', 'aluminium', 'flasche', 'canned', \n",
    "                    'can', 'canette', 'conserve', 'tin', 'pet', 'pot', 'botella']\n",
    "\n",
    "def count_entries(self, word_list):\n",
    "    \"\"\" Return true if word_list and self have a word in common,\n",
    "        else o/w.\n",
    "    \"\"\"\n",
    "    if len(set(self).intersection(set(word_list))) > 0:\n",
    "        return True\n",
    "    else :\n",
    "        return False\n",
    "\n",
    "def to_materials(elem):\n",
    "    \"\"\" Return a list of bool that informs about the materials used \n",
    "        for the packaging.\n",
    "    \"\"\"\n",
    "    return [count_entries(elem, plastique_words), \n",
    "               count_entries(elem, verre_words), \n",
    "               count_entries(elem, carton_words),\n",
    "               count_entries(elem, metal_words),\n",
    "               count_entries(elem, prod_frais_words),\n",
    "               count_entries(elem, recyclable_words)]\n",
    "    "
   ]
  },
  {
   "cell_type": "code",
   "execution_count": 79,
   "metadata": {},
   "outputs": [],
   "source": [
    "# We a create a boolean list for each value representing the membership to packaging methods and fresh/recycable attribute\n",
    "materials_df = pd.DataFrame({'Packaging': packaging, 'materials':pd.Series(np.zeros(len(packaging)), packaging.index)})\n",
    "materials_df['materials'] = packaging.apply(to_materials)"
   ]
  },
  {
   "cell_type": "code",
   "execution_count": 80,
   "metadata": {},
   "outputs": [],
   "source": [
    "# We create a dataframe with the information\n",
    "names_list = ['Plastic', 'Glass', 'Carton', 'Metal', 'Fresh', 'Recyclable']\n",
    "materials_df = materials_df.materials.apply(pd.Series)\n",
    "materials_df = materials_df.rename(columns = lambda x : names_list[x])"
   ]
  },
  {
   "cell_type": "code",
   "execution_count": 81,
   "metadata": {},
   "outputs": [],
   "source": [
    "# We merge with the food categories\n",
    "eco_impact_plot_df = materials_df.merge(data.loc[materials_df.index.tolist(), [\"food_category\"]], left_index = True, right_index = True)"
   ]
  },
  {
   "cell_type": "code",
   "execution_count": 82,
   "metadata": {},
   "outputs": [
    {
     "data": {
      "image/png": "[encoded data removed]",
      "text/plain": [
       "<Figure size 720x720 with 1 Axes>"
      ]
     },
     "metadata": {},
     "output_type": "display_data"
    }
   ],
   "source": [
    "# We remove Fresh and Recycable categories and plot normalized bar plots for the packaging for each food category\n",
    "packaging_plot_df = eco_impact_plot_df.drop('Fresh', axis =1)\n",
    "packaging_plot_df = packaging_plot_df.drop('Recyclable', axis =1)\n",
    "counts_pack = packaging_plot_df.groupby('food_category').sum()\n",
    "\n",
    "plt.figure(figsize =(10,10))\n",
    "ax=plt.gca()\n",
    "counts_pack.div(counts_pack.sum(axis=1)/100, axis = 0).plot.bar(ax=ax, stacked=True)\n",
    "plt.title('Material Use Percentage within each Category',fontsize=20);\n",
    "plt.xlabel(\"Food Category\");\n",
    "plt.ylabel(\"Packaging Type Percentages\");"
   ]
  },
  {
   "cell_type": "markdown",
   "metadata": {},
   "source": [
    "While the sample size is limited, a few useful informations are depicted on the above plot. First we can see that a lot of plastic is used among every category. Moreover, glass is mainly used as a liquid container which is consistent with what we could expect. The packaging information along with the use of cooling containers and recyclability of products will be used in the analysis of different diets."
   ]
  },
  {
   "cell_type": "markdown",
   "metadata": {},
   "source": [
    "### DIET from labels_en"
   ]
  },
  {
   "cell_type": "code",
   "execution_count": 83,
   "metadata": {},
   "outputs": [],
   "source": [
    "regimes = ['isVegetarian', 'isVegetalian', 'isGlutenfree', 'isLactosefree', 'isKetogenic', 'isOrganic']"
   ]
  },
  {
   "cell_type": "code",
   "execution_count": 84,
   "metadata": {},
   "outputs": [],
   "source": [
    "def clean_caract(df,col):\n",
    "    \n",
    "    caracters2delete = ['%',':','(',')',';','/','_','*','\\d+','.','\\'','[',']']\n",
    "\n",
    "    df.loc[:,col] = df.loc[:,col].str.lower()\n",
    "    for c in caracters2delete:\n",
    "        df.loc[:,col] = df.loc[:,col].str.replace(c,' ')\n"
   ]
  },
  {
   "cell_type": "code",
   "execution_count": 85,
   "metadata": {},
   "outputs": [],
   "source": [
    "data[\"split_labels_en\"] = data[\"labels_en\"]\n",
    "clean_caract(data,\"split_labels_en\")\n",
    "data.loc[:,\"split_labels_en\"] = data.loc[:,\"split_labels_en\"].str.split(',')\n"
   ]
  },
  {
   "cell_type": "code",
   "execution_count": 86,
   "metadata": {},
   "outputs": [],
   "source": [
    "is_vegetarian_list = ['vegetarian']\n",
    "not_vegetarian_list = ['meat']\n",
    "data[\"isVGT\"] = data.loc[~data[\"split_labels_en\"].isnull(),\"split_labels_en\"] \\\n",
    ".apply(lambda l : bool(~any([cat_word in not_vegetarian_list for cat_word in l]) &  \\\n",
    "                       any([cat_word in is_vegetarian_list for cat_word in l])))\n",
    "\n",
    "is_vegetalian_list = ['vegan']\n",
    "not_vegetalian_list = ['meat']\n",
    "data[\"isVGL\"] = data.loc[~data[\"split_labels_en\"].isnull(),\"split_labels_en\"] \\\n",
    ".apply(lambda l : bool(~any([cat_word in not_vegetalian_list for cat_word in l]) &  \\\n",
    "                       any([cat_word in is_vegetalian_list for cat_word in l])))\n",
    "\n",
    "is_glutenfree_list = ['gluten-free']\n",
    "not_glutenfree_list = ['mais']\n",
    "data[\"isGF\"] = data.loc[~data[\"split_labels_en\"].isnull(),\"split_labels_en\"] \\\n",
    ".apply(lambda l : bool(~any([cat_word in not_glutenfree_list for cat_word in l]) &  \\\n",
    "                       any([cat_word in is_glutenfree_list for cat_word in l])))\n",
    "\n",
    "is_lactosefree_list = ['no lactose']\n",
    "not_lactosefree_list = ['lait']\n",
    "data[\"isLF\"] = data.loc[~data[\"split_labels_en\"].isnull(),\"split_labels_en\"] \\\n",
    ".apply(lambda l : bool(~any([cat_word in not_lactosefree_list for cat_word in l]) &  \\\n",
    "                       any([cat_word in is_lactosefree_list for cat_word in l])))\n",
    "\n",
    "is_organic_list = ['organic','eu organic','fr ab-agriculture-biologique']\n",
    "not_organic_list = ['non organic']\n",
    "data[\"isOG\"] = data.loc[~data[\"split_labels_en\"].isnull(),\"split_labels_en\"] \\\n",
    ".apply(lambda l : bool(~any([cat_word in not_organic_list for cat_word in l]) &  \\\n",
    "                       any([cat_word in is_organic_list for cat_word in l])))"
   ]
  },
  {
   "cell_type": "code",
   "execution_count": 87,
   "metadata": {},
   "outputs": [
    {
     "data": {
      "text/plain": [
       "17900"
      ]
     },
     "execution_count": 87,
     "metadata": {},
     "output_type": "execute_result"
    }
   ],
   "source": [
    "len(data[data[\"isVGT\"]==True])"
   ]
  },
  {
   "cell_type": "code",
   "execution_count": 88,
   "metadata": {},
   "outputs": [
    {
     "data": {
      "text/plain": [
       "15197"
      ]
     },
     "execution_count": 88,
     "metadata": {},
     "output_type": "execute_result"
    }
   ],
   "source": [
    "len(data[data[\"isVGL\"]==True])"
   ]
  },
  {
   "cell_type": "code",
   "execution_count": 89,
   "metadata": {},
   "outputs": [
    {
     "data": {
      "text/plain": [
       "27984"
      ]
     },
     "execution_count": 89,
     "metadata": {},
     "output_type": "execute_result"
    }
   ],
   "source": [
    "len(data[data[\"isGF\"]==True])"
   ]
  },
  {
   "cell_type": "code",
   "execution_count": 90,
   "metadata": {},
   "outputs": [
    {
     "data": {
      "text/plain": [
       "6149"
      ]
     },
     "execution_count": 90,
     "metadata": {},
     "output_type": "execute_result"
    }
   ],
   "source": [
    "len(data[data[\"isLF\"]==True])"
   ]
  },
  {
   "cell_type": "code",
   "execution_count": 91,
   "metadata": {},
   "outputs": [
    {
     "data": {
      "text/plain": [
       "65314"
      ]
     },
     "execution_count": 91,
     "metadata": {},
     "output_type": "execute_result"
    }
   ],
   "source": [
    "len(data[data[\"isOG\"]==True])"
   ]
  },
  {
   "cell_type": "code",
   "execution_count": 92,
   "metadata": {},
   "outputs": [
    {
     "data": {
      "text/plain": [
       "0.8489944134078212"
      ]
     },
     "execution_count": 92,
     "metadata": {},
     "output_type": "execute_result"
    }
   ],
   "source": [
    "# almost all vegetalian are in vegetarian\n",
    "len(data[(data[\"isVGL\"]==True) & (data[\"isVGT\"]==True)])/len(data[(data[\"isVGT\"]==True)])"
   ]
  },
  {
   "cell_type": "code",
   "execution_count": null,
   "metadata": {},
   "outputs": [],
   "source": []
  },
  {
   "cell_type": "markdown",
   "metadata": {},
   "source": [
    "## Diet from ingredients"
   ]
  },
  {
   "cell_type": "code",
   "execution_count": 93,
   "metadata": {},
   "outputs": [],
   "source": [
    "carnivore_list = [\n",
    "    'animal','animals',\n",
    "    #viande\n",
    "    'viande','viandes','meat','fleisch','carne',\n",
    "    'bœuf','boeuf','boeufs','beef','steak','vache','cow', 'bovin','bovine',\n",
    "    'charcut', 'charcuteries', 'charcuterie',\n",
    "    'poulet','poulets','poule','poules','chicken','volaille','volailles',\n",
    "    'porc','pork','jambons', 'jambon', 'jam','cerdo','lardon','lardons','bacon','schweinefleisch',\n",
    "    'cannard','canard',\n",
    "    'dinde','dindes', 'turkey',\n",
    "    'boudin','foie','rillette','rillettes','couenne',\n",
    "    'poitrine','cuisse','cuisses'\n",
    "    'chipolata','chipolatas',\n",
    "    'brebis', 'mouton'\n",
    "    #poisson\n",
    "    'poisson','fish', 'fisch',\n",
    "    'sardine','sardines','sardina',\n",
    "    'thon','thuna','tuna',\n",
    "    'saumon','salmon', 'salmo'\n",
    "    'hareng', 'seafood',\n",
    "    'maquereaux','cabillaud','morue',\n",
    "    'crevettes', 'shrimp',\n",
    "    'albacore','colin','truite','moules'\n",
    "]\n"
   ]
  },
  {
   "cell_type": "code",
   "execution_count": 94,
   "metadata": {},
   "outputs": [],
   "source": [
    "# Words which reference water\n",
    "#carnivore_list = [\"viande\"]\n",
    "\n",
    "# Some 'categories' values contain words refering to water but are liquors\n",
    "# We thus create a list to discard such products\n",
    "soja_list = [\"soja\"]\n",
    "\n",
    "# We clean the 'categories' column and split into words\n",
    "data[\"split_ingredients_text\"] = data[\"ingredients_text\"]\n",
    "clean_text(data,\"ingredients_text\")\n",
    "data.loc[:,\"split_ingredients_text\"] = data.loc[:,\"split_ingredients_text\"].str.split()\n",
    "#\n",
    "#data[\"iscarnivore\"] = data.loc[~data[\"split_ingredients_text\"].isnull(),\"split_ingredients_text\"] \\\n",
    "#.apply(lambda l : bool(~any([cat_word in soja_list for cat_word in l]) &  \\\n",
    "#                       any([cat_word in carnivore_list for cat_word in l])))"
   ]
  },
  {
   "cell_type": "code",
   "execution_count": 95,
   "metadata": {},
   "outputs": [],
   "source": [
    "data[\"iscarnivore\"] = data.loc[~data[\"split_ingredients_text\"].isnull(),\"split_ingredients_text\"] \\\n",
    ".apply(lambda l : bool(any([cat_word in carnivore_list for cat_word in l])))"
   ]
  },
  {
   "cell_type": "code",
   "execution_count": 96,
   "metadata": {},
   "outputs": [
    {
     "data": {
      "text/plain": [
       "False    408122\n",
       "True      41100\n",
       "Name: iscarnivore, dtype: int64"
      ]
     },
     "execution_count": 96,
     "metadata": {},
     "output_type": "execute_result"
    }
   ],
   "source": [
    "data[\"iscarnivore\"].value_counts()"
   ]
  },
  {
   "cell_type": "markdown",
   "metadata": {},
   "source": [
    "# NUTRISCORE\n",
    "https://quoidansmonassiette.fr/comment-est-calcule-le-nutri-score-logo-nutritionnel/\n",
    "\n",
    "We calculate the nutriscore according to the method described in the link above."
   ]
  },
  {
   "cell_type": "markdown",
   "metadata": {},
   "source": [
    "### Water Tag\n",
    "In order to compute the NutriScore (NS) of products, we need to seperate water from other beverages."
   ]
  },
  {
   "cell_type": "code",
   "execution_count": 97,
   "metadata": {},
   "outputs": [],
   "source": [
    "# Words which reference water\n",
    "water_list = [\"water\",\"waters\",\"eau\",\"agua\"]\n",
    "\n",
    "# Some 'categories' values contain words refering to water but are liquors\n",
    "# We thus create a list to discard such products\n",
    "nonwater_list = [\"alkoholische\",\"alcoholic\",\"spirits\",\"liquors\"]\n",
    "\n",
    "# We clean the 'categories' column and split into words\n",
    "data[\"split_categories\"] = data[\"categories\"]\n",
    "clean_text(data,\"split_categories\")\n",
    "data.loc[:,\"split_categories\"] = data.loc[:,\"split_categories\"].str.split()\n",
    "\n",
    "data[\"iswater\"] = data.loc[~data[\"split_categories\"].isnull(),\"split_categories\"] \\\n",
    ".apply(lambda l : bool(~any([cat_word in nonwater_list for cat_word in l]) &  \\\n",
    "                       any([cat_word in water_list for cat_word in l])))\n",
    "\n",
    "\n"
   ]
  },
  {
   "cell_type": "code",
   "execution_count": 98,
   "metadata": {},
   "outputs": [
    {
     "data": {
      "text/plain": [
       "False    382600\n",
       "True       1090\n",
       "Name: iswater, dtype: int64"
      ]
     },
     "execution_count": 98,
     "metadata": {},
     "output_type": "execute_result"
    }
   ],
   "source": [
    "data[\"iswater\"].value_counts()"
   ]
  },
  {
   "cell_type": "markdown",
   "metadata": {},
   "source": [
    "### Data Setup"
   ]
  },
  {
   "cell_type": "code",
   "execution_count": 99,
   "metadata": {},
   "outputs": [],
   "source": [
    "# replace NaN of 'fruits-vegetables-nuts_100g' by 100 if it is 'Fruit juices'\n",
    "data[(data['main_category_en'] == 'Fruit juices')]['fruits-vegetables-nuts_100g'].fillna(100, inplace=True)"
   ]
  },
  {
   "cell_type": "code",
   "execution_count": 100,
   "metadata": {},
   "outputs": [],
   "source": [
    "selected_fields =[\n",
    "    'food_category',\n",
    "    'energy_100g','sugars_100g','saturated-fat_100g','sodium_100g',\n",
    "    'fruits-vegetables-nuts_100g',\n",
    "    'fiber_100g','proteins_100g',\n",
    "    'nutrition-score-uk_100g','nutrition_grade_fr',\n",
    "    'iswater'\n",
    "]"
   ]
  },
  {
   "cell_type": "code",
   "execution_count": 101,
   "metadata": {},
   "outputs": [],
   "source": [
    "# divide dataframe into 3 groups to simplify the calculation of nutriscrore\n",
    "data_beverages = data[data['food_category']=='Beverages'][selected_fields]\n",
    "data_fatsauces = data[data['food_category']=='Fat Sauces'][selected_fields]\n",
    "data_without_beverage_fat = data[(data['food_category']!='Fat Sauces') & (data['food_category']!='Beverages') ][selected_fields]                    "
   ]
  },
  {
   "cell_type": "markdown",
   "metadata": {},
   "source": [
    "### Calculation of negative points\n",
    "\n",
    "We attribute Negative points (N) to different nutritional factors that have to be limited: energy, sugar, saturated fat and sodium"
   ]
  },
  {
   "cell_type": "code",
   "execution_count": 102,
   "metadata": {},
   "outputs": [],
   "source": [
    "## ENERGY\n",
    "# energy bins\n",
    "energy_bins_without_beverage_fat = [data_without_beverage_fat['energy_100g'].min() - 1, 335, 670, 1005, 1340, 1675, 2010, 2345, 2680, 3015, 3350, data_without_beverage_fat['energy_100g'].max()]\n",
    "energy_bins_fatsauces = [data_fatsauces['energy_100g'].min() - 1, 335, 670, 1005, 1340, 1675, 2010, 2345, 2680, 3015, 3350, data_fatsauces['energy_100g'].max()]\n",
    "energy_bins_beverages = [data_beverages['energy_100g'].min() - 1, 0, 30, 60, 90, 120, 150, 180, 210, 240, 270, data_beverages['energy_100g'].max()]\n",
    "# energy point\n",
    "data_without_beverage_fat['energy_points'] = pd.cut(data_without_beverage_fat['energy_100g'], energy_bins_without_beverage_fat, labels=range(11)).astype(float)\n",
    "data_fatsauces['energy_points'] = pd.cut(data_fatsauces['energy_100g'], energy_bins_fatsauces, labels=range(11)).astype(float)\n",
    "data_beverages['energy_points'] = pd.cut(data_beverages['energy_100g'], energy_bins_beverages, labels=range(11)).astype(float)\n",
    "\n",
    "\n",
    "## SUGAR\n",
    "# sugar bins\n",
    "sugar_bins_without_beverage_fat = [data_without_beverage_fat['sugars_100g'].min() - 1, 0, 1.5, 3, 4.5, 6, 7.5, 9, 10.5, 12, 13.5, data_without_beverage_fat['sugars_100g'].max()]\n",
    "sugar_bins_fatsauces = [data_fatsauces['sugars_100g'].min() - 1, 0, 1.5, 3, 4.5, 6, 7.5, 9, 10.5, 12, 13.5, data_fatsauces['sugars_100g'].max()]\n",
    "sugar_bins_beverages = [data_beverages['sugars_100g'].min() - 1, 4.5, 9, 13.5, 18, 22.5, 27, 31, 36, 40, 45, data_beverages['sugars_100g'].max()]\n",
    "# sugar point (CHANGE SUGAR_BINS)\n",
    "data_without_beverage_fat['sugar_points'] = pd.cut(data_without_beverage_fat['sugars_100g'], sugar_bins_without_beverage_fat, labels=range(11)).astype(float)\n",
    "data_fatsauces['sugar_points'] = pd.cut(data_fatsauces['sugars_100g'], sugar_bins_fatsauces, labels=range(11)).astype(float)\n",
    "data_beverages['sugar_points'] = pd.cut(data_beverages['sugars_100g'], sugar_bins_beverages, labels=range(11)).astype(float)\n",
    "\n",
    "\n",
    "## SATURATED FAT\n",
    "# s-fat bins\n",
    "fat_bins_without_beverage_fat = [data_without_beverage_fat['saturated-fat_100g'].min() - 1, 1, 2, 3, 4, 5, 6, 7, 8, 9, 10, data_without_beverage_fat['saturated-fat_100g'].max()]\n",
    "fat_bins_beverages = [data_beverages['saturated-fat_100g'].min() - 1, 1, 2, 3, 4, 5, 6, 7, 8, 9, 10, data_beverages['saturated-fat_100g'].max()]\n",
    "fat_bins_fatsauces = [data_fatsauces['saturated-fat_100g'].min() - 1, 10, 16, 22, 28, 34, 40, 46, 52, 58, 64, data_fatsauces['saturated-fat_100g'].max()]\n",
    "# s-FAT point (CHANGE FAT_BINS)\n",
    "data_without_beverage_fat['saturated-fat_points'] = pd.cut(data_without_beverage_fat['saturated-fat_100g'], fat_bins_without_beverage_fat, labels=range(11)).astype(float)\n",
    "data_beverages['saturated-fat_points'] = pd.cut(data_beverages['saturated-fat_100g'], fat_bins_beverages, labels=range(11)).astype(float)\n",
    "data_fatsauces['saturated-fat_points'] = pd.cut(data_fatsauces['saturated-fat_100g'], fat_bins_fatsauces, labels=range(11)).astype(float)\n",
    "\n",
    "\n",
    "## SODIUM\n",
    "# sodium bins\n",
    "sodium_bins = [data['sodium_100g'].min() - 1, 90, 180, 270, 360, 450, 540, 630, 720, 810, 900, data['sodium_100g'].max()]\n",
    "# sodium points\n",
    "data_without_beverage_fat['sodium_points'] = pd.cut(data_without_beverage_fat['sodium_100g'], sodium_bins, labels=range(11)).astype(float)\n",
    "data_beverages['sodium_points'] = pd.cut(data_beverages['sodium_100g'], sodium_bins, labels=range(11)).astype(float)\n",
    "data_fatsauces['sodium_points'] = pd.cut(data_fatsauces['sodium_100g'], sodium_bins, labels=range(11)).astype(float)\n",
    "\n"
   ]
  },
  {
   "cell_type": "markdown",
   "metadata": {},
   "source": [
    "### Calculation positive points\n",
    "\n",
    "We attribute Positive points (P) to different nutritional factors that have to be promoted: fruit vegetable nuts pourcentage, fibers and proteins."
   ]
  },
  {
   "cell_type": "code",
   "execution_count": 103,
   "metadata": {},
   "outputs": [],
   "source": [
    "# FRUITS\n",
    "# fruits bins\n",
    "fruits_bins_without_beverage_fat = [data_without_beverage_fat['fruits-vegetables-nuts_100g'].min() - 1, 40, 60, 80, data_without_beverage_fat['fruits-vegetables-nuts_100g'].max()]\n",
    "fruits_bins_fatsauces = [data_fatsauces['fruits-vegetables-nuts_100g'].min() - 1, 40, 60, 80, data_fatsauces['fruits-vegetables-nuts_100g'].max()]\n",
    "fruits_bins_beverages = [data_beverages['fruits-vegetables-nuts_100g'].min() - 1, 40, 60, 80, data_beverages['fruits-vegetables-nuts_100g'].max()]\n",
    "# fruits points\n",
    "data_without_beverage_fat['fruits_points'] = pd.cut(data_without_beverage_fat['fruits-vegetables-nuts_100g'], fruits_bins_without_beverage_fat, labels=[0,1,2,5]).astype(float)\n",
    "data_beverages['fruits_points'] = pd.cut(data_beverages['fruits-vegetables-nuts_100g'], fruits_bins_beverages, labels=[0,2,4,10]).astype(float)\n",
    "data_fatsauces['fruits_points'] = pd.cut(data_fatsauces['fruits-vegetables-nuts_100g'], fruits_bins_fatsauces, labels=[0,1,2,5]).astype(float)\n",
    "\n",
    "\n",
    "# FIBRES\n",
    "# fibers bins\n",
    "fibers_bins = [data['fiber_100g'].min() - 1, 0.7, 1.4, 2.1, 2.8, 3.5, data['fiber_100g'].max()]\n",
    "# fibers points\n",
    "data_without_beverage_fat['fiber_points'] = pd.cut(data_without_beverage_fat['fiber_100g'], fibers_bins, labels=range(6)).astype(float)\n",
    "data_beverages['fiber_points'] = pd.cut(data_beverages['fiber_100g'], fibers_bins, labels=range(6)).astype(float)\n",
    "data_fatsauces['fiber_points'] = pd.cut(data_fatsauces['fiber_100g'], fibers_bins, labels=range(6)).astype(float)\n",
    "\n",
    "# PROTEINS\n",
    "# proteins bins\n",
    "proteins_bins = [data['proteins_100g'].min() - 1, 1.6, 3.2, 4.8, 6.4, 8.0, data['proteins_100g'].max()]\n",
    "# proteins points\n",
    "data_without_beverage_fat['proteins_points'] = pd.cut(data_without_beverage_fat['proteins_100g'], proteins_bins, labels=range(6)).astype(float)\n",
    "data_beverages['proteins_points'] = pd.cut(data_beverages['proteins_100g'], proteins_bins, labels=range(6)).astype(float)\n",
    "data_fatsauces['proteins_points'] = pd.cut(data_fatsauces['proteins_100g'], proteins_bins, labels=range(6)).astype(float)\n"
   ]
  },
  {
   "cell_type": "code",
   "execution_count": 104,
   "metadata": {},
   "outputs": [],
   "source": [
    "# rejoin last separated dataframe\n",
    "frames = [data_without_beverage_fat, data_beverages, data_fatsauces]\n",
    "nutridata = pd.concat(frames)"
   ]
  },
  {
   "cell_type": "markdown",
   "metadata": {},
   "source": [
    "### Nutriscore calculation"
   ]
  },
  {
   "cell_type": "code",
   "execution_count": 105,
   "metadata": {},
   "outputs": [],
   "source": [
    "# concession made to put 0 inplace of Nan of 'fruits_points','fiber_points','proteins_points' \n",
    "# this will not be a problem we do not substract Positive point\n",
    "nutridata['fruits_points'] = nutridata['fruits_points'].fillna(0)\n",
    "nutridata['fiber_points'] = nutridata['fiber_points'].fillna(0)\n",
    "nutridata['proteins_points'] = nutridata['proteins_points'].fillna(0)"
   ]
  },
  {
   "cell_type": "code",
   "execution_count": 106,
   "metadata": {},
   "outputs": [],
   "source": [
    "# calculation of P x N\n",
    "nutridata['points_N']= nutridata['energy_points'] + nutridata['saturated-fat_points'] + nutridata['sugar_points'] + nutridata['sodium_points']\n",
    "nutridata['points_P'] = nutridata['fruits_points'] + nutridata['fiber_points'] + nutridata['proteins_points']"
   ]
  },
  {
   "cell_type": "code",
   "execution_count": 107,
   "metadata": {},
   "outputs": [],
   "source": [
    "def compute_score(row):\n",
    "    N = row['points_N']\n",
    "    P = row['points_P']\n",
    "    fruit = row['fruits_points']\n",
    "    fiber = row['fiber_points']\n",
    "        \n",
    "    if N < 11 or fruit == 5:\n",
    "        return N - P\n",
    "    else:\n",
    "        return N - (fiber + fruit)\n",
    "    \n",
    "nutridata['nutri-score_calculated'] = nutridata.apply(compute_score, axis=1)"
   ]
  },
  {
   "cell_type": "markdown",
   "metadata": {},
   "source": [
    "### Convertion of NutriScore into NutriLetter\n"
   ]
  },
  {
   "cell_type": "code",
   "execution_count": 108,
   "metadata": {},
   "outputs": [],
   "source": [
    "# re divided dataframe to allow a simpler transformation of score into letter\n",
    "nutridata_beverages = nutridata[ (nutridata['food_category']=='Beverages') & (nutridata['iswater']!=True)]\n",
    "nutridata_not_beverages = nutridata[ nutridata['food_category']!='Beverages']\n",
    "nutridata_beverages_water = nutridata[ (nutridata['food_category']=='Beverages') & (nutridata['iswater']==True)]"
   ]
  },
  {
   "cell_type": "code",
   "execution_count": 109,
   "metadata": {},
   "outputs": [
    {
     "name": "stderr",
     "output_type": "stream",
     "text": [
      "/Users/Matt/anaconda3/envs/ada/lib/python3.7/site-packages/ipykernel_launcher.py:9: SettingWithCopyWarning: \n",
      "A value is trying to be set on a copy of a slice from a DataFrame.\n",
      "Try using .loc[row_indexer,col_indexer] = value instead\n",
      "\n",
      "See the caveats in the documentation: http://pandas.pydata.org/pandas-docs/stable/user_guide/indexing.html#returning-a-view-versus-a-copy\n",
      "  if __name__ == '__main__':\n",
      "/Users/Matt/anaconda3/envs/ada/lib/python3.7/site-packages/ipykernel_launcher.py:10: SettingWithCopyWarning: \n",
      "A value is trying to be set on a copy of a slice from a DataFrame.\n",
      "Try using .loc[row_indexer,col_indexer] = value instead\n",
      "\n",
      "See the caveats in the documentation: http://pandas.pydata.org/pandas-docs/stable/user_guide/indexing.html#returning-a-view-versus-a-copy\n",
      "  # Remove the CWD from sys.path while we load stuff.\n",
      "/Users/Matt/anaconda3/envs/ada/lib/python3.7/site-packages/ipykernel_launcher.py:11: SettingWithCopyWarning: \n",
      "A value is trying to be set on a copy of a slice from a DataFrame.\n",
      "Try using .loc[row_indexer,col_indexer] = value instead\n",
      "\n",
      "See the caveats in the documentation: http://pandas.pydata.org/pandas-docs/stable/user_guide/indexing.html#returning-a-view-versus-a-copy\n",
      "  # This is added back by InteractiveShellApp.init_path()\n"
     ]
    }
   ],
   "source": [
    "# NUTRILETTER\n",
    "\n",
    "#letter bins\n",
    "letter_bins_aliments = [nutridata['nutri-score_calculated'].min() - 1, 0, 2.9, 10.9, 18.9, nutridata['nutri-score_calculated'].max()]\n",
    "letter_bins_beverages = [nutridata['nutri-score_calculated'].min() - 1, 2.5, 5.5, 9.5, nutridata['nutri-score_calculated'].max()]\n",
    "letter_bins_beverages_water = [nutridata['nutri-score_calculated'].min() - 1, nutridata['nutri-score_calculated'].max()]\n",
    "\n",
    "#letter\n",
    "nutridata_not_beverages['nutri-score_letter_CALCULATED'] = pd.cut(nutridata_not_beverages['nutri-score_calculated'], letter_bins_aliments, labels=['a','b','c','d','e'])\n",
    "nutridata_beverages['nutri-score_letter_CALCULATED'] = pd.cut(nutridata_beverages['nutri-score_calculated'], letter_bins_beverages, labels=['b','c','d','e'])\n",
    "nutridata_beverages_water['nutri-score_letter_CALCULATED'] = pd.cut(nutridata_beverages_water['nutri-score_calculated'], letter_bins_beverages_water, labels=['a'])\n"
   ]
  },
  {
   "cell_type": "code",
   "execution_count": 110,
   "metadata": {},
   "outputs": [
    {
     "data": {
      "text/plain": [
       "770332"
      ]
     },
     "execution_count": 110,
     "metadata": {},
     "output_type": "execute_result"
    }
   ],
   "source": [
    "nutriframes = [nutridata_not_beverages, nutridata_beverages, nutridata_beverages_water]\n",
    "nutridata = pd.concat(nutriframes)\n",
    "\n",
    "nutridata['nutri-score_letter_CALCULATED'].value_counts().sum()"
   ]
  },
  {
   "cell_type": "markdown",
   "metadata": {},
   "source": [
    "At the end of this process of NS calculation we obtain a NS for 770k product that represent almost 80% our the entire dataset"
   ]
  },
  {
   "cell_type": "markdown",
   "metadata": {},
   "source": [
    "### Visualisation of proportion of NutriLetter label for each Food Category"
   ]
  },
  {
   "cell_type": "code",
   "execution_count": 111,
   "metadata": {},
   "outputs": [
    {
     "data": {
      "image/png": "[encoded data removed]",
      "text/plain": [
       "<Figure size 576x576 with 1 Axes>"
      ]
     },
     "metadata": {},
     "output_type": "display_data"
    }
   ],
   "source": [
    "lettercounts =nutridata.groupby(['food_category','nutri-score_letter_CALCULATED']).count()['nutri-score_calculated']\n",
    "\n",
    "plt.figure(figsize=(8,8))\n",
    "ax=plt.gca()\n",
    "\n",
    "lettercounts.unstack().div(lettercounts.unstack().sum(axis=1)/100,axis=0).plot.bar(ax=ax,stacked=True)\n",
    "plt.legend(loc='center left')\n",
    "plt.title(\"Normalized Bar Plot of Nutrition Grade for each Category\",fontsize=20);\n",
    "plt.xlabel(\"Food Category\");\n",
    "plt.ylabel(\"Nutrition Grade Percentage\");"
   ]
  },
  {
   "cell_type": "markdown",
   "metadata": {},
   "source": [
    "# Diet Study \n",
    "\n"
   ]
  },
  {
   "cell_type": "markdown",
   "metadata": {},
   "source": [
    "### Helper functions for Diet Study"
   ]
  },
  {
   "cell_type": "code",
   "execution_count": 7,
   "metadata": {},
   "outputs": [],
   "source": [
    "def clean_data(data, column_to_clean, stop_words, tokenizer, wordnet_lemmatizer, tok_gaps=False, saving=False, langdetec=False, tokenize=False, stemming=False, lemmatizing=False, onlyEngStemmer=False, applyNounFilter=False):\n",
    "    \"\"\"function that appeals all cleaning methods depending of the booleans\"\"\"\n",
    "    cleaned_data = pd.DataFrame()    \n",
    "    cleaned_data[column_to_clean] = data[column_to_clean].copy()\n",
    "    \n",
    "    \n",
    "    if langdetec:\n",
    "        cleaned_data[\"languages\"] = data[data[column_to_clean].notnull()][column_to_clean].apply(language_detection)\n",
    "        #I found all the languages disponibles for stemming, and i map the corresponding name to the ISO_code found by langdetect.detect\n",
    "        cleaned_data[\"languages\"] = cleaned_data[\"languages\"].map({\"ar\": \"arabic\", \"da\": \"danish\", \"nl\" : \"dutch\", \"en\": \"english\", \"fi\": \"finnish\", \"fr\": \"french\", \"de\": \"german\", \\\n",
    "                                  \"hu\": \"hungarian\", \"it\": \"italian\", \"no\": \"norwegian\", \"ro\": \"romanian\", \"ru\" : \"russian\", \"es\": \"spanish\", \\\n",
    "                                  \"sv\" :\"swedish\"})\n",
    "        if saving:\n",
    "            cleaned_data.to_pickle(\"exploration/processed_pickle/\"+str(column_to_clean)+\"/out_langdetect.pkl\")\n",
    "       \n",
    "    #tokenize column_to_clean : --> stemming + lemmatization need list of tokens\n",
    "    if tokenize:\n",
    "        cleaned_data[column_to_clean] = tokenize_data(cleaned_data[column_to_clean], stop_words, tokenizer, applyNounFilter)\n",
    "        if saving:\n",
    "            cleaned_data.to_pickle(\"exploration/processed_pickle/\"+str(column_to_clean)+\"/out_token.pkl\")\n",
    "    else: \n",
    "        cleaned_data = pd.read_pickle(\"exploration/processed_pickle/\"+str(column_to_clean)+\"/out_token.pkl\") \n",
    "    \n",
    "    #stemm column_to_clean column according to the language used\n",
    "    if stemming:\n",
    "        #for stemming, langdetection as to be made previously\n",
    "        if (not(langdetec or onlyEngStemmer)):\n",
    "            lang_data = pd.read_pickle(\"exploration/processed_pickle/\"+str(column_to_clean)+\"/out_langdetect.pkl\")\n",
    "            cleaned_data[\"languages\"] = lang_data[\"languages\"].copy()\n",
    "        \n",
    "        cleaned_data = stemming_data(cleaned_data, column_to_clean, onlyEngStemmer)\n",
    "        \n",
    "        if saving:\n",
    "            cleaned_data.to_pickle(\"exploration/processed_pickle/\"+str(column_to_clean)+\"/out_stem.pkl\")  \n",
    "            \n",
    "    elif lemmatizing: \n",
    "        #lemmatizing only works well for english words\n",
    "        cleaned_data = lemmatizing_data(cleaned_data, column_to_clean, wordnet_lemmatizer)\n",
    "        if saving: \n",
    "            cleaned_data.to_pickle(\"exploration/processed_pickle/\"+str(column_to_clean)+\"/out_lem\")    \n",
    "\n",
    "    return cleaned_data\n",
    "\n",
    "def filter_nountag(tokenlist_cell):\n",
    "    \"\"\"keep only NN : nouns, singular or mass and NNS : noun,plural and NNP : proper noun\"\"\"\n",
    "    \n",
    "    postag_cell = pos_tag(tokenlist_cell)\n",
    "    postag_cell_filtered = [tag for tag in postag_cell if ((tag[1]=='NNS') or (tag[1] == 'NN') or (tag[1] == \"NNP\"))]\n",
    "    tokenlist_cell = [tag[0] for tag in postag_cell_filtered]\n",
    "    \n",
    "    return tokenlist_cell\n",
    "\n",
    "def tokenize_data(data_column, stop_words, tokenizer, applyNounFilter = False, tok_gaps = False):\n",
    "    \"\"\"Clean data, i.e. \n",
    "        - lower each words in the cells of data_column\n",
    "        - tokenize cells of data_column, i.e. from float type create list of string (token)\n",
    "        - remove stopwords for the list of tokens for each cells of data_column\n",
    "        - keep only tokens with tag = NN (noun), or NNS (noun, plural)\n",
    "    \"\"\"  \n",
    "    if tok_gaps:\n",
    "        data_column = data_column[data_column.notnull()].str.lower() \\\n",
    "            .apply(str) \\\n",
    "            .apply(lambda x :  \"\".join([ch for ch in x if ch not in string.punctuation.replace(\"-\", \"\")])) \\\n",
    "            .apply(tokenizer.tokenize) \\\n",
    "            .apply(lambda cell : [item for item in cell if item not in stop_words])\n",
    "        if applyNounFilter:\n",
    "            data_colun = data_column[data_column.notnull()].apply(filter_nountag)\n",
    "    \n",
    "    else: \n",
    "        data_column = data_column[data_column.notnull()].str.lower() \\\n",
    "            .apply(str) \\\n",
    "            .apply(tokenizer.tokenize) \\\n",
    "            .apply(lambda cell : [item for item in cell if item not in stop_words]) \n",
    "        if applyNounFilter:\n",
    "            data_column = data_column[data_column.notnull()].apply(filter_nountag)\n",
    "    \n",
    "    return data_column\n",
    "\n",
    "def language_detection(category_cell): \n",
    "    \"\"\"take a cell containing a the string from unprocessed dataframe and detect the language\"\"\"\n",
    "    tmp_cell = str()\n",
    "    tmp_cell = category_cell\n",
    "    \n",
    "    #supress numbers in string\n",
    "    tmp_cell = tmp_cell.replace('\\d+', '')\n",
    "    #supress punctuations\n",
    "    tmp_cell = re.sub(r'[^\\w\\s]','', tmp_cell)\n",
    "    #remove spaces in string\n",
    "    tmp_cell = ''.join(tmp_cell.split())\n",
    "    \n",
    "    #check if the string contain only letters --> f**king 🍩 \n",
    "    if tmp_cell.isalpha():\n",
    "        language = detect(category_cell)\n",
    "        return detect(category_cell)\n",
    "    else: \n",
    "        return None\n",
    "\n",
    "def stemming_data(df_lang, serie_tokenlist, onlyEngStemmer = False):\n",
    "    \"\"\"Take as argument : \n",
    "        - df_lang = dataframe containing a serie of tokenlist, and a serie \"languages\" of corresponding language\n",
    "        - serie_tokenlist = string name of the serie of tokenlist to stem\n",
    "    \"\"\"\n",
    "    for i in [1, 2]:\n",
    "        for index, row in df_lang[df_lang[serie_tokenlist].notnull()].iterrows():\n",
    "            \n",
    "            if onlyEngStemmer: \n",
    "                stemmer = SnowballStemmer(\"english\")\n",
    "            else: \n",
    "                stemmer = SnowballStemmer(row[\"languages\"])\n",
    "                df_lang.iloc[index][serie_tokenlist] = [stemmer.stem(token) for token in row[serie_tokenlist]]\n",
    " \n",
    "        \n",
    "    return df_lang\n",
    "\n",
    "def lemmatizing_data(df, serie_tokenlist, wordnet_lemmatizer):\n",
    "    \"\"\"lemmatize serie containing token_list\n",
    "        - serie_tokenlist = string name of the serie of tokenlist to lemmatize\n",
    "        - df = dataframe containing \"serie_tokenlist\" column\n",
    "        \"\"\"\n",
    "    for index, row in df[df[serie_tokenlist].notnull()].iterrows():\n",
    "        df.iloc[index][serie_tokenlist] =  [wordnet_lemmatizer.lemmatize(token, pos=\"n\") for token in row[serie_tokenlist]]\n",
    "        #if u lemmatize verbs --> pos = \"-v\"\n",
    "    return df\n"
   ]
  },
  {
   "cell_type": "markdown",
   "metadata": {},
   "source": [
    "## Cleaning \"categories\" field\n",
    "\n",
    "We first clean the 'categories' field and save the result in pickle format."
   ]
  },
  {
   "cell_type": "markdown",
   "metadata": {},
   "source": [
    "### -> If column field has to be cleaned\n",
    "\n",
    "The cell below aims to clean the \"categories\" field and save outputs of each steps of the cleaning in pickle format. \n",
    "* create a repository in processed_pickle which has the name of the column to clean, i.e. processed_pickle/categories/ is the repository in which pickles will be saved"
   ]
  },
  {
   "cell_type": "code",
   "execution_count": 8,
   "metadata": {},
   "outputs": [],
   "source": [
    "saving = False\n",
    "# note : Language detection is only needed for stemming, \n",
    "# and it is a very long run (~1h)\n",
    "\n",
    "#StopWords and Tokenizer Object initialization\n",
    "stop_words = set(stopwords.words(\"french\")).union(set(stopwords.words(\"english\"))) #will remove only english and french stopwords\n",
    "tokenizer = RegexpTokenizer(r'\\w+')\n",
    "wordnet_lemmatizer = WordNetLemmatizer()"
   ]
  },
  {
   "cell_type": "code",
   "execution_count": null,
   "metadata": {},
   "outputs": [],
   "source": [
    "column_to_clean = \"categories\"\n",
    "#language detection\n",
    "langdetect_data = clean_data(data, column_to_clean, stop_words, tokenizer, wordnet_lemmatizer, saving = True, langdetec = True)\n",
    "#tokenization\n",
    "tok_data = clean_data(data, column_to_clean, stop_words, tokenizer, wordnet_lemmatizer, saving = True, tokenize = True, applyNounFilter = True)\n",
    "#stemming --> good since it consider language\n",
    "stem_data = clean_data(data, column_to_clean, stop_words, tokenizer, wordnet_lemmatizer, saving = True, stemming = True)\n",
    "#lemmatize --> not very good since it does not consider language (only good for english)\n",
    "lem_data = clean_data(data, column_to_clean, stop_words, tokenizer, wordnet_lemmatizer, saving = True, lemmatizing = True)"
   ]
  },
  {
   "cell_type": "markdown",
   "metadata": {},
   "source": [
    "### -> If column field already cleaned and saved in pkl"
   ]
  },
  {
   "cell_type": "code",
   "execution_count": 9,
   "metadata": {},
   "outputs": [],
   "source": [
    "column = \"categories\"\n",
    "langdetect_data = pd.read_pickle(\"exploration/processed_pickle/\"+str(column)+\"/out_langdetect.pkl\")\n",
    "categories_tok = pd.read_pickle(\"exploration/processed_pickle/\"+str(column)+\"/out_token.pkl\") \n",
    "categories_stem = pd.read_pickle(\"exploration/processed_pickle/\"+str(column)+\"/out_stem.pkl\") \n",
    "categories_lem = pd.read_pickle(\"exploration/processed_pickle/\"+str(column)+\"/out_lem.pkl\") "
   ]
  },
  {
   "cell_type": "code",
   "execution_count": 10,
   "metadata": {
    "scrolled": true
   },
   "outputs": [
    {
     "name": "stdout",
     "output_type": "stream",
     "text": [
      "aliment\n",
      "boisson\n",
      "produit\n",
      "snack\n",
      "fruit\n",
      "lait\n",
      "fromag\n",
      "plat\n",
      "céréal\n",
      "biscuit\n",
      "bas\n",
      "plant\n",
      "food\n",
      "sauc\n",
      "viand\n",
      "pomm\n",
      "légum\n",
      "dessert\n",
      "végétal\n",
      "pât\n",
      "confitur\n",
      "beverag\n",
      "poisson\n",
      "chocolat\n",
      "product\n",
      "yaourt\n",
      "déjeun\n",
      "lebensmittel\n",
      "nectar\n",
      "jus\n",
      "conserv\n",
      "pet\n",
      "cereal\n",
      "charcut\n",
      "getrank\n",
      "mat\n",
      "pflanzlich\n",
      "snacks\n",
      "chip\n",
      "fr\n",
      "pain\n",
      "orig\n",
      "grain\n",
      "huil\n",
      "tartin\n",
      "epic\n",
      "grass\n",
      "glac\n",
      "franc\n",
      "poulet\n",
      "vin\n",
      "confis\n",
      "coqu\n",
      "miel\n",
      "ajout\n",
      "milk\n",
      "crem\n",
      "soup\n",
      "surgel\n",
      "légumin\n",
      "bonbon\n",
      "volaill\n",
      "san\n",
      "bi\n",
      "prépar\n",
      "compot\n",
      "filet\n",
      "marmelad\n",
      "tart\n",
      "foi\n",
      "jambons\n",
      "salad\n",
      "rillet\n",
      "frut\n",
      "sirop\n",
      "oliv\n",
      "sardin\n",
      "thon\n",
      "alimentair\n",
      "cuit\n",
      "jambon\n",
      "roug\n",
      "chocolats\n",
      "sorbet\n",
      "juic\n",
      "élevag\n",
      "steak\n",
      "beb\n",
      "cond\n",
      "veget\n",
      "terrin\n",
      "pickl\n",
      "spread\n",
      "flocon\n",
      "édulcor\n",
      "tomat\n",
      "barr\n",
      "beurr\n",
      "sauces\n",
      "saumon\n",
      "frais\n",
      "meal\n",
      "cream\n",
      "vert\n",
      "sus\n",
      "meat\n",
      "vegetal\n",
      "beverages\n",
      "chocol\n",
      "pâtiss\n",
      "viennois\n",
      "riz\n",
      "milch\n",
      "yogurt\n",
      "orang\n",
      "sech\n",
      "champignon\n",
      "sandwich\n",
      "chaud\n",
      "brioch\n",
      "dulc\n",
      "caf\n",
      "fraîch\n",
      "charcuteri\n",
      "dairi\n",
      "galet\n",
      "noiset\n",
      "milchprodukt\n",
      "quich\n",
      "bread\n",
      "noir\n",
      "tea\n",
      "mélang\n",
      "gazeux\n",
      "onde\n",
      "crêp\n",
      "gâteau\n",
      "chee\n",
      "lech\n",
      "natur\n",
      "viandes\n",
      "vinaigres\n",
      "multifruit\n",
      "pur\n",
      "moutard\n",
      "emmental\n",
      "enti\n",
      "biscuits\n",
      "fleur\n",
      "aliments\n",
      "verdur\n",
      "amand\n",
      "infus\n",
      "groceri\n",
      "ques\n",
      "haricot\n",
      "drink\n",
      "fermentiert\n",
      "croût\n",
      "farc\n",
      "bar\n",
      "pan\n",
      "bot\n",
      "pizz\n",
      "cake\n",
      "chips\n",
      "milks\n",
      "comt\n",
      "sucr\n",
      "kas\n",
      "madelein\n",
      "bean\n",
      "escalop\n",
      "confiseri\n",
      "getreid\n",
      "fat\n",
      "potato\n",
      "bouillon\n",
      "dind\n",
      "jam\n",
      "oil\n",
      "congel\n",
      "brotaufstrich\n",
      "pasta\n",
      "aromat\n",
      "breakfast\n",
      "semoul\n",
      "farin\n",
      "ice\n",
      "charcuteries\n",
      "gras\n",
      "chair\n",
      "candi\n",
      "lentill\n",
      "sel\n",
      "carott\n",
      "reconstitu\n",
      "nouill\n",
      "foods\n",
      "mouss\n",
      "vierg\n",
      "hortaliz\n",
      "past\n",
      "com\n",
      "epicer\n",
      "nut\n",
      "rice\n",
      "seed\n",
      "untabl\n",
      "butter\n",
      "base\n",
      "compl\n",
      "boudin\n",
      "sal\n",
      "concentr\n",
      "prep\n",
      "frit\n",
      "oils\n",
      "epiceri\n",
      "corn\n",
      "thé\n",
      "animal\n",
      "lact\n",
      "yogur\n",
      "virg\n",
      "con\n",
      "yogurts\n",
      "из\n",
      "gratin\n",
      "legum\n",
      "gallet\n",
      "canard\n",
      "frucht\n",
      "dur\n",
      "aid\n",
      "tournesol\n",
      "substitut\n",
      "cook\n",
      "blanc\n",
      "campagn\n",
      "deriv\n",
      "cru\n",
      "и\n",
      "desayun\n",
      "bebidas\n",
      "farines\n",
      "oignon\n",
      "e\n",
      "minéral\n",
      "pastel\n",
      "épic\n",
      "mayon\n",
      "almond\n",
      "cacahuet\n",
      "wine\n",
      "casc\n",
      "carn\n",
      "legumin\n",
      "butt\n",
      "vanill\n",
      "poul\n",
      "doset\n",
      "fri\n",
      "fresc\n",
      "tomato\n",
      "porc\n",
      "condimentair\n",
      "beignet\n",
      "camembert\n",
      "margarin\n",
      "lasagn\n",
      "cuiss\n",
      "condiment\n",
      "blanch\n",
      "raisin\n",
      "raviol\n",
      "sod\n",
      "confectioneri\n",
      "citron\n",
      "réfrig\n",
      "salti\n",
      "mois\n",
      "complet\n",
      "blé\n",
      "céréales\n",
      "quenel\n",
      "culinair\n",
      "honey\n",
      "muesl\n",
      "сыр\n",
      "feuill\n",
      "fish\n",
      "bloc\n",
      "crevet\n",
      "drinks\n",
      "peanut\n",
      "caramel\n",
      "syrup\n",
      "sourc\n",
      "frambois\n",
      "col\n",
      "hach\n",
      "wheat\n",
      "fleisch\n",
      "cidr\n",
      "croiss\n",
      "flake\n",
      "produits\n",
      "turron\n",
      "ber\n",
      "vach\n",
      "taboul\n",
      "blond\n",
      "tapenad\n",
      "растительн\n",
      "cibi\n",
      "appet\n",
      "ketchup\n",
      "pies\n",
      "cheddar\n",
      "coff\n",
      "sels\n",
      "comest\n",
      "mustard\n",
      "dériv\n",
      "water\n",
      "gum\n",
      "italien\n",
      "herb\n",
      "egg\n",
      "pâqu\n",
      "naturel\n",
      "products\n",
      "extra\n",
      "mayonnaises\n",
      "flak\n",
      "salmon\n",
      "truit\n",
      "barbecu\n",
      "chipolat\n",
      "maï\n",
      "coco\n",
      "appl\n",
      "pizzas\n",
      "fisch\n",
      "deshidrat\n",
      "lardon\n",
      "conf\n",
      "balsamiques\n",
      "joghurt\n",
      "di\n",
      "condiments\n",
      "kuch\n",
      "écrem\n",
      "muffin\n",
      "alcool\n",
      "und\n",
      "fruhstuck\n",
      "gaufr\n",
      "par\n",
      "dair\n",
      "mit\n",
      "vinaigr\n",
      "confiseries\n",
      "industriel\n",
      "tortill\n",
      "zum\n",
      "pistach\n",
      "sop\n",
      "nect\n",
      "напитк\n",
      "desserts\n",
      "asperg\n",
      "biscott\n",
      "aguas\n",
      "plats\n",
      "poudr\n",
      "gaufret\n",
      "assaison\n",
      "postr\n",
      "brass\n",
      "épinard\n",
      "pesc\n",
      "œuf\n",
      "goud\n",
      "poir\n",
      "patat\n",
      "cooki\n",
      "boissons\n",
      "boir\n",
      "fum\n",
      "win\n",
      "alkohol\n",
      "cib\n",
      "saint\n",
      "moulag\n",
      "produkt\n",
      "fruits\n",
      "pl\n",
      "semill\n",
      "pêch\n",
      "poivr\n",
      "bacon\n",
      "moutardes\n",
      "noix\n",
      "hareng\n",
      "édulcorants\n",
      "dairies\n",
      "mar\n",
      "seafood\n",
      "beef\n",
      "chicken\n",
      "myrtill\n",
      "tranch\n",
      "vinaigret\n",
      "cornichon\n",
      "brot\n",
      "minerales\n",
      "breb\n",
      "virgen\n",
      "figu\n",
      "pudding\n",
      "bovin\n",
      "cer\n"
     ]
    }
   ],
   "source": [
    "categories_dict = categories_stem[categories_stem[\"categories\"].notnull()][\"categories\"].explode().value_counts()\n",
    "for word in categories_dict[categories_dict>500].index:\n",
    "    print(word)"
   ]
  },
  {
   "cell_type": "markdown",
   "metadata": {},
   "source": [
    "## Diet Dictionary for categories field\n",
    "\n",
    "We create dictionary for each diets. They have a YES list and NO list. A product is considered part of the diet is it has at least ONE element in its YES list (if not empty) and NO element in its NO list (if not empty)."
   ]
  },
  {
   "cell_type": "code",
   "execution_count": 10,
   "metadata": {},
   "outputs": [],
   "source": [
    "regimes = ['isVegetarian', 'isVegetalian', 'isGlutenfree', 'isLactosefree', 'isKetogenic', 'isOrganic']"
   ]
  },
  {
   "cell_type": "code",
   "execution_count": 11,
   "metadata": {},
   "outputs": [
    {
     "data": {
      "text/plain": [
       "['categories_isVegetarian_YESlist',\n",
       " 'categories_isVegetalian_YESlist',\n",
       " 'categories_isGlutenfree_YESlist',\n",
       " 'categories_isLactosefree_YESlist',\n",
       " 'categories_isKetogenic_YESlist',\n",
       " 'categories_isOrganic_YESlist']"
      ]
     },
     "execution_count": 11,
     "metadata": {},
     "output_type": "execute_result"
    }
   ],
   "source": [
    "#Initialization needed to create a serie containing unauthorized items  for each of the diets\n",
    "unauthorized_categories = pd.Series(index = regimes).rename('unauthorized_categories')\n",
    "\n",
    "unauthorized_listnames_categories = ['categories_' + str(x) + '_NOlist' for x in regimes]\n",
    "unauthorized_listnames_categories\n",
    "\n",
    "#Initialization needed to create a serie containing authorized items for each of the diets\n",
    "authorized_categories = pd.Series(index = regimes).rename('authorized_labelsen')\n",
    "\n",
    "authorized_listnames_categories = ['categories_' + str(x) + '_YESlist' for x in regimes]\n",
    "authorized_listnames_categories"
   ]
  },
  {
   "cell_type": "code",
   "execution_count": 30,
   "metadata": {},
   "outputs": [],
   "source": [
    "# GENERAL LISTS\n",
    "viand_list =  ['foi', 'sauc', 'steak', 'viand', 'viandes', 'meat', 'beef', 'poisson', 'charcut', 'charcuteries', 'charcuteri', 'poulet', 'poul', 'volaill', 'jambons', 'jambon', 'jam', 'rillet', 'sardin', 'thon', 'steak', 'saumon', 'salmon', 'escalop', 'dind', 'jam', \\\n",
    "               'terrin', 'boudin', 'animal', 'cannard', 'porc', 'lasagn', 'cuiss', 'fish', 'crevet', 'fleisch', 'vach', 'chipolat', 'fisch', 'lardon', 'bacon', 'hareng', 'seafood', 'chicken', 'breb', 'bovin']\n",
    "\n",
    "lactose_list = ['fromag', 'lait', 'yaourt', 'bi', 'écrem', 'cream', 'crem', 'glac', 'milk', 'milks', 'dairi', 'dair', 'dairies', 'beurr', 'milch', 'milchprodukt', 'chee', \\\n",
    "                                'cake', 'crêp', 'bread', 'gâteau' , 'lait', 'butter', 'butt', 'cooki', 'emmental', 'comt', 'camembert', 'margarin', 'kas', 'cheddar', 'yogurt', 'yogur', 'yogurts']\n",
    "\n",
    "gluten_list = ['pât', 'pasta', 'pâtiss', 'past', 'nouill', 'viennois', 'biscuit', 'biscuits', 'sauc', 'sauces', 'charcut', 'charcuteri', 'charcuteries', 'bread', 'crêp', 'gâteau', 'farin', 'farines', 'pizz', 'pizzas', 'cake', 'madelein', \\\n",
    "               'brotaufstrich', 'brot', 'beignet', 'lasagn', 'raviol', 'blé', 'wheat', 'bi', 'pies', 'kuch', 'muffin', 'gaufr', 'gaufret', 'biscott', 'cooki', 'cook', 'brot']\n",
    "\n",
    "fruit_list =  ['fruits','fruit', 'multifruit', 'pomm', 'confitur','nectar', 'nect', 'jus', 'juic','frut', 'sorbet', 'tomat', 'tomato', 'orang', 'compotes', 'marmelad'] \n",
    "\n",
    "legum_list = ['legum', 'légum',  'plant', 'végétal', 'vegetal', 'pflanzlich', 'salad',  'verdur', 'haricot',  'amand', 'veget',  'carott', 'oignon']\n",
    "\n",
    "fat_list = ['huil', 'oil', 'oils', 'fat', 'gras', 'grass'] \n",
    "\n",
    "egg_list = ['mayon', 'mayonnaises', 'mayonnaises', 'moutardes', 'mustard', 'egg', 'œuf']\n",
    "\n",
    "# Vegetarian_NOlist = regimes(0)\n",
    "categories_Vegetarian_NOlist = viand_list\n",
    "categories_Vegetarian_YESlist = lactose_list + \\\n",
    "                                fruit_list + \\\n",
    "                                legum_list + \\\n",
    "                                fat_list + \\\n",
    "                                egg_list \n",
    "\n",
    "# Lactosefree = regime(3)\n",
    "categories_Lactosefree_NOlist = lactose_list\n",
    "categories_Lactosefree_YESlist = viand_list + \\\n",
    "                                 fruit_list + \\\n",
    "                                 legum_list + \\\n",
    "                                 fat_list + \\\n",
    "                                 ['céréal', 'céréales', 'cereal', 'getreid', 'pât', 'sauces', 'sauc', \\\n",
    "                                  'chips', 'chip', 'confiseries', 'confiseri', 'pain', 'huil', 'vin', 'vinaigres', \\\n",
    "                                  'vinaigr', 'vinaigret', 'miel',  'bonbon', \\\n",
    "                                  'grain', 'sirop', 'pickl', 'flocon',  'oliv', \\\n",
    "                                  'riz', 'moutardes', 'moutard', 'champignon', 'farin', 'farines', 'noiset', 'caf', 'bean', 'pasta',\\\n",
    "                                  'escalop', 'flake', 'flak', 'bouillon', 'seed', 'wine', 'win', 'potato', 'sod', 'nut', 'nouill', 'lentill', 'candi', \\\n",
    "                                  'corn', 'sel', 'sucr', 'thé', 'tournesol', 'semoul', 'vert', 'muesl', 'pur', 'épic', 'vanill', 'minéral', 'minerales']\n",
    "\n",
    "\n",
    "#Vegan_NOlist = regimes(1)\n",
    "categories_Vegetalian_NOlist = lactose_list + \\\n",
    "                          viand_list + \\\n",
    "                          egg_list\n",
    "\n",
    "categories_Vegetalian_YESlist = legum_list + \\\n",
    "                           fruit_list \n",
    "\n",
    "#Glutenfree = regime(2)\n",
    "categories_Glutenfree_NOlist = gluten_list\n",
    "categories_Glutenfree_YESlist = fruit_list + \\\n",
    "                                legum_list + \\\n",
    "                                egg_list + \\\n",
    "                                fat_list\n",
    "\n",
    "\n",
    "#Ketogenic = regimes(4)\n",
    "categories_Ketogenic_NOlist = fruit_list + \\\n",
    "                              ['sucr', 'confiseries', 'confiseri', 'confis' , 'nouill', 'semoul', 'legumin', 'légumin', 'potato', 'bean', 'haricot', 'lentill', 'lentill', 'riz', 'pasta', \\\n",
    "                               'pasta', 'milk', 'milks', 'sirop', 'candi', 'jus', 'juic', 'tart', 'marmelad', 'snack', 'snacks', 'biscuit', 'pât', 'confitur', 'chocolat', 'chocolats', 'chocol', \\\n",
    "                               'nectar', 'nect', 'bread', 'chip', 'chips', 'pain', 'miel', 'bonbon', 'compot', 'pâtiss']\n",
    "\n",
    "categories_Ketogenic_YESlist = lactose_list + \\\n",
    "                               viand_list + \\\n",
    "                               fat_list + \\\n",
    "                               egg_list  + \\\n",
    "                               legum_list + \\\n",
    "                               ['grain', 'nut', 'tomato', 'tomat', 'seed']\n",
    "\n",
    "\n",
    "\n",
    "#Organic = regimes(5)\n",
    "categories_Organic_NOlist = []\n",
    "categories_Organic_YESlist = []\n",
    "\n",
    "\n",
    "categories_YESlists = [categories_Vegetarian_YESlist, categories_Vegetalian_YESlist, \\\n",
    "                      categories_Glutenfree_YESlist, categories_Lactosefree_YESlist, \\\n",
    "                      categories_Ketogenic_YESlist, categories_Organic_YESlist]\n",
    "\n",
    "categories_NOlists = [categories_Vegetarian_NOlist, categories_Vegetalian_NOlist, \\\n",
    "                      categories_Glutenfree_NOlist, categories_Lactosefree_NOlist, \\\n",
    "                      categories_Ketogenic_NOlist, categories_Organic_NOlist]"
   ]
  },
  {
   "cell_type": "markdown",
   "metadata": {},
   "source": [
    "## Cleaning labels_en field\n",
    "\n",
    "The 'label_en' column is used to complete the diet attribution of products"
   ]
  },
  {
   "cell_type": "code",
   "execution_count": 13,
   "metadata": {},
   "outputs": [],
   "source": [
    "saving = True\n",
    "# note : Language detection is only needed for stemming, \n",
    "# and it is a very long run (~1h)\n",
    "\n",
    "#StopWords and Tokenizer Object initialization\n",
    "stop_words = set(stopwords.words(\"french\")).union(set(stopwords.words(\"english\"))) #will remove only english and french stopwords\n",
    "wordnet_lemmatizer = WordNetLemmatizer()\n",
    "\n",
    "\n",
    "tokenizer = RegexpTokenizer(r'\\w+')\n",
    "\n",
    "#here we use tokenizer gaps to keep compounds words (don't separate words with dashe, e.g. gluten-free --> \"gluten-free\")\n",
    "tokenizer_gaps = RegexpTokenizer('\\s+', gaps=True)\n"
   ]
  },
  {
   "cell_type": "code",
   "execution_count": 14,
   "metadata": {},
   "outputs": [],
   "source": [
    "column_to_clean = \"labels_en\"\n",
    "\n",
    "#tokenization\n",
    "tok_data = clean_data(data, column_to_clean, stop_words, tokenizer, wordnet_lemmatizer, tok_gaps=False, saving=True, tokenize=True)\n",
    "#stemming --> good since it consider language\n",
    "stem_data = clean_data(data, column_to_clean, stop_words, tokenizer, wordnet_lemmatizer, tok_gaps=False, saving=True, stemming=True, onlyEngStemmer=True)"
   ]
  },
  {
   "cell_type": "code",
   "execution_count": 15,
   "metadata": {},
   "outputs": [],
   "source": [
    "label_tok = pd.read_pickle(\"exploration/processed_pickle/labels_en/out_token.pkl\")\n",
    "label_stem = pd.read_pickle(\"exploration/processed_pickle/labels_en/out_stem.pkl\")\n",
    "\n",
    "#With gap, gluten-free is not separated in 'gluten' 'free'\n",
    "label_tokgap = pd.read_pickle(\"exploration/processed_pickle/labels_en/out_tokengap.pkl\")\n",
    "label_stemgap = pd.read_pickle(\"exploration/processed_pickle/labels_en/out_stemgap.pkl\")"
   ]
  },
  {
   "cell_type": "markdown",
   "metadata": {},
   "source": [
    "## Diet Dictionary for labels_en field\n",
    "\n",
    "The same methodology is used for obtaining diet information from the 'labels_en' column and completing our diet categorization"
   ]
  },
  {
   "cell_type": "code",
   "execution_count": 16,
   "metadata": {
    "scrolled": true
   },
   "outputs": [
    {
     "data": {
      "text/plain": [
       "Organic                                                                            18264\n",
       "Gluten-free                                                                        12392\n",
       "Organic,EU Organic,fr:ab-agriculture-biologique                                     6804\n",
       "Green Dot                                                                           6570\n",
       "Vegetarian,Vegan                                                                    4911\n",
       "Made in France                                                                      4903\n",
       "No preservatives                                                                    3694\n",
       "No colorings                                                                        2764\n",
       "No added sugar                                                                      2224\n",
       "Organic,EU Organic,FR-BIO-01                                                        2051\n",
       "No colorings,No preservatives                                                       1775\n",
       "Organic,EU Organic,FR-BIO-01,fr:ab-agriculture-biologique                           1554\n",
       "Palm oil free                                                                       1546\n",
       "Halal                                                                               1540\n",
       "PDO                                                                                 1485\n",
       "No lactose                                                                          1418\n",
       "Made in Germany                                                                     1355\n",
       "Gluten-free,No lactose                                                              1260\n",
       "Made in Italy                                                                       1216\n",
       "Sustainable fishery,Sustainable Seafood MSC                                         1161\n",
       "PGI                                                                                 1077\n",
       "French meat,French pork                                                              991\n",
       "Vegetarian,Gluten-free,Vegan                                                         976\n",
       "Vegetarian                                                                           880\n",
       "Green Dot,Made in France                                                             850\n",
       "Made in Belgium                                                                      795\n",
       "Superior quality                                                                     768\n",
       "Organic,EU Organic                                                                   767\n",
       "Green Dot,fr:eco-emballages                                                          734\n",
       "Made in Spain                                                                        676\n",
       "Organic,EU Organic,EU/non-EU Agriculture,FR-BIO-01                                   668\n",
       "Organic,EU Organic,EU/non-EU Agriculture,FR-BIO-01,fr:ab-agriculture-biologique      649\n",
       "Organic,Gluten-free                                                                  629\n",
       "fr:viande-francaise,fr:Volaille Française                                            624\n",
       "fr:Déconseillé aux femmes enceintes                                                  613\n",
       "Distributor labels,fr:Sélection Intermarché                                          612\n",
       "Green Dot,fr:Triman                                                                  591\n",
       "No additives                                                                         576\n",
       "Nutriscore,Nutriscore Grade A                                                        576\n",
       "Sustainable farming,UTZ Certified,UTZ Certified Cacao                                573\n",
       "Nutriscore                                                                           555\n",
       "fr:viande-francaise,fr:viande-porcine-francaise                                      550\n",
       "Organic,Vegetarian,Vegan                                                             526\n",
       "Produced in Bretagne                                                                 502\n",
       "Lait-francais-french-milk                                                            472\n",
       "Organic,EU Organic,FR-BIO-10                                                         469\n",
       "French meat,fr:Viande Bovine Française                                               436\n",
       "fr:Entrepreneurs + Engagés                                                           435\n",
       "Organic,EU Organic,DE-ÖKO-001                                                        422\n",
       "Nutriscore,Nutriscore Grade B                                                        417\n",
       "Name: labels_en, dtype: int64"
      ]
     },
     "execution_count": 16,
     "metadata": {},
     "output_type": "execute_result"
    }
   ],
   "source": [
    "data[data[\"labels_en\"].notnull()][\"labels_en\"].value_counts().head(50)"
   ]
  },
  {
   "cell_type": "code",
   "execution_count": 17,
   "metadata": {
    "scrolled": true
   },
   "outputs": [
    {
     "name": "stdout",
     "output_type": "stream",
     "text": [
      "organic\n",
      "fr\n",
      "agriculture\n",
      "free\n",
      "gluten\n",
      "green\n",
      "dot\n",
      "made\n",
      "france\n",
      "bio\n",
      "ab\n",
      "biologique\n",
      "vegetarian\n",
      "vegan\n",
      "preservatives\n",
      "01\n",
      "colorings\n",
      "sugar\n",
      "non\n",
      "nutriscore\n",
      "viande\n",
      "french\n",
      "added\n",
      "low\n",
      "oil\n",
      "palm\n",
      "francaise\n",
      "sustainable\n",
      "lactose\n",
      "carbon\n",
      "footprint\n",
      "eco\n",
      "fsc\n",
      "öko\n",
      "flavors\n",
      "artificial\n",
      "certified\n",
      "grade\n",
      "emballages\n",
      "fat\n",
      "halal\n",
      "milk\n",
      "française\n",
      "pork\n",
      "salt\n",
      "utz\n",
      "high\n",
      "quality\n",
      "germany\n",
      "pure\n",
      "natural\n",
      "pdo\n",
      "meat\n",
      "pgi\n",
      "labels\n",
      "society\n",
      "gmos\n",
      "italy\n",
      "distributor\n",
      "fair\n",
      "trade\n",
      "lait\n",
      "transformed\n",
      "german\n",
      "agricultural\n",
      "femmes\n",
      "enceintes\n",
      "déconseillé\n",
      "006\n",
      "kosher\n",
      "additives\n",
      "001\n",
      "100\n",
      "triman\n",
      "msc\n",
      "francais\n",
      "10\n",
      "fishery\n",
      "union\n",
      "seafood\n",
      "superior\n",
      "butter\n",
      "bretagne\n",
      "produced\n",
      "bovine\n",
      "reduced\n",
      "farming\n",
      "sélection\n",
      "intermarché\n",
      "porcine\n",
      "nl\n",
      "sans\n",
      "medal\n",
      "ru\n",
      "label\n",
      "français\n",
      "without\n",
      "volaille\n",
      "european\n",
      "origine\n",
      "mix\n",
      "source\n",
      "concours\n",
      "fibres\n",
      "cacao\n",
      "belgium\n",
      "gold\n",
      "oko\n",
      "max\n",
      "havelaar\n",
      "colors\n",
      "saveurs\n",
      "spain\n",
      "eg\n",
      "verordnung\n",
      "agricole\n",
      "ecocert\n",
      "007\n",
      "général\n",
      "3\n",
      "class\n",
      "b\n"
     ]
    }
   ],
   "source": [
    "labelsen_dict = label_stem[label_stem[\"labels_en\"].notnull()][\"labels_en\"].explode().value_counts()\n",
    "for word in labelsen_dict[labelsen_dict > 1000].index:\n",
    "    print(word)"
   ]
  },
  {
   "cell_type": "code",
   "execution_count": 18,
   "metadata": {},
   "outputs": [
    {
     "data": {
      "text/plain": [
       "['labelsen_isVegetarian_NOlist',\n",
       " 'labelsen_isVegetalian_NOlist',\n",
       " 'labelsen_isGlutenfree_NOlist',\n",
       " 'labelsen_isLactosefree_NOlist',\n",
       " 'labelsen_isKetogenic_NOlist',\n",
       " 'labelsen_isOrganic_NOlist']"
      ]
     },
     "execution_count": 18,
     "metadata": {},
     "output_type": "execute_result"
    }
   ],
   "source": [
    "#Initialization needed to create a serie containing authorized items for each of the diets\n",
    "authorized_labelsen = pd.Series(index = regimes).rename('authorized_labelsen')\n",
    "\n",
    "authorized_listnames_labelsen = ['labelsen_' + str(x) + '_YESlist' for x in regimes]\n",
    "authorized_listnames_labelsen\n",
    "\n",
    "#Initialization needed to create a serie containing unauthorized items  for each of the diets\n",
    "unauthorized_labelsen = pd.Series(index = regimes).rename('unauthorized_labelsen')\n",
    "\n",
    "unauthorized_listnames_labelsen = ['labelsen_' + str(x) + '_NOlist' for x in regimes]\n",
    "unauthorized_listnames_labelsen"
   ]
  },
  {
   "cell_type": "code",
   "execution_count": 22,
   "metadata": {},
   "outputs": [],
   "source": [
    "#Organic = regimes(5)\n",
    "labelsen_Organic_YESlist = ['organic', 'bio', 'biologique']\n",
    "#Ketogenic = regimes(4)\n",
    "labelsen_Ketogenic_YESlist = []\n",
    "\n",
    "#Lactosefree = regime(3) #since lactose only appears as NO lactose\n",
    "labelsen_Lactosefree_YESlist = ['lactose']\n",
    "\n",
    "#Glutenfree = regime(2)\n",
    "labelsen_Glutenfree_YESlistgap = ['gluten-free']\n",
    "labelsen_Glutenfree_YESlist  = ['gluten']\n",
    "#Vegan_NOlist = regimes(1)\n",
    "labelsen_Vegetalian_YESlist = ['vegan']\n",
    "\n",
    "#Vegetarian_NOlist = regimes(0)\n",
    "labelsen_Vegetarian_YESlist = ['vegetarian']\n",
    "\n",
    "labelsen_YESlistsgap = [labelsen_Vegetarian_YESlist, labelsen_Vegetalian_YESlist, labelsen_Glutenfree_YESlistgap, \\\n",
    "                    labelsen_Lactosefree_YESlist, labelsen_Ketogenic_YESlist, labelsen_Organic_YESlist]\n",
    "\n",
    "labelsen_YESlists = [labelsen_Vegetarian_YESlist, labelsen_Vegetalian_YESlist, labelsen_Glutenfree_YESlist, \\\n",
    "                    labelsen_Lactosefree_YESlist, labelsen_Ketogenic_YESlist, labelsen_Organic_YESlist]"
   ]
  },
  {
   "cell_type": "markdown",
   "metadata": {},
   "source": [
    "## Diet series creation\n",
    "\n",
    "We create the series representing possible the diet regimes of products"
   ]
  },
  {
   "cell_type": "markdown",
   "metadata": {},
   "source": [
    "### Lets first try with _labels_en_"
   ]
  },
  {
   "cell_type": "code",
   "execution_count": 23,
   "metadata": {},
   "outputs": [
    {
     "data": {
      "text/plain": [
       "[['vegetarian'],\n",
       " ['vegan'],\n",
       " ['gluten'],\n",
       " ['lactose'],\n",
       " [],\n",
       " ['organic', 'bio', 'biologique']]"
      ]
     },
     "execution_count": 23,
     "metadata": {},
     "output_type": "execute_result"
    }
   ],
   "source": [
    "labelsen_YESlists"
   ]
  },
  {
   "cell_type": "code",
   "execution_count": 87,
   "metadata": {},
   "outputs": [],
   "source": [
    "def isDiet(input_df, split_col, regimes, YES_List = None, NO_List = None): \n",
    "    \"\"\" Create isDiet columns (isVegetarian, isVegetalian,...) containing bool cell for each product, True or False\"\"\"\n",
    "    data = input_df.copy()\n",
    "    #print(\"Hello, isDiet is called\")\n",
    "    for index, isRegime in enumerate(regimes): \n",
    "        \n",
    "        if ((YES_List!=None) & (NO_List==None)):\n",
    "            tmp_data = data.loc[data[split_col].notnull(), split_col].copy()\n",
    "            tmp_diet = tmp_data.apply(lambda token_list : bool(any([token in YES_List[index] for token in token_list])))\n",
    "            \n",
    "            #If isRegime already exist, just complete the lines still NaN, or Bool that are False\n",
    "            if isRegime in data.columns:\n",
    "                index1 = data[(data[isRegime]==False) | (data[isRegime].isnull())].index\n",
    "                index2 = tmp_diet.index\n",
    "                data.loc[index1.intersection(index2), isRegime] = tmp_diet.loc[index1.intersection(index2)]\n",
    "            else: \n",
    "                #print(\"Create New \" + isRegime + \" field 1\")\n",
    "                data[isRegime] = tmp_diet\n",
    "            \n",
    "        elif (YES_List!=None) & (NO_List!=None): \n",
    "            tmp_data = data.loc[data[split_col].notnull(), split_col].copy()\n",
    "            tmp_diet = tmp_data.apply(lambda token_list : bool((any([token in YES_List[index] for token in token_list])) & \\\n",
    "                                                                (all([token not in NO_List[index] for token in token_list]))))\n",
    "\n",
    "            if isRegime in data.columns:\n",
    "                index1 = data[(data[isRegime]==False) | (data[isRegime].isnull())].index\n",
    "                index2 = tmp_diet.index\n",
    "                data.loc[index1.intersection(index2), isRegime] = tmp_diet.loc[index1.intersection(index2)]\n",
    "            else: \n",
    "                data[isRegime] = tmp_diet\n",
    "            \n",
    "        elif ((YES_List==None) & (NO_List!=None)):\n",
    "            tmp_data = data.loc[data[split_col].notnull(), split_col]\n",
    "            tmp_diet = tmp_data.apply(lambda token_list : bool(all([token not in NO_List[index] for token in token_list]))) \n",
    "            \n",
    "            if isRegime in data.columns:\n",
    "                #print(\"Complete only False and None 3\")\n",
    "                index1 = data[(data[isRegime]==False) | (data[isRegime].isnull())].index\n",
    "                index2 = tmp_diet.index\n",
    "                data.loc[index1.intersection(index2), isRegime] = tmp_diet.loc[index1.intersection(index2)]\n",
    "            else: \n",
    "                #print(\"Create New \" + isRegime + \" field 3\")\n",
    "                data[isRegime] = tmp_diet\n",
    "                \n",
    "    return data"
   ]
  },
  {
   "cell_type": "markdown",
   "metadata": {},
   "source": [
    "### Let's try with _categories_ field"
   ]
  },
  {
   "cell_type": "code",
   "execution_count": 61,
   "metadata": {},
   "outputs": [
    {
     "data": {
      "text/html": [
       "<div>\n",
       "<style scoped>\n",
       "    .dataframe tbody tr th:only-of-type {\n",
       "        vertical-align: middle;\n",
       "    }\n",
       "\n",
       "    .dataframe tbody tr th {\n",
       "        vertical-align: top;\n",
       "    }\n",
       "\n",
       "    .dataframe thead th {\n",
       "        text-align: right;\n",
       "    }\n",
       "</style>\n",
       "<table border=\"1\" class=\"dataframe\">\n",
       "  <thead>\n",
       "    <tr style=\"text-align: right;\">\n",
       "      <th></th>\n",
       "      <th>categories_tok</th>\n",
       "      <th>expected_output</th>\n",
       "    </tr>\n",
       "  </thead>\n",
       "  <tbody>\n",
       "    <tr>\n",
       "      <td>0</td>\n",
       "      <td>[mayon, pasta, milk, fruits]</td>\n",
       "      <td>[vege]</td>\n",
       "    </tr>\n",
       "    <tr>\n",
       "      <td>1</td>\n",
       "      <td>[pasta, fruits]</td>\n",
       "      <td>[vegan + vege + lactose-free]</td>\n",
       "    </tr>\n",
       "    <tr>\n",
       "      <td>2</td>\n",
       "      <td>[steak, milk, fruits]</td>\n",
       "      <td>[gluten-free]</td>\n",
       "    </tr>\n",
       "    <tr>\n",
       "      <td>3</td>\n",
       "      <td>[steak, pasta, fruits]</td>\n",
       "      <td>[lactose-free]</td>\n",
       "    </tr>\n",
       "    <tr>\n",
       "      <td>4</td>\n",
       "      <td>[steak, pasta, milk]</td>\n",
       "      <td>[ketogenic]</td>\n",
       "    </tr>\n",
       "    <tr>\n",
       "      <td>5</td>\n",
       "      <td>[]</td>\n",
       "      <td>[]</td>\n",
       "    </tr>\n",
       "    <tr>\n",
       "      <td>6</td>\n",
       "      <td>[mayon, milk, fruits]</td>\n",
       "      <td>[vege + gluten-free]</td>\n",
       "    </tr>\n",
       "    <tr>\n",
       "      <td>7</td>\n",
       "      <td>[milk, fruits]</td>\n",
       "      <td>[vege + gluten-free]</td>\n",
       "    </tr>\n",
       "    <tr>\n",
       "      <td>8</td>\n",
       "      <td>[steak, fruits]</td>\n",
       "      <td>[gluten-free + lactose-free]</td>\n",
       "    </tr>\n",
       "    <tr>\n",
       "      <td>9</td>\n",
       "      <td>[steak, milk]</td>\n",
       "      <td>[gluten-free + ketogenic]</td>\n",
       "    </tr>\n",
       "    <tr>\n",
       "      <td>10</td>\n",
       "      <td>[steak, pasta, milk, fruits]</td>\n",
       "      <td>[All False]</td>\n",
       "    </tr>\n",
       "  </tbody>\n",
       "</table>\n",
       "</div>"
      ],
      "text/plain": [
       "                  categories_tok                expected_output\n",
       "0   [mayon, pasta, milk, fruits]                         [vege]\n",
       "1                [pasta, fruits]  [vegan + vege + lactose-free]\n",
       "2          [steak, milk, fruits]                  [gluten-free]\n",
       "3         [steak, pasta, fruits]                 [lactose-free]\n",
       "4           [steak, pasta, milk]                    [ketogenic]\n",
       "5                             []                             []\n",
       "6          [mayon, milk, fruits]           [vege + gluten-free]\n",
       "7                 [milk, fruits]           [vege + gluten-free]\n",
       "8                [steak, fruits]   [gluten-free + lactose-free]\n",
       "9                  [steak, milk]      [gluten-free + ketogenic]\n",
       "10  [steak, pasta, milk, fruits]                    [All False]"
      ]
     },
     "execution_count": 61,
     "metadata": {},
     "output_type": "execute_result"
    }
   ],
   "source": [
    "#Test if isDiet booleans check if word in/not in list work as i want. \n",
    "test_df = pd.DataFrame()\n",
    "test_serie = pd.Series([[str('mayon'), str('pasta'), str('milk'), str('fruits')], \\\n",
    "                        [str('pasta'), str('fruits')], \\\n",
    "                        [str('steak'), str('milk'), str('fruits')], \\\n",
    "                        [str('steak'), str('pasta'), str('fruits')],\\\n",
    "                        [str('steak'), str('pasta'), str('milk')], \\\n",
    "                        [str('')], \\\n",
    "                        [str('mayon'), str('milk'), str('fruits')], \\\n",
    "                        [str('milk'), str('fruits')], \\\n",
    "                        [str('steak'), str('fruits')], \\\n",
    "                        [str('steak'), str('milk')], \\\n",
    "                        [str('steak'), str('pasta'), str('milk'), str('fruits')]])\n",
    "test_serie1 = pd.Series([['vege'], ['vegan + vege + lactose-free'], ['gluten-free'],['lactose-free'], ['ketogenic'], [''], ['vege + gluten-free'], \\\n",
    "                         ['vege + gluten-free'], ['gluten-free + lactose-free'], ['gluten-free + ketogenic'], ['All False']])\n",
    "test_df[\"categories_tok\"] = test_serie\n",
    "test_df[\"expected_output\"] = test_serie1\n",
    "test_df"
   ]
  },
  {
   "cell_type": "code",
   "execution_count": 62,
   "metadata": {},
   "outputs": [
    {
     "data": {
      "text/html": [
       "<div>\n",
       "<style scoped>\n",
       "    .dataframe tbody tr th:only-of-type {\n",
       "        vertical-align: middle;\n",
       "    }\n",
       "\n",
       "    .dataframe tbody tr th {\n",
       "        vertical-align: top;\n",
       "    }\n",
       "\n",
       "    .dataframe thead th {\n",
       "        text-align: right;\n",
       "    }\n",
       "</style>\n",
       "<table border=\"1\" class=\"dataframe\">\n",
       "  <thead>\n",
       "    <tr style=\"text-align: right;\">\n",
       "      <th></th>\n",
       "      <th>categories_tok</th>\n",
       "      <th>expected_output</th>\n",
       "      <th>isVegetarian</th>\n",
       "      <th>isVegetalian</th>\n",
       "      <th>isGlutenfree</th>\n",
       "      <th>isLactosefree</th>\n",
       "      <th>isKetogenic</th>\n",
       "    </tr>\n",
       "  </thead>\n",
       "  <tbody>\n",
       "    <tr>\n",
       "      <td>0</td>\n",
       "      <td>[mayon, pasta, milk, fruits]</td>\n",
       "      <td>[vege]</td>\n",
       "      <td>True</td>\n",
       "      <td>False</td>\n",
       "      <td>False</td>\n",
       "      <td>False</td>\n",
       "      <td>False</td>\n",
       "    </tr>\n",
       "    <tr>\n",
       "      <td>1</td>\n",
       "      <td>[pasta, fruits]</td>\n",
       "      <td>[vegan + vege + lactose-free]</td>\n",
       "      <td>True</td>\n",
       "      <td>True</td>\n",
       "      <td>False</td>\n",
       "      <td>True</td>\n",
       "      <td>False</td>\n",
       "    </tr>\n",
       "    <tr>\n",
       "      <td>2</td>\n",
       "      <td>[steak, milk, fruits]</td>\n",
       "      <td>[gluten-free]</td>\n",
       "      <td>False</td>\n",
       "      <td>False</td>\n",
       "      <td>True</td>\n",
       "      <td>False</td>\n",
       "      <td>False</td>\n",
       "    </tr>\n",
       "    <tr>\n",
       "      <td>3</td>\n",
       "      <td>[steak, pasta, fruits]</td>\n",
       "      <td>[lactose-free]</td>\n",
       "      <td>False</td>\n",
       "      <td>False</td>\n",
       "      <td>False</td>\n",
       "      <td>True</td>\n",
       "      <td>False</td>\n",
       "    </tr>\n",
       "    <tr>\n",
       "      <td>4</td>\n",
       "      <td>[steak, pasta, milk]</td>\n",
       "      <td>[ketogenic]</td>\n",
       "      <td>False</td>\n",
       "      <td>False</td>\n",
       "      <td>False</td>\n",
       "      <td>False</td>\n",
       "      <td>False</td>\n",
       "    </tr>\n",
       "    <tr>\n",
       "      <td>5</td>\n",
       "      <td>[]</td>\n",
       "      <td>[]</td>\n",
       "      <td>False</td>\n",
       "      <td>False</td>\n",
       "      <td>False</td>\n",
       "      <td>False</td>\n",
       "      <td>False</td>\n",
       "    </tr>\n",
       "    <tr>\n",
       "      <td>6</td>\n",
       "      <td>[mayon, milk, fruits]</td>\n",
       "      <td>[vege + gluten-free]</td>\n",
       "      <td>True</td>\n",
       "      <td>False</td>\n",
       "      <td>True</td>\n",
       "      <td>False</td>\n",
       "      <td>False</td>\n",
       "    </tr>\n",
       "    <tr>\n",
       "      <td>7</td>\n",
       "      <td>[milk, fruits]</td>\n",
       "      <td>[vege + gluten-free]</td>\n",
       "      <td>True</td>\n",
       "      <td>False</td>\n",
       "      <td>True</td>\n",
       "      <td>False</td>\n",
       "      <td>False</td>\n",
       "    </tr>\n",
       "    <tr>\n",
       "      <td>8</td>\n",
       "      <td>[steak, fruits]</td>\n",
       "      <td>[gluten-free + lactose-free]</td>\n",
       "      <td>False</td>\n",
       "      <td>False</td>\n",
       "      <td>True</td>\n",
       "      <td>True</td>\n",
       "      <td>False</td>\n",
       "    </tr>\n",
       "    <tr>\n",
       "      <td>9</td>\n",
       "      <td>[steak, milk]</td>\n",
       "      <td>[gluten-free + ketogenic]</td>\n",
       "      <td>False</td>\n",
       "      <td>False</td>\n",
       "      <td>False</td>\n",
       "      <td>False</td>\n",
       "      <td>False</td>\n",
       "    </tr>\n",
       "    <tr>\n",
       "      <td>10</td>\n",
       "      <td>[steak, pasta, milk, fruits]</td>\n",
       "      <td>[All False]</td>\n",
       "      <td>False</td>\n",
       "      <td>False</td>\n",
       "      <td>False</td>\n",
       "      <td>False</td>\n",
       "      <td>False</td>\n",
       "    </tr>\n",
       "  </tbody>\n",
       "</table>\n",
       "</div>"
      ],
      "text/plain": [
       "                  categories_tok                expected_output  isVegetarian  \\\n",
       "0   [mayon, pasta, milk, fruits]                         [vege]          True   \n",
       "1                [pasta, fruits]  [vegan + vege + lactose-free]          True   \n",
       "2          [steak, milk, fruits]                  [gluten-free]         False   \n",
       "3         [steak, pasta, fruits]                 [lactose-free]         False   \n",
       "4           [steak, pasta, milk]                    [ketogenic]         False   \n",
       "5                             []                             []         False   \n",
       "6          [mayon, milk, fruits]           [vege + gluten-free]          True   \n",
       "7                 [milk, fruits]           [vege + gluten-free]          True   \n",
       "8                [steak, fruits]   [gluten-free + lactose-free]         False   \n",
       "9                  [steak, milk]      [gluten-free + ketogenic]         False   \n",
       "10  [steak, pasta, milk, fruits]                    [All False]         False   \n",
       "\n",
       "    isVegetalian  isGlutenfree  isLactosefree  isKetogenic  \n",
       "0          False         False          False        False  \n",
       "1           True         False           True        False  \n",
       "2          False          True          False        False  \n",
       "3          False         False           True        False  \n",
       "4          False         False          False        False  \n",
       "5          False         False          False        False  \n",
       "6          False          True          False        False  \n",
       "7          False          True          False        False  \n",
       "8          False          True           True        False  \n",
       "9          False         False          False        False  \n",
       "10         False         False          False        False  "
      ]
     },
     "execution_count": 62,
     "metadata": {},
     "output_type": "execute_result"
    }
   ],
   "source": [
    "test_df = isDiet(test_df, \"categories_tok\", regimes[:5], YES_List = categories_YESlists[:5], NO_List = categories_NOlists[:5])\n",
    "test_df"
   ]
  },
  {
   "cell_type": "markdown",
   "metadata": {},
   "source": [
    ">Seems to works well when creating the new fields. Let's see if it also works when the field has already been created et when it only needs to complete None and False "
   ]
  },
  {
   "cell_type": "code",
   "execution_count": 80,
   "metadata": {
    "scrolled": true
   },
   "outputs": [
    {
     "data": {
      "text/html": [
       "<div>\n",
       "<style scoped>\n",
       "    .dataframe tbody tr th:only-of-type {\n",
       "        vertical-align: middle;\n",
       "    }\n",
       "\n",
       "    .dataframe tbody tr th {\n",
       "        vertical-align: top;\n",
       "    }\n",
       "\n",
       "    .dataframe thead th {\n",
       "        text-align: right;\n",
       "    }\n",
       "</style>\n",
       "<table border=\"1\" class=\"dataframe\">\n",
       "  <thead>\n",
       "    <tr style=\"text-align: right;\">\n",
       "      <th></th>\n",
       "      <th>categories_tok</th>\n",
       "      <th>labelsen_tok</th>\n",
       "      <th>expected_output</th>\n",
       "    </tr>\n",
       "  </thead>\n",
       "  <tbody>\n",
       "    <tr>\n",
       "      <td>0</td>\n",
       "      <td>[mayon, pasta, milk, fruits]</td>\n",
       "      <td>[]</td>\n",
       "      <td>[vege]</td>\n",
       "    </tr>\n",
       "    <tr>\n",
       "      <td>1</td>\n",
       "      <td>[pasta, fruits]</td>\n",
       "      <td>[]</td>\n",
       "      <td>[vegan + vege + lactose-free]</td>\n",
       "    </tr>\n",
       "    <tr>\n",
       "      <td>2</td>\n",
       "      <td>[steak, milk, fruits]</td>\n",
       "      <td>[]</td>\n",
       "      <td>[gluten-free]</td>\n",
       "    </tr>\n",
       "    <tr>\n",
       "      <td>3</td>\n",
       "      <td>[steak, pasta, fruits]</td>\n",
       "      <td>[]</td>\n",
       "      <td>[lactose-free]</td>\n",
       "    </tr>\n",
       "    <tr>\n",
       "      <td>4</td>\n",
       "      <td>[steak, pasta, milk]</td>\n",
       "      <td>[]</td>\n",
       "      <td>[ketogenic]</td>\n",
       "    </tr>\n",
       "    <tr>\n",
       "      <td>5</td>\n",
       "      <td>[]</td>\n",
       "      <td>[gluten]</td>\n",
       "      <td>[gluten-free]</td>\n",
       "    </tr>\n",
       "    <tr>\n",
       "      <td>6</td>\n",
       "      <td>[mayon, milk, fruits]</td>\n",
       "      <td>[]</td>\n",
       "      <td>[vege + gluten-free]</td>\n",
       "    </tr>\n",
       "    <tr>\n",
       "      <td>7</td>\n",
       "      <td>[milk, fruits]</td>\n",
       "      <td>[]</td>\n",
       "      <td>[vege + gluten-free]</td>\n",
       "    </tr>\n",
       "    <tr>\n",
       "      <td>8</td>\n",
       "      <td>[steak, fruits]</td>\n",
       "      <td>[]</td>\n",
       "      <td>[gluten-free + lactose-free]</td>\n",
       "    </tr>\n",
       "    <tr>\n",
       "      <td>9</td>\n",
       "      <td>[steak, milk]</td>\n",
       "      <td>[]</td>\n",
       "      <td>[gluten-free + ketogenic]</td>\n",
       "    </tr>\n",
       "    <tr>\n",
       "      <td>10</td>\n",
       "      <td>[steak, pasta, milk, fruits]</td>\n",
       "      <td>[]</td>\n",
       "      <td>[All False]</td>\n",
       "    </tr>\n",
       "  </tbody>\n",
       "</table>\n",
       "</div>"
      ],
      "text/plain": [
       "                  categories_tok labelsen_tok                expected_output\n",
       "0   [mayon, pasta, milk, fruits]           []                         [vege]\n",
       "1                [pasta, fruits]           []  [vegan + vege + lactose-free]\n",
       "2          [steak, milk, fruits]           []                  [gluten-free]\n",
       "3         [steak, pasta, fruits]           []                 [lactose-free]\n",
       "4           [steak, pasta, milk]           []                    [ketogenic]\n",
       "5                             []     [gluten]                  [gluten-free]\n",
       "6          [mayon, milk, fruits]           []           [vege + gluten-free]\n",
       "7                 [milk, fruits]           []           [vege + gluten-free]\n",
       "8                [steak, fruits]           []   [gluten-free + lactose-free]\n",
       "9                  [steak, milk]           []      [gluten-free + ketogenic]\n",
       "10  [steak, pasta, milk, fruits]           []                    [All False]"
      ]
     },
     "execution_count": 80,
     "metadata": {},
     "output_type": "execute_result"
    }
   ],
   "source": [
    "test_df = pd.DataFrame()\n",
    "test_serie2 = pd.Series([[''], \\\n",
    "                         [''], \\\n",
    "                         [''], \\\n",
    "                         [''], \\\n",
    "                         [''], \\\n",
    "                         ['gluten'], \\\n",
    "                         [''], \\\n",
    "                         [''], \\\n",
    "                         [''], \\\n",
    "                         [''], \\\n",
    "                         ['']])\n",
    "test_serie = pd.Series([[str('mayon'), str('pasta'), str('milk'), str('fruits')], \\\n",
    "                        [str('pasta'), str('fruits')], \\\n",
    "                        [str('steak'), str('milk'), str('fruits')], \\\n",
    "                        [str('steak'), str('pasta'), str('fruits')],\\\n",
    "                        [str('steak'), str('pasta'), str('milk')], \\\n",
    "                        [str('')], \\\n",
    "                        [str('mayon'), str('milk'), str('fruits')], \\\n",
    "                        [str('milk'), str('fruits')], \\\n",
    "                        [str('steak'), str('fruits')], \\\n",
    "                        [str('steak'), str('milk')], \\\n",
    "                        [str('steak'), str('pasta'), str('milk'), str('fruits')]])\n",
    "test_serie1 = pd.Series([['vege'], ['vegan + vege + lactose-free'], ['gluten-free'],['lactose-free'], ['ketogenic'], ['gluten-free'], ['vege + gluten-free'], \\\n",
    "                         ['vege + gluten-free'], ['gluten-free + lactose-free'], ['gluten-free + ketogenic'], ['All False']])\n",
    "test_df[\"categories_tok\"] = test_serie\n",
    "test_df[\"labelsen_tok\"] = test_serie2\n",
    "test_df[\"expected_output\"] = test_serie1\n",
    "test_df"
   ]
  },
  {
   "cell_type": "code",
   "execution_count": 81,
   "metadata": {},
   "outputs": [
    {
     "data": {
      "text/html": [
       "<div>\n",
       "<style scoped>\n",
       "    .dataframe tbody tr th:only-of-type {\n",
       "        vertical-align: middle;\n",
       "    }\n",
       "\n",
       "    .dataframe tbody tr th {\n",
       "        vertical-align: top;\n",
       "    }\n",
       "\n",
       "    .dataframe thead th {\n",
       "        text-align: right;\n",
       "    }\n",
       "</style>\n",
       "<table border=\"1\" class=\"dataframe\">\n",
       "  <thead>\n",
       "    <tr style=\"text-align: right;\">\n",
       "      <th></th>\n",
       "      <th>categories_tok</th>\n",
       "      <th>labelsen_tok</th>\n",
       "      <th>expected_output</th>\n",
       "      <th>isVegetarian</th>\n",
       "      <th>isVegetalian</th>\n",
       "      <th>isGlutenfree</th>\n",
       "      <th>isLactosefree</th>\n",
       "      <th>isKetogenic</th>\n",
       "    </tr>\n",
       "  </thead>\n",
       "  <tbody>\n",
       "    <tr>\n",
       "      <td>0</td>\n",
       "      <td>[mayon, pasta, milk, fruits]</td>\n",
       "      <td>[]</td>\n",
       "      <td>[vege]</td>\n",
       "      <td>True</td>\n",
       "      <td>False</td>\n",
       "      <td>False</td>\n",
       "      <td>False</td>\n",
       "      <td>False</td>\n",
       "    </tr>\n",
       "    <tr>\n",
       "      <td>1</td>\n",
       "      <td>[pasta, fruits]</td>\n",
       "      <td>[]</td>\n",
       "      <td>[vegan + vege + lactose-free]</td>\n",
       "      <td>True</td>\n",
       "      <td>True</td>\n",
       "      <td>False</td>\n",
       "      <td>True</td>\n",
       "      <td>False</td>\n",
       "    </tr>\n",
       "    <tr>\n",
       "      <td>2</td>\n",
       "      <td>[steak, milk, fruits]</td>\n",
       "      <td>[]</td>\n",
       "      <td>[gluten-free]</td>\n",
       "      <td>False</td>\n",
       "      <td>False</td>\n",
       "      <td>True</td>\n",
       "      <td>False</td>\n",
       "      <td>False</td>\n",
       "    </tr>\n",
       "    <tr>\n",
       "      <td>3</td>\n",
       "      <td>[steak, pasta, fruits]</td>\n",
       "      <td>[]</td>\n",
       "      <td>[lactose-free]</td>\n",
       "      <td>False</td>\n",
       "      <td>False</td>\n",
       "      <td>False</td>\n",
       "      <td>True</td>\n",
       "      <td>False</td>\n",
       "    </tr>\n",
       "    <tr>\n",
       "      <td>4</td>\n",
       "      <td>[steak, pasta, milk]</td>\n",
       "      <td>[]</td>\n",
       "      <td>[ketogenic]</td>\n",
       "      <td>False</td>\n",
       "      <td>False</td>\n",
       "      <td>False</td>\n",
       "      <td>False</td>\n",
       "      <td>False</td>\n",
       "    </tr>\n",
       "    <tr>\n",
       "      <td>5</td>\n",
       "      <td>[]</td>\n",
       "      <td>[gluten]</td>\n",
       "      <td>[gluten-free]</td>\n",
       "      <td>False</td>\n",
       "      <td>False</td>\n",
       "      <td>True</td>\n",
       "      <td>False</td>\n",
       "      <td>False</td>\n",
       "    </tr>\n",
       "    <tr>\n",
       "      <td>6</td>\n",
       "      <td>[mayon, milk, fruits]</td>\n",
       "      <td>[]</td>\n",
       "      <td>[vege + gluten-free]</td>\n",
       "      <td>True</td>\n",
       "      <td>False</td>\n",
       "      <td>True</td>\n",
       "      <td>False</td>\n",
       "      <td>False</td>\n",
       "    </tr>\n",
       "    <tr>\n",
       "      <td>7</td>\n",
       "      <td>[milk, fruits]</td>\n",
       "      <td>[]</td>\n",
       "      <td>[vege + gluten-free]</td>\n",
       "      <td>True</td>\n",
       "      <td>False</td>\n",
       "      <td>True</td>\n",
       "      <td>False</td>\n",
       "      <td>False</td>\n",
       "    </tr>\n",
       "    <tr>\n",
       "      <td>8</td>\n",
       "      <td>[steak, fruits]</td>\n",
       "      <td>[]</td>\n",
       "      <td>[gluten-free + lactose-free]</td>\n",
       "      <td>False</td>\n",
       "      <td>False</td>\n",
       "      <td>True</td>\n",
       "      <td>True</td>\n",
       "      <td>False</td>\n",
       "    </tr>\n",
       "    <tr>\n",
       "      <td>9</td>\n",
       "      <td>[steak, milk]</td>\n",
       "      <td>[]</td>\n",
       "      <td>[gluten-free + ketogenic]</td>\n",
       "      <td>False</td>\n",
       "      <td>False</td>\n",
       "      <td>False</td>\n",
       "      <td>False</td>\n",
       "      <td>False</td>\n",
       "    </tr>\n",
       "    <tr>\n",
       "      <td>10</td>\n",
       "      <td>[steak, pasta, milk, fruits]</td>\n",
       "      <td>[]</td>\n",
       "      <td>[All False]</td>\n",
       "      <td>False</td>\n",
       "      <td>False</td>\n",
       "      <td>False</td>\n",
       "      <td>False</td>\n",
       "      <td>False</td>\n",
       "    </tr>\n",
       "  </tbody>\n",
       "</table>\n",
       "</div>"
      ],
      "text/plain": [
       "                  categories_tok labelsen_tok                expected_output  \\\n",
       "0   [mayon, pasta, milk, fruits]           []                         [vege]   \n",
       "1                [pasta, fruits]           []  [vegan + vege + lactose-free]   \n",
       "2          [steak, milk, fruits]           []                  [gluten-free]   \n",
       "3         [steak, pasta, fruits]           []                 [lactose-free]   \n",
       "4           [steak, pasta, milk]           []                    [ketogenic]   \n",
       "5                             []     [gluten]                  [gluten-free]   \n",
       "6          [mayon, milk, fruits]           []           [vege + gluten-free]   \n",
       "7                 [milk, fruits]           []           [vege + gluten-free]   \n",
       "8                [steak, fruits]           []   [gluten-free + lactose-free]   \n",
       "9                  [steak, milk]           []      [gluten-free + ketogenic]   \n",
       "10  [steak, pasta, milk, fruits]           []                    [All False]   \n",
       "\n",
       "    isVegetarian  isVegetalian  isGlutenfree  isLactosefree  isKetogenic  \n",
       "0           True         False         False          False        False  \n",
       "1           True          True         False           True        False  \n",
       "2          False         False          True          False        False  \n",
       "3          False         False         False           True        False  \n",
       "4          False         False         False          False        False  \n",
       "5          False         False          True          False        False  \n",
       "6           True         False          True          False        False  \n",
       "7           True         False          True          False        False  \n",
       "8          False         False          True           True        False  \n",
       "9          False         False         False          False        False  \n",
       "10         False         False         False          False        False  "
      ]
     },
     "execution_count": 81,
     "metadata": {},
     "output_type": "execute_result"
    }
   ],
   "source": [
    "test_df = isDiet(test_df, \"categories_tok\", regimes[:5], YES_List = categories_YESlists[:5], NO_List = categories_NOlists[:5])\n",
    "test_df = isDiet(test_df, \"labelsen_tok\", regimes[:5], YES_List = labelsen_YESlists[:5])\n",
    "test_df"
   ]
  },
  {
   "cell_type": "markdown",
   "metadata": {},
   "source": [
    ">Seems to work well in that case too! (see line 5). Lets try on the real data"
   ]
  },
  {
   "cell_type": "code",
   "execution_count": 88,
   "metadata": {},
   "outputs": [],
   "source": [
    "#Here we use the tokenizer with gaps = True (keep gluten-free as 'gluten-free')\n",
    "data[\"labels_en_tokgap\"] = label_stemgap[\"labels_en\"]\n",
    "data_labeldietgap = isDiet(data, \"labels_en_tokgap\", regimes, labelsen_YESlistsgap)\n",
    "\n",
    "#Here we use the tokenier with gaps = False (gluten-free becomes 'gluten' 'free')\n",
    "data[\"labels_en_tok\"] = label_stem[\"labels_en\"]\n",
    "data_labeldiet = isDiet(data, \"labels_en_tok\", regimes, labelsen_YESlists)\n"
   ]
  },
  {
   "cell_type": "code",
   "execution_count": 89,
   "metadata": {},
   "outputs": [
    {
     "name": "stdout",
     "output_type": "stream",
     "text": [
      "Using labels_en field with gap tokenizer, we managed to classified : \n",
      "\n",
      "isVegetarian : 1667 True and 193084 False --> 0 %  product of total data set isVegetarian\n",
      "isVegetalian : 285 True and 194466 False --> 0 %  product of total data set isVegetalian\n",
      "isGlutenfree : 12392 True and 182359 False --> 1 %  product of total data set isGlutenfree\n",
      "isLactosefree : 4461 True and 190290 False --> 0 %  product of total data set isLactosefree\n",
      "isKetogenic : 0 True and 194751 False --> 0 %  product of total data set isKetogenic\n",
      "isOrganic : 19433 True and 175318 False --> 2 %  product of total data set isOrganic\n",
      "\n",
      "\n",
      " Using labels_en field with normal tokenizer, we managed to classified : \n",
      "\n",
      "isVegetarian : 17563 True and 177188 False --> 1 %  product of total data set isVegetarian\n",
      "isVegetalian : 14969 True and 179782 False --> 1 %  product of total data set isVegetalian\n",
      "isGlutenfree : 26677 True and 168074 False --> 2 %  product of total data set isGlutenfree\n",
      "isLactosefree : 5870 True and 188881 False --> 0 %  product of total data set isLactosefree\n",
      "isKetogenic : 0 True and 194751 False --> 0 %  product of total data set isKetogenic\n",
      "isOrganic : 64396 True and 130355 False --> 7 %  product of total data set isOrganic\n"
     ]
    }
   ],
   "source": [
    "print(\"Using labels_en field with gap tokenizer, we managed to classified : \\n\")\n",
    "for index, isRegime in enumerate(regimes):\n",
    "    if len(data_labeldietgap[data_labeldietgap[\"labels_en_tokgap\"].notnull()][isRegime].value_counts()) == 2:\n",
    "        percentage = data_labeldietgap[data_labeldietgap[\"labels_en_tokgap\"].notnull()][isRegime].value_counts()[1]/len(data_labeldietgap)*100\n",
    "        nb_true = data_labeldietgap[data_labeldietgap[\"labels_en_tokgap\"].notnull()][isRegime].value_counts()[1]\n",
    "        nb_false = data_labeldietgap[data_labeldietgap[\"labels_en_tokgap\"].notnull()][isRegime].value_counts()[0]\n",
    "    elif len(data_labeldietgap[data_labeldietgap[\"labels_en_tokgap\"].notnull()][isRegime].value_counts()) == 1:\n",
    "        percentage = 0; \n",
    "        nb_true = 0; \n",
    "        nb_false = data_labeldietgap[data_labeldietgap[\"labels_en_tokgap\"].notnull()][isRegime].value_counts()[0]\n",
    "    print(\"%s : %d True and %d False --> %d %%  product of total data set %s\" % (isRegime, nb_true, nb_false, percentage, isRegime))                                                \n",
    "\n",
    "    \n",
    "print(\"\\n\\n Using labels_en field with normal tokenizer, we managed to classified : \\n\")\n",
    "for index, isRegime in enumerate(regimes):\n",
    "    if len(data_labeldiet[data_labeldiet[\"labels_en_tok\"].notnull()][isRegime].value_counts()) == 2:\n",
    "        percentage = data_labeldiet[data_labeldiet[\"labels_en_tok\"].notnull()][isRegime].value_counts()[1]/len(data_labeldiet)*100\n",
    "        nb_true = data_labeldiet[data_labeldiet[\"labels_en_tok\"].notnull()][isRegime].value_counts()[1]\n",
    "        nb_false = data_labeldiet[data_labeldiet[\"labels_en_tok\"].notnull()][isRegime].value_counts()[0]\n",
    "    elif len(data_labeldiet[data_labeldiet[\"labels_en_tok\"].notnull()][isRegime].value_counts()) == 1:\n",
    "        percentage = 0; \n",
    "        nb_true = 0; \n",
    "        nb_false = data_labeldiet[data_labeldiet[\"labels_en_tok\"].notnull()][isRegime].value_counts()[0]\n",
    "    print(\"%s : %d True and %d False --> %d %%  product of total data set %s\" % (isRegime, nb_true, nb_false, percentage, isRegime)) "
   ]
  },
  {
   "cell_type": "markdown",
   "metadata": {},
   "source": [
    ">Regarding the previous output, we will use preferentially the normal tokenizer"
   ]
  },
  {
   "cell_type": "markdown",
   "metadata": {},
   "source": [
    "### Merging the results. \n",
    "\n",
    "Keeping in mind that _labels_en_ founding is prioritary (diet are explicit in that field)"
   ]
  },
  {
   "cell_type": "code",
   "execution_count": 91,
   "metadata": {},
   "outputs": [
    {
     "name": "stdout",
     "output_type": "stream",
     "text": [
      "Using labels fields, we managed to classified : \n",
      "\n",
      "isVegetarian : 17563 True and 177188 False --> 1 %  product of total data set isVegetarian\n",
      "isVegetalian : 14969 True and 179782 False --> 1 %  product of total data set isVegetalian\n",
      "isGlutenfree : 26677 True and 168074 False --> 2 %  product of total data set isGlutenfree\n",
      "isLactosefree : 5870 True and 188881 False --> 0 %  product of total data set isLactosefree\n",
      "isKetogenic : 0 True and 194751 False --> 0 %  product of total data set isKetogenic\n",
      "isOrganic : 64396 True and 130355 False --> 7 %  product of total data set isOrganic\n",
      "\n",
      " Using both fields, we managed to classified : \n",
      "\n",
      "isVegetarian : 145056 True and 292651 False --> 16 %  product of total data set isVegetarian\n",
      "isVegetalian : 84365 True and 353342 False --> 9 %  product of total data set isVegetalian\n",
      "isGlutenfree : 102562 True and 335145 False --> 11 %  product of total data set isGlutenfree\n",
      "isLactosefree : 179632 True and 258075 False --> 20 %  product of total data set isLactosefree\n",
      "isKetogenic : 112915 True and 324792 False --> 12 %  product of total data set isKetogenic\n",
      "isOrganic : 64396 True and 373311 False --> 7 %  product of total data set isOrganic\n"
     ]
    }
   ],
   "source": [
    "data_diet = data.copy()\n",
    "data_diet[\"labels_en_tok\"] = label_stem[\"labels_en\"]\n",
    "data_diet[\"categories_tok\"] = categories_stem[\"categories\"]\n",
    "data_diet = isDiet(data_diet, 'labels_en_tok', regimes, YES_List = labelsen_YESlists)\n",
    "\n",
    "print(\"Using labels fields, we managed to classified : \\n\")\n",
    "for index, isRegime in enumerate(regimes):\n",
    "    \n",
    "    if len(data_diet[data_diet[isRegime].notnull()][isRegime].value_counts()) == 2:\n",
    "        percentage = data_diet[data_diet[isRegime].notnull()][isRegime].value_counts()[1]/len(data_diet)*100\n",
    "        nb_true = data_diet[data_diet[isRegime].notnull()][isRegime].value_counts()[1]\n",
    "        nb_false = data_diet[data_diet[isRegime].notnull()][isRegime].value_counts()[0]\n",
    "        \n",
    "    elif len(data_diet[data_diet[isRegime].notnull()][isRegime].value_counts()) == 1:\n",
    "        percentage = 0; \n",
    "        nb_true = 0; \n",
    "        nb_false = data_diet[data_diet[isRegime].notnull()][isRegime].value_counts()[0]\n",
    "        \n",
    "    print(\"%s : %d True and %d False --> %d %%  product of total data set %s\" % (isRegime, nb_true, nb_false, percentage, isRegime))                                                \n",
    "\n",
    "\n",
    "\n",
    "data_diet = isDiet(data_diet, 'categories_tok', regimes, YES_List = categories_YESlists, NO_List = categories_NOlists)\n",
    "\n",
    "print(\"\\n Using both fields, we managed to classified : \\n\")\n",
    "for index, isRegime in enumerate(regimes):\n",
    "    \n",
    "    if len(data_diet[data_diet[isRegime].notnull()][isRegime].value_counts()) == 2:\n",
    "        percentage = data_diet[data_diet[isRegime].notnull()][isRegime].value_counts()[1]/len(data_diet)*100\n",
    "        nb_true = data_diet[data_diet[isRegime].notnull()][isRegime].value_counts()[1]\n",
    "        nb_false = data_diet[data_diet[isRegime].notnull()][isRegime].value_counts()[0]\n",
    "        \n",
    "    elif len(data_diet[data_diet[isRegime].notnull()][isRegime].value_counts()) == 1:\n",
    "        percentage = 0; \n",
    "        nb_true = 0; \n",
    "        nb_false = data_diet[data_diet[isRegime].notnull()][isRegime].value_counts()[0]\n",
    "        \n",
    "    print(\"%s : %d True and %d False --> %d %%  product of total data set %s\" % (isRegime, nb_true, nb_false, percentage, isRegime))                                                \n"
   ]
  }
 ],
 "metadata": {
  "kernelspec": {
   "display_name": "Python 3",
   "language": "python",
   "name": "python3"
  },
  "language_info": {
   "codemirror_mode": {
    "name": "ipython",
    "version": 3
   },
   "file_extension": ".py",
   "mimetype": "text/x-python",
   "name": "python",
   "nbconvert_exporter": "python",
   "pygments_lexer": "ipython3",
   "version": "3.7.4"
  }
 },
 "nbformat": 4,
 "nbformat_minor": 4
}
