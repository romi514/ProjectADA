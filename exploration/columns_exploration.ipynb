{
 "cells": [
  {
   "cell_type": "code",
   "execution_count": 1,
   "metadata": {},
   "outputs": [],
   "source": [
    "%matplotlib inline\n",
    "import pandas as pd\n",
    "import numpy as np\n",
    "import re\n",
    "import os\n",
    "import seaborn as sns; sns.set()\n",
    "from matplotlib.ticker import MaxNLocator\n",
    "import matplotlib.pyplot as plt\n",
    "from requests import get\n",
    "from bs4 import BeautifulSoup\n",
    "from pandas.util import hash_pandas_object\n",
    "\n",
    "import nltk\n",
    "from nltk.tokenize import RegexpTokenizer\n",
    "from nltk.corpus import stopwords\n",
    "from nltk import pos_tag\n",
    "from nltk.stem import SnowballStemmer\n",
    "from nltk.stem import WordNetLemmatizer\n",
    "#Uncomment next line when u first use nltk and press download when all in selected on the windows of nltk downloads\n",
    "#nltk.download()\n",
    "\n",
    "from ast import literal_eval\n",
    "\n",
    "#To detect language for stemming\n",
    "# https://en.wikipedia.org/wiki/List_of_ISO_639-1_codes\n",
    "from langdetect import detect"
   ]
  },
  {
   "cell_type": "markdown",
   "metadata": {},
   "source": [
    "## Import data"
   ]
  },
  {
   "cell_type": "code",
   "execution_count": 2,
   "metadata": {},
   "outputs": [
    {
     "name": "stderr",
     "output_type": "stream",
     "text": [
      "C:\\Users\\Yann Schilling\\Anaconda3\\envs\\ada\\lib\\site-packages\\IPython\\core\\interactiveshell.py:3058: DtypeWarning: Columns (0,24,25,26,28,44,49) have mixed types. Specify dtype option on import or set low_memory=False.\n",
      "  interactivity=interactivity, compiler=compiler, result=result)\n"
     ]
    }
   ],
   "source": [
    "raw_data = pd.read_csv('../data/en.openfoodfacts.org.products.csv', sep = '\\t')"
   ]
  },
  {
   "cell_type": "markdown",
   "metadata": {},
   "source": [
    "#### Drop columns not needed, explore missing values, and delete rows with zero or one value present"
   ]
  },
  {
   "cell_type": "code",
   "execution_count": 3,
   "metadata": {},
   "outputs": [],
   "source": [
    "columns2keep = ['energy_100g','sugars_100g','saturated-fat_100g','sodium_100g',\n",
    "    'fruits-vegetables-nuts_100g','fiber_100g','proteins_100g','nutrition-score-uk_100g',\n",
    "    'nutrition_grade_fr','main_category_en','packaging','categories','labels_en',\n",
    "    'pnns_groups_1','pnns_groups_2','product_name','ingredients_text','nutrition_grade_fr']"
   ]
  },
  {
   "cell_type": "code",
   "execution_count": 4,
   "metadata": {},
   "outputs": [],
   "source": [
    "data = raw_data[columns2keep]"
   ]
  },
  {
   "cell_type": "code",
   "execution_count": 5,
   "metadata": {},
   "outputs": [],
   "source": [
    "data = data.replace(\"unknown\",np.nan)"
   ]
  },
  {
   "cell_type": "code",
   "execution_count": 6,
   "metadata": {},
   "outputs": [],
   "source": [
    "data = data.loc[(~data.isnull()).sum(axis=1)>1]"
   ]
  },
  {
   "cell_type": "markdown",
   "metadata": {},
   "source": [
    "# FOOD CATEGORIES"
   ]
  },
  {
   "cell_type": "markdown",
   "metadata": {},
   "source": [
    "In our first step, we aim to categorize products according to their Food Category. The PNNS (\"Programme national nutrition santé\" in French) aims at categorizing food in several major classes: Dairies, Composite, Fish Meat Eggs, Beverages, Fat Sauces, Fruits Vegetables, Starchy, and Snacks.\n",
    "\n",
    "https://www.cerin.org/rapports/groupes-groupes-daliments/"
   ]
  },
  {
   "cell_type": "markdown",
   "metadata": {},
   "source": [
    "### From pnns_groups_1 column\n",
    "\n",
    "We map the given pnns categories to our 8 major ones"
   ]
  },
  {
   "cell_type": "code",
   "execution_count": 444,
   "metadata": {},
   "outputs": [
    {
     "data": {
      "text/plain": [
       "Sugary snacks              58626\n",
       "Milk and dairy products    43945\n",
       "Fish Meat Eggs             43040\n",
       "Cereals and potatoes       34562\n",
       "Beverages                  29319\n",
       "Fat and sauces             28375\n",
       "Composite foods            25712\n",
       "Fruits and vegetables      24710\n",
       "Salty snacks               19978\n",
       "sugary-snacks               3498\n",
       "fruits-and-vegetables       2924\n",
       "cereals-and-potatoes          44\n",
       "salty-snacks                   5\n",
       "Name: pnns_groups_1, dtype: int64"
      ]
     },
     "execution_count": 444,
     "metadata": {},
     "output_type": "execute_result"
    }
   ],
   "source": [
    "data[\"pnns_groups_1\"].value_counts()"
   ]
  },
  {
   "cell_type": "code",
   "execution_count": 445,
   "metadata": {},
   "outputs": [],
   "source": [
    "# dictionnary to normalize category names into PNNS category\n",
    "pnns1_category = {\n",
    " 'Sugary snacks' : 'Snacks', \n",
    " 'Milk and dairy products' : 'Dairies',\n",
    " 'Composite foods' : 'Composite', \n",
    " 'Cereals and potatoes' : 'Starchy', \n",
    " 'Fish Meat Eggs' : 'Fish Meat Eggs',\n",
    " 'Beverages' : 'Beverages',\n",
    " 'Fat and sauces' : 'Fat Sauces',\n",
    " 'Fruits and vegetables' : 'Fruits Vegetables',\n",
    " 'Salty snacks' : 'Snacks',\n",
    " 'fruits-and-vegetables' : 'Fruits Vegetables',\n",
    " 'sugary-snacks' : 'Snacks',\n",
    " 'cereals-and-potatoes' : 'Starchy',\n",
    " 'salty-snacks' : 'Snacks'\n",
    "}\n",
    "data.loc[:,'food_category'] = data['pnns_groups_1'].map(pnns1_category)"
   ]
  },
  {
   "cell_type": "code",
   "execution_count": 446,
   "metadata": {},
   "outputs": [
    {
     "data": {
      "text/plain": [
       "Snacks               82107\n",
       "Dairies              43945\n",
       "Fish Meat Eggs       43040\n",
       "Starchy              34606\n",
       "Beverages            29319\n",
       "Fat Sauces           28375\n",
       "Fruits Vegetables    27634\n",
       "Composite            25712\n",
       "Name: food_category, dtype: int64"
      ]
     },
     "execution_count": 446,
     "metadata": {},
     "output_type": "execute_result"
    }
   ],
   "source": [
    "# New pnns categories\n",
    "data[\"food_category\"].value_counts()"
   ]
  },
  {
   "cell_type": "markdown",
   "metadata": {},
   "source": [
    "### From pnns_groups_2 column\n",
    "\n",
    "We notice that several products haven't been categorized but have a non missing value in pnns_groups_2"
   ]
  },
  {
   "cell_type": "code",
   "execution_count": 447,
   "metadata": {},
   "outputs": [
    {
     "data": {
      "text/plain": [
       "Alcoholic beverages       10460\n",
       "Pizza pies and quiches      402\n",
       "Name: pnns_groups_2, dtype: int64"
      ]
     },
     "execution_count": 447,
     "metadata": {},
     "output_type": "execute_result"
    }
   ],
   "source": [
    "# Values of pnns_groups_2 which haven't been classified in food_category\n",
    "data.loc[data.food_category.isnull()][\"pnns_groups_2\"].value_counts()"
   ]
  },
  {
   "cell_type": "code",
   "execution_count": 448,
   "metadata": {
    "collapsed": true,
    "jupyter": {
     "outputs_hidden": true
    }
   },
   "outputs": [],
   "source": [
    "# dictionnary to extend food_categories from pnns_groups_2\n",
    "pnns2_category = {\n",
    " 'Pizza pies and quiches' : 'Composite', \n",
    " 'Alcoholic beverages' : 'Beverages',\n",
    "}\n",
    "data.loc[data.food_category.isnull(),'food_category'] = data.loc[data.food_category.isnull()]['pnns_groups_2'].map(pnns2_category)"
   ]
  },
  {
   "cell_type": "code",
   "execution_count": 449,
   "metadata": {},
   "outputs": [
    {
     "data": {
      "text/plain": [
       "Snacks               82107\n",
       "Dairies              43945\n",
       "Fish Meat Eggs       43040\n",
       "Beverages            39779\n",
       "Starchy              34606\n",
       "Fat Sauces           28375\n",
       "Fruits Vegetables    27634\n",
       "Composite            26114\n",
       "Name: food_category, dtype: int64"
      ]
     },
     "execution_count": 449,
     "metadata": {},
     "output_type": "execute_result"
    }
   ],
   "source": [
    "data[\"food_category\"].value_counts()"
   ]
  },
  {
   "cell_type": "markdown",
   "metadata": {},
   "source": [
    "### From main_category_en column\n",
    "\n",
    "We complete our categorization with the help of the 'main_category_en' column"
   ]
  },
  {
   "cell_type": "code",
   "execution_count": 450,
   "metadata": {},
   "outputs": [
    {
     "data": {
      "text/plain": [
       "Beverages                          9485\n",
       "Groceries                          6052\n",
       "Plant-based foods and beverages    5362\n",
       "Snacks                             3535\n",
       "Dietary supplements                2032\n",
       "Dairies                            1578\n",
       "Desserts                           1300\n",
       "Sweeteners                         1248\n",
       "Baby foods                         1242\n",
       "Cooking helpers                     743\n",
       "Crêpes and galettes                 689\n",
       "Food additives                      595\n",
       "Non food products                   521\n",
       "Canned foods                        480\n",
       "Frozen foods                        452\n",
       "Spreads                             398\n",
       "Cocoa and chocolate powders         332\n",
       "Licensed products                   306\n",
       "Syrups                              288\n",
       "Chips and fries                     267\n",
       "es:bolleria-industrial              237\n",
       "fr:bloc-de-foie-gras-de-canard      229\n",
       "Pizza dough                         204\n",
       "Breakfasts                          198\n",
       "Banana-crisps                       197\n",
       "Fish eggs                           172\n",
       "Terrines                            168\n",
       "fr:escalopes                        165\n",
       "Salads                              164\n",
       "fr:pilons-de-poulet                 136\n",
       "Name: main_category_en, dtype: int64"
      ]
     },
     "execution_count": 450,
     "metadata": {},
     "output_type": "execute_result"
    }
   ],
   "source": [
    "data.loc[data.food_category.isnull()][\"main_category_en\"].value_counts().head(30)"
   ]
  },
  {
   "cell_type": "code",
   "execution_count": 451,
   "metadata": {
    "collapsed": true,
    "jupyter": {
     "outputs_hidden": true
    }
   },
   "outputs": [],
   "source": [
    "# After inspecting the food type for the 30 most frequent values in main_category_en, we create the following dictionary\n",
    "maincategoryen_category = {\n",
    "'Beverages' : 'Beverages',\n",
    "'Snacks' : 'Snacks',\n",
    "'Dairies' : 'Dairies',\n",
    "'Desserts' : 'Dairies',\n",
    "'Crêpes and galettes' : 'Snacks',\n",
    "'Cocoa and chocolate powders': 'Snacks',\n",
    "'Syrups':'Fat Sauces',\n",
    "'Chips and fries': 'Snacks',\n",
    "'es:bolleria-industrial': 'Snacks',\n",
    "'fr:bloc-de-foie-gras-de-canard': 'Fish Meat Eggs' ,\n",
    "'Pizza dough' : 'Starchy',\n",
    "'Breakfast' : 'Starchy',\n",
    "'Banana-crisps' : \"Snacks\",\n",
    "'Fish eggs' : 'Fish Meat Eggs',\n",
    "'Terrines' : 'Fish Meat Eggs',\n",
    "'fr:escalopes' : 'Fish Meat Eggs',\n",
    "'Salads' : 'Fruits Vegetables',\n",
    "'fr:pilons-de-poulet' : 'Fish Meat Eggs'\n",
    "}\n",
    "\n",
    "data.loc[data.food_category.isnull(),'food_category'] =  data.loc[data.food_category.isnull(),'main_category_en'].map(maincategoryen_category)"
   ]
  },
  {
   "cell_type": "code",
   "execution_count": 452,
   "metadata": {},
   "outputs": [
    {
     "data": {
      "text/plain": [
       "0.37547936119300895"
      ]
     },
     "execution_count": 452,
     "metadata": {},
     "output_type": "execute_result"
    }
   ],
   "source": [
    "sum(data[\"food_category\"].value_counts())/len(data)"
   ]
  },
  {
   "cell_type": "markdown",
   "metadata": {},
   "source": [
    "**After these steps, we managed to categorize 37% of our date among PNNS groups.**\n",
    "\n",
    "For the unclassified data, the other columns don't bring any strong evidence for the categorization of the product. For instance, a lot of Dietary Supplements or Non Food Products are unclassified. Also, the table beneath shows that no column with above 10% completeness for uncategorized data gives us direct information on food categories."
   ]
  },
  {
   "cell_type": "code",
   "execution_count": 460,
   "metadata": {},
   "outputs": [
    {
     "data": {
      "text/plain": [
       "code                                       1.000000\n",
       "states_en                                  1.000000\n",
       "pnns_groups_1                              1.000000\n",
       "pnns_groups_2                              1.000000\n",
       "states                                     1.000000\n",
       "states_tags                                1.000000\n",
       "last_modified_datetime                     1.000000\n",
       "last_modified_t                            1.000000\n",
       "created_datetime                           1.000000\n",
       "created_t                                  1.000000\n",
       "creator                                    1.000000\n",
       "url                                        1.000000\n",
       "countries                                  0.998790\n",
       "countries_en                               0.998790\n",
       "countries_tags                             0.998790\n",
       "product_name                               0.994166\n",
       "energy_100g                                0.940412\n",
       "proteins_100g                              0.937662\n",
       "carbohydrates_100g                         0.935462\n",
       "fat_100g                                   0.935124\n",
       "sugars_100g                                0.919128\n",
       "salt_100g                                  0.913794\n",
       "sodium_100g                                0.913738\n",
       "energy-kcal_100g                           0.908966\n",
       "saturated-fat_100g                         0.895231\n",
       "image_url                                  0.658368\n",
       "image_small_url                            0.658368\n",
       "brands                                     0.525440\n",
       "brands_tags                                0.525400\n",
       "image_ingredients_url                      0.490092\n",
       "image_ingredients_small_url                0.490092\n",
       "ingredients_text                           0.408182\n",
       "ingredients_from_palm_oil_n                0.407994\n",
       "ingredients_that_may_be_from_palm_oil_n    0.407994\n",
       "additives_n                                0.407994\n",
       "fiber_100g                                 0.310881\n",
       "serving_quantity                           0.303319\n",
       "serving_size                               0.303275\n",
       "image_nutrition_url                        0.289257\n",
       "image_nutrition_small_url                  0.289257\n",
       "nova_group                                 0.237104\n",
       "additives_tags                             0.228359\n",
       "additives_en                               0.228359\n",
       "cholesterol_100g                           0.211874\n",
       "trans-fat_100g                             0.210892\n",
       "iron_100g                                  0.208014\n",
       "vitamin-c_100g                             0.207573\n",
       "calcium_100g                               0.206823\n",
       "vitamin-a_100g                             0.203583\n",
       "quantity                                   0.166618\n",
       "labels                                     0.138088\n",
       "labels_tags                                0.138077\n",
       "labels_en                                  0.138077\n",
       "dtype: float64"
      ]
     },
     "execution_count": 460,
     "metadata": {},
     "output_type": "execute_result"
    }
   ],
   "source": [
    "completeness = raw_data.iloc[data[data.food_category.isnull()].index].count().sort_values(ascending=False)/len(data.loc[data.food_category.isnull()])\n",
    "completeness.loc[completeness>0.1]"
   ]
  },
  {
   "cell_type": "code",
   "execution_count": 461,
   "metadata": {
    "collapsed": true,
    "jupyter": {
     "outputs_hidden": true
    }
   },
   "outputs": [],
   "source": [
    "classified_data = data.loc[~data.food_category.isnull()]\n",
    "unclassified_data = data.loc[data.food_category.isnull()]"
   ]
  },
  {
   "cell_type": "code",
   "execution_count": 462,
   "metadata": {},
   "outputs": [
    {
     "data": {
      "text/plain": [
       "0.62757508426493713"
      ]
     },
     "execution_count": 462,
     "metadata": {},
     "output_type": "execute_result"
    }
   ],
   "source": [
    "classified_data.loc[~classified_data.ingredients_text.isnull(),\"ingredients_text\"].count()/len(classified_data)"
   ]
  },
  {
   "cell_type": "markdown",
   "metadata": {},
   "source": [
    "40% of the remaining data has a list of ingredients, and 62% of our classified data also has a list of ingredients. We will use word similarities on the words in ingredient_text to associate unclassified products to categories if the similarity is big enough."
   ]
  },
  {
   "cell_type": "markdown",
   "metadata": {},
   "source": [
    "### Using Ingredients_text column "
   ]
  },
  {
   "cell_type": "code",
   "execution_count": 463,
   "metadata": {},
   "outputs": [
    {
     "name": "stderr",
     "output_type": "stream",
     "text": [
      "/Users/romain/anaconda/lib/python3.6/site-packages/pandas/core/indexing.py:517: SettingWithCopyWarning: \n",
      "A value is trying to be set on a copy of a slice from a DataFrame.\n",
      "Try using .loc[row_indexer,col_indexer] = value instead\n",
      "\n",
      "See the caveats in the documentation: http://pandas.pydata.org/pandas-docs/stable/indexing.html#indexing-view-versus-copy\n",
      "  self.obj[item] = s\n"
     ]
    }
   ],
   "source": [
    "# We clean the list of ingredients by removing punctuation and numbers\n",
    "\n",
    "def clean_text(df,col):\n",
    "    \n",
    "    caracters2delete = ['%','-',':',',',\"  \",'(',')',';','/','_','*','\\d+','.','\\'','[',']']\n",
    "\n",
    "    df.loc[:,col] = df.loc[:,col].str.lower()\n",
    "    for c in caracters2delete:\n",
    "        df.loc[:,col] = df.loc[:,col].str.replace(c,' ')\n",
    "\n",
    "    \n",
    "\n",
    "clean_text(classified_data,\"ingredients_text\")\n",
    "clean_text(unclassified_data,\"ingredients_text\")"
   ]
  },
  {
   "cell_type": "code",
   "execution_count": 464,
   "metadata": {},
   "outputs": [
    {
     "data": {
      "text/plain": [
       "{'acid': 0.003435459568056253,\n",
       " 'acide': 0.0046207935710698145,\n",
       " 'acidifiant': 0.005685585133098945,\n",
       " 'agua': 0.010226017076845806,\n",
       " 'alcool': 0.001988950276243094,\n",
       " 'aloe': 0.0020291310899045708,\n",
       " 'ananas': 0.002621798091411351,\n",
       " 'apfelsaft': 0.0022199899547965846,\n",
       " 'apple': 0.0035158211953792064,\n",
       " 'arabica': 0.0022702159718734306,\n",
       " 'arôme': 0.004972375690607734,\n",
       " 'arômes': 0.0015770969362129583,\n",
       " 'aus': 0.0029834254143646407,\n",
       " 'barley': 0.0019085886489201406,\n",
       " 'base': 0.009844299347061778,\n",
       " 'bio': 0.0033550979407333,\n",
       " 'bière': 0.0016273229532898041,\n",
       " 'black': 0.002360622802611753,\n",
       " 'blanc': 0.0023304871923656456,\n",
       " 'boisson': 0.002380713209442491,\n",
       " 'cacao': 0.0020090406830738324,\n",
       " 'café': 0.006991461577096936,\n",
       " 'cane': 0.001747865394274234,\n",
       " 'canne': 0.0037769964841788046,\n",
       " 'caramel': 0.003053741838272225,\n",
       " 'carbonatada': 0.0016273229532898041,\n",
       " 'carbonated': 0.006559517830236062,\n",
       " 'citric': 0.0030939226519337017,\n",
       " 'citrique': 0.0016474133601205425,\n",
       " 'citron': 0.003566047212456052,\n",
       " 'coco': 0.002802611752887996,\n",
       " 'coconut': 0.0022702159718734306,\n",
       " 'colorant': 0.004208940231039678,\n",
       " 'concentrate': 0.0036062280261175287,\n",
       " 'concentré': 0.0025313912606730288,\n",
       " 'contient': 0.010236062280261176,\n",
       " 'corn': 0.003847312908086389,\n",
       " 'eau': 0.08067302862882973,\n",
       " 'extrait': 0.0033550979407333,\n",
       " 'filtered': 0.00503264691109995,\n",
       " 'from': 0.002792566549472627,\n",
       " 'fructose': 0.007493721747865395,\n",
       " 'fruit': 0.001617277749874435,\n",
       " 'fruits': 0.007955801104972376,\n",
       " 'gazéifiée': 0.014866901054746359,\n",
       " 'gerstenmalz': 0.002933199397287795,\n",
       " 'glucose': 0.004339527875439478,\n",
       " 'green': 0.0027825213460572575,\n",
       " 'high': 0.003787041687594174,\n",
       " 'hopfen': 0.0018483174284279257,\n",
       " 'infusion': 0.0023304871923656456,\n",
       " 'ingredients': 0.0020190858864892014,\n",
       " 'ingrédients': 0.0016976393771973883,\n",
       " 'instant': 0.0015871421396283275,\n",
       " 'issu': 0.001938724259166248,\n",
       " 'jugo': 0.0016373681567051733,\n",
       " 'juice': 0.00910095429432446,\n",
       " 'jus': 0.056323455549974887,\n",
       " 'kohlensäure': 0.003907584128578604,\n",
       " 'lait': 0.003304871923656454,\n",
       " 'malt': 0.013982923154193872,\n",
       " 'malts': 0.002109492717227524,\n",
       " 'milk': 0.0015971873430436967,\n",
       " 'mineralwasser': 0.003847312908086389,\n",
       " 'minérale': 0.0058463083877448516,\n",
       " 'moulu': 0.003124058262179809,\n",
       " 'natural': 0.0031441486690105473,\n",
       " 'naturel': 0.002179809141135108,\n",
       " 'naturelle': 0.005464590657960824,\n",
       " 'natürliches': 0.003556002009040683,\n",
       " 'noir': 0.004761426418884982,\n",
       " 'noix': 0.0016474133601205425,\n",
       " 'orange': 0.013972877950778503,\n",
       " 'organic': 0.0034555499748869915,\n",
       " 'orge': 0.011893520843797087,\n",
       " 'pomme': 0.011451531893520843,\n",
       " 'pommes': 0.0029231541938724258,\n",
       " 'poudre': 0.002290306378704169,\n",
       " 'pulpe': 0.002611752887995982,\n",
       " 'pur': 0.0042893018583626315,\n",
       " 'purée': 0.005585133098945254,\n",
       " 'raisin': 0.002621798091411351,\n",
       " 'riz': 0.0015670517327975892,\n",
       " 'rouge': 0.0026418884982420893,\n",
       " 'sirop': 0.00658965344048217,\n",
       " 'soja': 0.0026619789050728276,\n",
       " 'soluble': 0.0018985434455047715,\n",
       " 'source': 0.007845303867403315,\n",
       " 'sucre': 0.035007533902561526,\n",
       " 'sugar': 0.007212456052235057,\n",
       " 'sulfites': 0.008387744851833249,\n",
       " 'tea': 0.007101958814665997,\n",
       " 'thé': 0.011351079859367152,\n",
       " 'vera': 0.001808136614766449,\n",
       " 'vert': 0.005816172777498745,\n",
       " 'vin': 0.005575087895529885,\n",
       " 'wasser': 0.009010547463586137,\n",
       " 'water': 0.02610748367654445,\n",
       " 'zucker': 0.003927674535409342,\n",
       " 'zumo': 0.0019487694625816173}"
      ]
     },
     "execution_count": 464,
     "metadata": {},
     "output_type": "execute_result"
    }
   ],
   "source": [
    "# We compute the set of words for each category by keeping the 100 most frequent words that aren't stopWords\n",
    "\n",
    "from collections import Counter\n",
    "import nltk\n",
    "from nltk.corpus import stopwords\n",
    "\n",
    "# The dominant language in the ingredients in french\n",
    "stopWords = stopwords.words('french') + [\"kg\",\"g\",\"v\",\"a\",\"b\",\"k\",\"e\",\"mg\",\"and\",\"of\",\"ml\",\"cl\"]\n",
    "\n",
    "def jaccard_similarity(list1, list2):\n",
    "    s1 = set(list1) # gives the keys\n",
    "    s2 = set(list2)\n",
    "    return len(s1.intersection(s2)) / len(s1.union(s2))\n",
    "\n",
    "def createWordSet(df):   \n",
    "    count = Counter([ word for sentence in df.loc[~df[\"ingredients_text\"].isnull(),\"ingredients_text\"].tolist() for word in sentence.split(\" \")[:5] if word not in stopWords])\n",
    "    count[\"\"] = 0\n",
    "    n = sum(count.values())\n",
    "    return dict([(word[0],word[1]/n) for word in count.most_common(100)])\n",
    "\n",
    "category_words = classified_data.groupby(\"food_category\").apply(createWordSet)\n",
    "category_words[\"Beverages\"]"
   ]
  },
  {
   "cell_type": "markdown",
   "metadata": {},
   "source": [
    "The example shown above is the word dictionary for 'Beverages'. For each category we obtain a dictionary of the 100 most frequent words with normalized counts."
   ]
  },
  {
   "cell_type": "code",
   "execution_count": 465,
   "metadata": {},
   "outputs": [
    {
     "data": {
      "image/png": "[encoded data removed]",
      "text/plain": [
       "<Figure size 720x576 with 2 Axes>"
      ]
     },
     "metadata": {},
     "output_type": "display_data"
    }
   ],
   "source": [
    "columns = category_words.index.values\n",
    "n = len(columns)\n",
    "similarity_matrix = np.zeros((n,n))\n",
    "\n",
    "for idx1,name1 in enumerate(columns):\n",
    "    for idx2,name2 in enumerate(columns):\n",
    "        similarity_matrix[idx1,idx2] = jaccard_similarity(category_words[name1],category_words[name2])\n",
    "\n",
    "plt.figure(figsize=(10,8))\n",
    "sns.heatmap(similarity_matrix, annot=True, cbar_kws={'label': 'jaccard similarity score'})\n",
    "plt.title(\"Jaccard similarity scores among categories\", fontsize=15, fontweight=\"bold\")\n",
    "plt.xticks(np.arange(n)+0.5,columns,rotation='vertical')\n",
    "plt.yticks(np.arange(n)+0.5,np.flip(columns,axis=0),rotation='horizontal')\n",
    "plt.show()"
   ]
  },
  {
   "cell_type": "markdown",
   "metadata": {},
   "source": [
    "We see that the dictionaries are rather distinct. The 'Composite' category shares words with other categories since it groups products from different food categories. We decide to drop 'Composite' for further categorization as it is too subjective to associate multiple categories to products with only the list of ingredients. We obtain more accurate results by associating only one category to products if the similarity is above an experimentally-set threshold."
   ]
  },
  {
   "cell_type": "code",
   "execution_count": 466,
   "metadata": {
    "collapsed": true,
    "jupyter": {
     "outputs_hidden": true
    }
   },
   "outputs": [],
   "source": [
    "category_words = category_words.drop(\"Composite\")"
   ]
  },
  {
   "cell_type": "code",
   "execution_count": 467,
   "metadata": {},
   "outputs": [
    {
     "name": "stderr",
     "output_type": "stream",
     "text": [
      "/Users/romain/anaconda/lib/python3.6/site-packages/pandas/core/indexing.py:517: SettingWithCopyWarning: \n",
      "A value is trying to be set on a copy of a slice from a DataFrame.\n",
      "Try using .loc[row_indexer,col_indexer] = value instead\n",
      "\n",
      "See the caveats in the documentation: http://pandas.pydata.org/pandas-docs/stable/indexing.html#indexing-view-versus-copy\n",
      "  self.obj[item] = s\n"
     ]
    }
   ],
   "source": [
    "# We split the unclassified data ingredient list in a list of non-stop words \n",
    "\n",
    "unclassified_data.loc[~unclassified_data.ingredients_text.isnull(),'ingredients_text'] = \\\n",
    "    unclassified_data.loc[~unclassified_data.ingredients_text.isnull(),'ingredients_text'] \\\n",
    "    .apply(lambda x: [word for word in x.split() if word not in stopWords])"
   ]
  },
  {
   "cell_type": "markdown",
   "metadata": {},
   "source": [
    "To compute the similarity between a list of ingredients and a category, we compute a score. Each word in the list adds to the category score its importance in the category dictionary (normalized count in the dictionary) which is also weighted by its position in the ingredients list. The idea the ingredients of a product are listed in order of importance. We only consider the 10 first words in the ingredient list. We also divide the word score by the number of dictionaries it which it occurs. The ingredient is less representative of a food category if it also represents other categories.\n",
    "\n",
    "We then categorize a product if its maximum similarity is above a 0.3 threshold. This threshold was set experimentally by manually looking up a product's information with its computed category."
   ]
  },
  {
   "cell_type": "code",
   "execution_count": 468,
   "metadata": {},
   "outputs": [
    {
     "data": {
      "text/html": [
       "<div>\n",
       "<style>\n",
       "    .dataframe thead tr:only-child th {\n",
       "        text-align: right;\n",
       "    }\n",
       "\n",
       "    .dataframe thead th {\n",
       "        text-align: left;\n",
       "    }\n",
       "\n",
       "    .dataframe tbody tr th {\n",
       "        vertical-align: top;\n",
       "    }\n",
       "</style>\n",
       "<table border=\"1\" class=\"dataframe\">\n",
       "  <thead>\n",
       "    <tr style=\"text-align: right;\">\n",
       "      <th></th>\n",
       "      <th>Beverages</th>\n",
       "      <th>Dairies</th>\n",
       "      <th>Fat Sauces</th>\n",
       "      <th>Fish Meat Eggs</th>\n",
       "      <th>Fruits Vegetables</th>\n",
       "      <th>Snacks</th>\n",
       "      <th>Starchy</th>\n",
       "      <th>category</th>\n",
       "      <th>product_name</th>\n",
       "    </tr>\n",
       "  </thead>\n",
       "  <tbody>\n",
       "    <tr>\n",
       "      <th>15</th>\n",
       "      <td>0.310519</td>\n",
       "      <td>0.080830</td>\n",
       "      <td>0.169091</td>\n",
       "      <td>0.314559</td>\n",
       "      <td>0.106957</td>\n",
       "      <td>0.013327</td>\n",
       "      <td>0.004717</td>\n",
       "      <td>Fish Meat Eggs</td>\n",
       "      <td>Solène céréales poulet</td>\n",
       "    </tr>\n",
       "    <tr>\n",
       "      <th>22</th>\n",
       "      <td>0.061070</td>\n",
       "      <td>0.613197</td>\n",
       "      <td>0.029398</td>\n",
       "      <td>0.001845</td>\n",
       "      <td>0.032853</td>\n",
       "      <td>0.229880</td>\n",
       "      <td>0.031756</td>\n",
       "      <td>Dairies</td>\n",
       "      <td>Crème dessert chocolat</td>\n",
       "    </tr>\n",
       "    <tr>\n",
       "      <th>29</th>\n",
       "      <td>0.083283</td>\n",
       "      <td>0.015092</td>\n",
       "      <td>0.055804</td>\n",
       "      <td>0.023001</td>\n",
       "      <td>0.037040</td>\n",
       "      <td>0.344211</td>\n",
       "      <td>0.441569</td>\n",
       "      <td>Starchy</td>\n",
       "      <td>Baguette Poitevin</td>\n",
       "    </tr>\n",
       "    <tr>\n",
       "      <th>38</th>\n",
       "      <td>0.057656</td>\n",
       "      <td>0.009967</td>\n",
       "      <td>0.045508</td>\n",
       "      <td>0.009508</td>\n",
       "      <td>0.032706</td>\n",
       "      <td>0.388776</td>\n",
       "      <td>0.455879</td>\n",
       "      <td>Starchy</td>\n",
       "      <td>Suedois saumon</td>\n",
       "    </tr>\n",
       "    <tr>\n",
       "      <th>43</th>\n",
       "      <td>0.141383</td>\n",
       "      <td>0.042021</td>\n",
       "      <td>0.291048</td>\n",
       "      <td>0.098668</td>\n",
       "      <td>0.325453</td>\n",
       "      <td>0.080292</td>\n",
       "      <td>0.021135</td>\n",
       "      <td>Fruits Vegetables</td>\n",
       "      <td>Salade shaker taboulé</td>\n",
       "    </tr>\n",
       "    <tr>\n",
       "      <th>44</th>\n",
       "      <td>0.078995</td>\n",
       "      <td>0.005559</td>\n",
       "      <td>0.442263</td>\n",
       "      <td>0.024881</td>\n",
       "      <td>0.054371</td>\n",
       "      <td>0.346683</td>\n",
       "      <td>0.047247</td>\n",
       "      <td>Fat Sauces</td>\n",
       "      <td>Banana Chips Sweetened (Whole)</td>\n",
       "    </tr>\n",
       "    <tr>\n",
       "      <th>45</th>\n",
       "      <td>0.014486</td>\n",
       "      <td>0.018899</td>\n",
       "      <td>0.032111</td>\n",
       "      <td>0.018949</td>\n",
       "      <td>0.022410</td>\n",
       "      <td>0.230830</td>\n",
       "      <td>0.662315</td>\n",
       "      <td>Starchy</td>\n",
       "      <td>Peanuts</td>\n",
       "    </tr>\n",
       "    <tr>\n",
       "      <th>49</th>\n",
       "      <td>0.145843</td>\n",
       "      <td>0.503958</td>\n",
       "      <td>0.088943</td>\n",
       "      <td>0.020304</td>\n",
       "      <td>0.040916</td>\n",
       "      <td>0.180696</td>\n",
       "      <td>0.019342</td>\n",
       "      <td>Dairies</td>\n",
       "      <td>Fromage blanc à la creme de marron</td>\n",
       "    </tr>\n",
       "    <tr>\n",
       "      <th>54</th>\n",
       "      <td>0.000000</td>\n",
       "      <td>0.000000</td>\n",
       "      <td>0.004397</td>\n",
       "      <td>0.000000</td>\n",
       "      <td>0.000000</td>\n",
       "      <td>0.451589</td>\n",
       "      <td>0.544013</td>\n",
       "      <td>Starchy</td>\n",
       "      <td>Sandwich solene céréales sicilien</td>\n",
       "    </tr>\n",
       "    <tr>\n",
       "      <th>96</th>\n",
       "      <td>0.079838</td>\n",
       "      <td>0.113494</td>\n",
       "      <td>0.281367</td>\n",
       "      <td>0.001625</td>\n",
       "      <td>0.164477</td>\n",
       "      <td>0.172896</td>\n",
       "      <td>0.186302</td>\n",
       "      <td>NaN</td>\n",
       "      <td>Organic Salted Nut Mix</td>\n",
       "    </tr>\n",
       "    <tr>\n",
       "      <th>97</th>\n",
       "      <td>0.089809</td>\n",
       "      <td>0.127669</td>\n",
       "      <td>0.285651</td>\n",
       "      <td>0.000000</td>\n",
       "      <td>0.169729</td>\n",
       "      <td>0.119928</td>\n",
       "      <td>0.207213</td>\n",
       "      <td>NaN</td>\n",
       "      <td>Organic Polenta</td>\n",
       "    </tr>\n",
       "    <tr>\n",
       "      <th>98</th>\n",
       "      <td>0.125392</td>\n",
       "      <td>0.000000</td>\n",
       "      <td>0.617182</td>\n",
       "      <td>0.009436</td>\n",
       "      <td>0.035003</td>\n",
       "      <td>0.058773</td>\n",
       "      <td>0.154214</td>\n",
       "      <td>Fat Sauces</td>\n",
       "      <td>Breadshop Honey Gone Nuts Granola</td>\n",
       "    </tr>\n",
       "    <tr>\n",
       "      <th>99</th>\n",
       "      <td>0.021841</td>\n",
       "      <td>0.031048</td>\n",
       "      <td>0.090771</td>\n",
       "      <td>0.000000</td>\n",
       "      <td>0.041277</td>\n",
       "      <td>0.043705</td>\n",
       "      <td>0.771357</td>\n",
       "      <td>Starchy</td>\n",
       "      <td>Organic Long Grain White Rice</td>\n",
       "    </tr>\n",
       "    <tr>\n",
       "      <th>100</th>\n",
       "      <td>0.212564</td>\n",
       "      <td>0.000000</td>\n",
       "      <td>0.000000</td>\n",
       "      <td>0.000000</td>\n",
       "      <td>0.040253</td>\n",
       "      <td>0.050141</td>\n",
       "      <td>0.697042</td>\n",
       "      <td>Starchy</td>\n",
       "      <td>Organic Muesli</td>\n",
       "    </tr>\n",
       "    <tr>\n",
       "      <th>101</th>\n",
       "      <td>0.082942</td>\n",
       "      <td>0.086499</td>\n",
       "      <td>0.175633</td>\n",
       "      <td>0.015032</td>\n",
       "      <td>0.112927</td>\n",
       "      <td>0.398128</td>\n",
       "      <td>0.128839</td>\n",
       "      <td>Snacks</td>\n",
       "      <td>Organic Dark Chocolate Minis</td>\n",
       "    </tr>\n",
       "    <tr>\n",
       "      <th>102</th>\n",
       "      <td>0.108259</td>\n",
       "      <td>0.066474</td>\n",
       "      <td>0.374041</td>\n",
       "      <td>0.007712</td>\n",
       "      <td>0.203187</td>\n",
       "      <td>0.122494</td>\n",
       "      <td>0.117832</td>\n",
       "      <td>Fat Sauces</td>\n",
       "      <td>Organic Sunflower Oil</td>\n",
       "    </tr>\n",
       "    <tr>\n",
       "      <th>103</th>\n",
       "      <td>0.037054</td>\n",
       "      <td>0.052674</td>\n",
       "      <td>0.117855</td>\n",
       "      <td>0.000000</td>\n",
       "      <td>0.070028</td>\n",
       "      <td>0.049481</td>\n",
       "      <td>0.672909</td>\n",
       "      <td>Starchy</td>\n",
       "      <td>Organic Adzuki Beans</td>\n",
       "    </tr>\n",
       "    <tr>\n",
       "      <th>104</th>\n",
       "      <td>0.018364</td>\n",
       "      <td>0.026105</td>\n",
       "      <td>0.067513</td>\n",
       "      <td>0.000000</td>\n",
       "      <td>0.034705</td>\n",
       "      <td>0.155809</td>\n",
       "      <td>0.697504</td>\n",
       "      <td>Starchy</td>\n",
       "      <td>Organic Penne Pasta</td>\n",
       "    </tr>\n",
       "    <tr>\n",
       "      <th>105</th>\n",
       "      <td>0.000000</td>\n",
       "      <td>0.013570</td>\n",
       "      <td>0.222919</td>\n",
       "      <td>0.034517</td>\n",
       "      <td>0.024094</td>\n",
       "      <td>0.135962</td>\n",
       "      <td>0.568938</td>\n",
       "      <td>Starchy</td>\n",
       "      <td>Zen Party Mix</td>\n",
       "    </tr>\n",
       "    <tr>\n",
       "      <th>106</th>\n",
       "      <td>0.089809</td>\n",
       "      <td>0.127669</td>\n",
       "      <td>0.285651</td>\n",
       "      <td>0.000000</td>\n",
       "      <td>0.169729</td>\n",
       "      <td>0.119928</td>\n",
       "      <td>0.207213</td>\n",
       "      <td>NaN</td>\n",
       "      <td>Organic Golden Flax Seeds</td>\n",
       "    </tr>\n",
       "  </tbody>\n",
       "</table>\n",
       "</div>"
      ],
      "text/plain": [
       "     Beverages   Dairies  Fat Sauces  Fish Meat Eggs  Fruits Vegetables  \\\n",
       "15    0.310519  0.080830    0.169091        0.314559           0.106957   \n",
       "22    0.061070  0.613197    0.029398        0.001845           0.032853   \n",
       "29    0.083283  0.015092    0.055804        0.023001           0.037040   \n",
       "38    0.057656  0.009967    0.045508        0.009508           0.032706   \n",
       "43    0.141383  0.042021    0.291048        0.098668           0.325453   \n",
       "44    0.078995  0.005559    0.442263        0.024881           0.054371   \n",
       "45    0.014486  0.018899    0.032111        0.018949           0.022410   \n",
       "49    0.145843  0.503958    0.088943        0.020304           0.040916   \n",
       "54    0.000000  0.000000    0.004397        0.000000           0.000000   \n",
       "96    0.079838  0.113494    0.281367        0.001625           0.164477   \n",
       "97    0.089809  0.127669    0.285651        0.000000           0.169729   \n",
       "98    0.125392  0.000000    0.617182        0.009436           0.035003   \n",
       "99    0.021841  0.031048    0.090771        0.000000           0.041277   \n",
       "100   0.212564  0.000000    0.000000        0.000000           0.040253   \n",
       "101   0.082942  0.086499    0.175633        0.015032           0.112927   \n",
       "102   0.108259  0.066474    0.374041        0.007712           0.203187   \n",
       "103   0.037054  0.052674    0.117855        0.000000           0.070028   \n",
       "104   0.018364  0.026105    0.067513        0.000000           0.034705   \n",
       "105   0.000000  0.013570    0.222919        0.034517           0.024094   \n",
       "106   0.089809  0.127669    0.285651        0.000000           0.169729   \n",
       "\n",
       "       Snacks   Starchy           category                        product_name  \n",
       "15   0.013327  0.004717     Fish Meat Eggs              Solène céréales poulet  \n",
       "22   0.229880  0.031756            Dairies              Crème dessert chocolat  \n",
       "29   0.344211  0.441569            Starchy                   Baguette Poitevin  \n",
       "38   0.388776  0.455879            Starchy                      Suedois saumon  \n",
       "43   0.080292  0.021135  Fruits Vegetables               Salade shaker taboulé  \n",
       "44   0.346683  0.047247         Fat Sauces      Banana Chips Sweetened (Whole)  \n",
       "45   0.230830  0.662315            Starchy                             Peanuts  \n",
       "49   0.180696  0.019342            Dairies  Fromage blanc à la creme de marron  \n",
       "54   0.451589  0.544013            Starchy   Sandwich solene céréales sicilien  \n",
       "96   0.172896  0.186302                NaN              Organic Salted Nut Mix  \n",
       "97   0.119928  0.207213                NaN                     Organic Polenta  \n",
       "98   0.058773  0.154214         Fat Sauces   Breadshop Honey Gone Nuts Granola  \n",
       "99   0.043705  0.771357            Starchy       Organic Long Grain White Rice  \n",
       "100  0.050141  0.697042            Starchy                      Organic Muesli  \n",
       "101  0.398128  0.128839             Snacks        Organic Dark Chocolate Minis  \n",
       "102  0.122494  0.117832         Fat Sauces               Organic Sunflower Oil  \n",
       "103  0.049481  0.672909            Starchy                Organic Adzuki Beans  \n",
       "104  0.155809  0.697504            Starchy                 Organic Penne Pasta  \n",
       "105  0.135962  0.568938            Starchy                       Zen Party Mix  \n",
       "106  0.119928  0.207213                NaN           Organic Golden Flax Seeds  "
      ]
     },
     "execution_count": 468,
     "metadata": {},
     "output_type": "execute_result"
    }
   ],
   "source": [
    "intersections = dict();\n",
    "for col in category_words.index.values:\n",
    "    for word in set(category_words[col]):\n",
    "        intersections[word] = intersections.get(word,0)+1\n",
    "\n",
    "\n",
    "def similarity_dic(ingredients):\n",
    "    dic = {}\n",
    "    n = 10        \n",
    "    for cat in category_words.index.values:\n",
    "        score = 0\n",
    "        for idx,word in enumerate(ingredients[:n]):\n",
    "            score += category_words[cat].get(word,0)*(n-idx)/intersections.get(word,1)\n",
    "        dic[cat] = score\n",
    "    total = sum(dic.values())\n",
    "    if (total != 0) :\n",
    "        dic = {k: v / total for k, v in dic.items()}\n",
    "    return dic\n",
    "\n",
    "similarities = unclassified_data.loc[~unclassified_data.ingredients_text.isnull(),\"ingredients_text\"] \\\n",
    "            .apply(similarity_dic).apply(pd.Series)\n",
    "    \n",
    "# We remove products that have no similarities\n",
    "similarities = similarities[(similarities.T != 0).any()]\n",
    "\n",
    "similarities[\"category\"] = similarities.loc[similarities.max(axis=1)>0.3].idxmax(axis=1)\n",
    "\n",
    "# List some results with product_names\n",
    "pd.concat([similarities,data.loc[similarities.index,\"product_name\"]], axis=1).head(20)"
   ]
  },
  {
   "cell_type": "markdown",
   "metadata": {},
   "source": [
    "We see that the categorization yields good results. Some products stay uncategorized by lack of dominant similarity but those who are appear to be well categorized with small errors (ex: Banana Chips Sweetened in row 44)"
   ]
  },
  {
   "cell_type": "code",
   "execution_count": 469,
   "metadata": {},
   "outputs": [
    {
     "data": {
      "text/plain": [
       "0.58575568889145446"
      ]
     },
     "execution_count": 469,
     "metadata": {},
     "output_type": "execute_result"
    }
   ],
   "source": [
    "# We assign the new categroy values to those with missing categories\n",
    "data.loc[data.food_category.isnull(),\"food_category\"] = similarities[\"category\"]\n",
    "\n",
    "sum(data[\"food_category\"].value_counts())/len(data)"
   ]
  },
  {
   "cell_type": "markdown",
   "metadata": {},
   "source": [
    "The new number of categorized products represents 57% of the data kept."
   ]
  },
  {
   "cell_type": "code",
   "execution_count": 470,
   "metadata": {},
   "outputs": [
    {
     "data": {
      "image/png": "[encoded data removed]",
      "text/plain": [
       "<Figure size 576x576 with 1 Axes>"
      ]
     },
     "metadata": {},
     "output_type": "display_data"
    }
   ],
   "source": [
    "plt.figure(figsize=(8,8))\n",
    "data.groupby(\"food_category\").size().plot.bar()\n",
    "plt.xlabel(\"Food Categories\");\n",
    "plt.ylabel(\"Count\");\n",
    "plt.title(\"Food Categories after Full Categorization\");"
   ]
  },
  {
   "cell_type": "markdown",
   "metadata": {},
   "source": [
    "# PACKAGING"
   ]
  },
  {
   "cell_type": "markdown",
   "metadata": {},
   "source": [
    "While this field remains incomplete, it is still useful for us to analyze the packaging methods of different food categories. The processing pipeline for this field was performed as follows :\n",
    "- clean 'Packaging' column of the dataframe by removing stop words and unecessary entries\n",
    "- retain only certain material types of packaging (plastic, glass, cardboard, metal ...)\n",
    "- plot the proportion of each material within a certain category of food"
   ]
  },
  {
   "cell_type": "code",
   "execution_count": 554,
   "metadata": {
    "collapsed": true,
    "jupyter": {
     "outputs_hidden": true
    }
   },
   "outputs": [],
   "source": [
    "# We build our list of stopwords to remove when tockenizing the packaging column\n",
    "stop_words_c = set(stopwords.words(\"french\")).union(set(stopwords.words(\"english\")))\n",
    "\n",
    "# 'can' was removed since it was in the stop words list but still useful for Beverages containers\n",
    "stop_words_c.remove('can')"
   ]
  },
  {
   "cell_type": "code",
   "execution_count": 562,
   "metadata": {},
   "outputs": [
    {
     "name": "stdout",
     "output_type": "stream",
     "text": [
      "Packaging field is full at 0.20338202187226692 %\n"
     ]
    },
    {
     "data": {
      "text/plain": [
       "16     [barquette, plastique]\n",
       "141        [bocal, plastique]\n",
       "145               [plastique]\n",
       "299       [carton, plastique]\n",
       "300       [plastique, carton]\n",
       "Name: packaging, dtype: object"
      ]
     },
     "execution_count": 562,
     "metadata": {},
     "output_type": "execute_result"
    }
   ],
   "source": [
    "# We clean the packaging column\n",
    "def clean_data_packaging(data_column):\n",
    "    \"\"\"Clean data packaging, i.e. \n",
    "        - lower each words in the cells of data_column\n",
    "        - tokenize cells of data_column, i.e. from float type create list of string (token)\n",
    "        - remove stopwords for the list of tokens for each cells of data_column\n",
    "    \"\"\"  \n",
    "    \n",
    "    tokenizer = RegexpTokenizer(r'\\w+')\n",
    "    data_column = data_column[data_column.notnull()].str.lower() \\\n",
    "    .apply(str) \\\n",
    "    .apply(tokenizer.tokenize) \\\n",
    "    .apply(lambda cell : [item for item in cell if item not in stop_words_c]) \\\n",
    "    .apply(str)\n",
    "    \n",
    "    return data_column\n",
    "\n",
    "\n",
    "packaging = clean_data_packaging(data.packaging)\n",
    "packaging = packaging.apply(literal_eval)\n",
    "filled_pck = data.packaging.count()/len(data.packaging)\n",
    "\n",
    "# We visualize some results\n",
    "print(f'Packaging field is full at {filled_pck} %')\n",
    "packaging.head()"
   ]
  },
  {
   "cell_type": "markdown",
   "metadata": {},
   "source": [
    "**20% of the data has packaging information**\n",
    "We now categorize the packaging information to defined packaging classes."
   ]
  },
  {
   "cell_type": "code",
   "execution_count": 577,
   "metadata": {
    "collapsed": true,
    "jupyter": {
     "outputs_hidden": true
    }
   },
   "outputs": [],
   "source": [
    "# Vaccum items were added since it surely contains plastic\n",
    "plastique_words = ['plastic', 'plastique', 'plastik', 'plastico', 'plastica', 'sachets', \n",
    "                   'plàstic', 'plástico', 'plastisco' ,'bucket', 'barquette', 'sachet', 'tube', 'film', 'vacio', 'vide', 'vacío']\n",
    "\n",
    "verre_words = ['verre', 'glass', 'glas', 'vidrio', 'pot']\n",
    "carton_words = ['paper', 'karton', 'carton', 'papier', 'boite', 'cartón', 'papel', 'cardboard', \n",
    "                'card', 'eggbox', 'box']\n",
    "\n",
    "metal_words = ['metal', 'métal', 'fer', 'acier', 'aluminium', 'can', 'canette', 'conserve','tin']\n",
    "\n",
    "# Fresh products needs an adapted container which is useful for further exploration\n",
    "prod_frais_words = ['frais', 'fresh', 'frai']\n",
    "\n",
    "# The recycable materials depend on the country and regulations. However, these materials are commonly recycable.\n",
    "# (soiled papers, soiled metalic containers and soiled plastic containers tend to be avoided for medical reasons)\n",
    "recyclable_words = ['bouteille', 'flacon', 'brique', 'brick', 'bottle', 'bte', 'verre', \n",
    "                    'glass', 'glas', 'vidrio', 'metal', 'métal', 'fer', 'acier', 'aluminium', 'flasche', 'canned', \n",
    "                    'can', 'canette', 'conserve', 'tin', 'pet', 'pot', 'botella']\n",
    "\n",
    "def count_entries(self, word_list):\n",
    "    \"\"\" Return true if word_list and self have a word in common,\n",
    "        else o/w.\n",
    "    \"\"\"\n",
    "    if len(set(self).intersection(set(word_list))) > 0:\n",
    "        return True\n",
    "    else :\n",
    "        return False\n",
    "\n",
    "def to_materials(elem):\n",
    "    \"\"\" Return a list of bool that informs about the materials used \n",
    "        for the packaging.\n",
    "    \"\"\"\n",
    "    return [count_entries(elem, plastique_words), \n",
    "               count_entries(elem, verre_words), \n",
    "               count_entries(elem, carton_words),\n",
    "               count_entries(elem, metal_words),\n",
    "               count_entries(elem, prod_frais_words),\n",
    "               count_entries(elem, recyclable_words)]\n",
    "    "
   ]
  },
  {
   "cell_type": "code",
   "execution_count": 595,
   "metadata": {
    "collapsed": true,
    "jupyter": {
     "outputs_hidden": true
    }
   },
   "outputs": [],
   "source": [
    "# We a create a boolean list for each value representing the membership to packaging methods and fresh/recycable attribute\n",
    "materials_df = pd.DataFrame({'Packaging': packaging, 'materials':pd.Series(np.zeros(len(packaging)), packaging.index)})\n",
    "materials_df['materials'] = packaging.apply(to_materials)"
   ]
  },
  {
   "cell_type": "code",
   "execution_count": 596,
   "metadata": {},
   "outputs": [],
   "source": [
    "# We create a dataframe with the information\n",
    "names = ['Plastic', 'Glass', 'Carton', 'Metal', 'Fresh', 'Recyclable']\n",
    "materials_df = materials_df.materials.apply(pd.Series)\n",
    "materials_df = materials_df.rename(columns = lambda x : names_list[x])"
   ]
  },
  {
   "cell_type": "code",
   "execution_count": 597,
   "metadata": {},
   "outputs": [],
   "source": [
    "# We merge with the food categories\n",
    "eco_impact_plot_df = materials_df.merge(data.loc[materials_df.index.tolist(), [\"food_category\"]], left_index = True, right_index = True)"
   ]
  },
  {
   "cell_type": "code",
   "execution_count": 603,
   "metadata": {},
   "outputs": [
    {
     "data": {
      "image/png": "[encoded data removed]",
      "text/plain": [
       "<Figure size 720x720 with 1 Axes>"
      ]
     },
     "metadata": {},
     "output_type": "display_data"
    }
   ],
   "source": [
    "# We remove Fresh and Recycable categories and plot normalized bar plots for the packaging for each food category\n",
    "packaging_plot_df = eco_impact_plot_df.drop('Frais', axis =1)\n",
    "packaging_plot_df = packaging_plot_df.drop('Recyclable', axis =1)\n",
    "counts_pack = packaging_plot_df.groupby('food_category').sum()\n",
    "\n",
    "plt.figure(figsize =(10,10))\n",
    "ax=plt.gca()\n",
    "counts_pack.div(counts_pack.sum(axis=1)/100, axis = 0).plot.bar(ax=ax, stacked=True)\n",
    "plt.title('Material Use Percentage within each Category',fontsize=20);\n",
    "plt.xlabel(\"Food Category\");\n",
    "plt.ylabel(\"Packaging Type Percentages\");"
   ]
  },
  {
   "cell_type": "markdown",
   "metadata": {},
   "source": [
    "While the sample size is limited, a few useful informations are depicted on the above plot. First we can see that a lot of plastic is used among every category. Moreover, glass is mainly used as a liquid container which is consistent with what we could expect. The packaging information along with the use of cooling containers and recyclability of products will be used in the analysis of different diets."
   ]
  },
  {
   "cell_type": "markdown",
   "metadata": {},
   "source": [
    "# NUTRISCORE\n",
    "https://quoidansmonassiette.fr/comment-est-calcule-le-nutri-score-logo-nutritionnel/\n",
    "\n",
    "We calculate the nutriscore according to the method described in the link above."
   ]
  },
  {
   "cell_type": "markdown",
   "metadata": {},
   "source": [
    "### Water Tag\n",
    "In order to compute the NutriScore (NS) of products, we need to seperate water from other beverages."
   ]
  },
  {
   "cell_type": "code",
   "execution_count": 487,
   "metadata": {},
   "outputs": [],
   "source": [
    "# Words which reference water\n",
    "water_list = [\"water\",\"waters\",\"eau\",\"agua\"]\n",
    "\n",
    "# Some 'categories' values contain words refering to water but are liquors\n",
    "# We thus create a list to discard such products\n",
    "nonwater_list = [\"alkoholische\",\"alcoholic\",\"spirits\",\"liquors\"]\n",
    "\n",
    "# We clean the 'categories' column and split into words\n",
    "data[\"split_categories\"] = data[\"categories\"]\n",
    "clean_text(data,\"split_categories\")\n",
    "data.loc[:,\"split_categories\"] = data.loc[:,\"split_categories\"].str.split()\n",
    "\n",
    "data[\"iswater\"] = data.loc[~data[\"split_categories\"].isnull(),\"split_categories\"] \\\n",
    ".apply(lambda l : bool(~any([cat_word in nonwater_list for cat_word in l]) &  \\\n",
    "                       any([cat_word in water_list for cat_word in l])))\n",
    "\n",
    "\n"
   ]
  },
  {
   "cell_type": "code",
   "execution_count": 488,
   "metadata": {},
   "outputs": [
    {
     "data": {
      "text/plain": [
       "False    386517\n",
       "True       1111\n",
       "Name: iswater, dtype: int64"
      ]
     },
     "execution_count": 488,
     "metadata": {},
     "output_type": "execute_result"
    }
   ],
   "source": [
    "data[\"iswater\"].value_counts()"
   ]
  },
  {
   "cell_type": "markdown",
   "metadata": {},
   "source": [
    "### Data Setup"
   ]
  },
  {
   "cell_type": "code",
   "execution_count": 502,
   "metadata": {
    "collapsed": true,
    "jupyter": {
     "outputs_hidden": true
    }
   },
   "outputs": [],
   "source": [
    "# replace NaN of 'fruits-vegetables-nuts_100g' by 100 if it is 'Fruit juices'\n",
    "data[(data['main_category_en'] == 'Fruit juices')]['fruits-vegetables-nuts_100g'].fillna(100, inplace=True)"
   ]
  },
  {
   "cell_type": "code",
   "execution_count": 503,
   "metadata": {
    "collapsed": true,
    "jupyter": {
     "outputs_hidden": true
    }
   },
   "outputs": [],
   "source": [
    "selected_fields =[\n",
    "    'food_category',\n",
    "    'energy_100g','sugars_100g','saturated-fat_100g','sodium_100g',\n",
    "    'fruits-vegetables-nuts_100g',\n",
    "    'fiber_100g','proteins_100g',\n",
    "    'nutrition-score-uk_100g','nutrition_grade_fr',\n",
    "    'iswater'\n",
    "]"
   ]
  },
  {
   "cell_type": "code",
   "execution_count": 504,
   "metadata": {
    "collapsed": true,
    "jupyter": {
     "outputs_hidden": true
    }
   },
   "outputs": [],
   "source": [
    "# divide dataframe into 3 groups to simplify the calculation of nutriscrore\n",
    "data_beverages = data[data['food_category']=='Beverages'][selected_fields]\n",
    "data_fatsauces = data[data['food_category']=='Fat Sauces'][selected_fields]\n",
    "data_without_beverage_fat = data[(data['food_category']!='Fat Sauces') & (data['food_category']!='Beverages') ][selected_fields]                    "
   ]
  },
  {
   "cell_type": "markdown",
   "metadata": {},
   "source": [
    "### Calculation of negative points\n",
    "\n",
    "We attribute Negative points (N) to different nutritional factors that have to be limited: energy, sugar, saturated fat and sodium"
   ]
  },
  {
   "cell_type": "code",
   "execution_count": 505,
   "metadata": {
    "collapsed": true,
    "jupyter": {
     "outputs_hidden": true
    }
   },
   "outputs": [],
   "source": [
    "## ENERGY\n",
    "# energy bins\n",
    "energy_bins_without_beverage_fat = [data_without_beverage_fat['energy_100g'].min() - 1, 335, 670, 1005, 1340, 1675, 2010, 2345, 2680, 3015, 3350, data_without_beverage_fat['energy_100g'].max()]\n",
    "energy_bins_fatsauces = [data_fatsauces['energy_100g'].min() - 1, 335, 670, 1005, 1340, 1675, 2010, 2345, 2680, 3015, 3350, data_fatsauces['energy_100g'].max()]\n",
    "energy_bins_beverages = [data_beverages['energy_100g'].min() - 1, 0, 30, 60, 90, 120, 150, 180, 210, 240, 270, data_beverages['energy_100g'].max()]\n",
    "# energy point\n",
    "data_without_beverage_fat['energy_points'] = pd.cut(data_without_beverage_fat['energy_100g'], energy_bins_without_beverage_fat, labels=range(11)).astype(float)\n",
    "data_fatsauces['energy_points'] = pd.cut(data_fatsauces['energy_100g'], energy_bins_fatsauces, labels=range(11)).astype(float)\n",
    "data_beverages['energy_points'] = pd.cut(data_beverages['energy_100g'], energy_bins_beverages, labels=range(11)).astype(float)\n",
    "\n",
    "\n",
    "## SUGAR\n",
    "# sugar bins\n",
    "sugar_bins_without_beverage_fat = [data_without_beverage_fat['sugars_100g'].min() - 1, 0, 1.5, 3, 4.5, 6, 7.5, 9, 10.5, 12, 13.5, data_without_beverage_fat['sugars_100g'].max()]\n",
    "sugar_bins_fatsauces = [data_fatsauces['sugars_100g'].min() - 1, 0, 1.5, 3, 4.5, 6, 7.5, 9, 10.5, 12, 13.5, data_fatsauces['sugars_100g'].max()]\n",
    "sugar_bins_beverages = [data_beverages['sugars_100g'].min() - 1, 4.5, 9, 13.5, 18, 22.5, 27, 31, 36, 40, 45, data_beverages['sugars_100g'].max()]\n",
    "# sugar point (CHANGE SUGAR_BINS)\n",
    "data_without_beverage_fat['sugar_points'] = pd.cut(data_without_beverage_fat['sugars_100g'], sugar_bins_without_beverage_fat, labels=range(11)).astype(float)\n",
    "data_fatsauces['sugar_points'] = pd.cut(data_fatsauces['sugars_100g'], sugar_bins_fatsauces, labels=range(11)).astype(float)\n",
    "data_beverages['sugar_points'] = pd.cut(data_beverages['sugars_100g'], sugar_bins_beverages, labels=range(11)).astype(float)\n",
    "\n",
    "\n",
    "## SATURATED FAT\n",
    "# s-fat bins\n",
    "fat_bins_without_beverage_fat = [data_without_beverage_fat['saturated-fat_100g'].min() - 1, 1, 2, 3, 4, 5, 6, 7, 8, 9, 10, data_without_beverage_fat['saturated-fat_100g'].max()]\n",
    "fat_bins_beverages = [data_beverages['saturated-fat_100g'].min() - 1, 1, 2, 3, 4, 5, 6, 7, 8, 9, 10, data_beverages['saturated-fat_100g'].max()]\n",
    "fat_bins_fatsauces = [data_fatsauces['saturated-fat_100g'].min() - 1, 10, 16, 22, 28, 34, 40, 46, 52, 58, 64, data_fatsauces['saturated-fat_100g'].max()]\n",
    "# s-FAT point (CHANGE FAT_BINS)\n",
    "data_without_beverage_fat['saturated-fat_points'] = pd.cut(data_without_beverage_fat['saturated-fat_100g'], fat_bins_without_beverage_fat, labels=range(11)).astype(float)\n",
    "data_beverages['saturated-fat_points'] = pd.cut(data_beverages['saturated-fat_100g'], fat_bins_beverages, labels=range(11)).astype(float)\n",
    "data_fatsauces['saturated-fat_points'] = pd.cut(data_fatsauces['saturated-fat_100g'], fat_bins_fatsauces, labels=range(11)).astype(float)\n",
    "\n",
    "\n",
    "## SODIUM\n",
    "# sodium bins\n",
    "sodium_bins = [data['sodium_100g'].min() - 1, 90, 180, 270, 360, 450, 540, 630, 720, 810, 900, data['sodium_100g'].max()]\n",
    "# sodium points\n",
    "data_without_beverage_fat['sodium_points'] = pd.cut(data_without_beverage_fat['sodium_100g'], sodium_bins, labels=range(11)).astype(float)\n",
    "data_beverages['sodium_points'] = pd.cut(data_beverages['sodium_100g'], sodium_bins, labels=range(11)).astype(float)\n",
    "data_fatsauces['sodium_points'] = pd.cut(data_fatsauces['sodium_100g'], sodium_bins, labels=range(11)).astype(float)\n",
    "\n"
   ]
  },
  {
   "cell_type": "markdown",
   "metadata": {},
   "source": [
    "### Calculation positive points\n",
    "\n",
    "We attribute Positive points (P) to different nutritional factors that have to be promoted: fruit vegetable nuts pourcentage, fibers and proteins."
   ]
  },
  {
   "cell_type": "code",
   "execution_count": 506,
   "metadata": {
    "collapsed": true,
    "jupyter": {
     "outputs_hidden": true
    }
   },
   "outputs": [],
   "source": [
    "# FRUITS\n",
    "# fruits bins\n",
    "fruits_bins_without_beverage_fat = [data_without_beverage_fat['fruits-vegetables-nuts_100g'].min() - 1, 40, 60, 80, data_without_beverage_fat['fruits-vegetables-nuts_100g'].max()]\n",
    "fruits_bins_fatsauces = [data_fatsauces['fruits-vegetables-nuts_100g'].min() - 1, 40, 60, 80, data_fatsauces['fruits-vegetables-nuts_100g'].max()]\n",
    "fruits_bins_beverages = [data_beverages['fruits-vegetables-nuts_100g'].min() - 1, 40, 60, 80, data_beverages['fruits-vegetables-nuts_100g'].max()]\n",
    "# fruits points\n",
    "data_without_beverage_fat['fruits_points'] = pd.cut(data_without_beverage_fat['fruits-vegetables-nuts_100g'], fruits_bins_without_beverage_fat, labels=[0,1,2,5]).astype(float)\n",
    "data_beverages['fruits_points'] = pd.cut(data_beverages['fruits-vegetables-nuts_100g'], fruits_bins_beverages, labels=[0,2,4,10]).astype(float)\n",
    "data_fatsauces['fruits_points'] = pd.cut(data_fatsauces['fruits-vegetables-nuts_100g'], fruits_bins_fatsauces, labels=[0,1,2,5]).astype(float)\n",
    "\n",
    "\n",
    "# FIBRES\n",
    "# fibers bins\n",
    "fibers_bins = [data['fiber_100g'].min() - 1, 0.7, 1.4, 2.1, 2.8, 3.5, data['fiber_100g'].max()]\n",
    "# fibers points\n",
    "data_without_beverage_fat['fiber_points'] = pd.cut(data_without_beverage_fat['fiber_100g'], fibers_bins, labels=range(6)).astype(float)\n",
    "data_beverages['fiber_points'] = pd.cut(data_beverages['fiber_100g'], fibers_bins, labels=range(6)).astype(float)\n",
    "data_fatsauces['fiber_points'] = pd.cut(data_fatsauces['fiber_100g'], fibers_bins, labels=range(6)).astype(float)\n",
    "\n",
    "# PROTEINS\n",
    "# proteins bins\n",
    "proteins_bins = [data['proteins_100g'].min() - 1, 1.6, 3.2, 4.8, 6.4, 8.0, data['proteins_100g'].max()]\n",
    "# proteins points\n",
    "data_without_beverage_fat['proteins_points'] = pd.cut(data_without_beverage_fat['proteins_100g'], proteins_bins, labels=range(6)).astype(float)\n",
    "data_beverages['proteins_points'] = pd.cut(data_beverages['proteins_100g'], proteins_bins, labels=range(6)).astype(float)\n",
    "data_fatsauces['proteins_points'] = pd.cut(data_fatsauces['proteins_100g'], proteins_bins, labels=range(6)).astype(float)\n"
   ]
  },
  {
   "cell_type": "code",
   "execution_count": 507,
   "metadata": {
    "collapsed": true,
    "jupyter": {
     "outputs_hidden": true
    }
   },
   "outputs": [],
   "source": [
    "# rejoin last separated dataframe\n",
    "frames = [data_without_beverage_fat, data_beverages, data_fatsauces]\n",
    "nutridata = pd.concat(frames)"
   ]
  },
  {
   "cell_type": "markdown",
   "metadata": {},
   "source": [
    "### Nutriscore calculation"
   ]
  },
  {
   "cell_type": "code",
   "execution_count": 537,
   "metadata": {
    "collapsed": true,
    "jupyter": {
     "outputs_hidden": true
    }
   },
   "outputs": [],
   "source": [
    "# concession made to put 0 inplace of Nan of 'fruits_points','fiber_points','proteins_points' \n",
    "# this will not be a problem we do not substract Positive point\n",
    "nutridata['fruits_points'] = nutridata['fruits_points'].fillna(0)\n",
    "nutridata['fiber_points'] = nutridata['fiber_points'].fillna(0)\n",
    "nutridata['proteins_points'] = nutridata['proteins_points'].fillna(0)"
   ]
  },
  {
   "cell_type": "code",
   "execution_count": 538,
   "metadata": {
    "collapsed": true,
    "jupyter": {
     "outputs_hidden": true
    }
   },
   "outputs": [],
   "source": [
    "# calculation of P x N\n",
    "nutridata['points_N']= nutridata['energy_points'] + nutridata['saturated-fat_points'] + nutridata['sugar_points'] + nutridata['sodium_points']\n",
    "nutridata['points_P'] = nutridata['fruits_points'] + nutridata['fiber_points'] + nutridata['proteins_points']"
   ]
  },
  {
   "cell_type": "code",
   "execution_count": 539,
   "metadata": {
    "collapsed": true,
    "jupyter": {
     "outputs_hidden": true
    }
   },
   "outputs": [],
   "source": [
    "def compute_score(row):\n",
    "    N = row['points_N']\n",
    "    P = row['points_P']\n",
    "    fruit = row['fruits_points']\n",
    "    fiber = row['fiber_points']\n",
    "        \n",
    "    if N < 11 or fruit == 5:\n",
    "        return N - P\n",
    "    else:\n",
    "        return N - (fiber + fruit)\n",
    "    \n",
    "nutridata['nutri-score_calculated'] = nutridata.apply(compute_score, axis=1)"
   ]
  },
  {
   "cell_type": "markdown",
   "metadata": {},
   "source": [
    "### Convertion of NutriScore into NutriLetter\n"
   ]
  },
  {
   "cell_type": "code",
   "execution_count": 541,
   "metadata": {
    "collapsed": true,
    "jupyter": {
     "outputs_hidden": true
    }
   },
   "outputs": [],
   "source": [
    "# re divided dataframe to allow a simpler transformation of score into letter\n",
    "nutridata_beverages = nutridata[ (nutridata['food_category']=='Beverages') & (nutridata['iswater']!=True)]\n",
    "nutridata_not_beverages = nutridata[ nutridata['food_category']!='Beverages']\n",
    "nutridata_beverages_water = nutridata[ (nutridata['food_category']=='Beverages') & (nutridata['iswater']==True)]"
   ]
  },
  {
   "cell_type": "code",
   "execution_count": 543,
   "metadata": {},
   "outputs": [
    {
     "name": "stderr",
     "output_type": "stream",
     "text": [
      "/Users/romain/anaconda/lib/python3.6/site-packages/ipykernel_launcher.py:9: SettingWithCopyWarning: \n",
      "A value is trying to be set on a copy of a slice from a DataFrame.\n",
      "Try using .loc[row_indexer,col_indexer] = value instead\n",
      "\n",
      "See the caveats in the documentation: http://pandas.pydata.org/pandas-docs/stable/indexing.html#indexing-view-versus-copy\n",
      "  if __name__ == '__main__':\n",
      "/Users/romain/anaconda/lib/python3.6/site-packages/ipykernel_launcher.py:10: SettingWithCopyWarning: \n",
      "A value is trying to be set on a copy of a slice from a DataFrame.\n",
      "Try using .loc[row_indexer,col_indexer] = value instead\n",
      "\n",
      "See the caveats in the documentation: http://pandas.pydata.org/pandas-docs/stable/indexing.html#indexing-view-versus-copy\n",
      "  # Remove the CWD from sys.path while we load stuff.\n",
      "/Users/romain/anaconda/lib/python3.6/site-packages/ipykernel_launcher.py:11: SettingWithCopyWarning: \n",
      "A value is trying to be set on a copy of a slice from a DataFrame.\n",
      "Try using .loc[row_indexer,col_indexer] = value instead\n",
      "\n",
      "See the caveats in the documentation: http://pandas.pydata.org/pandas-docs/stable/indexing.html#indexing-view-versus-copy\n",
      "  # This is added back by InteractiveShellApp.init_path()\n"
     ]
    }
   ],
   "source": [
    "# NUTRILETTER\n",
    "\n",
    "#letter bins\n",
    "letter_bins_aliments = [nutridata['nutri-score_calculated'].min() - 1, 0, 2.9, 10.9, 18.9, nutridata['nutri-score_calculated'].max()]\n",
    "letter_bins_beverages = [nutridata['nutri-score_calculated'].min() - 1, 2.5, 5.5, 9.5, nutridata['nutri-score_calculated'].max()]\n",
    "letter_bins_beverages_water = [nutridata['nutri-score_calculated'].min() - 1, nutridata['nutri-score_calculated'].max()]\n",
    "\n",
    "#letter\n",
    "nutridata_not_beverages['nutri-score_letter_CALCULATED'] = pd.cut(nutridata_not_beverages['nutri-score_calculated'], letter_bins_aliments, labels=['a','b','c','d','e'])\n",
    "nutridata_beverages['nutri-score_letter_CALCULATED'] = pd.cut(nutridata_beverages['nutri-score_calculated'], letter_bins_beverages, labels=['b','c','d','e'])\n",
    "nutridata_beverages_water['nutri-score_letter_CALCULATED'] = pd.cut(nutridata_beverages_water['nutri-score_calculated'], letter_bins_beverages_water, labels=['a'])\n"
   ]
  },
  {
   "cell_type": "code",
   "execution_count": 544,
   "metadata": {},
   "outputs": [
    {
     "data": {
      "text/plain": [
       "776326"
      ]
     },
     "execution_count": 544,
     "metadata": {},
     "output_type": "execute_result"
    }
   ],
   "source": [
    "nutriframes = [nutridata_not_beverages, nutridata_beverages, nutridata_beverages_water]\n",
    "nutridata = pd.concat(nutriframes)\n",
    "\n",
    "nutridata['nutri-score_letter_CALCULATED'].value_counts().sum()"
   ]
  },
  {
   "cell_type": "markdown",
   "metadata": {},
   "source": [
    "At the end of this process of NS calculation we obtain a NS for 770k product that represent almost 80% our the entire dataset"
   ]
  },
  {
   "cell_type": "markdown",
   "metadata": {},
   "source": [
    "### Visualisation of proportion of NutriLetter label for each Food Category"
   ]
  },
  {
   "cell_type": "code",
   "execution_count": 550,
   "metadata": {},
   "outputs": [
    {
     "data": {
      "image/png": "[encoded data removed]",
      "text/plain": [
       "<Figure size 576x576 with 1 Axes>"
      ]
     },
     "metadata": {},
     "output_type": "display_data"
    }
   ],
   "source": [
    "lettercounts =nutridata.groupby(['food_category','nutri-score_letter_CALCULATED']).count()['nutri-score_calculated']\n",
    "\n",
    "plt.figure(figsize=(8,8))\n",
    "ax=plt.gca()\n",
    "\n",
    "lettercounts.unstack().div(lettercounts.unstack().sum(axis=1)/100,axis=0).plot.bar(ax=ax,stacked=True)\n",
    "plt.legend(loc='center left')\n",
    "plt.title(\"Normalized Bar Plot of Nutrition Grade for each Category\",fontsize=20);\n",
    "plt.xlabel(\"Food Category\");\n",
    "plt.ylabel(\"Nutrition Grade Percentage\");"
   ]
  },
  {
   "cell_type": "markdown",
   "metadata": {},
   "source": [
    "# Diet Study \n",
    "\n"
   ]
  },
  {
   "cell_type": "markdown",
   "metadata": {},
   "source": [
    "### Helper functions for Diet Study"
   ]
  },
  {
   "cell_type": "code",
   "execution_count": 7,
   "metadata": {},
   "outputs": [],
   "source": [
    "def clean_data(data, column_to_clean, stop_words, tokenizer, wordnet_lemmatizer, saving = False, langdetec = False, tokenize = False, stemming = False, lemmatizing = False, onlyEngStemmer = False, applyNounFilter = False):\n",
    "    \"\"\"function that appeals all cleaning methods depending of the booleans\"\"\"\n",
    "    cleaned_data = pd.DataFrame()    \n",
    "    cleaned_data[column_to_clean] = data[column_to_clean].copy()\n",
    "    \n",
    "    \n",
    "    if langdetec:\n",
    "        cleaned_data[\"languages\"] = data[data[column_to_clean].notnull()][column_to_clean].apply(language_detection)\n",
    "        #I found all the languages disponibles for stemming, and i map the corresponding name to the ISO_code found by langdetect.detect\n",
    "        cleaned_data[\"languages\"] = cleaned_data[\"languages\"].map({\"ar\": \"arabic\", \"da\": \"danish\", \"nl\" : \"dutch\", \"en\": \"english\", \"fi\": \"finnish\", \"fr\": \"french\", \"de\": \"german\", \\\n",
    "                                  \"hu\": \"hungarian\", \"it\": \"italian\", \"no\": \"norwegian\", \"ro\": \"romanian\", \"ru\" : \"russian\", \"es\": \"spanish\", \\\n",
    "                                  \"sv\" :\"swedish\"})\n",
    "        if saving:\n",
    "            cleaned_data.to_pickle(\"processed_pickle/\"+str(column_to_clean)+\"/out_langdetect.pkl\")\n",
    "       \n",
    "    #tokenize column_to_clean : --> stemming + lemmatization need list of tokens\n",
    "    if tokenize:\n",
    "        cleaned_data[column_to_clean] = tokenize_data(cleaned_data[column_to_clean], stop_words, tokenizer, applyNounFilter)\n",
    "        if saving:\n",
    "            cleaned_data.to_pickle(\"processed_pickle/\"+str(column_to_clean)+\"/out_token.pkl\")\n",
    "    else: \n",
    "        cleaned_data = pd.read_pickle(\"processed_pickle/\"+str(column_to_clean)+\"/out_token.pkl\") \n",
    "    \n",
    "    #stemm column_to_clean column according to the language used\n",
    "    if stemming:\n",
    "        #for stemming, langdetection as to be made previously\n",
    "        if (not(langdetec or onlyEngStemmer)):\n",
    "            lang_data = pd.read_pickle(\"processed_pickle/\"+str(column_to_clean)+\"/out_langdetect.pkl\")\n",
    "            cleaned_data[\"languages\"] = lang_data[\"languages\"].copy()\n",
    "        \n",
    "        cleaned_data = stemming_data(cleaned_data, column_to_clean, onlyEngStemmer)\n",
    "        \n",
    "        if saving:\n",
    "            cleaned_data.to_pickle(\"processed_pickle/\"+str(column_to_clean)+\"/out_stem.pkl\")  \n",
    "            \n",
    "    elif lemmatizing: \n",
    "        #lemmatizing only works well for english words\n",
    "        cleaned_data = lemmatizing_data(cleaned_data, column_to_clean, wordnet_lemmatizer)\n",
    "        if saving: \n",
    "            cleaned_data.to_pickle(\"processed_pickle/\"+str(column_to_clean)+\"/out_lem\")    \n",
    "\n",
    "    return cleaned_data\n",
    "\n",
    "def filter_nountag(tokenlist_cell):\n",
    "    \"\"\"keep only NN : nouns, singular or mass and NNS : noun,plural and NNP : proper noun\"\"\"\n",
    "    \n",
    "    postag_cell = pos_tag(tokenlist_cell)\n",
    "    postag_cell_filtered = [tag for tag in postag_cell if ((tag[1]=='NNS') or (tag[1] == 'NN') or (tag[1] == \"NNP\"))]\n",
    "    tokenlist_cell = [tag[0] for tag in postag_cell_filtered]\n",
    "    \n",
    "    return tokenlist_cell\n",
    "\n",
    "def tokenize_data(data_column, stop_words, tokenizer, applyNounFilter = False):\n",
    "    \"\"\"Clean data, i.e. \n",
    "        - lower each words in the cells of data_column\n",
    "        - tokenize cells of data_column, i.e. from float type create list of string (token)\n",
    "        - remove stopwords for the list of tokens for each cells of data_column\n",
    "        - keep only tokens with tag = NN (noun), or NNS (noun, plural)\n",
    "    \"\"\"  \n",
    "    data_column = data_column[data_column.notnull()].str.lower() \\\n",
    "        .apply(str) \\\n",
    "        .apply(tokenizer.tokenize) \\\n",
    "        .apply(lambda cell : [item for item in cell if item not in stop_words]) \n",
    "    if applyNounFilter:\n",
    "        data_column = data_column[data_column.notnull()].apply(filter_nountag)\n",
    "    \n",
    "    return data_column\n",
    "\n",
    "def language_detection(category_cell): \n",
    "    \"\"\"take a cell containing a the string from unprocessed dataframe and detect the language\"\"\"\n",
    "    tmp_cell = str()\n",
    "    tmp_cell = category_cell\n",
    "    \n",
    "    #supress numbers in string\n",
    "    tmp_cell = tmp_cell.replace('\\d+', '')\n",
    "    #supress punctuations\n",
    "    tmp_cell = re.sub(r'[^\\w\\s]','', tmp_cell)\n",
    "    #remove spaces in string\n",
    "    tmp_cell = ''.join(tmp_cell.split())\n",
    "    \n",
    "    #check if the string contain only letters --> f**king 🍩 \n",
    "    if tmp_cell.isalpha():\n",
    "        language = detect(category_cell)\n",
    "        return detect(category_cell)\n",
    "    else: \n",
    "        return None\n",
    "\n",
    "def stemming_data(df_lang, serie_tokenlist, onlyEngStemmer = False):\n",
    "    \"\"\"Take as argument : \n",
    "        - df_lang = dataframe containing a serie of tokenlist, and a serie \"languages\" of corresponding language\n",
    "        - serie_tokenlist = string name of the serie of tokenlist to stem\n",
    "    \"\"\"\n",
    "    for i in [1, 2]:\n",
    "        for index, row in df_lang[df_lang[serie_tokenlist].notnull()].iterrows():\n",
    "            \n",
    "            if onlyEngStemmer: \n",
    "                stemmer = SnowballStemmer(\"english\")\n",
    "            else: \n",
    "                stemmer = SnowballStemmer(row[\"languages\"])\n",
    "                df_lang.iloc[index][serie_tokenlist] = [stemmer.stem(token) for token in row[serie_tokenlist]]\n",
    " \n",
    "        \n",
    "    return df_lang\n",
    "\n",
    "def lemmatizing_data(df, serie_tokenlist, wordnet_lemmatizer):\n",
    "    \"\"\"lemmatize serie containing token_list\n",
    "        - serie_tokenlist = string name of the serie of tokenlist to lemmatize\n",
    "        - df = dataframe containing \"serie_tokenlist\" column\n",
    "        \"\"\"\n",
    "    for index, row in df[df[serie_tokenlist].notnull()].iterrows():\n",
    "        df.iloc[index][serie_tokenlist] =  [wordnet_lemmatizer.lemmatize(token, pos=\"n\") for token in row[serie_tokenlist]]\n",
    "        #if u lemmatize verbs --> pos = \"-v\"\n",
    "    return df\n"
   ]
  },
  {
   "cell_type": "markdown",
   "metadata": {},
   "source": [
    "## Cleaning \"categories\" field\n",
    "\n",
    "We first clean the 'categories' field and save the result in pickle format."
   ]
  },
  {
   "cell_type": "markdown",
   "metadata": {},
   "source": [
    "### -> If column field has to be cleaned\n",
    "\n",
    "The cell below aims to clean the \"categories\" field and save outputs of each steps of the cleaning in pickle format. \n",
    "* create a repository in processed_pickle which has the name of the column to clean, i.e. processed_pickle/categories/ is the repository in which pickles will be saved"
   ]
  },
  {
   "cell_type": "code",
   "execution_count": 8,
   "metadata": {},
   "outputs": [],
   "source": [
    "saving = False\n",
    "# note : Language detection is only needed for stemming, \n",
    "# and it is a very long run (~1h)\n",
    "\n",
    "#StopWords and Tokenizer Object initialization\n",
    "stop_words = set(stopwords.words(\"french\")).union(set(stopwords.words(\"english\"))) #will remove only english and french stopwords\n",
    "tokenizer = RegexpTokenizer(r'\\w+')\n",
    "wordnet_lemmatizer = WordNetLemmatizer()"
   ]
  },
  {
   "cell_type": "code",
   "execution_count": null,
   "metadata": {},
   "outputs": [],
   "source": [
    "column_to_clean = \"categories\"\n",
    "#language detection\n",
    "langdetect_data = clean_data(data, column_to_clean, stop_words, tokenizer, wordnet_lemmatizer, saving = True, langdetec = True)\n",
    "#tokenization\n",
    "tok_data = clean_data(data, column_to_clean, stop_words, tokenizer, wordnet_lemmatizer, saving = True, tokenize = True, applyNounFilter = True)\n",
    "#stemming --> good since it consider language\n",
    "stem_data = clean_data(data, column_to_clean, stop_words, tokenizer, wordnet_lemmatizer, saving = True, stemming = True)\n",
    "#lemmatize --> not very good since it does not consider language (only good for english)\n",
    "lem_data = clean_data(data, column_to_clean, stop_words, tokenizer, wordnet_lemmatizer, saving = True, lemmatizing = True)"
   ]
  },
  {
   "cell_type": "markdown",
   "metadata": {},
   "source": [
    "### -> If column field already cleaned and saved in pkl"
   ]
  },
  {
   "cell_type": "code",
   "execution_count": 9,
   "metadata": {},
   "outputs": [],
   "source": [
    "column = \"categories\"\n",
    "langdetect_data = pd.read_pickle(\"processed_pickle/\"+str(column)+\"/out_langdetect.pkl\")\n",
    "categories_tok = pd.read_pickle(\"processed_pickle/\"+str(column)+\"/out_token.pkl\") \n",
    "categories_stem = pd.read_pickle(\"processed_pickle/\"+str(column)+\"/out_stem.pkl\") \n",
    "categories_lem = pd.read_pickle(\"processed_pickle/\"+str(column)+\"/out_lem.pkl\") "
   ]
  },
  {
   "cell_type": "code",
   "execution_count": 10,
   "metadata": {
    "scrolled": true
   },
   "outputs": [
    {
     "name": "stdout",
     "output_type": "stream",
     "text": [
      "aliment\n",
      "boisson\n",
      "produit\n",
      "snack\n",
      "fruit\n",
      "lait\n",
      "fromag\n",
      "plat\n",
      "céréal\n",
      "biscuit\n",
      "bas\n",
      "plant\n",
      "food\n",
      "sauc\n",
      "viand\n",
      "pomm\n",
      "légum\n",
      "dessert\n",
      "végétal\n",
      "pât\n",
      "confitur\n",
      "beverag\n",
      "poisson\n",
      "chocolat\n",
      "product\n",
      "yaourt\n",
      "déjeun\n",
      "lebensmittel\n",
      "nectar\n",
      "jus\n",
      "conserv\n",
      "pet\n",
      "cereal\n",
      "charcut\n",
      "getrank\n",
      "mat\n",
      "pflanzlich\n",
      "snacks\n",
      "chip\n",
      "fr\n",
      "pain\n",
      "orig\n",
      "grain\n",
      "huil\n",
      "tartin\n",
      "epic\n",
      "grass\n",
      "glac\n",
      "franc\n",
      "poulet\n",
      "vin\n",
      "confis\n",
      "coqu\n",
      "miel\n",
      "ajout\n",
      "milk\n",
      "crem\n",
      "soup\n",
      "surgel\n",
      "légumin\n",
      "bonbon\n",
      "volaill\n",
      "san\n",
      "bi\n",
      "prépar\n",
      "compot\n",
      "filet\n",
      "marmelad\n",
      "tart\n",
      "foi\n",
      "jambons\n",
      "salad\n",
      "rillet\n",
      "frut\n",
      "sirop\n",
      "oliv\n",
      "sardin\n",
      "thon\n",
      "alimentair\n",
      "cuit\n",
      "jambon\n",
      "roug\n",
      "chocolats\n",
      "sorbet\n",
      "juic\n",
      "élevag\n",
      "steak\n",
      "beb\n",
      "cond\n",
      "veget\n",
      "terrin\n",
      "pickl\n",
      "spread\n",
      "flocon\n",
      "édulcor\n",
      "tomat\n",
      "barr\n",
      "beurr\n",
      "sauces\n",
      "saumon\n",
      "frais\n",
      "meal\n",
      "cream\n",
      "vert\n",
      "sus\n",
      "meat\n",
      "vegetal\n",
      "beverages\n",
      "chocol\n",
      "pâtiss\n",
      "viennois\n",
      "riz\n",
      "milch\n",
      "yogurt\n",
      "orang\n",
      "sech\n",
      "champignon\n",
      "sandwich\n",
      "chaud\n",
      "brioch\n",
      "dulc\n",
      "caf\n",
      "fraîch\n",
      "charcuteri\n",
      "dairi\n",
      "galet\n",
      "noiset\n",
      "milchprodukt\n",
      "quich\n",
      "bread\n",
      "noir\n",
      "tea\n",
      "mélang\n",
      "gazeux\n",
      "onde\n",
      "crêp\n",
      "gâteau\n",
      "chee\n",
      "lech\n",
      "natur\n",
      "viandes\n",
      "vinaigres\n",
      "multifruit\n",
      "pur\n",
      "moutard\n",
      "emmental\n",
      "enti\n",
      "biscuits\n",
      "fleur\n",
      "aliments\n",
      "verdur\n",
      "amand\n",
      "infus\n",
      "groceri\n",
      "ques\n",
      "haricot\n",
      "drink\n",
      "fermentiert\n",
      "croût\n",
      "farc\n",
      "bar\n",
      "pan\n",
      "bot\n",
      "pizz\n",
      "cake\n",
      "chips\n",
      "milks\n",
      "comt\n",
      "sucr\n",
      "kas\n",
      "madelein\n",
      "bean\n",
      "escalop\n",
      "confiseri\n",
      "getreid\n",
      "fat\n",
      "potato\n",
      "bouillon\n",
      "dind\n",
      "jam\n",
      "oil\n",
      "congel\n",
      "brotaufstrich\n",
      "pasta\n",
      "aromat\n",
      "breakfast\n",
      "semoul\n",
      "farin\n",
      "ice\n",
      "charcuteries\n",
      "gras\n",
      "chair\n",
      "candi\n",
      "lentill\n",
      "sel\n",
      "carott\n",
      "reconstitu\n",
      "nouill\n",
      "foods\n",
      "mouss\n",
      "vierg\n",
      "hortaliz\n",
      "past\n",
      "com\n",
      "epicer\n",
      "nut\n",
      "rice\n",
      "seed\n",
      "untabl\n",
      "butter\n",
      "base\n",
      "compl\n",
      "boudin\n",
      "sal\n",
      "concentr\n",
      "prep\n",
      "oils\n",
      "frit\n",
      "epiceri\n",
      "corn\n",
      "thé\n",
      "animal\n",
      "lact\n",
      "yogur\n",
      "virg\n",
      "con\n",
      "yogurts\n",
      "из\n",
      "gratin\n",
      "legum\n",
      "gallet\n",
      "canard\n",
      "frucht\n",
      "dur\n",
      "aid\n",
      "tournesol\n",
      "substitut\n",
      "cook\n",
      "blanc\n",
      "campagn\n",
      "deriv\n",
      "cru\n",
      "и\n",
      "desayun\n",
      "bebidas\n",
      "farines\n",
      "oignon\n",
      "e\n",
      "minéral\n",
      "pastel\n",
      "épic\n",
      "mayon\n",
      "almond\n",
      "cacahuet\n",
      "casc\n",
      "wine\n",
      "carn\n",
      "legumin\n",
      "butt\n",
      "vanill\n",
      "poul\n",
      "doset\n",
      "fri\n",
      "fresc\n",
      "tomato\n",
      "porc\n",
      "condimentair\n",
      "beignet\n",
      "camembert\n",
      "margarin\n",
      "lasagn\n",
      "cuiss\n",
      "condiment\n",
      "blanch\n",
      "raisin\n",
      "raviol\n",
      "sod\n",
      "confectioneri\n",
      "citron\n",
      "réfrig\n",
      "salti\n",
      "mois\n",
      "complet\n",
      "blé\n",
      "céréales\n",
      "quenel\n",
      "culinair\n",
      "honey\n",
      "muesl\n",
      "сыр\n",
      "feuill\n",
      "bloc\n",
      "fish\n",
      "crevet\n",
      "drinks\n",
      "peanut\n",
      "caramel\n",
      "syrup\n",
      "sourc\n",
      "frambois\n",
      "col\n",
      "hach\n",
      "wheat\n",
      "fleisch\n",
      "cidr\n",
      "croiss\n",
      "flake\n",
      "produits\n",
      "turron\n",
      "vach\n",
      "ber\n",
      "taboul\n",
      "blond\n",
      "tapenad\n",
      "растительн\n",
      "cibi\n",
      "appet\n",
      "ketchup\n",
      "pies\n",
      "cheddar\n",
      "coff\n",
      "sels\n",
      "comest\n",
      "mustard\n",
      "dériv\n",
      "water\n",
      "gum\n",
      "italien\n",
      "herb\n",
      "egg\n",
      "pâqu\n",
      "naturel\n",
      "products\n",
      "extra\n",
      "mayonnaises\n",
      "flak\n",
      "salmon\n",
      "truit\n",
      "barbecu\n",
      "chipolat\n",
      "maï\n",
      "appl\n",
      "coco\n",
      "pizzas\n",
      "fisch\n",
      "deshidrat\n",
      "lardon\n",
      "conf\n",
      "balsamiques\n",
      "joghurt\n",
      "di\n",
      "condiments\n",
      "kuch\n",
      "écrem\n",
      "muffin\n",
      "alcool\n",
      "und\n",
      "fruhstuck\n",
      "gaufr\n",
      "dair\n",
      "par\n",
      "mit\n",
      "vinaigr\n",
      "confiseries\n",
      "tortill\n",
      "industriel\n",
      "zum\n",
      "pistach\n",
      "sop\n",
      "напитк\n",
      "nect\n",
      "asperg\n",
      "desserts\n",
      "biscott\n",
      "aguas\n",
      "plats\n",
      "poudr\n",
      "postr\n",
      "gaufret\n",
      "assaison\n",
      "brass\n",
      "épinard\n",
      "pesc\n",
      "œuf\n",
      "goud\n",
      "poir\n",
      "patat\n",
      "cooki\n",
      "boissons\n",
      "boir\n",
      "fum\n",
      "win\n",
      "alkohol\n",
      "cib\n",
      "saint\n",
      "moulag\n",
      "produkt\n",
      "fruits\n",
      "pl\n",
      "semill\n",
      "pêch\n",
      "poivr\n",
      "bacon\n",
      "moutardes\n",
      "noix\n",
      "hareng\n",
      "édulcorants\n",
      "dairies\n",
      "mar\n",
      "beef\n",
      "seafood\n",
      "chicken\n",
      "myrtill\n",
      "tranch\n",
      "vinaigret\n",
      "cornichon\n",
      "brot\n",
      "breb\n",
      "minerales\n",
      "virgen\n",
      "pudding\n",
      "figu\n",
      "bovin\n",
      "cer\n"
     ]
    }
   ],
   "source": [
    "categories_dict = categories_stem[categories_stem[\"categories\"].notnull()][\"categories\"].explode().value_counts()\n",
    "for word in categories_dict[categories_dict>500].index:\n",
    "    print(word)"
   ]
  },
  {
   "cell_type": "markdown",
   "metadata": {},
   "source": [
    "## Diet Dictionary for categories field\n",
    "\n",
    "We create dictionary for each diets. They have a YES list and NO list. A product is considered part of the diet is it has at least ONE element in its YES list (if not empty) and NO element in its NO list (if not empty)."
   ]
  },
  {
   "cell_type": "code",
   "execution_count": 11,
   "metadata": {},
   "outputs": [],
   "source": [
    "regimes = ['vegetarian', 'vegan', 'glutenfree', 'lactosefree', 'ketogenic', 'organic']"
   ]
  },
  {
   "cell_type": "code",
   "execution_count": 12,
   "metadata": {},
   "outputs": [
    {
     "data": {
      "text/plain": [
       "['categories_vegetarian_YESlist',\n",
       " 'categories_vegan_YESlist',\n",
       " 'categories_glutenfree_YESlist',\n",
       " 'categories_lactosefree_YESlist',\n",
       " 'categories_ketogenic_YESlist',\n",
       " 'categories_organic_YESlist']"
      ]
     },
     "execution_count": 12,
     "metadata": {},
     "output_type": "execute_result"
    }
   ],
   "source": [
    "#Initialization needed to create a serie containing unauthorized items  for each of the diets\n",
    "unauthorized_categories = pd.Series(index = regimes).rename('unauthorized_categories')\n",
    "\n",
    "unauthorized_listnames_categories = ['categories_' + str(x) + '_NOlist' for x in regimes]\n",
    "unauthorized_listnames_categories\n",
    "\n",
    "#Initialization needed to create a serie containing authorized items for each of the diets\n",
    "authorized_categories = pd.Series(index = regimes).rename('authorized_labelsen')\n",
    "\n",
    "authorized_listnames_categories = ['categories_' + str(x) + '_YESlist' for x in regimes]\n",
    "authorized_listnames_categories"
   ]
  },
  {
   "cell_type": "code",
   "execution_count": 13,
   "metadata": {},
   "outputs": [],
   "source": [
    "#Vegetarian_NOlist = regimes(0)\n",
    "categories_Vegetarian_NOlist = ['foi', 'sauc', 'steak', 'viand', 'viandes', 'meat', 'beef', 'poisson', 'charcut', 'charcuteries', 'charcuteri', 'poulet', 'poul', 'volaill', 'jambons', 'jambon', 'jam', 'rillet', 'sardin', 'thon', 'steak', 'saumon', 'salmon', 'escalop', 'dind', 'jam', \\\n",
    "                             'boudin', 'animal', 'cannard', 'porc', 'lasagn', 'cuiss', 'fish', 'crevet', 'fleisch', 'vach', 'chipolat', 'fisch', 'lardon', 'bacon', 'hareng', 'seafood', 'chicken', 'breb', 'bovin']\n",
    "categories_Vegetarian_YESlist = []\n",
    "\n",
    "#Lactosefree = regime(3)\n",
    "categories_Lactosefree_NOlist = ['fromag', 'lait', 'yaourt', 'bi', 'écrem', 'cream', 'crem', 'glac', 'milk', 'milks', 'dairi', 'dair', 'dairies', 'beurr', 'milch', 'milchprodukt', 'chee', \\\n",
    "                                'cake', 'crêp', 'bread', 'gâteau' , 'lait', 'butter', 'butt', 'cooki', 'emmental', 'comt', 'camembert', 'margarin', 'kas', 'cheddar', 'yogurt', 'yogur', 'yogurts']\n",
    "categories_Lactosefree_YESlist = []\n",
    "\n",
    "\n",
    "#Vegan_NOlist = regimes(1)\n",
    "categories_Vegan_NOlist = categories_Lactosefree_NOlist + \\\n",
    "                          categories_Vegetarian_NOlist + \\\n",
    "                         ['mayon', 'mayonnaises', 'mayonnaises', 'moutardes', 'mustard', 'egg', 'œuf']\n",
    "categories_Vegan_YESlist = []\n",
    "\n",
    "#Glutenfree = regime(2)\n",
    "categories_Glutenfree_NOlist = ['pât', 'pasta', 'pâtiss', 'past', 'nouill', 'viennois', 'biscuit', 'biscuits', 'sauc', 'sauces', 'charcut', 'charcuteri', 'charcuteries', 'bread', 'crêp', 'gâteau', 'farin', 'farines', 'pizz', 'pizzas', 'cake', 'madelein', \\\n",
    "                                'brotaufstrich', 'brot', 'beignet', 'lasagn', 'raviol', 'blé', 'wheat', 'bi', 'pies', 'kuch', 'muffin', 'gaufr', 'gaufret', 'biscott', 'cooki', 'cook', 'brot']\n",
    "categories_Glutenfree_YESlist = []\n",
    "\n",
    "\n",
    "#Ketogenic = regimes(4)\n",
    "categories_Ketogenic_NOlist = ['sucr', 'pomm', 'confitur', 'confiseries', 'confiseri', 'confis' ,'orang', 'nouill', 'semoul', 'sorbet', 'legumin', 'légumin', 'multifruit', 'potato', 'lait', 'bean', 'haricot', 'lentill', 'lentill', 'riz', 'pasta', \\\n",
    "                               'pasta', 'milk', 'milks', 'sirop', 'candi', 'jus', 'juic', 'tart', 'marmelad', 'snack', 'snacks', 'biscuit', 'pât', 'confitur', 'chocolat', 'chocolats', 'chocol', \\\n",
    "                               'nectar', 'nect', 'bread', 'chip', 'chips', 'pain', 'miel', 'bonbon', 'compot', 'pâtiss']\n",
    "categories_Ketogenic_YESlist = categories_Lactosefree_NOlist + \\\n",
    "                               categories_Vegetarian_NOlist + \\\n",
    "                               ['végétal', 'grass', 'huil', 'grain', 'nut', 'tomato', 'tomat', 'oils', 'oil', 'moutardes', 'mustard', 'fat', 'mayon', 'mayonnaises', 'mayonnaises', \\\n",
    "                                'seed', 'gras']\n",
    "\n",
    "\n",
    "\n",
    "#Organic = regimes(5)\n",
    "categories_Organic_NOlist = []\n",
    "categories_Organic_YESlist = []\n",
    "\n",
    "\n",
    "categories_YESlists = [categories_Vegetarian_YESlist, categories_Vegan_YESlist, \\\n",
    "                      categories_Glutenfree_YESlist, categories_Lactosefree_YESlist, \\\n",
    "                      categories_Ketogenic_YESlist, categories_Organic_YESlist]\n",
    "\n",
    "categories_NOlists = [categories_Vegetarian_NOlist, categories_Vegan_NOlist, \\\n",
    "                      categories_Glutenfree_NOlist, categories_Lactosefree_NOlist, \\\n",
    "                      categories_Ketogenic_NOlist, categories_Organic_NOlist]"
   ]
  },
  {
   "cell_type": "markdown",
   "metadata": {},
   "source": [
    "## Cleaning labels_en field\n",
    "\n",
    "The 'label_en' column is used to complete the diet attribution of products"
   ]
  },
  {
   "cell_type": "code",
   "execution_count": 14,
   "metadata": {},
   "outputs": [],
   "source": [
    "saving = True\n",
    "# note : Language detection is only needed for stemming, \n",
    "# and it is a very long run (~1h)\n",
    "\n",
    "#StopWords and Tokenizer Object initialization\n",
    "stop_words = set(stopwords.words(\"french\")).union(set(stopwords.words(\"english\"))) #will remove only english and french stopwords\n",
    "wordnet_lemmatizer = WordNetLemmatizer()"
   ]
  },
  {
   "cell_type": "code",
   "execution_count": null,
   "metadata": {
    "collapsed": true,
    "jupyter": {
     "outputs_hidden": true
    }
   },
   "outputs": [],
   "source": [
    "column_to_clean = \"labels_en\"\n",
    "\n",
    "#tokenization\n",
    "tok_data = clean_data(data, column_to_clean, stop_words, tokenizer, wordnet_lemmatizer, saving=True, tokenize=True)\n",
    "#stemming --> good since it consider language\n",
    "stem_data = clean_data(data, column_to_clean, stop_words, tokenizer, wordnet_lemmatizer, saving=True, stemming=True, onlyEngStemmer=True)\n"
   ]
  },
  {
   "cell_type": "code",
   "execution_count": 15,
   "metadata": {},
   "outputs": [],
   "source": [
    "label_tok = pd.read_pickle(\"processed_pickle/labels_en/out_token.pkl\")\n",
    "label_stem = pd.read_pickle(\"processed_pickle/labels_en/out_stem.pkl\")"
   ]
  },
  {
   "cell_type": "markdown",
   "metadata": {},
   "source": [
    "## Diet Dictionary for labels_en field\n",
    "\n",
    "The same methodology is used for obtaining diet information from the 'labels_en' column and completing our diet categorization"
   ]
  },
  {
   "cell_type": "code",
   "execution_count": 16,
   "metadata": {
    "scrolled": true
   },
   "outputs": [
    {
     "data": {
      "text/plain": [
       "Organic                                                                            18264\n",
       "Gluten-free                                                                        12392\n",
       "Organic,EU Organic,fr:ab-agriculture-biologique                                     6804\n",
       "Green Dot                                                                           6570\n",
       "Vegetarian,Vegan                                                                    4911\n",
       "Made in France                                                                      4903\n",
       "No preservatives                                                                    3694\n",
       "No colorings                                                                        2764\n",
       "No added sugar                                                                      2224\n",
       "Organic,EU Organic,FR-BIO-01                                                        2051\n",
       "No colorings,No preservatives                                                       1775\n",
       "Organic,EU Organic,FR-BIO-01,fr:ab-agriculture-biologique                           1554\n",
       "Palm oil free                                                                       1546\n",
       "Halal                                                                               1540\n",
       "PDO                                                                                 1485\n",
       "No lactose                                                                          1418\n",
       "Made in Germany                                                                     1355\n",
       "Gluten-free,No lactose                                                              1260\n",
       "Made in Italy                                                                       1216\n",
       "Sustainable fishery,Sustainable Seafood MSC                                         1161\n",
       "PGI                                                                                 1077\n",
       "French meat,French pork                                                              991\n",
       "Vegetarian,Gluten-free,Vegan                                                         976\n",
       "Vegetarian                                                                           880\n",
       "Green Dot,Made in France                                                             850\n",
       "Made in Belgium                                                                      795\n",
       "Superior quality                                                                     768\n",
       "Organic,EU Organic                                                                   767\n",
       "Green Dot,fr:eco-emballages                                                          734\n",
       "Made in Spain                                                                        676\n",
       "Organic,EU Organic,EU/non-EU Agriculture,FR-BIO-01                                   668\n",
       "Organic,EU Organic,EU/non-EU Agriculture,FR-BIO-01,fr:ab-agriculture-biologique      649\n",
       "Organic,Gluten-free                                                                  629\n",
       "fr:viande-francaise,fr:Volaille Française                                            624\n",
       "fr:Déconseillé aux femmes enceintes                                                  613\n",
       "Distributor labels,fr:Sélection Intermarché                                          612\n",
       "Green Dot,fr:Triman                                                                  591\n",
       "No additives                                                                         576\n",
       "Nutriscore,Nutriscore Grade A                                                        576\n",
       "Sustainable farming,UTZ Certified,UTZ Certified Cacao                                573\n",
       "Nutriscore                                                                           555\n",
       "fr:viande-francaise,fr:viande-porcine-francaise                                      550\n",
       "Organic,Vegetarian,Vegan                                                             526\n",
       "Produced in Bretagne                                                                 502\n",
       "Lait-francais-french-milk                                                            472\n",
       "Organic,EU Organic,FR-BIO-10                                                         469\n",
       "French meat,fr:Viande Bovine Française                                               436\n",
       "fr:Entrepreneurs + Engagés                                                           435\n",
       "Organic,EU Organic,DE-ÖKO-001                                                        422\n",
       "Nutriscore,Nutriscore Grade B                                                        417\n",
       "Name: labels_en, dtype: int64"
      ]
     },
     "execution_count": 16,
     "metadata": {},
     "output_type": "execute_result"
    }
   ],
   "source": [
    "data[data[\"labels_en\"].notnull()][\"labels_en\"].value_counts().head(50)"
   ]
  },
  {
   "cell_type": "code",
   "execution_count": 18,
   "metadata": {
    "scrolled": true
   },
   "outputs": [
    {
     "name": "stdout",
     "output_type": "stream",
     "text": [
      "organic\n",
      "fr\n",
      "free\n",
      "agriculture\n",
      "gluten\n",
      "green\n",
      "dot\n",
      "made\n",
      "bio\n",
      "france\n",
      "ab\n",
      "biologique\n",
      "vegetarian\n",
      "vegan\n",
      "preservatives\n",
      "01\n",
      "colorings\n",
      "sugar\n",
      "non\n",
      "nutriscore\n",
      "viande\n",
      "french\n",
      "added\n",
      "low\n",
      "oil\n",
      "palm\n",
      "sustainable\n",
      "francaise\n",
      "lactose\n",
      "carbon\n",
      "footprint\n",
      "eco\n",
      "fsc\n",
      "öko\n",
      "flavors\n",
      "artificial\n",
      "certified\n",
      "grade\n",
      "emballages\n",
      "halal\n",
      "fat\n",
      "milk\n",
      "française\n",
      "pork\n",
      "salt\n",
      "germany\n",
      "utz\n",
      "high\n",
      "quality\n",
      "pure\n",
      "natural\n",
      "pdo\n",
      "meat\n",
      "pgi\n",
      "labels\n",
      "italy\n",
      "society\n",
      "gmos\n",
      "fair\n",
      "distributor\n",
      "trade\n",
      "lait\n",
      "transformed\n",
      "006\n",
      "german\n",
      "agricultural\n",
      "additives\n",
      "femmes\n",
      "enceintes\n",
      "déconseillé\n",
      "001\n",
      "kosher\n",
      "msc\n",
      "100\n",
      "triman\n",
      "francais\n",
      "10\n",
      "fishery\n",
      "seafood\n",
      "union\n",
      "superior\n",
      "nl\n",
      "butter\n",
      "bretagne\n",
      "produced\n",
      "bovine\n",
      "reduced\n",
      "farming\n",
      "intermarché\n",
      "sélection\n",
      "porcine\n",
      "medal\n",
      "sans\n",
      "ru\n",
      "label\n",
      "français\n",
      "without\n",
      "volaille\n",
      "european\n",
      "origine\n",
      "mix\n",
      "max\n",
      "havelaar\n",
      "belgium\n",
      "spain\n",
      "source\n",
      "concours\n",
      "fibres\n",
      "cacao\n",
      "gold\n",
      "oko\n",
      "colors\n",
      "saveurs\n",
      "007\n",
      "eg\n",
      "verordnung\n",
      "agricole\n",
      "ecocert\n",
      "général\n",
      "3\n",
      "b\n",
      "class\n"
     ]
    }
   ],
   "source": [
    "labelsen_dict = label_stem[label_stem[\"labels_en\"].notnull()][\"labels_en\"].explode().value_counts()\n",
    "for word in labelsen_dict[labelsen_dict > 1000].index:\n",
    "    print(word)"
   ]
  },
  {
   "cell_type": "code",
   "execution_count": 19,
   "metadata": {},
   "outputs": [
    {
     "data": {
      "text/plain": [
       "['labelsen_vegetarian_NOlist',\n",
       " 'labelsen_vegan_NOlist',\n",
       " 'labelsen_glutenfree_NOlist',\n",
       " 'labelsen_lactosefree_NOlist',\n",
       " 'labelsen_ketogenic_NOlist',\n",
       " 'labelsen_organic_NOlist']"
      ]
     },
     "execution_count": 19,
     "metadata": {},
     "output_type": "execute_result"
    }
   ],
   "source": [
    "#Initialization needed to create a serie containing authorized items for each of the diets\n",
    "authorized_labelsen = pd.Series(index = regimes).rename('authorized_labelsen')\n",
    "\n",
    "authorized_listnames_labelsen = ['labelsen_' + str(x) + '_YESlist' for x in regimes]\n",
    "authorized_listnames_labelsen\n",
    "\n",
    "#Initialization needed to create a serie containing unauthorized items  for each of the diets\n",
    "unauthorized_labelsen = pd.Series(index = regimes).rename('unauthorized_labelsen')\n",
    "\n",
    "unauthorized_listnames_labelsen = ['labelsen_' + str(x) + '_NOlist' for x in regimes]\n",
    "unauthorized_listnames_labelsen"
   ]
  },
  {
   "cell_type": "code",
   "execution_count": 20,
   "metadata": {},
   "outputs": [],
   "source": [
    "#Organic = regimes(5)\n",
    "labelsen_Organic_YESlist = ['organic', 'bio', 'biologique']\n",
    "#Ketogenic = regimes(4)\n",
    "labelsen_Ketogenic_YESlist = []\n",
    "\n",
    "#Lactosefree = regime(3) #since lactose only appears as NO lactose\n",
    "labelsen_Lactosefree_YESlist = ['lactose']\n",
    "\n",
    "#Glutenfree = regime(2)\n",
    "labelsen_Glutenfree_YESlist = ['gluten']\n",
    "\n",
    "#Vegan_NOlist = regimes(1)\n",
    "labelsen_Vegan_YESlist = ['vegan']\n",
    "\n",
    "#Vegetarian_NOlist = regimes(0)\n",
    "labelsen_Vegetarian_YESlist = ['vegetarian']\n",
    "\n",
    "labelsen_YESlists = [labelsen_Vegetarian_YESlist, labelsen_Vegan_YESlist, labelsen_Glutenfree_YESlist, \\\n",
    "                    labelsen_Lactosefree_YESlist, labelsen_Ketogenic_YESlist, labelsen_Organic_YESlist]"
   ]
  },
  {
   "cell_type": "markdown",
   "metadata": {},
   "source": [
    "## Diet series creation\n",
    "\n",
    "We create the series representing possible the diet regimes of products"
   ]
  },
  {
   "cell_type": "code",
   "execution_count": 21,
   "metadata": {},
   "outputs": [],
   "source": [
    "def find_diet(data_stem, column, regimes, YESlists = None, NOlists = None): \n",
    "    \"\"\"Complete the series \"diet\" of data_stem by taking informations in data_stem[column]\"\"\"\n",
    "    for  index, row in data_stem[data_stem[column].notnull()].iterrows():\n",
    "        for token in row[column]:\n",
    "            for counter, regime in enumerate(regimes):                \n",
    "                \n",
    "                if not(YESlists == None):\n",
    "                    if ((token in YESlists[counter]) & (regime not in data_stem.loc[index, \"diet\"])):\n",
    "                        data_stem.loc[index, \"diet\"] = data_stem.loc[index, \"diet\"] + [regime]\n",
    "                        \n",
    "                if not(NOlists == None): \n",
    "                    #remove the regime if it is in diet_series[index]\n",
    "                    if ((token in NOlists[counter]) & (regime in data_stem.loc[index, \"diet\"])):\n",
    "                        data_stem.loc[index, \"diet\"].remove(regime)\n",
    "                        \n",
    "    return data_stem                "
   ]
  },
  {
   "cell_type": "code",
   "execution_count": 22,
   "metadata": {},
   "outputs": [],
   "source": [
    "#Initialize dataframe\n",
    "cleaned_fields = pd.DataFrame()\n",
    "cleaned_fields[\"categories\"] = categories_stem[\"categories\"].copy()\n",
    "cleaned_fields[\"labels_en\"] = label_stem[\"labels_en\"].copy()\n",
    "cleaned_fields[\"diet\"]= [[]]*len(cleaned_fields)\n",
    "#cleaned_fields[\"diet\"] = cleaned_fields[\"diet\"].apply(lambda x: x + [\"flexitarism\"])\n",
    "cleaned_fields[\"diet\"] =  [[\"flexitarism\"]]*len(cleaned_fields)"
   ]
  },
  {
   "cell_type": "markdown",
   "metadata": {},
   "source": [
    "The next cells have not already been runned due to extensive computational time, but it shows how the \"diet\" field will be computed."
   ]
  },
  {
   "cell_type": "code",
   "execution_count": null,
   "metadata": {},
   "outputs": [],
   "source": [
    "cleaned_fields = find_diet(cleaned_fields, \"labels_en\", regimes, YESlists=labelsen_YESlists)\n",
    "cleaned_fields.to_pickle(\"processed_pickle/_diet/labelsen_analysed\")\n",
    "cleaned_fields = find_diet(cleaned_fields, \"labels_en\", regimes, YESlists=categories_YESlists, NOlists=categories_NOlists)\n",
    "cleaned_fields.to_pickle(\"processed_pickle/_diet/labelsen_categories_analysed\")\n",
    "cleaned_fields[cleaned_fields[\"labels_en\"].notnull()].head(50)"
   ]
  },
  {
   "cell_type": "code",
   "execution_count": null,
   "metadata": {},
   "outputs": [],
   "source": [
    "cleaned_fields.to_pickle(\"processed_pickle/_diet/labelsen_analysed\")"
   ]
  }
 ],
 "metadata": {
  "kernelspec": {
   "display_name": "Python 3",
   "language": "python",
   "name": "python3"
  },
  "language_info": {
   "codemirror_mode": {
    "name": "ipython",
    "version": 3
   },
   "file_extension": ".py",
   "mimetype": "text/x-python",
   "name": "python",
   "nbconvert_exporter": "python",
   "pygments_lexer": "ipython3",
   "version": "3.7.4"
  }
 },
 "nbformat": 4,
 "nbformat_minor": 4
}
